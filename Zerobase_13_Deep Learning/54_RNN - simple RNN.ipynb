{
 "cells": [
  {
   "cell_type": "markdown",
   "metadata": {},
   "source": [
    "# 54_RNN - simple RNN\n"
   ]
  },
  {
   "cell_type": "markdown",
   "metadata": {},
   "source": [
    "# simple RNN :\n",
    "### - 순환신경망\n",
    "- 활성화 신호가 입력에서 출력으로 한 방향으로 흐르는 피드포워드 신경망\n",
    "- 순환 신경망은 뒤쪽으로 연결하는 순환 연결이 있음\n",
    "- 순서가 있는 데이터를 입력으로 받고\n",
    "- 변화하는 입력에 대한 출력을 얻음"
   ]
  },
  {
   "cell_type": "code",
   "execution_count": 1,
   "metadata": {},
   "outputs": [],
   "source": [
    "import tensorflow as tf\n",
    "import numpy as np"
   ]
  },
  {
   "cell_type": "code",
   "execution_count": 2,
   "metadata": {},
   "outputs": [
    {
     "name": "stdout",
     "output_type": "stream",
     "text": [
      "[[0. ]\n",
      " [0.1]\n",
      " [0.2]\n",
      " [0.3]] 0.4\n",
      "[[0.1]\n",
      " [0.2]\n",
      " [0.3]\n",
      " [0.4]] 0.5\n",
      "[[0.2]\n",
      " [0.3]\n",
      " [0.4]\n",
      " [0.5]] 0.6\n",
      "[[0.3]\n",
      " [0.4]\n",
      " [0.5]\n",
      " [0.6]] 0.7\n",
      "[[0.4]\n",
      " [0.5]\n",
      " [0.6]\n",
      " [0.7]] 0.8\n",
      "[[0.5]\n",
      " [0.6]\n",
      " [0.7]\n",
      " [0.8]] 0.9\n"
     ]
    }
   ],
   "source": [
    "# time stamp 데이터 만들기\n",
    "X = []\n",
    "Y = []\n",
    "for i in range(6):\n",
    "\n",
    "    lst = list(range(i, i+4))\n",
    "\n",
    "    X.append(list(map(lambda c: [c/10], lst)))\n",
    "                        # lambda c :\n",
    "                            # c = [x/10 for x in lst]\n",
    "    Y.append((i+4)/10)\n",
    "\n",
    "X = np.array(X)\n",
    "Y = np.array(Y)\n",
    "for i in range(len(X)):\n",
    "    print(X[i], Y[i])"
   ]
  },
  {
   "cell_type": "code",
   "execution_count": null,
   "metadata": {},
   "outputs": [],
   "source": []
  }
 ],
 "metadata": {
  "kernelspec": {
   "display_name": "Python 3.8.13 ('tensorflow-dev')",
   "language": "python",
   "name": "python3"
  },
  "language_info": {
   "codemirror_mode": {
    "name": "ipython",
    "version": 3
   },
   "file_extension": ".py",
   "mimetype": "text/x-python",
   "name": "python",
   "nbconvert_exporter": "python",
   "pygments_lexer": "ipython3",
   "version": "3.8.13"
  },
  "orig_nbformat": 4,
  "vscode": {
   "interpreter": {
    "hash": "edf8c54a41a41a32cf49f70f45bd21c79eabf4cef1c0118d679d509e032472c8"
   }
  }
 },
 "nbformat": 4,
 "nbformat_minor": 2
}

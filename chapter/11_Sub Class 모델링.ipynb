{
 "cells": [
  {
   "cell_type": "markdown",
   "id": "66f8aa76",
   "metadata": {},
   "source": [
    "# Sub Class 모델링"
   ]
  },
  {
   "cell_type": "markdown",
   "id": "c001ac1f",
   "metadata": {},
   "source": [
    "모델 이란 것은 Input을 Output으로 만들어주는 수식이다. \n",
    "\n",
    "해당 기능을 수행하는 두 가지 클래스가 `tf.keras.layers.Layer` 와 `tf.keras.layers.Model` 클래스이다. \n",
    "\n",
    "두가지 모두 **연산을 추상화** 하는 것으로 동일한 역할을 하지만, `tf.keras.layers.Model` 클래스의 경우 모델을 저장 하는 기능 과 `fit`, `save` 함수를 사용할 수 있다는 점에서 차이가 있다. \n",
    "\n",
    "- tf.keras.layers.Layer\n",
    "- tf.keras.layers.Model"
   ]
  },
  {
   "cell_type": "code",
   "execution_count": 174,
   "id": "88ee619a",
   "metadata": {},
   "outputs": [],
   "source": [
    "import numpy as np\n",
    "import pandas as pd\n",
    "import tensorflow as tf\n",
    "\n",
    "import matplotlib.pyplot as plt\n",
    "import seaborn as sns\n",
    "%matplotlib inline"
   ]
  },
  {
   "cell_type": "code",
   "execution_count": 175,
   "id": "7253a144",
   "metadata": {},
   "outputs": [],
   "source": [
    "np.random.seed(7777)\n",
    "tf.random.set_seed(7777)"
   ]
  },
  {
   "cell_type": "markdown",
   "id": "33799c3c",
   "metadata": {},
   "source": [
    "### Linear Regression을 Layer로 만들어 보자. "
   ]
  },
  {
   "cell_type": "code",
   "execution_count": 176,
   "id": "f5eddbc8",
   "metadata": {},
   "outputs": [],
   "source": [
    "# # 강의본\n",
    "# class LinearRegression(tf.keras.layers.Layer):\n",
    "#     def __init__(self, units=1):      # units 은 몇개의 output을 나타내는지를 나타냄\n",
    "#                        # units 기본값을 1로 지정\n",
    "#         super(LinearRegression, self).__init__()\n",
    "#         self.units = units\n",
    "\n",
    "#     def build(self, input_shape):       \n",
    "#         self.w = self.add_weight(       # 레이어 클래스에 들어있는 하이 메서드\n",
    "#             shape = (input_shape[-1], self.units),   \n",
    "#                       # feature 개수를 받아옴.\n",
    "#             initializer = 'random_normal',\n",
    "#             trainable = True\n",
    "#         )  \n",
    "\n",
    "#         self.b = tf.Variable(0.0)\n",
    "\n",
    "\n",
    "#         # self.w = tf.Variable()\n",
    "#         # y_hat = w * input * b   # y_hat : y 추정치\n",
    "        \n",
    "#     def call(self, inputs):  # overiding이라고도 한다.\n",
    "#         return tf.matmul(inputs, self.w) + self.b"
   ]
  },
  {
   "cell_type": "code",
   "execution_count": 177,
   "id": "da73b21f",
   "metadata": {},
   "outputs": [],
   "source": [
    "# 해설본\n",
    "class LinearRegression(tf.keras.layers.Layer):\n",
    "    def __init__(self, units):\n",
    "        super(LinearRegression, self).__init__()\n",
    "        self.units = units\n",
    "\n",
    "    def build(self, input_shape):\n",
    "        self.w = self.add_weight(\n",
    "            shape = (input_shape[-1], self.units),\n",
    "            initializer='random_normal',\n",
    "            trainable = True\n",
    "        )\n",
    "        self.b = tf.Variable(0.0)\n",
    "\n",
    "    def call(self, inputs):\n",
    "        return tf.matmul(inputs, self.w) + self.b"
   ]
  },
  {
   "cell_type": "markdown",
   "id": "d6677a83",
   "metadata": {},
   "source": [
    "### 가상 데이터"
   ]
  },
  {
   "cell_type": "code",
   "execution_count": 178,
   "id": "ffdbc23b",
   "metadata": {},
   "outputs": [],
   "source": [
    "# W_true = np.array([3., 2., 4., 1.]).reshape(4, 1)\n",
    "# B_true = np.array([1.])         # 정답"
   ]
  },
  {
   "cell_type": "code",
   "execution_count": 179,
   "id": "17ed57e9",
   "metadata": {},
   "outputs": [],
   "source": [
    "# 해설본\n",
    "W_true  = np.array([[3., 2., 4., 1.]]).reshape((4,1))\n",
    "B_true = np.array([1.])"
   ]
  },
  {
   "cell_type": "code",
   "execution_count": 180,
   "id": "f8ef1686",
   "metadata": {},
   "outputs": [],
   "source": [
    "# X = tf.random.normal((500, 4))\n",
    "# noise = tf.random.normal((500, 1))\n",
    "\n",
    "# y = X @ W_true + B_true + noise\n",
    "#      # np.dot()"
   ]
  },
  {
   "cell_type": "code",
   "execution_count": 181,
   "id": "d83493bc",
   "metadata": {},
   "outputs": [],
   "source": [
    "# 해설본\n",
    "\n",
    "X = tf.random.normal((500, 4))\n",
    "noise = tf.random.normal((500, 1))\n",
    "\n",
    "y = X @ W_true + B_true + noise"
   ]
  },
  {
   "cell_type": "code",
   "execution_count": 182,
   "id": "37d91b41",
   "metadata": {},
   "outputs": [],
   "source": [
    "# opt = tf.keras.optimizers.SGD(learning_rate=0.03)\n",
    "\n",
    "# linear_layer = LinearRegression(1)"
   ]
  },
  {
   "cell_type": "code",
   "execution_count": 183,
   "id": "039d5270",
   "metadata": {},
   "outputs": [],
   "source": [
    "# 해설본\n",
    "opt = tf.keras.optimizers.SGD(learning_rate=3e-2)\n",
    "                                            # 0.03\n",
    "\n",
    "linear_layer = LinearRegression(1)"
   ]
  },
  {
   "cell_type": "code",
   "execution_count": 184,
   "id": "4a0b650f",
   "metadata": {},
   "outputs": [],
   "source": [
    "# for epoch in range(100):\n",
    "#     with tf.GradientTape() as tape:\n",
    "#         y_hat = linear_layer(X)\n",
    "#         loss = tf.reduce_mean(tf.square(y - y_hat))\n",
    "#             # mean_squared_error  구현\n",
    "\n",
    "#     grads = tape.gradient(loss, linear_layer.trainable_weights)\n",
    "\n",
    "#     # w.assign_sub(lr*dw)\n",
    "#     opt.apply_gradients(zip(grads, linear_layer.trainable_weights))\n",
    "    \n",
    "#     if epoch % 10 == 0:\n",
    "#         print('epoch : {} loss : {}'.format(epoch, loss.numpy()))"
   ]
  },
  {
   "cell_type": "code",
   "execution_count": 185,
   "id": "e105f66d",
   "metadata": {},
   "outputs": [
    {
     "name": "stdout",
     "output_type": "stream",
     "text": [
      "epoch : 0 lost : 33.17792510986328\n",
      "epoch : 10 lost : 9.75960636138916\n",
      "epoch : 20 lost : 3.336604118347168\n",
      "epoch : 30 lost : 1.5702284574508667\n",
      "epoch : 40 lost : 1.0829838514328003\n",
      "epoch : 50 lost : 0.9481188058853149\n",
      "epoch : 60 lost : 0.9106447100639343\n",
      "epoch : 70 lost : 0.900187075138092\n",
      "epoch : 80 lost : 0.8972545862197876\n",
      "epoch : 90 lost : 0.8964278697967529\n"
     ]
    }
   ],
   "source": [
    "# 해설본\n",
    "for epoch in range(100):\n",
    "    with tf.GradientTape() as tape:\n",
    "        y_hat = linear_layer(X)\n",
    "        loss = tf.reduce_mean(tf.square((y - y_hat)))\n",
    "\n",
    "    grads = tape.gradient(loss, linear_layer.trainable_weights)\n",
    "    opt.apply_gradients(zip(grads, linear_layer.trainable_weights))\n",
    "\n",
    "    if epoch % 10 == 0:\n",
    "        print('epoch : {} lost : {}'.format(epoch, loss.numpy()))"
   ]
  },
  {
   "cell_type": "code",
   "execution_count": 186,
   "id": "a8044b1c",
   "metadata": {},
   "outputs": [],
   "source": [
    "# linear_layer.trainable_weights"
   ]
  },
  {
   "cell_type": "code",
   "execution_count": 187,
   "id": "6599f40c",
   "metadata": {},
   "outputs": [
    {
     "data": {
      "text/plain": [
       "<tf.Tensor: shape=(1, 1), dtype=float32, numpy=array([[1.7251954]], dtype=float32)>"
      ]
     },
     "execution_count": 187,
     "metadata": {},
     "output_type": "execute_result"
    }
   ],
   "source": [
    "# 해설본\n",
    "linear_layer(X[:1])"
   ]
  },
  {
   "cell_type": "markdown",
   "id": "d2f40e99",
   "metadata": {},
   "source": [
    "----------------"
   ]
  },
  {
   "cell_type": "markdown",
   "id": "51f8ef2b",
   "metadata": {},
   "source": [
    "### ResNet - Sub Class 로 구현 하기 \n",
    "\n",
    "1. Residual Block - Layer\n",
    "2. ResNet  - Model"
   ]
  },
  {
   "cell_type": "code",
   "execution_count": 188,
   "id": "a1bb7c07",
   "metadata": {},
   "outputs": [],
   "source": [
    "from tensorflow.keras.layers import Input, Conv2D, MaxPool2D, Flatten, Dense, Add"
   ]
  },
  {
   "cell_type": "code",
   "execution_count": 189,
   "id": "30686ffe",
   "metadata": {},
   "outputs": [],
   "source": [
    "# class ResidualBlock(tf.keras.layers.Layer):\n",
    "\n",
    "#     def __init__(self, filters=32, filter_match=False):\n",
    "#                         # residualblock 에 필요한 filters\n",
    "#                                     # filter_match가 True이면 \n",
    "\n",
    "#         super(ResidualBlock, self).__init__()\n",
    "\n",
    "#         self.conv1 = Conv2D(filters, kernel_size=1, padding='same', activation = 'relu')\n",
    "#         self.conv2 = Conv2D(filters, kernel_size=3, padding='same', activation = 'relu')\n",
    "#         self.conv3 = Conv2D(filters, kernel_size=1, padding='same', activation = 'relu')\n",
    "#         self.add = Add()\n",
    "\n",
    "        \n",
    "#         self.filters = filters\n",
    "#         self.filter_match = filter_match\n",
    "        \n",
    "#         if filter_match:    # True일때\n",
    "#             # 강의에서는 self.filter_match\n",
    "#             self.conv_ext = Conv2D(filters, kernel_size=1, padding='same')\n",
    "\n",
    "#     def call(self, inputs):\n",
    "#         net1 = self.conv1(inputs)\n",
    "#         net2 = self.conv2(net1)\n",
    "#         net3 = self.conv3(net2)\n",
    "        \n",
    "#         if self.filter_match:\n",
    "#             res = self.add([self.conv_ext(inputs), net3])\n",
    "#             # res : result\n",
    "\n",
    "#         else:\n",
    "#             res = self.add([inputs, net3])\n",
    "        \n",
    "#         return res"
   ]
  },
  {
   "cell_type": "code",
   "execution_count": 190,
   "id": "a41513c5",
   "metadata": {},
   "outputs": [],
   "source": [
    "# 해설본\n",
    "class ResidualBlock(tf.keras.layers.Layer):\n",
    "    def __init__(self, filters = 32, filter_match = False):\n",
    "        super(ResidualBlock, self).__init__()\n",
    "\n",
    "        self.conv1 = Conv2D(filters, kernel_size=1, padding = 'same', activation='relu')\n",
    "        self.conv2 = Conv2D(filters, kernel_size=3, padding = 'same', activation='relu')\n",
    "        self.conv3 = Conv2D(filters, kernel_size=1, padding = 'same', activation='relu')\n",
    "        self.add = Add()\n",
    "\n",
    "        self.filters = filters\n",
    "        self.filter_match = filter_match\n",
    "        if filter_match:\n",
    "            self.conv_ext = Conv2D(filters, kernel_size=1, padding='same')\n",
    "\n",
    "    def call(self, inputs):\n",
    "        net1 = self.conv1(inputs)\n",
    "        net2 = self.conv2(net1)\n",
    "        net3 = self.conv3(net2)\n",
    "        if self.filter_match:\n",
    "            res = self.add([self.conv_ext(inputs), net3])\n",
    "\n",
    "        else:\n",
    "            res = self.add([inputs, net3])\n",
    "\n",
    "        return res"
   ]
  },
  {
   "cell_type": "code",
   "execution_count": 191,
   "id": "f51ae7c7",
   "metadata": {},
   "outputs": [],
   "source": [
    "# class ResNet(tf.keras.Model):\n",
    "#     def __init__(self, num_classes):\n",
    "#         super(ResNet, self).__init__()\n",
    "\n",
    "#         self.conv1 = Conv2D(32, kernel_size=3, strides=2, padding='same', activation = 'relu')\n",
    "#         self.maxp1 = MaxPool2D()\n",
    "#         self.block1 = ResidualBlock(64, True)\n",
    "#         self.block2 = ResidualBlock(64)\n",
    "#         self.maxp2 = MaxPool2D\n",
    "#         self.flat = Flatten()\n",
    "#         self.dense = Dense(num_classes)\n",
    "\n",
    "#     def call(self, inputs):\n",
    "#         x = self.conv1(inputs)\n",
    "#         x = self.maxp1(x)\n",
    "#         x = self.block1(x)\n",
    "#         x = self.block2(x)\n",
    "#         x = self.maxp2(x)\n",
    "#         x = self.flat(x)\n",
    "        \n",
    "#         return self.dense(x)"
   ]
  },
  {
   "cell_type": "code",
   "execution_count": 192,
   "id": "ca7cca68",
   "metadata": {},
   "outputs": [],
   "source": [
    "# 해설본\n",
    "class ResNet(tf.keras.Model):\n",
    "\n",
    "    def __init__(self, num_classes):\n",
    "        super(ResNet, self).__init__()\n",
    "\n",
    "        self.conv1 = Conv2D(32, kernel_size=3, strides=2, padding='same', activation='relu')\n",
    "        self.maxp1 = MaxPool2D()\n",
    "        self.block_1 = ResidualBlock(64, True)\n",
    "        self.block_2 = ResidualBlock(64)\n",
    "        self.maxp2 = MaxPool2D()\n",
    "        self.flat = Flatten()\n",
    "        self.dense = Dense(num_classes)\n",
    "\n",
    "    def call(self, inputs):\n",
    "        x = self.conv1(inputs)\n",
    "        x = self.maxp1(x)\n",
    "        x = self.block_1(x)\n",
    "        x = self.block_2(x)\n",
    "        x = self.maxp2(x)\n",
    "        x = self.flat(x)\n",
    "        return self.dense(x)\n",
    "\n",
    "model = ResNet(num_classes=10)"
   ]
  },
  {
   "cell_type": "code",
   "execution_count": 193,
   "id": "38877d4c",
   "metadata": {},
   "outputs": [],
   "source": [
    "# model = ResNet(10)\n",
    "# model = ResNet(num_classes=10)\n",
    "               # number of class"
   ]
  },
  {
   "cell_type": "markdown",
   "id": "f843d6f2",
   "metadata": {},
   "source": [
    "### 학습 시켜보기"
   ]
  },
  {
   "cell_type": "markdown",
   "id": "492551d4",
   "metadata": {},
   "source": [
    "---------------"
   ]
  },
  {
   "cell_type": "code",
   "execution_count": 194,
   "id": "94f3a954",
   "metadata": {},
   "outputs": [],
   "source": [
    "# class DataLoader():\n",
    "\n",
    "#     def __init__(self):\n",
    "#         (self.train_x, self.train_y), \\\n",
    "#             (self.test_x, self.test_y) = tf.keras.datasets.cifar10.load_data()\n",
    "\n",
    "#         # (train_x, train_y), (test_x, test_y) = tf.keras.datasets.mnist.load_data()\n",
    "#         self.input_shape = self.train_x.shape[1:]\n",
    "\n",
    "#     # def validate_pixel_scale(self, x):\n",
    "#     #     return 255 >= x.max() and 0 <= x.min()\n",
    "\n",
    "#     def scale(self, x):\n",
    "#         return (x / 255.0).astype(np.float32)\n",
    "\n",
    "#     def preprocess_dataset(self, dataset):\n",
    "#         (feature, target) = dataset\n",
    "#         # 강의에서는 feature, target = dataset // 괄호로 묶지 않음\n",
    "\n",
    "#         # validated_x = np.array([x for x in feature if self.validate_pixel_scale(x)])\n",
    "#         # validated_y = np.array([y for x,y in zip(feature, target) if self.validate_pixel_scale(x)])\n",
    "\n",
    "#         # scale\n",
    "#         # scaled_x = np.array([self.scale(x) for x in validated_x])\n",
    "#         scaled_x = np.array([self.scale(x) for x in feature])\n",
    "        \n",
    "#         # flatten   CNN에서는 안쓴다고 함\n",
    "#         # flatten_x = scaled_x.reshape((scaled_x.shape[0], -1))\n",
    "\n",
    "#         # expand\n",
    "#         # expanded_x = scaled_x[:, :, :, np.newaxis]      # 컬러 이미지는 expand가 필요가 없다.\n",
    "#                                         # 가짜 차원 하나를 추가한다.\n",
    "#                               # 인덱스 전체\n",
    "#                                 # height\n",
    "#                                     # width\n",
    "\n",
    "\n",
    "#         # label encoding\n",
    "#         ohe_y = np.array([tf.keras.utils.to_categorical(y, num_classes=10) \n",
    "#                         for y in target])\n",
    "#                                 # 강의에서는 validated_y  \n",
    "#                                     # shape 1을 없애야 한다. >> squeeze\n",
    "\n",
    "\n",
    "#         return scaled_x, ohe_y.squeeze(1)  #ohe_y      \n",
    "#                 # scaled_x 로 변경\n",
    "#                         # train_y, test_y의 shape 1을 제거하기 위해서\n",
    "#                         # 강의에서는 np.squeeze(ohe_y, axis=1)\n",
    "    \n",
    "#     def get_train_dataset(self):\n",
    "#         return self.preprocess_dataset((self.train_x, self.train_y))\n",
    "    \n",
    "#     def get_test_dataset(self):\n",
    "#         return self.preprocess_dataset((self.test_x, self.test_y))"
   ]
  },
  {
   "cell_type": "code",
   "execution_count": 195,
   "id": "b0e09120",
   "metadata": {},
   "outputs": [],
   "source": [
    "# 해설본\n",
    "class Cifar10DataLoader():\n",
    "    def __init__(self):\n",
    "        (self.train_x, self.train_y), \\\n",
    "            (self.test_x, self.test_y) = tf.keras.datasets.cifar10.load_data()\n",
    "        self.input_shape = self.train_x.shape[1:]\n",
    "\n",
    "    def scale(self, x):\n",
    "        return (x / 255.0).astype(np.float32)\n",
    "\n",
    "    def preprocess_dataset(self, dataset):\n",
    "        (feature, target) = dataset\n",
    "\n",
    "        # scaling\n",
    "        scaled_x = np.array([self.scale(x) for x in feature])\n",
    "\n",
    "        # label encoding\n",
    "        ohe_y = np.array([tf.keras.utils.to_categorical(\n",
    "            y, num_classes=10) for y in target])\n",
    "\n",
    "        return scaled_x, ohe_y.squeeze(1)\n",
    "\n",
    "    def get_train_dataset(self):\n",
    "        return self.preprocess_dataset((self.train_x, self.train_y))\n",
    "\n",
    "    def get_test_dataset(self):\n",
    "        return self.preprocess_dataset((self.test_x, self.test_y))\n",
    "\n"
   ]
  },
  {
   "cell_type": "markdown",
   "id": "20ae59dd",
   "metadata": {},
   "source": [
    "--------------"
   ]
  },
  {
   "cell_type": "code",
   "execution_count": 196,
   "id": "30b78ad2",
   "metadata": {},
   "outputs": [],
   "source": [
    "# loader = DataLoader()\n",
    "\n",
    "# train_x, train_y = loader.get_train_dataset()\n",
    "\n",
    "# test_x, test_y = loader.get_test_dataset()   # loader.get_test_dataset()\n",
    "\n",
    "# print(train_x.shape, train_x.dtype)\n",
    "# print(train_y.shape, train_y.dtype)\n",
    "# print(test_x.shape, test_x.dtype)\n",
    "# print(test_y.shape, test_y.dtype)\n"
   ]
  },
  {
   "cell_type": "code",
   "execution_count": 197,
   "id": "5f6a592f",
   "metadata": {},
   "outputs": [
    {
     "name": "stdout",
     "output_type": "stream",
     "text": [
      "(50000, 32, 32, 3) float32\n",
      "(50000, 10) float32\n",
      "(10000, 32, 32, 3) float32\n",
      "(10000, 10) float32\n"
     ]
    }
   ],
   "source": [
    "# 해설본\n",
    "cifar10_loader = Cifar10DataLoader()\n",
    "\n",
    "train_x, train_y = cifar10_loader.get_train_dataset()\n",
    "\n",
    "print(train_x.shape, train_x.dtype)\n",
    "print(train_y.shape, train_y.dtype)\n",
    "\n",
    "test_x, test_y = cifar10_loader.get_test_dataset()\n",
    "\n",
    "print(test_x.shape, test_x.dtype)\n",
    "print(test_y.shape, test_y.dtype)"
   ]
  },
  {
   "cell_type": "code",
   "execution_count": 198,
   "id": "6db2c69d",
   "metadata": {},
   "outputs": [],
   "source": [
    "# # 학습하기\n",
    "# lr = 0.03       # 각자마다 좋아하는 러닝 레이트(초기값)가 있다. \n",
    "# opt = tf.keras.optimizers.Adam(lr)\n",
    "# loss = tf.keras.losses.categorical_crossentropy\n",
    "\n",
    "# model.compile(optimizer=opt, loss=loss, metrics=['accuracy'])"
   ]
  },
  {
   "cell_type": "code",
   "execution_count": 199,
   "id": "3513c235",
   "metadata": {},
   "outputs": [],
   "source": [
    "# 해설본    \n",
    "learning_rate = 0.03\n",
    "opt = tf.keras.optimizers.Adam(learning_rate)\n",
    "loss = tf.keras.losses.categorical_crossentropy\n",
    "\n",
    "model.compile(optimizer=opt, loss=loss, metrics=['accuracy'])"
   ]
  },
  {
   "cell_type": "code",
   "execution_count": 200,
   "id": "f35a766b",
   "metadata": {},
   "outputs": [],
   "source": [
    "# hist = model.fit(train_x, train_y, epochs=1, batch_size=128, validation_data=(test_x, test_y))\n",
    "\n",
    "#Call arguments received:\n",
    "    #   • inputs=tf.Tensor(shape=(None, 32, 32, 3), dtype=float32)\n",
    "    # 모델 모형이 잘못되었다는 이야기 같은데"
   ]
  },
  {
   "cell_type": "code",
   "execution_count": 203,
   "id": "bb263f0b",
   "metadata": {},
   "outputs": [
    {
     "name": "stdout",
     "output_type": "stream",
     "text": [
      "Epoch 1/2\n",
      "391/391 [==============================] - 9s 22ms/step - loss: 2.2627 - accuracy: 0.1553 - val_loss: 2.2731 - val_accuracy: 0.1241\n",
      "Epoch 2/2\n",
      "391/391 [==============================] - 9s 22ms/step - loss: 2.2234 - accuracy: 0.1654 - val_loss: 2.2366 - val_accuracy: 0.1607\n"
     ]
    }
   ],
   "source": [
    "# 해설본\n",
    "hist = model.fit(train_x, train_y, \n",
    "        epochs=2, batch_size = 128, \n",
    "        validation_data=(test_x, test_y))"
   ]
  },
  {
   "cell_type": "code",
   "execution_count": 204,
   "id": "48449e6d",
   "metadata": {},
   "outputs": [
    {
     "data": {
      "image/png": "[encoded data removed]",
      "text/plain": [
       "<Figure size 720x360 with 4 Axes>"
      ]
     },
     "metadata": {
      "needs_background": "light"
     },
     "output_type": "display_data"
    }
   ],
   "source": [
    "plt.figure(figsize=(10, 5))\n",
    "plt.subplot(221)\n",
    "plt.plot(hist.history['loss'])\n",
    "plt.title(\"loss\")\n",
    "plt.subplot(222)\n",
    "plt.plot(hist.history['accuracy'], 'b-')\n",
    "plt.title(\"acc\")\n",
    "plt.subplot(223)\n",
    "plt.plot(hist.history['val_loss'])\n",
    "plt.title(\"val_loss\")\n",
    "plt.subplot(224)\n",
    "plt.plot(hist.history['val_accuracy'], 'b-')\n",
    "plt.title(\"val_accuracy\")\n",
    "\n",
    "plt.tight_layout()\n",
    "plt.show()"
   ]
  },
  {
   "cell_type": "code",
   "execution_count": null,
   "id": "a8b46ba8",
   "metadata": {},
   "outputs": [],
   "source": []
  }
 ],
 "metadata": {
  "interpreter": {
   "hash": "b5a26d0e877c4652cf53eb6b13536f4959f02e722fb5eef7979a29d14fb02c8a"
  },
  "kernelspec": {
   "display_name": "Python 3.10.4 ('TF')",
   "language": "python",
   "name": "python3"
  },
  "language_info": {
   "codemirror_mode": {
    "name": "ipython",
    "version": 3
   },
   "file_extension": ".py",
   "mimetype": "text/x-python",
   "name": "python",
   "nbconvert_exporter": "python",
   "pygments_lexer": "ipython3",
   "version": "3.8.13"
  },
  "varInspector": {
   "cols": {
    "lenName": 16,
    "lenType": 16,
    "lenVar": 40
   },
   "kernels_config": {
    "python": {
     "delete_cmd_postfix": "",
     "delete_cmd_prefix": "del ",
     "library": "var_list.py",
     "varRefreshCmd": "print(var_dic_list())"
    },
    "r": {
     "delete_cmd_postfix": ") ",
     "delete_cmd_prefix": "rm(",
     "library": "var_list.r",
     "varRefreshCmd": "cat(var_dic_list()) "
    }
   },
   "types_to_exclude": [
    "module",
    "function",
    "builtin_function_or_method",
    "instance",
    "_Feature"
   ],
   "window_display": false
  }
 },
 "nbformat": 4,
 "nbformat_minor": 5
}

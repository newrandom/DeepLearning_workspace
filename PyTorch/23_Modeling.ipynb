{
 "cells": [
  {
   "cell_type": "markdown",
   "id": "9864812e",
   "metadata": {},
   "source": [
    "# Modeling \n",
    "\n",
    " - `nn.Sequential`\n",
    " - Sub-class of `nn.Module`"
   ]
  },
  {
   "cell_type": "code",
   "execution_count": 25,
   "id": "4b6e8213",
   "metadata": {},
   "outputs": [],
   "source": [
    "import torch\n",
    "from torch import nn \n",
    "import torch.nn.functional as F"
   ]
  },
  {
   "cell_type": "markdown",
   "id": "bd723bad",
   "metadata": {},
   "source": [
    "# nn의 모듈"
   ]
  },
  {
   "cell_type": "code",
   "execution_count": 26,
   "id": "9c39585c",
   "metadata": {},
   "outputs": [
    {
     "data": {
      "text/plain": [
       "Conv2d(3, 32, kernel_size=(3, 3), stride=(1, 1), padding=(1, 1), bias=False)"
      ]
     },
     "execution_count": 26,
     "metadata": {},
     "output_type": "execute_result"
    }
   ],
   "source": [
    "nn.Conv2d(\n",
    "    in_channels=3,\n",
    "    out_channels=32,\n",
    "    kernel_size=3,\n",
    "    stride=1,\n",
    "    padding=1,\n",
    "    bias =False\n",
    ")"
   ]
  },
  {
   "cell_type": "code",
   "execution_count": 27,
   "id": "af03fd68",
   "metadata": {},
   "outputs": [
    {
     "data": {
      "text/plain": [
       "Linear(in_features=784, out_features=500, bias=False)"
      ]
     },
     "execution_count": 27,
     "metadata": {},
     "output_type": "execute_result"
    }
   ],
   "source": [
    "nn.Linear(\n",
    "    in_features=784,\n",
    "    out_features=500,\n",
    "    bias=False\n",
    ")"
   ]
  },
  {
   "cell_type": "markdown",
   "id": "889009de",
   "metadata": {},
   "source": [
    "### `nn.Sequential`\n"
   ]
  },
  {
   "cell_type": "code",
   "execution_count": 28,
   "id": "c2615111",
   "metadata": {},
   "outputs": [],
   "source": [
    "device = torch.device('cuda' if torch.cuda.is_available() else 'cpu')\n"
   ]
  },
  {
   "cell_type": "code",
   "execution_count": 29,
   "id": "7d78dbca",
   "metadata": {},
   "outputs": [],
   "source": [
    "model = nn.Sequential(\n",
    "    nn.Linear(784, 15),\n",
    "    nn.Sigmoid(),\n",
    "    nn.Linear(15, 10),\n",
    "    nn.Sigmoid()\n",
    ")"
   ]
  },
  {
   "cell_type": "code",
   "execution_count": 30,
   "id": "5f2b54dd",
   "metadata": {},
   "outputs": [
    {
     "name": "stdout",
     "output_type": "stream",
     "text": [
      "Sequential(\n",
      "  (0): Linear(in_features=784, out_features=15, bias=True)\n",
      "  (1): Sigmoid()\n",
      "  (2): Linear(in_features=15, out_features=10, bias=True)\n",
      "  (3): Sigmoid()\n",
      ")\n"
     ]
    }
   ],
   "source": [
    "print(model)"
   ]
  },
  {
   "cell_type": "code",
   "execution_count": 31,
   "id": "e1e4a766",
   "metadata": {},
   "outputs": [],
   "source": [
    "# !pip install torchsummary"
   ]
  },
  {
   "cell_type": "code",
   "execution_count": 32,
   "id": "05258827",
   "metadata": {},
   "outputs": [],
   "source": [
    "import torchsummary"
   ]
  },
  {
   "cell_type": "code",
   "execution_count": 33,
   "id": "97bb57ce",
   "metadata": {},
   "outputs": [
    {
     "name": "stdout",
     "output_type": "stream",
     "text": [
      "----------------------------------------------------------------\n",
      "        Layer (type)               Output Shape         Param #\n",
      "================================================================\n",
      "            Linear-1                   [-1, 15]          11,775\n",
      "           Sigmoid-2                   [-1, 15]               0\n",
      "            Linear-3                   [-1, 10]             160\n",
      "           Sigmoid-4                   [-1, 10]               0\n",
      "================================================================\n",
      "Total params: 11,935\n",
      "Trainable params: 11,935\n",
      "Non-trainable params: 0\n",
      "----------------------------------------------------------------\n",
      "Input size (MB): 0.00\n",
      "Forward/backward pass size (MB): 0.00\n",
      "Params size (MB): 0.05\n",
      "Estimated Total Size (MB): 0.05\n",
      "----------------------------------------------------------------\n"
     ]
    }
   ],
   "source": [
    "torchsummary.summary(model, (784,))"
   ]
  },
  {
   "cell_type": "code",
   "execution_count": null,
   "id": "570b56a3",
   "metadata": {},
   "outputs": [],
   "source": []
  },
  {
   "cell_type": "markdown",
   "id": "b48d87ec",
   "metadata": {},
   "source": [
    "### `nn.module` sub class"
   ]
  },
  {
   "cell_type": "markdown",
   "id": "fce06d83",
   "metadata": {},
   "source": [
    "- `__init__()` 에서 Layers를 초기화 함. \n",
    "- `forward` 함수를 구현"
   ]
  },
  {
   "cell_type": "code",
   "execution_count": 34,
   "id": "43695ab4",
   "metadata": {},
   "outputs": [],
   "source": [
    "# (1, 28, 28)\n",
    "\n",
    "class Net(nn.Module):\n",
    "    def __init__(self):\n",
    "        super(Net, self).__init__()\n",
    "        self.conv1 = nn.Conv2d(1, 20, kernel_size=3, padding=1)     # stride = 1 기본으로 들어감\n",
    "        self.conv2 = nn.Conv2d(20, 50, kernel_size=3, padding=1)     # stride = 1 기본으로 들어감\n",
    "        self.fc1 = nn.Linear(4900, 500)\n",
    "        self.fc2 = nn.Linear(500, 10)\n",
    "        \n",
    "    def forward(self, x):\n",
    "        x = F.relu(self.conv1(x))\n",
    "        x = F.max_pool2d(x, 2, 2)\n",
    "        x = F.relu(self.conv2(x))\n",
    "        x = F.max_pool2d(x, 2, 2)\n",
    "        x = x.view(-1, 4900)\n",
    "        x = F.relu(self.fc1(x))\n",
    "        x = F.log_softmax(self.fc2(x), dim=1)\n",
    "                                        # log_softmax 할때는 dim 을 무조건 설정해야한다.\n",
    "\n",
    "        return x"
   ]
  },
  {
   "cell_type": "code",
   "execution_count": 35,
   "id": "28de9eb7",
   "metadata": {},
   "outputs": [],
   "source": [
    "model = Net()"
   ]
  },
  {
   "cell_type": "code",
   "execution_count": 36,
   "id": "e642fd4b",
   "metadata": {},
   "outputs": [
    {
     "name": "stdout",
     "output_type": "stream",
     "text": [
      "----------------------------------------------------------------\n",
      "        Layer (type)               Output Shape         Param #\n",
      "================================================================\n",
      "            Conv2d-1           [-1, 20, 28, 28]             200\n",
      "            Conv2d-2           [-1, 50, 14, 14]           9,050\n",
      "            Linear-3                  [-1, 500]       2,450,500\n",
      "            Linear-4                   [-1, 10]           5,010\n",
      "================================================================\n",
      "Total params: 2,464,760\n",
      "Trainable params: 2,464,760\n",
      "Non-trainable params: 0\n",
      "----------------------------------------------------------------\n",
      "Input size (MB): 0.00\n",
      "Forward/backward pass size (MB): 0.20\n",
      "Params size (MB): 9.40\n",
      "Estimated Total Size (MB): 9.60\n",
      "----------------------------------------------------------------\n"
     ]
    }
   ],
   "source": [
    "torchsummary.summary(model, (1, 28, 28))"
   ]
  },
  {
   "cell_type": "code",
   "execution_count": null,
   "id": "760fd8b4",
   "metadata": {},
   "outputs": [],
   "source": []
  },
  {
   "cell_type": "markdown",
   "id": "bdc57c68",
   "metadata": {},
   "source": [
    "### 간단한 ResNet 구현"
   ]
  },
  {
   "cell_type": "code",
   "execution_count": 41,
   "id": "04216457",
   "metadata": {},
   "outputs": [],
   "source": [
    "class ResidualBlock(nn.Module):\n",
    "    def __init__(self, in_channel, out_channel):\n",
    "        super(ResidualBlock, self).__init__()\n",
    "        \n",
    "        self.conv1 = nn.Conv2d(in_channel, out_channel, kernel_size=1, padding=0)\n",
    "                                                                        # kernel_size=1이기 때문에 padding 이 1이 되면 팽창한다.\n",
    "        self.conv2 = nn.Conv2d(out_channel, out_channel, kernel_size=3, padding=1)\n",
    "                                                                        # kernel_size=1이기 때문에 padding 이 1이 되면 팽창한다.\n",
    "        self.conv3 = nn.Conv2d(out_channel, out_channel, kernel_size=1, padding=0)\n",
    "                                                                        # kernel_size=1이기 때문에 padding 이 1이 되면 팽창한다.\n",
    "        if in_channel != out_channel:\n",
    "            self.shortcut = nn.Sequential(\n",
    "                nn.Conv2d(in_channel, out_channel, kernel_size=1, padding=0)\n",
    "            )\n",
    "        else:\n",
    "            self.shortcut = nn.Sequential()\n",
    "\n",
    "    def forward(self,x):\n",
    "        out = F.relu(self.conv1(x))\n",
    "        out = F.relu(self.conv2(out))\n",
    "        out = F.relu(self.conv3(out))\n",
    "        out += self.shortcut(x)\n",
    "        return out"
   ]
  },
  {
   "cell_type": "code",
   "execution_count": 42,
   "id": "66318f61",
   "metadata": {},
   "outputs": [],
   "source": [
    "class ResNet(nn.Module):\n",
    "    def __init__(self, color='gray'):\n",
    "        super(ResNet, self).__init__()\n",
    "        if color == 'gray':\n",
    "            self.conv1 = nn.Conv2d(1, 32, kernel_size=3, stride=1, padding=1)\n",
    "\n",
    "        elif color == 'rgb':\n",
    "            self.conv1 = nn.Conv2d(3, 32, kernel_size=3, stride=1, padding=1)\n",
    "            \n",
    "        self.resblock1 = ResidualBlock(32, 64)\n",
    "        self.resblock2 = ResidualBlock(64, 64)\n",
    "        \n",
    "        self.avgpool = nn.AdaptiveAvgPool2d((1, 1))\n",
    "        self.fc1 = nn.Linear(64, 64)\n",
    "        self.fc2 = nn.Linear(64, 10)\n",
    "        \n",
    "\n",
    "    def forward(self, x):\n",
    "        x = F.relu(self.conv1(x))\n",
    "        x = F.max_pool2d(x, 2, 2)\n",
    "        x = self.resblock1(x)\n",
    "        x = self.resblock2(x)\n",
    "        x = self.avgpool(x)\n",
    "        x = torch.flatten(x, 1)\n",
    "        x = F.relu(self.fc1(x))\n",
    "        x = self.fc2(x)\n",
    "        x = F.log_softmax(x, dim=1)\n",
    "\n",
    "        return x"
   ]
  },
  {
   "cell_type": "code",
   "execution_count": 43,
   "id": "2a90969c",
   "metadata": {},
   "outputs": [],
   "source": [
    "model = ResNet()"
   ]
  },
  {
   "cell_type": "code",
   "execution_count": 44,
   "id": "3135c875",
   "metadata": {},
   "outputs": [
    {
     "name": "stdout",
     "output_type": "stream",
     "text": [
      "----------------------------------------------------------------\n",
      "        Layer (type)               Output Shape         Param #\n",
      "================================================================\n",
      "            Conv2d-1           [-1, 32, 28, 28]             320\n",
      "            Conv2d-2           [-1, 64, 14, 14]           2,112\n",
      "            Conv2d-3           [-1, 64, 14, 14]          36,928\n",
      "            Conv2d-4           [-1, 64, 14, 14]           4,160\n",
      "            Conv2d-5           [-1, 64, 14, 14]           2,112\n",
      "     ResidualBlock-6           [-1, 64, 14, 14]               0\n",
      "            Conv2d-7           [-1, 64, 14, 14]           4,160\n",
      "            Conv2d-8           [-1, 64, 14, 14]          36,928\n",
      "            Conv2d-9           [-1, 64, 14, 14]           4,160\n",
      "    ResidualBlock-10           [-1, 64, 14, 14]               0\n",
      "AdaptiveAvgPool2d-11             [-1, 64, 1, 1]               0\n",
      "           Linear-12                   [-1, 64]           4,160\n",
      "           Linear-13                   [-1, 10]             650\n",
      "================================================================\n",
      "Total params: 95,690\n",
      "Trainable params: 95,690\n",
      "Non-trainable params: 0\n",
      "----------------------------------------------------------------\n",
      "Input size (MB): 0.00\n",
      "Forward/backward pass size (MB): 1.05\n",
      "Params size (MB): 0.37\n",
      "Estimated Total Size (MB): 1.42\n",
      "----------------------------------------------------------------\n"
     ]
    }
   ],
   "source": [
    "torchsummary.summary(model, (1, 28, 28))"
   ]
  },
  {
   "cell_type": "code",
   "execution_count": null,
   "id": "2dbd31f2",
   "metadata": {},
   "outputs": [],
   "source": []
  }
 ],
 "metadata": {
  "interpreter": {
   "hash": "b5a26d0e877c4652cf53eb6b13536f4959f02e722fb5eef7979a29d14fb02c8a"
  },
  "kernelspec": {
   "display_name": "Python 3.8.13 ('TF')",
   "language": "python",
   "name": "python3"
  },
  "language_info": {
   "codemirror_mode": {
    "name": "ipython",
    "version": 3
   },
   "file_extension": ".py",
   "mimetype": "text/x-python",
   "name": "python",
   "nbconvert_exporter": "python",
   "pygments_lexer": "ipython3",
   "version": "3.8.13"
  },
  "varInspector": {
   "cols": {
    "lenName": 16,
    "lenType": 16,
    "lenVar": 40
   },
   "kernels_config": {
    "python": {
     "delete_cmd_postfix": "",
     "delete_cmd_prefix": "del ",
     "library": "var_list.py",
     "varRefreshCmd": "print(var_dic_list())"
    },
    "r": {
     "delete_cmd_postfix": ") ",
     "delete_cmd_prefix": "rm(",
     "library": "var_list.r",
     "varRefreshCmd": "cat(var_dic_list()) "
    }
   },
   "types_to_exclude": [
    "module",
    "function",
    "builtin_function_or_method",
    "instance",
    "_Feature"
   ],
   "window_display": false
  }
 },
 "nbformat": 4,
 "nbformat_minor": 5
}

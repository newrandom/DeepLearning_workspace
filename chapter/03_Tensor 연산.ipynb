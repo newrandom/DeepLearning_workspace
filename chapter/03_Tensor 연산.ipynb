{
 "cells": [
  {
   "cell_type": "markdown",
   "id": "b0a2d006",
   "metadata": {},
   "source": [
    "# Tensor 연산"
   ]
  },
  {
   "cell_type": "code",
   "execution_count": 341,
   "id": "a47ff13a",
   "metadata": {},
   "outputs": [],
   "source": [
    "import tensorflow as tf"
   ]
  },
  {
   "cell_type": "markdown",
   "id": "7a1c90c4",
   "metadata": {},
   "source": [
    "아래의 기본 연산은 `특수 메서드`를 이용하여 연산자 오버로딩이 되어 있으므로 그냥 연산자 기호를 사용하는게 가능!\n",
    "\n",
    "* `tf.add`: 덧셈\n",
    "* `tf.subtract`: 뺄셈\n",
    "* `tf.multiply`: 곱셈\n",
    "* `tf.divide`: 나눗셈\n",
    "* `tf.pow`: n-제곱\n",
    "* `tf.negative`: 음수 부호\n"
   ]
  },
  {
   "cell_type": "code",
   "execution_count": 342,
   "id": "8ece8410",
   "metadata": {},
   "outputs": [
    {
     "data": {
      "text/plain": [
       "<tf.Tensor: shape=(6,), dtype=int32, numpy=array([2, 3, 4, 5, 6, 7], dtype=int32)>"
      ]
     },
     "execution_count": 342,
     "metadata": {},
     "output_type": "execute_result"
    }
   ],
   "source": [
    "a = tf.range(6, dtype=tf.int32)   \n",
    "b = 2 * tf.ones(6, dtype=tf.int32)\n",
    "\n",
    "tf.add(a, b)"
   ]
  },
  {
   "cell_type": "code",
   "execution_count": 343,
   "id": "c76d5938",
   "metadata": {},
   "outputs": [
    {
     "name": "stdout",
     "output_type": "stream",
     "text": [
      "a :  tf.Tensor([0 1 2 3 4 5], shape=(6,), dtype=int32) \n",
      " b :  tf.Tensor([2 2 2 2 2 2], shape=(6,), dtype=int32)\n",
      "a + b : tf.Tensor([2 3 4 5 6 7], shape=(6,), dtype=int32) \n",
      " tf.add(a,b) :  tf.Tensor([2 3 4 5 6 7], shape=(6,), dtype=int32)\n",
      "a - b : tf.Tensor([-2 -1  0  1  2  3], shape=(6,), dtype=int32) \n",
      " tf.subtract(a,b) :  tf.Tensor([-2 -1  0  1  2  3], shape=(6,), dtype=int32)\n",
      "a * b : tf.Tensor([ 0  2  4  6  8 10], shape=(6,), dtype=int32) \n",
      " tf.multiply : tf.Tensor([ 0  2  4  6  8 10], shape=(6,), dtype=int32)\n",
      "a / b : tf.Tensor([0.  0.5 1.  1.5 2.  2.5], shape=(6,), dtype=float64) \n",
      " tf.divide : tf.Tensor([0.  0.5 1.  1.5 2.  2.5], shape=(6,), dtype=float64)\n",
      "a ** b : tf.Tensor([ 0  1  4  9 16 25], shape=(6,), dtype=int32) \n",
      " tf.pow : tf.Tensor([ 0  1  4  9 16 25], shape=(6,), dtype=int32)\n",
      "-a : tf.Tensor([ 0 -1 -2 -3 -4 -5], shape=(6,), dtype=int32) \n",
      " tf.negative : tf.Tensor([ 0 -1 -2 -3 -4 -5], shape=(6,), dtype=int32)\n"
     ]
    }
   ],
   "source": [
    "print('a : ', a,'\\n', 'b : ', b)\n",
    "\n",
    "print('a + b :',a + b, '\\n','tf.add(a,b) : ',tf.add(a,b))       # 텐서끼리 + 를 쓰면, tf의 add를 자동으로 사용한다.\n",
    "\n",
    "print('a - b :', a-b, '\\n','tf.subtract(a,b) : ',tf.subtract(a,b))        # 텐서끼리 - 를 쓰면 tf.subtract와 같음\n",
    "\n",
    "print('a * b :',a * b, '\\n','tf.multiply :',tf.multiply(a,b))        # a * b 는 tf.multiply 와 같다\n",
    "\n",
    "print('a / b :',a / b,'\\n','tf.divide :',tf.divide(a,b))\n",
    "\n",
    "# print('a // b :', a//b,'\\n','tf.truediv :',tf.truediv(a,b))     # 몫 함수는 뭘까?\n",
    "\n",
    "print('a ** b :',a ** b,'\\n','tf.pow :',tf.pow(a,b))\n",
    "\n",
    "print('-a :',-a,'\\n','tf.negative :',tf.negative(a))        # negative 는 인수 하나만 받음"
   ]
  },
  {
   "cell_type": "code",
   "execution_count": null,
   "id": "bfd89a77",
   "metadata": {},
   "outputs": [],
   "source": []
  },
  {
   "cell_type": "markdown",
   "id": "64f5dc6e",
   "metadata": {},
   "source": [
    "**여러가지 연산**\n",
    "\n",
    "* `tf.abs`: 절대값\n",
    "* `tf.sign`: 부호\n",
    "* `tf.round`: 반올림\n",
    "* `tf.ceil`: 올림 // 지금 적용안됨 ( 함수 없음 )\n",
    "* `tf.floor`: 내림\n",
    "* `tf.square`: 제곱\n",
    "* `tf.sqrt`: 제곱근 // 들어가는 인수는 float 형식으로 들어가야만 한다.\n",
    "* `tf.maximum`: 두 텐서의 각 원소에서 최댓값만 반환.\n",
    "* `tf.minimum`: 두 텐서의 각 원소에서 최솟값만 반환.\n",
    "* `tf.cumsum`: 누적합\n",
    "* `tf.cumprod`: 누적곱\n"
   ]
  },
  {
   "cell_type": "code",
   "execution_count": 344,
   "id": "5a703ca5",
   "metadata": {},
   "outputs": [
    {
     "name": "stdout",
     "output_type": "stream",
     "text": [
      "tf.Tensor([0 1 2 3 4 5], shape=(6,), dtype=int32) tf.Tensor([2 2 2 2 2 2], shape=(6,), dtype=int32) tf.Tensor([0. 0. 0. 0. 0. 0.], shape=(6,), dtype=float32)\n",
      "tf.Tensor([0 1 2 3 4 5], shape=(6,), dtype=int32)\n",
      "tf.Tensor([0 1 1 1 1 1], shape=(6,), dtype=int32) tf.Tensor([0. 0. 0. 0. 0. 0.], shape=(6,), dtype=float32)\n",
      "tf.Tensor([0. 0. 1. 2. 2. 2.], shape=(6,), dtype=float64)\n",
      "ceil tf.Tensor([0. 1. 1. 2. 2. 3.], shape=(6,), dtype=float64)\n",
      "tf.Tensor([0. 0. 1. 1. 2. 2.], shape=(6,), dtype=float64)\n",
      "tf.Tensor([ 0  1  4  9 16 25], shape=(6,), dtype=int32)\n",
      "tf.Tensor(\n",
      "[[2.]\n",
      " [4.]], shape=(2, 1), dtype=float32)\n",
      "tf.Tensor([[2. 3. 4. 5.]], shape=(1, 4), dtype=float32)\n",
      "tf.Tensor([2 2 2 3 4 5], shape=(6,), dtype=int32)\n",
      "tf.Tensor([0 1 2 2 2 2], shape=(6,), dtype=int32)\n",
      "tf.Tensor([ 0  1  3  6 10 15], shape=(6,), dtype=int32)\n",
      "tf.Tensor([ 2  4  8 16 32 64], shape=(6,), dtype=int32)\n"
     ]
    }
   ],
   "source": [
    "test_zeros = tf.zeros(6)\n",
    "\n",
    "print(a,b,test_zeros)\n",
    "print(tf.abs(a,b))\n",
    "print(tf.sign(a,b), tf.sign(test_zeros))     # 부호 : 0,1로 이루어짐 (?) // True, False 판별하는 것과 비슷한듯.\n",
    "print(tf.round(tf.divide(a,b)))     # 반올림 // round 안에 divide 를 해도 되는구나\n",
    "print('ceil', tf.math.ceil(tf.math.divide(a,b)))        # 올림 적용  \n",
    "print(tf.floor(tf.divide(a,b)))\n",
    "print(tf.square(a,b))\n",
    "print(tf.sqrt([[4.], [16.]]))       # 들어가는 인수는 무조건 float 형식으로 해야되는 듯\n",
    "print(tf.sqrt([[4., 9., 16., 25.]]))    # 1,4 shape\n",
    "\n",
    "print(tf.maximum(a,b))              # 두 배열(?)에서 각 열의 최댓값을 출력한다. // 각 원소에서!\n",
    "print(tf.minimum(a,b))              # 두 텐서의 각 원소에서 최솟값만 반환\n",
    "# print(tf.cumsum(a,b))\n",
    "print(tf.cumsum(a))                 # 인수를 하나만 받는다.\n",
    "print(tf.math.cumprod(b))           # 누적 곱 // math 안에 있다."
   ]
  },
  {
   "cell_type": "markdown",
   "id": "b7aa8914",
   "metadata": {},
   "source": [
    "#### Axis 이해하기"
   ]
  },
  {
   "cell_type": "code",
   "execution_count": 345,
   "id": "35fb668d",
   "metadata": {},
   "outputs": [],
   "source": [
    "rank_2 = tf.random.normal((3, 3))       # 해당 변수를 실행할 때마다 값이 변함"
   ]
  },
  {
   "cell_type": "code",
   "execution_count": 346,
   "id": "8cb367b7",
   "metadata": {},
   "outputs": [
    {
     "data": {
      "text/plain": [
       "<tf.Tensor: shape=(3, 3), dtype=float32, numpy=\n",
       "array([[-0.4894471 , -1.666166  ,  0.19173218],\n",
       "       [-0.25659904,  1.1539693 ,  1.0813972 ],\n",
       "       [ 0.9014378 ,  0.0375339 , -0.855405  ]], dtype=float32)>"
      ]
     },
     "execution_count": 346,
     "metadata": {},
     "output_type": "execute_result"
    }
   ],
   "source": [
    "rank_2      # 변수만 불러올때는 값이 변하지 않는다."
   ]
  },
  {
   "cell_type": "code",
   "execution_count": 347,
   "id": "887c9ebf",
   "metadata": {},
   "outputs": [
    {
     "name": "stdout",
     "output_type": "stream",
     "text": [
      "tf.Tensor([-0.4894471  -1.666166    0.19173218], shape=(3,), dtype=float32)\n",
      "tf.Tensor([-0.25659904  1.1539693   1.0813972 ], shape=(3,), dtype=float32)\n",
      "tf.Tensor([ 0.9014378  0.0375339 -0.855405 ], shape=(3,), dtype=float32)\n"
     ]
    }
   ],
   "source": [
    "rank_2[0]\n",
    "print(rank_2[0])\n",
    "print(rank_2[1])\n",
    "print(rank_2[2])"
   ]
  },
  {
   "cell_type": "code",
   "execution_count": 348,
   "id": "d6e00ecb",
   "metadata": {},
   "outputs": [
    {
     "name": "stdout",
     "output_type": "stream",
     "text": [
      "tf.Tensor(-0.4894471, shape=(), dtype=float32)\n",
      "tf.Tensor(-1.666166, shape=(), dtype=float32)\n",
      "tf.Tensor(0.19173218, shape=(), dtype=float32)\n"
     ]
    }
   ],
   "source": [
    "rank_2[0, 0]\n",
    "print(rank_2[0,0])\n",
    "print(rank_2[0,1])\n",
    "print(rank_2[0,2])"
   ]
  },
  {
   "cell_type": "code",
   "execution_count": 349,
   "id": "ebfb703f",
   "metadata": {},
   "outputs": [
    {
     "name": "stdout",
     "output_type": "stream",
     "text": [
      "tf.Tensor(-0.4894471, shape=(), dtype=float32)\n"
     ]
    }
   ],
   "source": [
    "a = 0; b=0          # a : 행 , b : 열 로 생각하면 편할듯 하다. (?)\n",
    "print(rank_2[a,b])\n"
   ]
  },
  {
   "cell_type": "code",
   "execution_count": 350,
   "id": "212e1209",
   "metadata": {},
   "outputs": [
    {
     "name": "stdout",
     "output_type": "stream",
     "text": [
      "1 rank_2[0,0] : -0.48944708704948425\n",
      "2 rank_2[0,1] : -1.6661659479141235\n",
      "3 rank_2[0,2] : 0.19173218309879303\n",
      "4 rank_2[1,0] : -0.2565990388393402\n",
      "5 rank_2[1,1] : 1.1539692878723145\n",
      "6 rank_2[1,2] : 1.0813971757888794\n",
      "7 rank_2[2,0] : 0.9014378190040588\n",
      "8 rank_2[2,1] : 0.03753390163183212\n",
      "9 rank_2[2,2] : -0.8554049730300903\n"
     ]
    }
   ],
   "source": [
    "cnt = 0\n",
    "for a in range(3):\n",
    "    for b in range(3):\n",
    "        cnt += 1\n",
    "        print('{} rank_2[{},{}] : {}'.format(cnt,a,b,rank_2[a,b]))"
   ]
  },
  {
   "cell_type": "code",
   "execution_count": 351,
   "id": "ecb2ab8a",
   "metadata": {},
   "outputs": [
    {
     "name": "stdout",
     "output_type": "stream",
     "text": [
      "tf.Tensor(\n",
      "[[-1.9302989  -0.6909929 ]\n",
      " [ 0.25152466  0.71701145]\n",
      " [ 1.6800627  -0.43445554]\n",
      " [-0.735872   -0.7508017 ]], shape=(4, 2), dtype=float32)\n"
     ]
    }
   ],
   "source": [
    "rank_1 = tf.random.normal([4,2])\n",
    "print(rank_1)"
   ]
  },
  {
   "cell_type": "markdown",
   "id": "3ca9c99f",
   "metadata": {},
   "source": [
    "> - `n 차원 (rank)의 원소개수는 각 axis의 곱의 합과 같다.`"
   ]
  },
  {
   "cell_type": "code",
   "execution_count": 352,
   "id": "a8e2bc76",
   "metadata": {},
   "outputs": [],
   "source": [
    "rank_3 = tf.random.normal((3, 3, 3))        # 3차원배열"
   ]
  },
  {
   "cell_type": "code",
   "execution_count": 353,
   "id": "b521b95b",
   "metadata": {},
   "outputs": [
    {
     "data": {
      "text/plain": [
       "<tf.Tensor: shape=(3, 3, 3), dtype=float32, numpy=\n",
       "array([[[-2.4984553 , -1.1835488 , -2.4991837 ],\n",
       "        [ 0.14474142,  0.5528023 ,  0.13862073],\n",
       "        [-1.5625323 , -1.4267244 ,  0.37605444]],\n",
       "\n",
       "       [[-0.7794943 ,  2.416881  , -0.4954455 ],\n",
       "        [ 0.81328714, -0.35699067,  0.65465826],\n",
       "        [ 0.2603835 ,  0.88298404,  0.55109316]],\n",
       "\n",
       "       [[-0.39535272, -0.7077691 , -0.8026535 ],\n",
       "        [ 0.7000134 ,  1.2630111 ,  0.29688412],\n",
       "        [ 0.12176097, -0.58401686,  0.49336472]]], dtype=float32)>"
      ]
     },
     "execution_count": 353,
     "metadata": {},
     "output_type": "execute_result"
    }
   ],
   "source": [
    "rank_3"
   ]
  },
  {
   "cell_type": "code",
   "execution_count": 354,
   "id": "58af702a",
   "metadata": {},
   "outputs": [
    {
     "name": "stdout",
     "output_type": "stream",
     "text": [
      "tf.Tensor(0.65465826, shape=(), dtype=float32)\n",
      "tf.Tensor(-2.4984553, shape=(), dtype=float32)\n"
     ]
    }
   ],
   "source": [
    "rank_3[1,1,2]\n",
    "print(rank_3[1,1,2])\n",
    "print(rank_3[0,0,0])"
   ]
  },
  {
   "cell_type": "code",
   "execution_count": 355,
   "id": "eede4812",
   "metadata": {},
   "outputs": [
    {
     "name": "stdout",
     "output_type": "stream",
     "text": [
      "1 rank_3[0,0,0] : -2.498455286026001\n",
      "2 rank_3[0,0,1] : -1.1835488080978394\n",
      "3 rank_3[0,0,2] : -2.4991836547851562\n",
      "4 rank_3[0,1,0] : 0.14474141597747803\n",
      "5 rank_3[0,1,1] : 0.552802324295044\n",
      "6 rank_3[0,1,2] : 0.13862073421478271\n",
      "7 rank_3[0,2,0] : -1.5625323057174683\n",
      "8 rank_3[0,2,1] : -1.4267244338989258\n",
      "9 rank_3[0,2,2] : 0.37605443596839905\n",
      "10 rank_3[1,0,0] : -0.7794942855834961\n",
      "11 rank_3[1,0,1] : 2.4168810844421387\n",
      "12 rank_3[1,0,2] : -0.49544548988342285\n",
      "13 rank_3[1,1,0] : 0.8132871389389038\n",
      "14 rank_3[1,1,1] : -0.35699066519737244\n",
      "15 rank_3[1,1,2] : 0.6546582579612732\n",
      "16 rank_3[1,2,0] : 0.2603834867477417\n",
      "17 rank_3[1,2,1] : 0.8829840421676636\n",
      "18 rank_3[1,2,2] : 0.5510931611061096\n",
      "19 rank_3[2,0,0] : -0.39535272121429443\n",
      "20 rank_3[2,0,1] : -0.7077690958976746\n",
      "21 rank_3[2,0,2] : -0.8026534914970398\n",
      "22 rank_3[2,1,0] : 0.7000133991241455\n",
      "23 rank_3[2,1,1] : 1.26301109790802\n",
      "24 rank_3[2,1,2] : 0.29688411951065063\n",
      "25 rank_3[2,2,0] : 0.12176097184419632\n",
      "26 rank_3[2,2,1] : -0.5840168595314026\n",
      "27 rank_3[2,2,2] : 0.49336472153663635\n"
     ]
    }
   ],
   "source": [
    "a = 3;b=3;c=3;cnt=0\n",
    "for i in range(a):\n",
    "    for j in range(b):\n",
    "        for k in range(c):\n",
    "            cnt += 1\n",
    "            print('{} rank_3[{},{},{}] : {}'.format(cnt,i,j,k,rank_3[i,j,k]))"
   ]
  },
  {
   "cell_type": "code",
   "execution_count": 356,
   "id": "7ad160e3",
   "metadata": {},
   "outputs": [
    {
     "data": {
      "text/plain": [
       "<tf.Tensor: shape=(), dtype=float32, numpy=1.2630111>"
      ]
     },
     "execution_count": 356,
     "metadata": {},
     "output_type": "execute_result"
    }
   ],
   "source": [
    "rank_3[2,1,1]"
   ]
  },
  {
   "cell_type": "code",
   "execution_count": 357,
   "id": "beed0411",
   "metadata": {},
   "outputs": [],
   "source": [
    "rank_4 = tf.random.normal((3, 3, 3, 3))"
   ]
  },
  {
   "cell_type": "code",
   "execution_count": 358,
   "id": "14a9b29a",
   "metadata": {},
   "outputs": [
    {
     "data": {
      "text/plain": [
       "<tf.Tensor: shape=(3, 3, 3, 3), dtype=float32, numpy=\n",
       "array([[[[ 3.9733440e-01, -1.2070237e+00, -1.4681974e-01],\n",
       "         [-1.0910338e+00,  2.1956167e-01,  6.0591072e-01],\n",
       "         [-1.3998753e+00, -1.8701566e+00,  4.8417634e-01]],\n",
       "\n",
       "        [[ 5.5450290e-01,  5.8527297e-01,  1.8656762e-01],\n",
       "         [ 3.3023608e-01, -1.9782463e-01,  3.4158123e-01],\n",
       "         [ 7.3324907e-01, -5.9036535e-01,  2.7302432e-01]],\n",
       "\n",
       "        [[ 1.0472624e+00, -1.4896776e-01,  5.8378070e-04],\n",
       "         [-9.6451646e-01,  1.0827866e+00, -2.6833283e-02],\n",
       "         [ 3.4341460e-01,  1.3950546e-01, -1.3579055e+00]]],\n",
       "\n",
       "\n",
       "       [[[ 5.0574803e-01,  7.8295243e-01, -1.1838249e-01],\n",
       "         [ 1.3612683e+00, -1.7083265e+00,  1.0575427e+00],\n",
       "         [ 7.7085072e-01,  1.4854984e+00,  1.1013290e-01]],\n",
       "\n",
       "        [[-1.4217014e+00, -1.9085101e+00, -1.9654737e-01],\n",
       "         [ 4.9273959e-01,  9.0498537e-01,  1.4785470e+00],\n",
       "         [-2.9483306e-01,  1.6719249e+00, -6.9203901e-01]],\n",
       "\n",
       "        [[-1.8429416e+00, -1.5540247e+00, -1.7094381e+00],\n",
       "         [ 1.3392708e+00,  9.8722619e-01,  6.8224382e-01],\n",
       "         [-2.8490901e-01, -7.1054792e-01,  5.4429847e-01]]],\n",
       "\n",
       "\n",
       "       [[[ 5.9515083e-01, -8.5543299e-01,  1.7796048e+00],\n",
       "         [ 4.8324648e-01, -5.7940191e-01,  1.2424864e-01],\n",
       "         [-5.5570745e-01,  1.7018882e+00,  1.4169844e+00]],\n",
       "\n",
       "        [[-1.5012192e+00,  1.4912330e+00, -8.6472434e-01],\n",
       "         [-7.8583097e-01, -9.2892659e-01,  2.7214384e-01],\n",
       "         [-1.8788449e+00, -1.3588807e-01, -3.1476799e-01]],\n",
       "\n",
       "        [[-2.7398372e-01, -1.2213798e+00,  6.2575293e-01],\n",
       "         [-7.3103160e-01, -5.5006987e-01,  6.5895480e-01],\n",
       "         [ 6.5860927e-01, -4.9278185e-01,  1.8472863e+00]]]],\n",
       "      dtype=float32)>"
      ]
     },
     "execution_count": 358,
     "metadata": {},
     "output_type": "execute_result"
    }
   ],
   "source": [
    "rank_4"
   ]
  },
  {
   "cell_type": "code",
   "execution_count": 359,
   "id": "8ebb58e7",
   "metadata": {},
   "outputs": [
    {
     "name": "stdout",
     "output_type": "stream",
     "text": [
      "tf.Tensor(0.3973344, shape=(), dtype=float32)\n"
     ]
    }
   ],
   "source": [
    "print(rank_4[0,0,0,0])"
   ]
  },
  {
   "cell_type": "code",
   "execution_count": 360,
   "id": "a988bf20",
   "metadata": {},
   "outputs": [
    {
     "name": "stdout",
     "output_type": "stream",
     "text": [
      "1 rank_4[0,0,0,0] : 0.39733439683914185\n",
      "2 rank_4[0,0,0,1] : -1.2070237398147583\n",
      "3 rank_4[0,0,0,2] : -0.14681974053382874\n",
      "4 rank_4[0,0,1,0] : -1.0910338163375854\n",
      "5 rank_4[0,0,1,1] : 0.21956166625022888\n",
      "6 rank_4[0,0,1,2] : 0.6059107184410095\n",
      "7 rank_4[0,0,2,0] : -1.399875283241272\n",
      "8 rank_4[0,0,2,1] : -1.8701566457748413\n",
      "9 rank_4[0,0,2,2] : 0.4841763377189636\n",
      "10 rank_4[0,1,0,0] : 0.5545029044151306\n",
      "11 rank_4[0,1,0,1] : 0.5852729678153992\n",
      "12 rank_4[0,1,0,2] : 0.18656761944293976\n",
      "13 rank_4[0,1,1,0] : 0.3302360773086548\n",
      "14 rank_4[0,1,1,1] : -0.197824627161026\n",
      "15 rank_4[0,1,1,2] : 0.34158122539520264\n",
      "16 rank_4[0,1,2,0] : 0.7332490682601929\n",
      "17 rank_4[0,1,2,1] : -0.5903653502464294\n",
      "18 rank_4[0,1,2,2] : 0.273024320602417\n",
      "19 rank_4[0,2,0,0] : 1.04726243019104\n",
      "20 rank_4[0,2,0,1] : -0.14896775782108307\n",
      "21 rank_4[0,2,0,2] : 0.0005837806966155767\n",
      "22 rank_4[0,2,1,0] : -0.9645164608955383\n",
      "23 rank_4[0,2,1,1] : 1.0827865600585938\n",
      "24 rank_4[0,2,1,2] : -0.02683328278362751\n",
      "25 rank_4[0,2,2,0] : 0.3434146046638489\n",
      "26 rank_4[0,2,2,1] : 0.13950546085834503\n",
      "27 rank_4[0,2,2,2] : -1.3579055070877075\n",
      "28 rank_4[1,0,0,0] : 0.5057480335235596\n",
      "29 rank_4[1,0,0,1] : 0.7829524278640747\n",
      "30 rank_4[1,0,0,2] : -0.11838249117136002\n",
      "31 rank_4[1,0,1,0] : 1.3612682819366455\n",
      "32 rank_4[1,0,1,1] : -1.7083264589309692\n",
      "33 rank_4[1,0,1,2] : 1.0575426816940308\n",
      "34 rank_4[1,0,2,0] : 0.7708507180213928\n",
      "35 rank_4[1,0,2,1] : 1.4854984283447266\n",
      "36 rank_4[1,0,2,2] : 0.11013290286064148\n",
      "37 rank_4[1,1,0,0] : -1.421701431274414\n",
      "38 rank_4[1,1,0,1] : -1.9085100889205933\n",
      "39 rank_4[1,1,0,2] : -0.19654737412929535\n",
      "40 rank_4[1,1,1,0] : 0.49273958802223206\n",
      "41 rank_4[1,1,1,1] : 0.9049853682518005\n",
      "42 rank_4[1,1,1,2] : 1.4785469770431519\n",
      "43 rank_4[1,1,2,0] : -0.29483306407928467\n",
      "44 rank_4[1,1,2,1] : 1.6719249486923218\n",
      "45 rank_4[1,1,2,2] : -0.6920390129089355\n",
      "46 rank_4[1,2,0,0] : -1.8429416418075562\n",
      "47 rank_4[1,2,0,1] : -1.5540246963500977\n",
      "48 rank_4[1,2,0,2] : -1.7094380855560303\n",
      "49 rank_4[1,2,1,0] : 1.339270830154419\n",
      "50 rank_4[1,2,1,1] : 0.9872261881828308\n",
      "51 rank_4[1,2,1,2] : 0.682243824005127\n",
      "52 rank_4[1,2,2,0] : -0.2849090099334717\n",
      "53 rank_4[1,2,2,1] : -0.710547924041748\n",
      "54 rank_4[1,2,2,2] : 0.5442984700202942\n",
      "55 rank_4[2,0,0,0] : 0.5951508283615112\n",
      "56 rank_4[2,0,0,1] : -0.8554329872131348\n",
      "57 rank_4[2,0,0,2] : 1.7796047925949097\n",
      "58 rank_4[2,0,1,0] : 0.48324647545814514\n",
      "59 rank_4[2,0,1,1] : -0.5794019103050232\n",
      "60 rank_4[2,0,1,2] : 0.12424863874912262\n",
      "61 rank_4[2,0,2,0] : -0.5557074546813965\n",
      "62 rank_4[2,0,2,1] : 1.7018882036209106\n",
      "63 rank_4[2,0,2,2] : 1.4169844388961792\n",
      "64 rank_4[2,1,0,0] : -1.5012191534042358\n",
      "65 rank_4[2,1,0,1] : 1.491232991218567\n",
      "66 rank_4[2,1,0,2] : -0.864724338054657\n",
      "67 rank_4[2,1,1,0] : -0.7858309745788574\n",
      "68 rank_4[2,1,1,1] : -0.9289265871047974\n",
      "69 rank_4[2,1,1,2] : 0.2721438407897949\n",
      "70 rank_4[2,1,2,0] : -1.8788448572158813\n",
      "71 rank_4[2,1,2,1] : -0.13588806986808777\n",
      "72 rank_4[2,1,2,2] : -0.314767986536026\n",
      "73 rank_4[2,2,0,0] : -0.2739837169647217\n",
      "74 rank_4[2,2,0,1] : -1.2213797569274902\n",
      "75 rank_4[2,2,0,2] : 0.6257529258728027\n",
      "76 rank_4[2,2,1,0] : -0.731031596660614\n",
      "77 rank_4[2,2,1,1] : -0.5500698685646057\n",
      "78 rank_4[2,2,1,2] : 0.6589547991752625\n",
      "79 rank_4[2,2,2,0] : 0.6586092710494995\n",
      "80 rank_4[2,2,2,1] : -0.4927818477153778\n",
      "81 rank_4[2,2,2,2] : 1.847286343574524\n"
     ]
    }
   ],
   "source": [
    "cnt = 0\n",
    "for a in range(3):\n",
    "    for b in range(3):\n",
    "        for c in range(3):\n",
    "            for d in range(3):\n",
    "                cnt += 1\n",
    "                print('{} rank_4[{},{},{},{}] : {}'.format(cnt,a,b,c,d,rank_4[a,b,c,d]))"
   ]
  },
  {
   "cell_type": "markdown",
   "id": "2b50e10d",
   "metadata": {},
   "source": [
    "**차원 축소 연산**\n",
    "\n",
    "* `tf.reduce_mean`: 설정한 축의 평균을 구한다. \n",
    "* `tf.reduce_max`: 설정한 축의 최댓값을 구한다. \n",
    "* `tf.reduce_min`: 설정한 축의 최솟값을 구한다. \n",
    "* `tf.reduce_prod`: 설정한 축의 요소를 모두 곱한 값을 구한다. \n",
    "* `tf.reduce_sum`: 설정한 축의 요소를 모두 더한 값을 구한다. "
   ]
  },
  {
   "cell_type": "code",
   "execution_count": 361,
   "id": "3ff1a58f",
   "metadata": {},
   "outputs": [
    {
     "data": {
      "text/plain": [
       "<tf.Tensor: shape=(6,), dtype=int32, numpy=array([0, 1, 2, 3, 4, 5], dtype=int32)>"
      ]
     },
     "execution_count": 361,
     "metadata": {},
     "output_type": "execute_result"
    }
   ],
   "source": [
    "a = tf.range(6)\n",
    "a       # vector 배열\n"
   ]
  },
  {
   "cell_type": "code",
   "execution_count": 362,
   "id": "a4056a5f",
   "metadata": {},
   "outputs": [
    {
     "name": "stdout",
     "output_type": "stream",
     "text": [
      "tf.Tensor(15, shape=(), dtype=int32)\n",
      "tf.Tensor(15, shape=(), dtype=int32)\n"
     ]
    }
   ],
   "source": [
    "print(tf.reduce_sum(a))\n",
    "print(tf.reduce_sum(a, axis=0))"
   ]
  },
  {
   "cell_type": "code",
   "execution_count": 363,
   "id": "0bd4e0b3",
   "metadata": {},
   "outputs": [
    {
     "data": {
      "text/plain": [
       "(<tf.Tensor: shape=(), dtype=int32, numpy=15>,)"
      ]
     },
     "execution_count": 363,
     "metadata": {},
     "output_type": "execute_result"
    }
   ],
   "source": [
    "tf.reduce_sum(a, axis=0),"
   ]
  },
  {
   "cell_type": "code",
   "execution_count": 364,
   "id": "cdc61ead",
   "metadata": {},
   "outputs": [
    {
     "data": {
      "text/plain": [
       "<tf.Tensor: shape=(2, 7), dtype=float32, numpy=\n",
       "array([[-1.5325661 , -0.7937742 , -0.8079839 ,  0.30234125, -0.5484793 ,\n",
       "         2.0528502 ,  0.35439634],\n",
       "       [-0.21488234,  1.1746923 ,  0.94725925, -0.5900521 , -0.34858507,\n",
       "         0.34309196, -2.1474876 ]], dtype=float32)>"
      ]
     },
     "execution_count": 364,
     "metadata": {},
     "output_type": "execute_result"
    }
   ],
   "source": [
    "b = tf.random.normal((2,7))\n",
    "b"
   ]
  },
  {
   "cell_type": "code",
   "execution_count": 365,
   "id": "8e437f5d",
   "metadata": {},
   "outputs": [
    {
     "data": {
      "text/plain": [
       "(<tf.Tensor: shape=(7,), dtype=float32, numpy=\n",
       " array([-0.8737242 ,  0.19045904,  0.06963769, -0.14385544, -0.4485322 ,\n",
       "         1.1979711 , -0.89654565], dtype=float32)>,\n",
       " <tf.Tensor: shape=(2,), dtype=float32, numpy=array([-0.1390308 , -0.11942339], dtype=float32)>)"
      ]
     },
     "execution_count": 365,
     "metadata": {},
     "output_type": "execute_result"
    }
   ],
   "source": [
    "tf.reduce_mean(b, axis=0), tf.reduce_mean(b, axis=1)"
   ]
  },
  {
   "cell_type": "markdown",
   "id": "6719bd69",
   "metadata": {},
   "source": [
    "행렬과 관련된 연산\n",
    "\n",
    "* `tf.matmul`: 내적\n",
    "* `tf.linalg.inv`: 역행렬\n"
   ]
  },
  {
   "cell_type": "code",
   "execution_count": 366,
   "id": "d38b9776",
   "metadata": {},
   "outputs": [
    {
     "data": {
      "text/plain": [
       "<tf.Tensor: shape=(2, 2), dtype=float32, numpy=\n",
       "array([[2., 2.],\n",
       "       [1., 1.]], dtype=float32)>"
      ]
     },
     "execution_count": 366,
     "metadata": {},
     "output_type": "execute_result"
    }
   ],
   "source": [
    "a = tf.constant([[2, 0], [0, 1]], dtype=tf.float32)\n",
    "b = tf.constant([[1, 1], [1, 1]], dtype=tf.float32)\n",
    "tf.matmul(a, b)"
   ]
  },
  {
   "cell_type": "code",
   "execution_count": 367,
   "id": "8af1362b",
   "metadata": {},
   "outputs": [
    {
     "data": {
      "text/plain": [
       "<tf.Tensor: shape=(2, 2), dtype=float32, numpy=\n",
       "array([[0.5, 0. ],\n",
       "       [0. , 1. ]], dtype=float32)>"
      ]
     },
     "execution_count": 367,
     "metadata": {},
     "output_type": "execute_result"
    }
   ],
   "source": [
    "a = tf.constant([[2, 0], [0, 1]], dtype=tf.float32)\n",
    "tf.linalg.inv(a)"
   ]
  },
  {
   "cell_type": "code",
   "execution_count": null,
   "id": "1d89cc35",
   "metadata": {},
   "outputs": [],
   "source": []
  },
  {
   "cell_type": "markdown",
   "id": "b253bf69",
   "metadata": {},
   "source": [
    "**크기 및 차원을 바꾸는 명령**\n",
    " (잘 사용됩니다!!)\n",
    " \n",
    "이를 사용 할 때는 축을 잘 이해하고 사용하시면 좋습니다. \n",
    "\n",
    "* `tf.reshape`: 벡터 행렬의 크기 변환\n",
    "* `tf.transpose`: 전치 연산\n",
    "* `tf.expand_dims`: 지정한 축으로 차원을 추가\n",
    "* `tf.squeeze`: 벡터로 차원을 축소"
   ]
  },
  {
   "cell_type": "code",
   "execution_count": 368,
   "id": "e542cd66",
   "metadata": {
    "scrolled": false
   },
   "outputs": [
    {
     "name": "stdout",
     "output_type": "stream",
     "text": [
      "a     : tf.Tensor([0 1 2 3 4 5], shape=(6,), dtype=int32) \n",
      "\n",
      "a_2d  : tf.Tensor(\n",
      "[[0 1 2]\n",
      " [3 4 5]], shape=(2, 3), dtype=int32) \n",
      "\n",
      "a_2d_t: tf.Tensor(\n",
      "[[0 3]\n",
      " [1 4]\n",
      " [2 5]], shape=(3, 2), dtype=int32) \n",
      "\n",
      "a_3d  : tf.Tensor(\n",
      "[[[0 1 2]\n",
      "  [3 4 5]]], shape=(1, 2, 3), dtype=int32) \n",
      "\n",
      "a_4d  : tf.Tensor(\n",
      "[[[[0]\n",
      "   [1]\n",
      "   [2]]\n",
      "\n",
      "  [[3]\n",
      "   [4]\n",
      "   [5]]]], shape=(1, 2, 3, 1), dtype=int32) \n",
      "\n",
      "a_1d  : tf.Tensor(\n",
      "[[0 1 2]\n",
      " [3 4 5]], shape=(2, 3), dtype=int32) \n",
      "\n"
     ]
    }
   ],
   "source": [
    "a = tf.range(6, dtype=tf.int32)      # [0, 1, 2, 3, 4, 5]\n",
    "print(\"a     :\", a, \"\\n\")\n",
    "\n",
    "a_2d = tf.reshape(a, (2, 3))  # 1차원 벡터는 2x3 크기의 2차원 행렬로 변환 // numpy와 동일\n",
    "print(\"a_2d  :\", a_2d, \"\\n\")\n",
    "\n",
    "a_2d_t = tf.transpose(a_2d)   # 2x3 크기의 2차원 행렬을 3x2 크기의 2차원 행렬로 변환 // numpy와 동일\n",
    "print(\"a_2d_t:\", a_2d_t, \"\\n\")\n",
    "\n",
    "a_3d = tf.expand_dims(a_2d, 0) # 2x3 크기의 2차원 행렬을 1x2x3 크기의 3차원 행렬로 변환\n",
    "print(\"a_3d  :\", a_3d, \"\\n\")\n",
    "\n",
    "a_4d = tf.expand_dims(a_3d, 3)# or -1) # 1x2x3 크기의 3차원 행렬을 1x2x3x1 크기의 4차원 행렬로 변환\n",
    "print(\"a_4d  :\", a_4d, \"\\n\")\n",
    "\n",
    "a_1d = tf.squeeze(a_4d)\n",
    "print(\"a_1d  :\", a_1d, \"\\n\")   # 1x2x3x1 크기의 4차원 행렬을 1차원 벡터로 변환"
   ]
  },
  {
   "cell_type": "code",
   "execution_count": null,
   "id": "a2151df1",
   "metadata": {},
   "outputs": [],
   "source": []
  },
  {
   "cell_type": "markdown",
   "id": "a28010f6",
   "metadata": {},
   "source": [
    "**텐서를 나누거나 두 개 이상의 텐서를 합치는 명령**\n",
    "\n",
    "* `tf.slice`: 특정 부분을 추출\n",
    "* `tf.split`: 분할\n",
    "* `tf.concat`: 합치기\n",
    "* `tf.tile`: 복제-붙이기\n",
    "* `tf.stack`: 합성\n",
    "* `tf.unstack`: 분리 "
   ]
  },
  {
   "cell_type": "code",
   "execution_count": 369,
   "id": "43b6714a",
   "metadata": {},
   "outputs": [
    {
     "data": {
      "text/plain": [
       "<tf.Tensor: shape=(3, 4), dtype=int32, numpy=\n",
       "array([[ 0,  1,  2,  3],\n",
       "       [ 4,  5,  6,  7],\n",
       "       [ 8,  9, 10, 11]], dtype=int32)>"
      ]
     },
     "execution_count": 369,
     "metadata": {},
     "output_type": "execute_result"
    }
   ],
   "source": [
    "a = tf.reshape(tf.range(12), (3, 4))        # shape 는 생략이 가능하다\n",
    "a"
   ]
  },
  {
   "cell_type": "code",
   "execution_count": 370,
   "id": "64f3f37d",
   "metadata": {},
   "outputs": [
    {
     "name": "stdout",
     "output_type": "stream",
     "text": [
      "tf.Tensor([[1 2 3]], shape=(1, 3), dtype=int32)\n",
      "tf.Tensor(\n",
      "[[1 2 3]\n",
      " [5 6 7]], shape=(2, 3), dtype=int32)\n",
      "tf.Tensor(\n",
      "[[ 1  2  3]\n",
      " [ 5  6  7]\n",
      " [ 9 10 11]], shape=(3, 3), dtype=int32)\n",
      "tf.Tensor(\n",
      "[[ 0  1  2  3]\n",
      " [ 4  5  6  7]\n",
      " [ 8  9 10 11]], shape=(3, 4), dtype=int32)\n"
     ]
    }
   ],
   "source": [
    "print(tf.slice(a, [0, 1], [1, 3]))   # (0, 1)위치에서 (2개, 3개)만큼 뽑아낸다.\n",
    "print(tf.slice(a, [0, 1], [2, 3]))\n",
    "print(tf.slice(a, [0, 1], [3, 3]))\n",
    "print(tf.slice(a, [0, 0], [3, 4]))\n"
   ]
  },
  {
   "cell_type": "code",
   "execution_count": 371,
   "id": "965061bf",
   "metadata": {},
   "outputs": [
    {
     "data": {
      "text/plain": [
       "(<tf.Tensor: shape=(4,), dtype=int32, numpy=array([0, 1, 2, 3], dtype=int32)>,\n",
       " <tf.Tensor: shape=(4,), dtype=int32, numpy=array([4, 5, 6, 7], dtype=int32)>)"
      ]
     },
     "execution_count": 371,
     "metadata": {},
     "output_type": "execute_result"
    }
   ],
   "source": [
    "a[0], a[1]"
   ]
  },
  {
   "cell_type": "code",
   "execution_count": 372,
   "id": "aa42eeb3",
   "metadata": {},
   "outputs": [
    {
     "name": "stdout",
     "output_type": "stream",
     "text": [
      "tf.Tensor(\n",
      "[[0 1]\n",
      " [4 5]\n",
      " [8 9]], shape=(3, 2), dtype=int32)\n",
      "tf.Tensor(\n",
      "[[ 2  3]\n",
      " [ 6  7]\n",
      " [10 11]], shape=(3, 2), dtype=int32)\n"
     ]
    }
   ],
   "source": [
    "a1, a2 = tf.split(a, num_or_size_splits=2, axis=1)  # 가로축(axis=1)을 따라 2개로 분할 \n",
    "print(a1)\n",
    "print(a2)"
   ]
  },
  {
   "cell_type": "code",
   "execution_count": 373,
   "id": "db1ca1d0",
   "metadata": {},
   "outputs": [
    {
     "data": {
      "text/plain": [
       "<tf.Tensor: shape=(3, 4), dtype=int32, numpy=\n",
       "array([[ 0,  1,  2,  3],\n",
       "       [ 4,  5,  6,  7],\n",
       "       [ 8,  9, 10, 11]], dtype=int32)>"
      ]
     },
     "execution_count": 373,
     "metadata": {},
     "output_type": "execute_result"
    }
   ],
   "source": [
    "tf.concat([a1, a2], axis=1) # 가로축(axis=1)을 따라 a1, a2를 합치기"
   ]
  },
  {
   "cell_type": "code",
   "execution_count": 374,
   "id": "26922c48",
   "metadata": {},
   "outputs": [
    {
     "data": {
      "text/plain": [
       "<tf.Tensor: shape=(3, 6), dtype=int32, numpy=\n",
       "array([[0, 1, 0, 1, 0, 1],\n",
       "       [4, 5, 4, 5, 4, 5],\n",
       "       [8, 9, 8, 9, 8, 9]], dtype=int32)>"
      ]
     },
     "execution_count": 374,
     "metadata": {},
     "output_type": "execute_result"
    }
   ],
   "source": [
    "tf.tile(a1, [1, 3])  # 가로축(axis=1)을 따라 3개로 복사-붙이기"
   ]
  },
  {
   "cell_type": "code",
   "execution_count": 375,
   "id": "383dc585",
   "metadata": {},
   "outputs": [
    {
     "data": {
      "text/plain": [
       "<tf.Tensor: shape=(2, 3, 2), dtype=int32, numpy=\n",
       "array([[[ 0,  1],\n",
       "        [ 4,  5],\n",
       "        [ 8,  9]],\n",
       "\n",
       "       [[ 2,  3],\n",
       "        [ 6,  7],\n",
       "        [10, 11]]], dtype=int32)>"
      ]
     },
     "execution_count": 375,
     "metadata": {},
     "output_type": "execute_result"
    }
   ],
   "source": [
    "a3 = tf.stack([a1, a2])  # 3x2 행렬 a1, a2를 추가적인 차원으로 붙여서 2x3x2 고차원 텐서 생성\n",
    "a3"
   ]
  },
  {
   "cell_type": "code",
   "execution_count": 376,
   "id": "2759d577",
   "metadata": {},
   "outputs": [
    {
     "data": {
      "text/plain": [
       "[<tf.Tensor: shape=(2, 2), dtype=int32, numpy=\n",
       " array([[0, 1],\n",
       "        [2, 3]], dtype=int32)>,\n",
       " <tf.Tensor: shape=(2, 2), dtype=int32, numpy=\n",
       " array([[4, 5],\n",
       "        [6, 7]], dtype=int32)>,\n",
       " <tf.Tensor: shape=(2, 2), dtype=int32, numpy=\n",
       " array([[ 8,  9],\n",
       "        [10, 11]], dtype=int32)>]"
      ]
     },
     "execution_count": 376,
     "metadata": {},
     "output_type": "execute_result"
    }
   ],
   "source": [
    "tf.unstack(a3, axis=1)  # 2x3x2 고차원 텐서를 0차원으로 풀어서 3개의 2x2 행렬 생성"
   ]
  },
  {
   "cell_type": "code",
   "execution_count": null,
   "id": "609e5fea",
   "metadata": {},
   "outputs": [],
   "source": []
  },
  {
   "cell_type": "markdown",
   "id": "0111dfac",
   "metadata": {},
   "source": [
    "#### 간단 퀴즈\n",
    "\n",
    "다음 코드를 에러 없이 실행하라. "
   ]
  },
  {
   "cell_type": "code",
   "execution_count": 385,
   "id": "b05ad9e0",
   "metadata": {},
   "outputs": [
    {
     "data": {
      "text/plain": [
       "<tf.Tensor: shape=(2, 1), dtype=int32, numpy=\n",
       "array([[14],\n",
       "       [14]], dtype=int32)>"
      ]
     },
     "execution_count": 385,
     "metadata": {},
     "output_type": "execute_result"
    }
   ],
   "source": [
    "a = tf.constant(((1, 2, 3), (1, 2, 3)))\n",
    "b = tf.constant([1, 2, 3])\n",
    "\n",
    "# tf.matmul(a, b)\n",
    "tf.matmul(a, tf.expand_dims(b,axis=1))\n",
    "\n",
    "# b의 dim을 추가하면 된다. // expand_dims"
   ]
  },
  {
   "cell_type": "markdown",
   "id": "a7fe4d91",
   "metadata": {},
   "source": [
    "-----"
   ]
  },
  {
   "cell_type": "code",
   "execution_count": null,
   "id": "e4ff63b7",
   "metadata": {},
   "outputs": [],
   "source": []
  }
 ],
 "metadata": {
  "interpreter": {
   "hash": "b5a26d0e877c4652cf53eb6b13536f4959f02e722fb5eef7979a29d14fb02c8a"
  },
  "kernelspec": {
   "display_name": "Python 3.10.4 ('TF')",
   "language": "python",
   "name": "python3"
  },
  "language_info": {
   "codemirror_mode": {
    "name": "ipython",
    "version": 3
   },
   "file_extension": ".py",
   "mimetype": "text/x-python",
   "name": "python",
   "nbconvert_exporter": "python",
   "pygments_lexer": "ipython3",
   "version": "3.10.4"
  },
  "toc": {
   "base_numbering": 1,
   "nav_menu": {},
   "number_sections": true,
   "sideBar": true,
   "skip_h1_title": false,
   "title_cell": "Table of Contents",
   "title_sidebar": "Contents",
   "toc_cell": false,
   "toc_position": {
    "height": "calc(100% - 180px)",
    "left": "10px",
    "top": "150px",
    "width": "205.312px"
   },
   "toc_section_display": true,
   "toc_window_display": true
  },
  "varInspector": {
   "cols": {
    "lenName": 16,
    "lenType": 16,
    "lenVar": 40
   },
   "kernels_config": {
    "python": {
     "delete_cmd_postfix": "",
     "delete_cmd_prefix": "del ",
     "library": "var_list.py",
     "varRefreshCmd": "print(var_dic_list())"
    },
    "r": {
     "delete_cmd_postfix": ") ",
     "delete_cmd_prefix": "rm(",
     "library": "var_list.r",
     "varRefreshCmd": "cat(var_dic_list()) "
    }
   },
   "types_to_exclude": [
    "module",
    "function",
    "builtin_function_or_method",
    "instance",
    "_Feature"
   ],
   "window_display": false
  }
 },
 "nbformat": 4,
 "nbformat_minor": 5
}

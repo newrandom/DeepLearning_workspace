{
 "cells": [
  {
   "cell_type": "markdown",
   "id": "dd76e074",
   "metadata": {
    "school_cell_uuid": "581b252b81e24b78a8bf161e16479800"
   },
   "source": [
    "# 퍼셉트론"
   ]
  },
  {
   "cell_type": "code",
   "execution_count": 1,
   "id": "b58a3258",
   "metadata": {},
   "outputs": [],
   "source": [
    "import tensorflow as tf\n",
    "import numpy as np "
   ]
  },
  {
   "cell_type": "markdown",
   "id": "48fad343",
   "metadata": {
    "school_cell_uuid": "82a294bfdc354b31a412f17ed124538b"
   },
   "source": [
    "이번엔 Iris 데이터 중 두 종류를 분류하는 퍼셉트론을 제작한다. y값은 1 또는 -1을 사용하고 활성화 함수로는 하이퍼탄젠트(hypertangent)함수를 사용한다.\n",
    "\n",
    "$$\\Large{ \\hat{y} = tanh(w^Tx) }$$"
   ]
  },
  {
   "cell_type": "markdown",
   "id": "56052641",
   "metadata": {},
   "source": [
    "비용 함수로는 다음 식을 사용한다. \n",
    "\n",
    "$$\n",
    "\\large{\n",
    "Loss = \\sum_{i=1}^N \\max(0, -y_i \\hat{y_i})\n",
    "}\n",
    "$$"
   ]
  },
  {
   "cell_type": "code",
   "execution_count": null,
   "id": "c756ed82",
   "metadata": {},
   "outputs": [],
   "source": []
  },
  {
   "cell_type": "code",
   "execution_count": 2,
   "id": "2edcacf9",
   "metadata": {
    "school_cell_uuid": "a208a3840ab44bb8a13d5cc7822cf00d",
    "scrolled": false
   },
   "outputs": [
    {
     "name": "stdout",
     "output_type": "stream",
     "text": [
      ".. _iris_dataset:\n",
      "\n",
      "Iris plants dataset\n",
      "--------------------\n",
      "\n",
      "**Data Set Characteristics:**\n",
      "\n",
      "    :Number of Instances: 150 (50 in each of three classes)\n",
      "    :Number of Attributes: 4 numeric, predictive attributes and the class\n",
      "    :Attribute Information:\n",
      "        - sepal length in cm\n",
      "        - sepal width in cm\n",
      "        - petal length in cm\n",
      "        - petal width in cm\n",
      "        - class:\n",
      "                - Iris-Setosa\n",
      "                - Iris-Versicolour\n",
      "                - Iris-Virginica\n",
      "                \n",
      "    :Summary Statistics:\n",
      "\n",
      "    ============== ==== ==== ======= ===== ====================\n",
      "                    Min  Max   Mean    SD   Class Correlation\n",
      "    ============== ==== ==== ======= ===== ====================\n",
      "    sepal length:   4.3  7.9   5.84   0.83    0.7826\n",
      "    sepal width:    2.0  4.4   3.05   0.43   -0.4194\n",
      "    petal length:   1.0  6.9   3.76   1.76    0.9490  (high!)\n",
      "    petal width:    0.1  2.5   1.20   0.76    0.9565  (high!)\n",
      "    ============== ==== ==== ======= ===== ====================\n",
      "\n",
      "    :Missing Attribute Values: None\n",
      "    :Class Distribution: 33.3% for each of 3 classes.\n",
      "    :Creator: R.A. Fisher\n",
      "    :Donor: Michael Marshall (MARSHALL%PLU@io.arc.nasa.gov)\n",
      "    :Date: July, 1988\n",
      "\n",
      "The famous Iris database, first used by Sir R.A. Fisher. The dataset is taken\n",
      "from Fisher's paper. Note that it's the same as in R, but not as in the UCI\n",
      "Machine Learning Repository, which has two wrong data points.\n",
      "\n",
      "This is perhaps the best known database to be found in the\n",
      "pattern recognition literature.  Fisher's paper is a classic in the field and\n",
      "is referenced frequently to this day.  (See Duda & Hart, for example.)  The\n",
      "data set contains 3 classes of 50 instances each, where each class refers to a\n",
      "type of iris plant.  One class is linearly separable from the other 2; the\n",
      "latter are NOT linearly separable from each other.\n",
      "\n",
      ".. topic:: References\n",
      "\n",
      "   - Fisher, R.A. \"The use of multiple measurements in taxonomic problems\"\n",
      "     Annual Eugenics, 7, Part II, 179-188 (1936); also in \"Contributions to\n",
      "     Mathematical Statistics\" (John Wiley, NY, 1950).\n",
      "   - Duda, R.O., & Hart, P.E. (1973) Pattern Classification and Scene Analysis.\n",
      "     (Q327.D83) John Wiley & Sons.  ISBN 0-471-22361-1.  See page 218.\n",
      "   - Dasarathy, B.V. (1980) \"Nosing Around the Neighborhood: A New System\n",
      "     Structure and Classification Rule for Recognition in Partially Exposed\n",
      "     Environments\".  IEEE Transactions on Pattern Analysis and Machine\n",
      "     Intelligence, Vol. PAMI-2, No. 1, 67-71.\n",
      "   - Gates, G.W. (1972) \"The Reduced Nearest Neighbor Rule\".  IEEE Transactions\n",
      "     on Information Theory, May 1972, 431-433.\n",
      "   - See also: 1988 MLC Proceedings, 54-64.  Cheeseman et al\"s AUTOCLASS II\n",
      "     conceptual clustering system finds 3 classes in the data.\n",
      "   - Many, many more ...\n"
     ]
    }
   ],
   "source": [
    "from sklearn.datasets import load_iris\n",
    "iris = load_iris()\n",
    "print(iris.DESCR)"
   ]
  },
  {
   "cell_type": "code",
   "execution_count": 3,
   "id": "eab193fc",
   "metadata": {},
   "outputs": [],
   "source": [
    "idx = np.in1d(iris.target, [0, 2])      # 1차원 배열 데이터 iris.target에서 0 과 2 를 True로 반환 // \n",
    "                            # 0, 2 말고 [0,1,2] , [1,2] 등을 넣어 진행하는 방법인듯 \n",
    "X_data = iris.data[idx, 0:2]        # True 로 반환되는 iris 데이터 중에서, 0:2 칼럼을 X_data로 저장\n",
    "y_data = (iris.target[idx] - 1.0)[:, np.newaxis]        \n",
    "        # iris.target[idx] - 1.0 을 하면, iris.target[idx]의 모든 원소에 -1을 한 배열을 반환\n",
    "                                # 1차원 배열에 [:, np.newaxis] 를 통해 (100,1) shape로 만듦"
   ]
  },
  {
   "cell_type": "code",
   "execution_count": 44,
   "id": "2d9ca57b",
   "metadata": {},
   "outputs": [
    {
     "data": {
      "text/plain": [
       "((100, 2), (100, 1))"
      ]
     },
     "execution_count": 44,
     "metadata": {},
     "output_type": "execute_result"
    }
   ],
   "source": [
    "X_data.shape, y_data.shape"
   ]
  },
  {
   "cell_type": "markdown",
   "id": "f5929ad7",
   "metadata": {},
   "source": [
    "#### 이 데이터를 이용해 Perceptron을 구현해보세요! \n",
    " - 데이터 하나당 한번씩 weights 업데이트\n",
    " - step size == 0.0003\n",
    " - iteration == 500"
   ]
  },
  {
   "cell_type": "code",
   "execution_count": 5,
   "id": "d74df376",
   "metadata": {},
   "outputs": [],
   "source": [
    "num_iter = 500\n",
    "lr = 0.0003"
   ]
  },
  {
   "cell_type": "markdown",
   "id": "136211e3",
   "metadata": {},
   "source": [
    "-----"
   ]
  },
  {
   "cell_type": "code",
   "execution_count": 6,
   "id": "291fdb49",
   "metadata": {},
   "outputs": [],
   "source": [
    "w = tf.Variable(tf.random.normal([2, 1], dtype=tf.float64))\n",
    "b = tf.Variable(tf.random.normal([1, 1], dtype=tf.float64))     # bias"
   ]
  },
  {
   "cell_type": "code",
   "execution_count": 10,
   "id": "bce83268",
   "metadata": {},
   "outputs": [],
   "source": [
    "zero = tf.constant(0, dtype=tf.float64)\n",
    "\n",
    "\n",
    "for epoch in range(num_iter):\n",
    "    for i in range(X_data.shape[0]):    # X 데이터 개수만큼 데이터를 돌리겠다. // 100\n",
    "        x = X_data[i:i+1]               # 0 <= i < 100 // [0:1] ~ [99 : 100] 까지 index\n",
    "        y = y_data[i:i+1]\n",
    "\n",
    "        with tf.GradientTape() as tape:     # loss (비용함수) 구하는 식\n",
    "            logit = tf.matmul(x, w) + b\n",
    "            y_hat = tf.tanh(logit)\n",
    "            loss = tf.maximum(zero, tf.multiply(-y, y_hat))\n",
    "                    # maximum\n",
    "                                    # multiply : 곱하기\n",
    "        \n",
    "        grad = tape.gradient(loss, [w, b])      # 미분\n",
    "\n",
    "        w.assign_sub(lr * grad[0])\n",
    "        b.assign_sub(lr * grad[1])"
   ]
  },
  {
   "cell_type": "code",
   "execution_count": 8,
   "id": "af639595",
   "metadata": {},
   "outputs": [
    {
     "data": {
      "text/plain": [
       "(100, 2)"
      ]
     },
     "execution_count": 8,
     "metadata": {},
     "output_type": "execute_result"
    }
   ],
   "source": [
    "X_data.shape"
   ]
  },
  {
   "cell_type": "code",
   "execution_count": 9,
   "id": "6a12e997",
   "metadata": {},
   "outputs": [
    {
     "data": {
      "text/plain": [
       "(2,)"
      ]
     },
     "execution_count": 9,
     "metadata": {},
     "output_type": "execute_result"
    }
   ],
   "source": [
    "X_data[0].shape"
   ]
  },
  {
   "cell_type": "code",
   "execution_count": 11,
   "id": "5378d44e",
   "metadata": {},
   "outputs": [],
   "source": [
    "y_pred = tf.tanh(tf.matmul(X_data, w) + b)"
   ]
  },
  {
   "cell_type": "code",
   "execution_count": 16,
   "id": "c958f59e",
   "metadata": {},
   "outputs": [
    {
     "name": "stdout",
     "output_type": "stream",
     "text": [
      "예측치 :  -1 정답 :  [-1.]\n",
      "예측치 :  1 정답 :  [1.]\n"
     ]
    }
   ],
   "source": [
    "print('예측치 : ', -1 if y_pred[0] <0 else 1, '정답 : ', y_data[0])\n",
    "print('예측치 : ', -1 if y_pred[51] <0 else 1, '정답 : ', y_data[51])"
   ]
  },
  {
   "cell_type": "code",
   "execution_count": null,
   "id": "150f57b6",
   "metadata": {},
   "outputs": [],
   "source": []
  }
 ],
 "metadata": {
  "interpreter": {
   "hash": "b5a26d0e877c4652cf53eb6b13536f4959f02e722fb5eef7979a29d14fb02c8a"
  },
  "kernelspec": {
   "display_name": "Python 3.10.4 ('TF')",
   "language": "python",
   "name": "python3"
  },
  "language_info": {
   "codemirror_mode": {
    "name": "ipython",
    "version": 3
   },
   "file_extension": ".py",
   "mimetype": "text/x-python",
   "name": "python",
   "nbconvert_exporter": "python",
   "pygments_lexer": "ipython3",
   "version": "3.10.4"
  },
  "varInspector": {
   "cols": {
    "lenName": 16,
    "lenType": 16,
    "lenVar": 40
   },
   "kernels_config": {
    "python": {
     "delete_cmd_postfix": "",
     "delete_cmd_prefix": "del ",
     "library": "var_list.py",
     "varRefreshCmd": "print(var_dic_list())"
    },
    "r": {
     "delete_cmd_postfix": ") ",
     "delete_cmd_prefix": "rm(",
     "library": "var_list.r",
     "varRefreshCmd": "cat(var_dic_list()) "
    }
   },
   "types_to_exclude": [
    "module",
    "function",
    "builtin_function_or_method",
    "instance",
    "_Feature"
   ],
   "window_display": false
  }
 },
 "nbformat": 4,
 "nbformat_minor": 5
}

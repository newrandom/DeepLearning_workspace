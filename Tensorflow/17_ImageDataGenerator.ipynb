{
 "cells": [
  {
   "cell_type": "markdown",
   "id": "2b24a329",
   "metadata": {},
   "source": [
    "# ImageDataGenerator"
   ]
  },
  {
   "cell_type": "code",
   "execution_count": 99,
   "id": "dd977728",
   "metadata": {},
   "outputs": [],
   "source": [
    "import os\n",
    "from glob import glob\n",
    "\n",
    "import tensorflow as tf\n",
    "import numpy as np\n",
    "from PIL import Image\n",
    "\n",
    "import matplotlib.pyplot as plt\n",
    "%matplotlib inline"
   ]
  },
  {
   "cell_type": "markdown",
   "id": "0206df9d",
   "metadata": {},
   "source": [
    "### ImageDataGenerator \n",
    "\n",
    " - 데이터를 불러오는 동시에 여러가지 전처리를 쉽게 구현 할 수 있는 tf.keras의 기능! "
   ]
  },
  {
   "cell_type": "code",
   "execution_count": 100,
   "id": "1fb53047",
   "metadata": {},
   "outputs": [],
   "source": [
    "from tensorflow.keras.preprocessing.image import ImageDataGenerator"
   ]
  },
  {
   "cell_type": "code",
   "execution_count": 101,
   "id": "181ff975",
   "metadata": {},
   "outputs": [],
   "source": [
    "datagen = ImageDataGenerator(\n",
    "    rotation_range = 20,        # 회전하는 각도를 랜덤하게\n",
    "    width_shift_range=0.2,      # 가로로 이동하는데 20% 만큼\n",
    "    height_shift_range=0.2,     # 아래 위로\n",
    "    horizontal_flip=True        # 좌우 반전\n",
    ")"
   ]
  },
  {
   "cell_type": "code",
   "execution_count": 102,
   "id": "a50e3d91",
   "metadata": {},
   "outputs": [],
   "source": [
    "# datagen.flow()"
   ]
  },
  {
   "cell_type": "markdown",
   "id": "b2736a18",
   "metadata": {},
   "source": [
    "## Data Augmentation (데이터 증강기법) -> Overfitting 방지\n",
    "- 딥러닝은 내가 본 데이터 한에서 잘 작동하게끔 되어있는 것이기에, general한 환경에서도 잘 작동할 수 있도록 하는것\n"
   ]
  },
  {
   "cell_type": "markdown",
   "id": "929a0e2c",
   "metadata": {},
   "source": [
    "### flow\n",
    "\n",
    "- 데이터를 모두 메모리에 불러두고 사용 할 때"
   ]
  },
  {
   "cell_type": "code",
   "execution_count": 103,
   "id": "184291e1",
   "metadata": {},
   "outputs": [
    {
     "name": "stdout",
     "output_type": "stream",
     "text": [
      "(50000, 32, 32, 3) float32\n",
      "(50000, 10) float32\n"
     ]
    }
   ],
   "source": [
    "class Cifar10DataLoader():\n",
    "    def __init__(self):\n",
    "        # data load\n",
    "        (self.train_x, self.train_y), \\\n",
    "            (self.test_x, self.test_y) = tf.keras.datasets.cifar10.load_data()\n",
    "        self.input_shape = self.train_x.shape[1:]\n",
    "\n",
    "    def scale(self, x):\n",
    "\n",
    "        return (x / 255.0).astype(np.float32)\n",
    "\n",
    "    def preprocess_dataset(self, dataset):\n",
    "\n",
    "        (feature, target) = dataset\n",
    "\n",
    "        # scaling #\n",
    "        scaled_x = np.array([self.scale(x) for x in feature])\n",
    "\n",
    "        # label encoding #\n",
    "        ohe_y = np.array([tf.keras.utils.to_categorical(\n",
    "            y, num_classes=10) for y in target])\n",
    "        \n",
    "        return scaled_x, ohe_y.squeeze(1)\n",
    "\n",
    "    def get_train_dataset(self):\n",
    "        return self.preprocess_dataset((self.train_x, self.train_y))\n",
    "\n",
    "    def get_test_dataset(self):\n",
    "        return self.preprocess_dataset((self.test_x, self.test_y))\n",
    "\n",
    "cifar10_loader = Cifar10DataLoader()\n",
    "train_x, train_y = cifar10_loader.get_train_dataset()\n",
    "\n",
    "print(train_x.shape, train_x.dtype)\n",
    "print(train_y.shape, train_y.dtype)"
   ]
  },
  {
   "cell_type": "code",
   "execution_count": 104,
   "id": "b251cab6",
   "metadata": {},
   "outputs": [],
   "source": [
    "# datagen.flow((train_x, train_y))"
   ]
  },
  {
   "cell_type": "code",
   "execution_count": 105,
   "id": "23fee82b",
   "metadata": {},
   "outputs": [],
   "source": [
    "result = next(iter(datagen.flow((train_x, train_y))))\n",
    "\n",
    "x,y = result"
   ]
  },
  {
   "cell_type": "code",
   "execution_count": 106,
   "id": "01543019",
   "metadata": {},
   "outputs": [],
   "source": [
    "# x, y = result"
   ]
  },
  {
   "cell_type": "code",
   "execution_count": 107,
   "id": "3c520eb9",
   "metadata": {},
   "outputs": [],
   "source": [
    "# x.shape"
   ]
  },
  {
   "cell_type": "code",
   "execution_count": 108,
   "id": "b4acdd33",
   "metadata": {},
   "outputs": [],
   "source": [
    "# y.shape"
   ]
  },
  {
   "cell_type": "code",
   "execution_count": 109,
   "id": "18cdd364",
   "metadata": {},
   "outputs": [],
   "source": [
    "# x[0].shape"
   ]
  },
  {
   "cell_type": "code",
   "execution_count": 110,
   "id": "30b2f00f",
   "metadata": {},
   "outputs": [
    {
     "data": {
      "image/png": "[encoded data removed]",
      "text/plain": [
       "<Figure size 432x288 with 1 Axes>"
      ]
     },
     "metadata": {
      "needs_background": "light"
     },
     "output_type": "display_data"
    }
   ],
   "source": [
    "plt.imshow(x[0])\n",
    "plt.show()"
   ]
  },
  {
   "cell_type": "markdown",
   "id": "ed6701d8",
   "metadata": {},
   "source": [
    "### flow_from_directory \n",
    "- 데이터를 모두 메모리에 불러오기 힘들 때"
   ]
  },
  {
   "cell_type": "code",
   "execution_count": 111,
   "id": "fc452f3d",
   "metadata": {},
   "outputs": [],
   "source": [
    "train_dir = \"./datasets/mnist_png/training\"\n",
    "        # 알아서 레이블과 이미지를 받아옴"
   ]
  },
  {
   "cell_type": "code",
   "execution_count": 112,
   "id": "04474f33",
   "metadata": {},
   "outputs": [],
   "source": [
    "# os.listdir(train_dir+'/9')\n",
    "            # 데이터 셋을 특정해서 정의해 놓아야 한다."
   ]
  },
  {
   "cell_type": "code",
   "execution_count": 113,
   "id": "80a8ee11",
   "metadata": {},
   "outputs": [],
   "source": [
    "input_shape = (28, 28, 1)\n",
    "                       # 1 채널\n",
    "batch_size = 32"
   ]
  },
  {
   "cell_type": "code",
   "execution_count": 114,
   "id": "a21927d1",
   "metadata": {},
   "outputs": [
    {
     "name": "stdout",
     "output_type": "stream",
     "text": [
      "Found 60000 images belonging to 10 classes.\n"
     ]
    },
    {
     "data": {
      "text/plain": [
       "<keras.preprocessing.image.DirectoryIterator at 0x178742370>"
      ]
     },
     "execution_count": 114,
     "metadata": {},
     "output_type": "execute_result"
    }
   ],
   "source": [
    "#gen = \n",
    "datagen.flow_from_directory(\n",
    "    train_dir,\n",
    "    target_size = input_shape[:2],        # 어떤 크기로 줄여줄지\n",
    "    batch_size = batch_size,\n",
    "    color_mode = 'grayscale'    # 1채널이기 때문 // rgb, rgba\n",
    ")"
   ]
  },
  {
   "cell_type": "code",
   "execution_count": 115,
   "id": "c4602e18",
   "metadata": {},
   "outputs": [],
   "source": [
    "x, y = next(iter(datagen.flow((train_x, train_y))))"
   ]
  },
  {
   "cell_type": "code",
   "execution_count": 116,
   "id": "7edd31d4",
   "metadata": {},
   "outputs": [
    {
     "name": "stdout",
     "output_type": "stream",
     "text": [
      "(32, 32, 32, 3)\n",
      "(32, 10)\n"
     ]
    }
   ],
   "source": [
    "print(x.shape)\n",
    "print(y.shape)"
   ]
  },
  {
   "cell_type": "markdown",
   "id": "e67ee161",
   "metadata": {},
   "source": [
    "### flow_from_DataFrame"
   ]
  },
  {
   "cell_type": "code",
   "execution_count": 117,
   "id": "b5794e2c",
   "metadata": {},
   "outputs": [],
   "source": [
    "import pandas as pd"
   ]
  },
  {
   "cell_type": "code",
   "execution_count": 118,
   "id": "d042b9a8",
   "metadata": {},
   "outputs": [],
   "source": [
    "# os.listdir('./datasets/cifar/')"
   ]
  },
  {
   "cell_type": "code",
   "execution_count": 119,
   "id": "6c437542",
   "metadata": {},
   "outputs": [
    {
     "data": {
      "text/html": [
       "<div>\n",
       "<style scoped>\n",
       "    .dataframe tbody tr th:only-of-type {\n",
       "        vertical-align: middle;\n",
       "    }\n",
       "\n",
       "    .dataframe tbody tr th {\n",
       "        vertical-align: top;\n",
       "    }\n",
       "\n",
       "    .dataframe thead th {\n",
       "        text-align: right;\n",
       "    }\n",
       "</style>\n",
       "<table border=\"1\" class=\"dataframe\">\n",
       "  <thead>\n",
       "    <tr style=\"text-align: right;\">\n",
       "      <th></th>\n",
       "      <th>path</th>\n",
       "      <th>class_name</th>\n",
       "    </tr>\n",
       "  </thead>\n",
       "  <tbody>\n",
       "    <tr>\n",
       "      <th>0</th>\n",
       "      <td>../../datasets/cifar/train/32270_deer.png</td>\n",
       "      <td>deer</td>\n",
       "    </tr>\n",
       "    <tr>\n",
       "      <th>1</th>\n",
       "      <td>../../datasets/cifar/train/21851_cat.png</td>\n",
       "      <td>cat</td>\n",
       "    </tr>\n",
       "    <tr>\n",
       "      <th>2</th>\n",
       "      <td>../../datasets/cifar/train/48309_deer.png</td>\n",
       "      <td>deer</td>\n",
       "    </tr>\n",
       "    <tr>\n",
       "      <th>3</th>\n",
       "      <td>../../datasets/cifar/train/33547_truck.png</td>\n",
       "      <td>truck</td>\n",
       "    </tr>\n",
       "    <tr>\n",
       "      <th>4</th>\n",
       "      <td>../../datasets/cifar/train/45202_automobile.png</td>\n",
       "      <td>automobile</td>\n",
       "    </tr>\n",
       "    <tr>\n",
       "      <th>...</th>\n",
       "      <td>...</td>\n",
       "      <td>...</td>\n",
       "    </tr>\n",
       "    <tr>\n",
       "      <th>49995</th>\n",
       "      <td>../../datasets/cifar/train/24599_horse.png</td>\n",
       "      <td>horse</td>\n",
       "    </tr>\n",
       "    <tr>\n",
       "      <th>49996</th>\n",
       "      <td>../../datasets/cifar/train/38514_automobile.png</td>\n",
       "      <td>automobile</td>\n",
       "    </tr>\n",
       "    <tr>\n",
       "      <th>49997</th>\n",
       "      <td>../../datasets/cifar/train/20054_deer.png</td>\n",
       "      <td>deer</td>\n",
       "    </tr>\n",
       "    <tr>\n",
       "      <th>49998</th>\n",
       "      <td>../../datasets/cifar/train/25602_bird.png</td>\n",
       "      <td>bird</td>\n",
       "    </tr>\n",
       "    <tr>\n",
       "      <th>49999</th>\n",
       "      <td>../../datasets/cifar/train/46506_deer.png</td>\n",
       "      <td>deer</td>\n",
       "    </tr>\n",
       "  </tbody>\n",
       "</table>\n",
       "<p>50000 rows × 2 columns</p>\n",
       "</div>"
      ],
      "text/plain": [
       "                                                  path  class_name\n",
       "0            ../../datasets/cifar/train/32270_deer.png        deer\n",
       "1             ../../datasets/cifar/train/21851_cat.png         cat\n",
       "2            ../../datasets/cifar/train/48309_deer.png        deer\n",
       "3           ../../datasets/cifar/train/33547_truck.png       truck\n",
       "4      ../../datasets/cifar/train/45202_automobile.png  automobile\n",
       "...                                                ...         ...\n",
       "49995       ../../datasets/cifar/train/24599_horse.png       horse\n",
       "49996  ../../datasets/cifar/train/38514_automobile.png  automobile\n",
       "49997        ../../datasets/cifar/train/20054_deer.png        deer\n",
       "49998        ../../datasets/cifar/train/25602_bird.png        bird\n",
       "49999        ../../datasets/cifar/train/46506_deer.png        deer\n",
       "\n",
       "[50000 rows x 2 columns]"
      ]
     },
     "execution_count": 119,
     "metadata": {},
     "output_type": "execute_result"
    }
   ],
   "source": [
    "train_data = pd.read_csv('./datasets/cifar/train_dataset.csv')\n",
    "train_data"
   ]
  },
  {
   "cell_type": "code",
   "execution_count": 145,
   "id": "1ec7c184",
   "metadata": {},
   "outputs": [
    {
     "name": "stdout",
     "output_type": "stream",
     "text": [
      "0 path\n"
     ]
    }
   ],
   "source": [
    "# fix_path = train_data['path']\n",
    "fix_path = pd.DataFrame(train_data['path'])\n"
   ]
  },
  {
   "cell_type": "markdown",
   "id": "0fc75acd",
   "metadata": {},
   "source": [
    "-----------"
   ]
  },
  {
   "cell_type": "markdown",
   "id": "60f6fc42",
   "metadata": {},
   "source": [
    "## 문제점 발견\n",
    "- path 주소가 다르다\n",
    "- ../../datasets 가 아니고, ./datasets로 바뀌어야 한다..."
   ]
  },
  {
   "cell_type": "markdown",
   "id": "2694c50f",
   "metadata": {},
   "source": [
    "------"
   ]
  },
  {
   "cell_type": "code",
   "execution_count": 120,
   "id": "e49f4b32",
   "metadata": {},
   "outputs": [
    {
     "name": "stdout",
     "output_type": "stream",
     "text": [
      "Found 0 validated image filenames belonging to 0 classes.\n"
     ]
    },
    {
     "name": "stderr",
     "output_type": "stream",
     "text": [
      "/Users/newrandom/miniforge3/envs/TF/lib/python3.8/site-packages/keras_preprocessing/image/dataframe_iterator.py:279: UserWarning: Found 50000 invalid image filename(s) in x_col=\"path\". These filename(s) will be ignored.\n",
      "  warnings.warn(\n"
     ]
    },
    {
     "data": {
      "text/plain": [
       "<keras.preprocessing.image.DataFrameIterator at 0x178745e50>"
      ]
     },
     "execution_count": 120,
     "metadata": {},
     "output_type": "execute_result"
    }
   ],
   "source": [
    "# gen = \n",
    "datagen.flow_from_dataframe(\n",
    "    train_data,\n",
    "    x_col='path',\n",
    "    y_col='class_name',\n",
    "    target_size = (32, 32),\n",
    "    color_mode = 'rgb',\n",
    "    class_model = 'categorical',\n",
    "    batch_size = 32\n",
    ")"
   ]
  },
  {
   "cell_type": "code",
   "execution_count": 121,
   "id": "fcd0d4f4",
   "metadata": {},
   "outputs": [],
   "source": [
    "x, y = next(iter(datagen.flow((train_x, train_y))))"
   ]
  },
  {
   "cell_type": "code",
   "execution_count": 122,
   "id": "65a7f25a",
   "metadata": {},
   "outputs": [
    {
     "name": "stdout",
     "output_type": "stream",
     "text": [
      "(32, 32, 32, 3)\n",
      "(32, 10)\n"
     ]
    }
   ],
   "source": [
    "print(x.shape)\n",
    "print(y.shape)"
   ]
  },
  {
   "cell_type": "markdown",
   "id": "ab7c543c",
   "metadata": {},
   "source": [
    "학습시켜보겠습니다. "
   ]
  },
  {
   "cell_type": "code",
   "execution_count": 123,
   "id": "e7381a93",
   "metadata": {},
   "outputs": [
    {
     "name": "stdout",
     "output_type": "stream",
     "text": [
      "Model: \"resnet\"\n",
      "__________________________________________________________________________________________________\n",
      " Layer (type)                   Output Shape         Param #     Connected to                     \n",
      "==================================================================================================\n",
      " input_3 (InputLayer)           [(None, 32, 32, 3)]  0           []                               \n",
      "                                                                                                  \n",
      " conv2d_16 (Conv2D)             (None, 16, 16, 32)   896         ['input_3[0][0]']                \n",
      "                                                                                                  \n",
      " max_pooling2d_4 (MaxPooling2D)  (None, 8, 8, 32)    0           ['conv2d_16[0][0]']              \n",
      "                                                                                                  \n",
      " conv2d_17 (Conv2D)             (None, 8, 8, 64)     2112        ['max_pooling2d_4[0][0]']        \n",
      "                                                                                                  \n",
      " conv2d_18 (Conv2D)             (None, 8, 8, 64)     36928       ['conv2d_17[0][0]']              \n",
      "                                                                                                  \n",
      " conv2d_20 (Conv2D)             (None, 8, 8, 64)     2112        ['max_pooling2d_4[0][0]']        \n",
      "                                                                                                  \n",
      " conv2d_19 (Conv2D)             (None, 8, 8, 64)     4160        ['conv2d_18[0][0]']              \n",
      "                                                                                                  \n",
      " add_4 (Add)                    (None, 8, 8, 64)     0           ['conv2d_20[0][0]',              \n",
      "                                                                  'conv2d_19[0][0]']              \n",
      "                                                                                                  \n",
      " conv2d_21 (Conv2D)             (None, 8, 8, 64)     4160        ['add_4[0][0]']                  \n",
      "                                                                                                  \n",
      " conv2d_22 (Conv2D)             (None, 8, 8, 64)     36928       ['conv2d_21[0][0]']              \n",
      "                                                                                                  \n",
      " conv2d_23 (Conv2D)             (None, 8, 8, 64)     4160        ['conv2d_22[0][0]']              \n",
      "                                                                                                  \n",
      " add_5 (Add)                    (None, 8, 8, 64)     0           ['add_4[0][0]',                  \n",
      "                                                                  'conv2d_23[0][0]']              \n",
      "                                                                                                  \n",
      " max_pooling2d_5 (MaxPooling2D)  (None, 4, 4, 64)    0           ['add_5[0][0]']                  \n",
      "                                                                                                  \n",
      " flatten_2 (Flatten)            (None, 1024)         0           ['max_pooling2d_5[0][0]']        \n",
      "                                                                                                  \n",
      " dense_2 (Dense)                (None, 10)           10250       ['flatten_2[0][0]']              \n",
      "                                                                                                  \n",
      "==================================================================================================\n",
      "Total params: 101,706\n",
      "Trainable params: 101,706\n",
      "Non-trainable params: 0\n",
      "__________________________________________________________________________________________________\n"
     ]
    }
   ],
   "source": [
    "from tensorflow.keras.layers import Input, Conv2D, MaxPool2D, Flatten, Dense, Add\n",
    "\n",
    "def build_resnet(input_shape):\n",
    "    inputs = Input(input_shape)\n",
    "\n",
    "    net = Conv2D(32, kernel_size=3, strides=2,\n",
    "                 padding='same', activation='relu')(inputs)\n",
    "    net = MaxPool2D()(net)\n",
    "    \n",
    "    net1 = Conv2D(64, kernel_size=1, padding='same', activation='relu')(net)\n",
    "    net2 = Conv2D(64, kernel_size=3, padding='same', activation='relu')(net1)\n",
    "    net3 = Conv2D(64, kernel_size=1, padding='same', activation='relu')(net2)\n",
    "    \n",
    "    net1_1 = Conv2D(64, kernel_size=1, padding='same')(net)\n",
    "    net = Add()([net1_1, net3])\n",
    "    \n",
    "    net1 = Conv2D(64, kernel_size=1, padding='same', activation='relu')(net)\n",
    "    net2 = Conv2D(64, kernel_size=3, padding='same', activation='relu')(net1)\n",
    "    net3 = Conv2D(64, kernel_size=1, padding='same', activation='relu')(net2)\n",
    "    \n",
    "    net = Add()([net, net3])\n",
    "    \n",
    "    net = MaxPool2D()(net)\n",
    "    \n",
    "    net = Flatten()(net)\n",
    "    net = Dense(10, activation=\"softmax\")(net)\n",
    "\n",
    "    model = tf.keras.Model(inputs=inputs, outputs=net, name='resnet')\n",
    "    \n",
    "    return model\n",
    "\n",
    "model = build_resnet((32, 32, 3))\n",
    "model.summary()"
   ]
  },
  {
   "cell_type": "code",
   "execution_count": 124,
   "id": "f81bc2b8",
   "metadata": {},
   "outputs": [],
   "source": [
    "learning_rate = 0.03\n",
    "opt = tf.keras.optimizers.Adam(learning_rate)\n",
    "loss = tf.keras.losses.categorical_crossentropy\n",
    "\n",
    "model.compile(optimizer=opt, loss=loss, metrics=[\"accuracy\"])"
   ]
  },
  {
   "cell_type": "code",
   "execution_count": 125,
   "id": "fcf5acf9",
   "metadata": {
    "scrolled": true
   },
   "outputs": [
    {
     "name": "stdout",
     "output_type": "stream",
     "text": [
      "1563/1563 [==============================] - 26s 16ms/step - loss: 2.3620 - accuracy: 0.1005\n"
     ]
    },
    {
     "data": {
      "text/plain": [
       "<keras.callbacks.History at 0x171bb5c70>"
      ]
     },
     "execution_count": 125,
     "metadata": {},
     "output_type": "execute_result"
    }
   ],
   "source": [
    "model.fit(datagen.flow((train_x, train_y)))"
   ]
  },
  {
   "cell_type": "code",
   "execution_count": null,
   "id": "00974812",
   "metadata": {},
   "outputs": [],
   "source": []
  }
 ],
 "metadata": {
  "interpreter": {
   "hash": "b5a26d0e877c4652cf53eb6b13536f4959f02e722fb5eef7979a29d14fb02c8a"
  },
  "kernelspec": {
   "display_name": "Python 3.8.13 ('TF')",
   "language": "python",
   "name": "python3"
  },
  "language_info": {
   "codemirror_mode": {
    "name": "ipython",
    "version": 3
   },
   "file_extension": ".py",
   "mimetype": "text/x-python",
   "name": "python",
   "nbconvert_exporter": "python",
   "pygments_lexer": "ipython3",
   "version": "3.8.13"
  },
  "varInspector": {
   "cols": {
    "lenName": 16,
    "lenType": 16,
    "lenVar": 40
   },
   "kernels_config": {
    "python": {
     "delete_cmd_postfix": "",
     "delete_cmd_prefix": "del ",
     "library": "var_list.py",
     "varRefreshCmd": "print(var_dic_list())"
    },
    "r": {
     "delete_cmd_postfix": ") ",
     "delete_cmd_prefix": "rm(",
     "library": "var_list.r",
     "varRefreshCmd": "cat(var_dic_list()) "
    }
   },
   "types_to_exclude": [
    "module",
    "function",
    "builtin_function_or_method",
    "instance",
    "_Feature"
   ],
   "window_display": false
  }
 },
 "nbformat": 4,
 "nbformat_minor": 5
}

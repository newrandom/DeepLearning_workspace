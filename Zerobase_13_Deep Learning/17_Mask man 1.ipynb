{
 "cells": [
  {
   "cell_type": "markdown",
   "metadata": {},
   "source": [
    "# 17_Mask man 1"
   ]
  },
  {
   "cell_type": "code",
   "execution_count": 26,
   "metadata": {},
   "outputs": [],
   "source": [
    "# LeNET : CNN 모델의 가장 초창기 모델"
   ]
  },
  {
   "cell_type": "code",
   "execution_count": 27,
   "metadata": {},
   "outputs": [],
   "source": [
    "import sys"
   ]
  },
  {
   "cell_type": "code",
   "execution_count": 28,
   "metadata": {},
   "outputs": [
    {
     "name": "stdout",
     "output_type": "stream",
     "text": [
      "\u001b[34mTest\u001b[m\u001b[m/       \u001b[34mTrain\u001b[m\u001b[m/      \u001b[34mValidation\u001b[m\u001b[m/\n"
     ]
    }
   ],
   "source": [
    "ls './dataset/Face Mask Dataset'"
   ]
  },
  {
   "cell_type": "code",
   "execution_count": 29,
   "metadata": {},
   "outputs": [],
   "source": [
    "import numpy as np\n",
    "import pandas as pd\n",
    "import os\n",
    "import glob\n",
    "        # Return a list of paths matching a pathname pattern.\n",
    "import matplotlib.pyplot as plt\n",
    "import seaborn as sns\n"
   ]
  },
  {
   "cell_type": "code",
   "execution_count": 30,
   "metadata": {},
   "outputs": [],
   "source": [
    "import tensorflow as tf\n",
    "from tensorflow.keras import Sequential, models\n",
    "from tensorflow.keras.layers import Flatten, Dense, Conv2D, MaxPool2D\n",
    "from sklearn.model_selection import train_test_split\n",
    "from sklearn.metrics import classification_report, confusion_matrix"
   ]
  },
  {
   "cell_type": "code",
   "execution_count": 36,
   "metadata": {},
   "outputs": [
    {
     "name": "stdout",
     "output_type": "stream",
     "text": [
      "Test\n",
      "Train\n",
      "Validation\n"
     ]
    }
   ],
   "source": [
    "path = './dataset/Face Mask Dataset/'\n",
    "dataset = {'image_path' : [], 'mask_status' : [], 'where': []}\n",
    "\n",
    "for where in os.listdir(path):      # test / train / validation\n",
    "    print(where)\n",
    "    for status in os.listdir(path + '/' + where):       # withmask / withoutmask\n",
    "        \n",
    "        for image in glob.glob(path + where + '/' + status + '/' + '*.png'):\n",
    "            dataset['image_path'].append(image)\n",
    "            dataset['mask_status'].append(status)\n",
    "            dataset['where'].append(where)\n",
    "\n",
    "\n",
    "## .ds_store 해결 : find . -name \"*.DS_Store\" -type f -delete           << cmd"
   ]
  },
  {
   "cell_type": "code",
   "execution_count": 37,
   "metadata": {},
   "outputs": [
    {
     "data": {
      "text/html": [
       "<div>\n",
       "<style scoped>\n",
       "    .dataframe tbody tr th:only-of-type {\n",
       "        vertical-align: middle;\n",
       "    }\n",
       "\n",
       "    .dataframe tbody tr th {\n",
       "        vertical-align: top;\n",
       "    }\n",
       "\n",
       "    .dataframe thead th {\n",
       "        text-align: right;\n",
       "    }\n",
       "</style>\n",
       "<table border=\"1\" class=\"dataframe\">\n",
       "  <thead>\n",
       "    <tr style=\"text-align: right;\">\n",
       "      <th></th>\n",
       "      <th>image_path</th>\n",
       "      <th>mask_status</th>\n",
       "      <th>where</th>\n",
       "    </tr>\n",
       "  </thead>\n",
       "  <tbody>\n",
       "    <tr>\n",
       "      <th>0</th>\n",
       "      <td>./dataset/Face Mask Dataset/Test/WithoutMask/2...</td>\n",
       "      <td>WithoutMask</td>\n",
       "      <td>Test</td>\n",
       "    </tr>\n",
       "    <tr>\n",
       "      <th>1</th>\n",
       "      <td>./dataset/Face Mask Dataset/Test/WithoutMask/4...</td>\n",
       "      <td>WithoutMask</td>\n",
       "      <td>Test</td>\n",
       "    </tr>\n",
       "    <tr>\n",
       "      <th>2</th>\n",
       "      <td>./dataset/Face Mask Dataset/Test/WithoutMask/4...</td>\n",
       "      <td>WithoutMask</td>\n",
       "      <td>Test</td>\n",
       "    </tr>\n",
       "    <tr>\n",
       "      <th>3</th>\n",
       "      <td>./dataset/Face Mask Dataset/Test/WithoutMask/2...</td>\n",
       "      <td>WithoutMask</td>\n",
       "      <td>Test</td>\n",
       "    </tr>\n",
       "    <tr>\n",
       "      <th>4</th>\n",
       "      <td>./dataset/Face Mask Dataset/Test/WithoutMask/3...</td>\n",
       "      <td>WithoutMask</td>\n",
       "      <td>Test</td>\n",
       "    </tr>\n",
       "  </tbody>\n",
       "</table>\n",
       "</div>"
      ],
      "text/plain": [
       "                                          image_path  mask_status where\n",
       "0  ./dataset/Face Mask Dataset/Test/WithoutMask/2...  WithoutMask  Test\n",
       "1  ./dataset/Face Mask Dataset/Test/WithoutMask/4...  WithoutMask  Test\n",
       "2  ./dataset/Face Mask Dataset/Test/WithoutMask/4...  WithoutMask  Test\n",
       "3  ./dataset/Face Mask Dataset/Test/WithoutMask/2...  WithoutMask  Test\n",
       "4  ./dataset/Face Mask Dataset/Test/WithoutMask/3...  WithoutMask  Test"
      ]
     },
     "execution_count": 37,
     "metadata": {},
     "output_type": "execute_result"
    }
   ],
   "source": [
    "dataset = pd.DataFrame(dataset)\n",
    "dataset.head()"
   ]
  },
  {
   "cell_type": "code",
   "execution_count": 38,
   "metadata": {},
   "outputs": [
    {
     "name": "stdout",
     "output_type": "stream",
     "text": [
      "With Mask :  5909\n",
      "Without Mask :  5883\n"
     ]
    },
    {
     "data": {
      "image/png": "[encoded data removed]",
      "text/plain": [
       "<Figure size 432x288 with 1 Axes>"
      ]
     },
     "metadata": {
      "needs_background": "light"
     },
     "output_type": "display_data"
    }
   ],
   "source": [
    "print('With Mask : ', dataset.value_counts('mask_status')[0])\n",
    "print('Without Mask : ', dataset.value_counts('mask_status')[1])\n",
    "\n",
    "sns.countplot(x=dataset['mask_status']);"
   ]
  },
  {
   "cell_type": "code",
   "execution_count": null,
   "metadata": {},
   "outputs": [],
   "source": []
  }
 ],
 "metadata": {
  "interpreter": {
   "hash": "b5a26d0e877c4652cf53eb6b13536f4959f02e722fb5eef7979a29d14fb02c8a"
  },
  "kernelspec": {
   "display_name": "Python 3.8.13 ('TF')",
   "language": "python",
   "name": "python3"
  },
  "language_info": {
   "codemirror_mode": {
    "name": "ipython",
    "version": 3
   },
   "file_extension": ".py",
   "mimetype": "text/x-python",
   "name": "python",
   "nbconvert_exporter": "python",
   "pygments_lexer": "ipython3",
   "version": "3.8.13"
  },
  "orig_nbformat": 4
 },
 "nbformat": 4,
 "nbformat_minor": 2
}

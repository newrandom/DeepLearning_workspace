{
 "cells": [
  {
   "cell_type": "markdown",
   "metadata": {},
   "source": [
    "# 14_DL from scratch - 예제 2"
   ]
  },
  {
   "cell_type": "markdown",
   "metadata": {},
   "source": [
    "# 숫자 맞추기"
   ]
  },
  {
   "cell_type": "code",
   "execution_count": 1,
   "metadata": {},
   "outputs": [],
   "source": [
    "import numpy as np\n",
    "import matplotlib.pyplot as plt\n",
    "from tqdm import tqdm_notebook\n",
    "%matplotlib inline"
   ]
  },
  {
   "cell_type": "code",
   "execution_count": 2,
   "metadata": {},
   "outputs": [],
   "source": [
    "# softmax의 정의\n",
    "def Softmax(x):\n",
    "    x = np.subtract(x, np.max(x))       # prevent overflow\n",
    "                    # 기준이 되는 값\n",
    "                        # 뺄셈할 값\n",
    "\n",
    "    ex = np.exp(x)\n",
    "\n",
    "    return ex / np.sum(ex)"
   ]
  },
  {
   "cell_type": "code",
   "execution_count": 3,
   "metadata": {},
   "outputs": [],
   "source": [
    "X = np.zeros((5,5,5))\n",
    "\n",
    "X[:, :, 0] = [ [0,1,1,0,0], [0,0,1,0,0], [0,0,1,0,0], [0,0,1,0,0], [0,1,1,1,0] ]\n",
    "X[:, :, 1] = [ [1,1,1,1,0], [0,0,0,0,1], [0,1,1,1,0], [1,0,0,0,0], [1,1,1,1,1] ]\n",
    "X[:, :, 2] = [ [1,1,1,1,0], [0,0,0,0,1], [0,1,1,1,0], [0,0,0,0,1], [1,1,1,1,0] ]\n",
    "X[:, :, 3] = [ [0,0,0,1,0], [0,0,1,1,0], [0,1,0,1,0], [1,1,1,1,1], [0,0,0,1,0] ]\n",
    "X[:, :, 4] = [ [1,1,1,1,1], [1,0,0,0,0], [1,1,1,1,0], [0,0,0,0,1], [1,1,1,1,0] ]\n",
    "\n",
    "## (5,5,5) 사이즈"
   ]
  },
  {
   "cell_type": "code",
   "execution_count": 4,
   "metadata": {},
   "outputs": [],
   "source": [
    "# 원핫 인코딩, 정답지\n",
    "D = np.array([\n",
    "    [[1,0,0,0,0]], [[0,1,0,0,0]], [[0,0,1,0,0]], [[0,0,0,1,0]], [[0,0,0,0,1]]\n",
    "])\n",
    "\n",
    "## (5,1,5) 사이즈"
   ]
  },
  {
   "cell_type": "code",
   "execution_count": 5,
   "metadata": {},
   "outputs": [
    {
     "data": {
      "image/png": "[encoded data removed]",
      "text/plain": [
       "<Figure size 864x288 with 5 Axes>"
      ]
     },
     "metadata": {
      "needs_background": "light"
     },
     "output_type": "display_data"
    }
   ],
   "source": [
    "plt.figure(figsize=(12,4))\n",
    "for n in range(5):\n",
    "    plt.subplot(1, 5, n+1)\n",
    "    plt.imshow(X[:, :, n])\n",
    "\n",
    "plt.show()"
   ]
  },
  {
   "cell_type": "code",
   "execution_count": 6,
   "metadata": {},
   "outputs": [],
   "source": [
    "def ReLU(x):\n",
    "    return np.maximum(0, x)"
   ]
  },
  {
   "cell_type": "code",
   "execution_count": 7,
   "metadata": {},
   "outputs": [],
   "source": [
    "# Relu를 이용한 정방향 계산\n",
    "def calcOutput_ReLU(W1, W2, W3, W4, x):\n",
    "    v1 = np.matmul(W1, x)\n",
    "                        # x :  입력 데이터를 통해\n",
    "                    # W1 : weight를 통과\n",
    "    y1 = ReLU(v1)\n",
    "    v2 = np.matmul(W2, y1)\n",
    "    y2 = ReLU(v2)\n",
    "    v3 = np.matmul(W3, y2)\n",
    "    y3 = ReLU(v3)\n",
    "    v = np.matmul(W4, y3)\n",
    "    y = Softmax(v)\n",
    "\n",
    "    return y, v1, v2, v3, y1, y2, y3"
   ]
  },
  {
   "cell_type": "code",
   "execution_count": 8,
   "metadata": {},
   "outputs": [],
   "source": [
    "# 역전파\n",
    "def backpropagation_ReLU(d, y, W2, W3, W4, v1, v2, v3):\n",
    "    e = d - y\n",
    "    delta = e       # 크로스엔트로피를 사용하였다.\n",
    "\n",
    "    e3 = np.matmul(W4.T, delta)\n",
    "            # 맨 마지막 weight와 delta를 곱한다.\n",
    "    delta3 = (v3 > 0) * e3\n",
    "            # if v3 > 0 이면 e3 와 곱한다.\n",
    "\n",
    "    e2 = np.matmul(W3.T, delta3)\n",
    "    delta2 = (v2 > 0) * e2\n",
    "\n",
    "    e1 = np.matmul(W2.T, delta2)\n",
    "    delta1 = (v1 > 0) * e1\n",
    "\n",
    "    return delta, delta1, delta2, delta3"
   ]
  },
  {
   "cell_type": "code",
   "execution_count": 9,
   "metadata": {},
   "outputs": [],
   "source": [
    "# 가중치 계산\n",
    "def calcWs(alpha, delta, delta1, delta2, delta3, y1, y2, y3, x, W1, W2, W3, W4):\n",
    "    dW4 = alpha * delta * y3.T\n",
    "    W4 = W4 + dW4\n",
    "\n",
    "    dW3 = alpha * delta3 * y2.T\n",
    "    W3 = W3 + dW3\n",
    "\n",
    "    dW2 = alpha * delta2 * y1.T\n",
    "    W2 = W2 + dW2\n",
    "\n",
    "    dW1 = alpha * delta1 * x.T\n",
    "    W1 = W1 + dW1\n",
    "\n",
    "    return W1, W2, W3, W4"
   ]
  },
  {
   "cell_type": "code",
   "execution_count": 10,
   "metadata": {},
   "outputs": [],
   "source": [
    "# 가중치 업데이트\n",
    "def DeepReLU(W1, W2, W3, W4, X, D, alpha):\n",
    "                            #X : 특성\n",
    "                                #D : 라벨\n",
    "                                    #alpha : 학습률\n",
    "    # 한 에포크의 모든 데이터를 쓴다 . : Gradient Descent 경사하강법\n",
    "    for k in range(5):\n",
    "        x  = np.reshape(X[:, :, k], (25, 1))\n",
    "        d = D[k, :].T\n",
    "\n",
    "        y, v1, v2, v3, y1, y2, y3 = calcOutput_ReLU(W1, W2, W3, W4, x)\n",
    "        delta, delta1, delta2, delta3 = backpropagation_ReLU(d, y, W2, W3, W4, v1, v2, v3)\n",
    "        W1, W2, W3, W4 = calcWs(alpha, delta, delta1, delta2, delta3, y1, y2, y3, x, W1, W2, W3, W4)\n",
    "\n",
    "    return W1, W2, W3, W4"
   ]
  },
  {
   "cell_type": "code",
   "execution_count": 77,
   "metadata": {},
   "outputs": [
    {
     "data": {
      "application/vnd.jupyter.widget-view+json": {
       "model_id": "ae1d0f4a0fc049a69108769cc61edd78",
       "version_major": 2,
       "version_minor": 0
      },
      "text/plain": [
       "  0%|          | 0/10000 [00:00<?, ?it/s]"
      ]
     },
     "metadata": {},
     "output_type": "display_data"
    }
   ],
   "source": [
    "# 가중치 랜덤하게 설정\n",
    "\n",
    "W1 = 2 * np.random.random((20, 25)) - 1\n",
    "W2 = 2 * np.random.random((20, 20)) - 1\n",
    "W3 = 2 * np.random.random((20, 20)) - 1\n",
    "W4 = 2 * np.random.random((5, 20)) - 1\n",
    "\n",
    "alpha = 0.01\n",
    "    # 학습률이 너무 작으면, 학습하는데 너무 오래걸릴것이고, 혹은 학습률이 너무크면, 오차함수(비용함수)가 발산해버릴수도 있습니다.\n",
    "    # 학습률을 적절히 지정해주어야 학습을 빠르고 정확히할 수 있습니다.\n",
    "\n",
    "for epoch in tqdm.notebook.tqdm(range(10000)):\n",
    "    W1, W2, W3, W4 = DeepReLU(W1, W2, W3, W4, X, D, alpha)"
   ]
  },
  {
   "cell_type": "markdown",
   "metadata": {},
   "source": [
    "> ## 왜 랜덤 수치를 `(20,25), (20,20), (5, 20)`으로 설정한걸까?"
   ]
  },
  {
   "cell_type": "markdown",
   "metadata": {},
   "source": [
    "--------------------"
   ]
  },
  {
   "cell_type": "code",
   "execution_count": 97,
   "metadata": {},
   "outputs": [
    {
     "data": {
      "text/plain": [
       "(20, 20)"
      ]
     },
     "execution_count": 97,
     "metadata": {},
     "output_type": "execute_result"
    }
   ],
   "source": [
    "test1 = 2 * np.random.random((20, 25)) - 1\n",
    "test1.shape\n",
    "\n",
    "# 첫 가중치의 모양은 (20, 25)이다.\n",
    "\n",
    "test2 = 2 * np.random.random((20, 20)) - 1\n",
    "test2.shape\n",
    "\n",
    "# 두번째 가중치의 모양은 (20, 20)이다... 왜?\n",
    "## calcOutput_ReLU 의 식을 살펴보자"
   ]
  },
  {
   "cell_type": "code",
   "execution_count": null,
   "metadata": {},
   "outputs": [],
   "source": [
    "# Relu를 이용한 정방향 계산\n",
    "# def calcOutput_ReLU(W1, W2, W3, W4, x):\n",
    "#     v1 = np.matmul(W1, x)\n",
    "#                         # x :  입력 데이터를 통해\n",
    "#                         # x  = np.reshape(X[:, :, k], (25, 1))\n",
    "                # matmul ((20,25) , (25,1)) ==> 20 * 1\n",
    "#                     # W1 : weight를 통과\n",
    "#     y1 = ReLU(v1)\n",
    "                # ReLU(v1) ==> 20 * 1\n",
    "#     v2 = np.matmul(W2, y1)\n",
    "                # matmul((20,20), (20,1)) ==> 20 * 1\n",
    "#     y2 = ReLU(v2)\n",
    "                # ReLU(v2) ==> 20 * 1\n",
    "#     v3 = np.matmul(W3, y2)\n",
    "                # matmul((20, 20), (20, 1)) == > 20 * 1\n",
    "#     y3 = ReLU(v3)\n",
    "                # ReLU(v3) ==> 20 * 1\n",
    "#     v = np.matmul(W4, y3)\n",
    "                # matmul((5, 20) , (20, 1)) == > 5 * 1\n",
    "#     y = Softmax(v)\n",
    "                        # x = np.subtract(x, np.max(x))       # prevent overflow\n",
    "                        #                     # 기준이 되는 값\n",
    "                        #                         # 뺄셈할 값\n",
    "\n",
    "                        #     ex = np.exp(x)\n",
    "\n",
    "                        #     return ex / np.sum(ex)                \n",
    "\n",
    "#     return y, v1, v2, v3, y1, y2, y3"
   ]
  },
  {
   "cell_type": "markdown",
   "metadata": {},
   "source": [
    "## 결론 (추론?)\n",
    "\n",
    "* 출력값은 `5*1`로 나온다.\n",
    "* 출력값을 맞추기 위해 맨 마지막 가중치는 `(5, ) 사이즈로 맞춘것`.\n",
    "* 첫번째 가중치의 경우 `원본 피쳐의 사이즈가 (25, 1)`로 맞춰져 있기 때문에`(np.reshape(X[:,:,k], (25,1))`, W1 = (, 25) 사이즈로 맞춘것.\n",
    "* 그 이후의 가중치들은 `matmul을 위하여 동일한 사이즈로 계속 맞춰간 것`이다.\n",
    "\n",
    "\n",
    "## 의문\n",
    "- Q. 그렇다면 왜 `(20, 25)`로 설정을 하게 된걸까? `(25, 25) 나, (100, 25)` 로 들어가는 것은 안될까? \n",
    "# Try it"
   ]
  },
  {
   "cell_type": "code",
   "execution_count": 115,
   "metadata": {},
   "outputs": [
    {
     "data": {
      "application/vnd.jupyter.widget-view+json": {
       "model_id": "eb6ec49785d84ef5a5b020024bc14839",
       "version_major": 2,
       "version_minor": 0
      },
      "text/plain": [
       "  0%|          | 0/10000 [00:00<?, ?it/s]"
      ]
     },
     "metadata": {},
     "output_type": "display_data"
    }
   ],
   "source": [
    "# 가중치 랜덤하게 설정\n",
    "\n",
    "W1 = 2 * np.random.random((25, 25)) - 1\n",
    "W2 = 2 * np.random.random((25, 25)) - 1\n",
    "W3 = 2 * np.random.random((25, 25)) - 1\n",
    "W4 = 2 * np.random.random((5, 25)) - 1\n",
    "\n",
    "alpha = 0.01\n",
    "\n",
    "for epoch in tqdm.notebook.tqdm(range(10000)):\n",
    "    W1, W2, W3, W4 = DeepReLU(W1, W2, W3, W4, X, D, alpha)"
   ]
  },
  {
   "cell_type": "code",
   "execution_count": 116,
   "metadata": {},
   "outputs": [],
   "source": [
    "def verify_algorithm(x, W1, W2, W3, W4):\n",
    "    v1 = np.matmul(W1, x)\n",
    "    y1 = ReLU(v1)\n",
    "\n",
    "    v2 = np.matmul(W2, y1)\n",
    "    y2 = ReLU(v2)\n",
    "\n",
    "    v3 = np.matmul(W3, y2)\n",
    "    y3 = ReLU(v3)\n",
    "\n",
    "    v  = np.matmul(W4, y3)\n",
    "    y  = Softmax(v)\n",
    "\n",
    "    return y"
   ]
  },
  {
   "cell_type": "code",
   "execution_count": 117,
   "metadata": {},
   "outputs": [
    {
     "name": "stdout",
     "output_type": "stream",
     "text": [
      "Y = 1: \n",
      "[1]\n",
      "[[9.99971850e-01]\n",
      " [2.30657990e-09]\n",
      " [5.50419794e-06]\n",
      " [1.44660840e-05]\n",
      " [8.17765792e-06]]\n",
      "-------\n",
      "Y = 2: \n",
      "[2]\n",
      "[[1.15878463e-12]\n",
      " [9.99984884e-01]\n",
      " [1.41201396e-05]\n",
      " [9.96227736e-07]\n",
      " [7.37514937e-15]]\n",
      "-------\n",
      "Y = 3: \n",
      "[3]\n",
      "[[1.61186550e-05]\n",
      " [1.91032640e-05]\n",
      " [9.99940536e-01]\n",
      " [1.55459140e-09]\n",
      " [2.42401101e-05]]\n",
      "-------\n",
      "Y = 4: \n",
      "[4]\n",
      "[[1.70351912e-05]\n",
      " [1.87180251e-06]\n",
      " [2.14274868e-09]\n",
      " [9.99981091e-01]\n",
      " [3.76661384e-13]]\n",
      "-------\n",
      "Y = 5: \n",
      "[5]\n",
      "[[3.14413333e-09]\n",
      " [6.27137319e-08]\n",
      " [2.63273611e-05]\n",
      " [1.89856090e-16]\n",
      " [9.99973607e-01]]\n",
      "-------\n"
     ]
    }
   ],
   "source": [
    "N = 5\n",
    "for k in range(N):\n",
    "    x = np.reshape(X[:, :, k], (25,1))\n",
    "    y = verify_algorithm(x, W1, W2, W3, W4)\n",
    "\n",
    "    print('Y = {}: '.format(k+1))\n",
    "    print(np.argmax(y, axis=0) + 1)\n",
    "    print(y)\n",
    "    print('-------')"
   ]
  },
  {
   "cell_type": "markdown",
   "metadata": {},
   "source": [
    "# ... 된다!"
   ]
  },
  {
   "cell_type": "code",
   "execution_count": 125,
   "metadata": {},
   "outputs": [
    {
     "data": {
      "application/vnd.jupyter.widget-view+json": {
       "model_id": "1a6dd1e6729444839132090d1c74d5ef",
       "version_major": 2,
       "version_minor": 0
      },
      "text/plain": [
       "  0%|          | 0/10000 [00:00<?, ?it/s]"
      ]
     },
     "metadata": {},
     "output_type": "display_data"
    }
   ],
   "source": [
    "# 가중치 랜덤하게 설정\n",
    "\n",
    "W1 = 2 * np.random.random((100, 25)) - 1\n",
    "W2 = 2 * np.random.random((100, 100)) - 1\n",
    "W3 = 2 * np.random.random((100, 100)) - 1\n",
    "W4 = 2 * np.random.random((5, 100)) - 1\n",
    "\n",
    "alpha = 0.01\n",
    "\n",
    "for epoch in tqdm.notebook.tqdm(range(10000)):\n",
    "    W1, W2, W3, W4 = DeepReLU(W1, W2, W3, W4, X, D, alpha)"
   ]
  },
  {
   "cell_type": "code",
   "execution_count": 126,
   "metadata": {},
   "outputs": [],
   "source": [
    "def verify_algorithm(x, W1, W2, W3, W4):\n",
    "    v1 = np.matmul(W1, x)\n",
    "    y1 = ReLU(v1)\n",
    "\n",
    "    v2 = np.matmul(W2, y1)\n",
    "    y2 = ReLU(v2)\n",
    "\n",
    "    v3 = np.matmul(W3, y2)\n",
    "    y3 = ReLU(v3)\n",
    "\n",
    "    v  = np.matmul(W4, y3)\n",
    "    y  = Softmax(v)\n",
    "\n",
    "    return y"
   ]
  },
  {
   "cell_type": "code",
   "execution_count": 127,
   "metadata": {},
   "outputs": [
    {
     "name": "stdout",
     "output_type": "stream",
     "text": [
      "Y = 1: \n",
      "[1]\n",
      "[[1.00000000e+00]\n",
      " [3.06683968e-12]\n",
      " [2.13719534e-19]\n",
      " [9.67550437e-24]\n",
      " [5.90454607e-25]]\n",
      "-------\n",
      "Y = 2: \n",
      "[2]\n",
      "[[1.10136876e-49]\n",
      " [9.99999888e-01]\n",
      " [8.41796287e-16]\n",
      " [1.12282591e-07]\n",
      " [1.99686142e-28]]\n",
      "-------\n",
      "Y = 3: \n",
      "[3]\n",
      "[[1.20746500e-21]\n",
      " [6.58159790e-10]\n",
      " [9.99999107e-01]\n",
      " [9.05296997e-13]\n",
      " [8.92591657e-07]]\n",
      "-------\n",
      "Y = 4: \n",
      "[4]\n",
      "[[7.10688277e-15]\n",
      " [1.40057783e-41]\n",
      " [6.68450430e-65]\n",
      " [1.00000000e+00]\n",
      " [1.42821260e-52]]\n",
      "-------\n",
      "Y = 5: \n",
      "[5]\n",
      "[[2.02683498e-26]\n",
      " [5.34434731e-13]\n",
      " [8.44365860e-09]\n",
      " [6.90906171e-17]\n",
      " [9.99999992e-01]]\n",
      "-------\n"
     ]
    }
   ],
   "source": [
    "N = 5\n",
    "for k in range(N):\n",
    "    x = np.reshape(X[:, :, k], (25,1))\n",
    "    y = verify_algorithm(x, W1, W2, W3, W4)\n",
    "\n",
    "    print('Y = {}: '.format(k+1))\n",
    "    print(np.argmax(y, axis=0) + 1)\n",
    "    print(y)\n",
    "    print('-------')"
   ]
  },
  {
   "cell_type": "markdown",
   "metadata": {},
   "source": [
    "# 가중치 사이즈를 조정할 때 발생하는 것들\n",
    "- 가중치의 shape 크기를 크게해도 된다. 하지만 `그만큼 시간이 걸린다.`\n",
    "- 결과값이 더욱 `1(100%)에 가깝게` 도달한다. 하지만 `과적합의 문제가 발생하지는 않을까...?` 걱정된다."
   ]
  },
  {
   "cell_type": "markdown",
   "metadata": {},
   "source": [
    "-----------------------"
   ]
  },
  {
   "cell_type": "code",
   "execution_count": 128,
   "metadata": {},
   "outputs": [
    {
     "data": {
      "application/vnd.jupyter.widget-view+json": {
       "model_id": "5b65adc68c4a47a6bfaf2edb1c58ddea",
       "version_major": 2,
       "version_minor": 0
      },
      "text/plain": [
       "  0%|          | 0/10000 [00:00<?, ?it/s]"
      ]
     },
     "metadata": {},
     "output_type": "display_data"
    }
   ],
   "source": [
    "# 가중치 랜덤하게 설정\n",
    "\n",
    "W1 = 2 * np.random.random((20, 25)) - 1\n",
    "W2 = 2 * np.random.random((20, 20)) - 1\n",
    "W3 = 2 * np.random.random((20, 20)) - 1\n",
    "W4 = 2 * np.random.random((5, 20)) - 1\n",
    "\n",
    "alpha = 0.01\n",
    "\n",
    "for epoch in tqdm.notebook.tqdm(range(10000)):\n",
    "    W1, W2, W3, W4 = DeepReLU(W1, W2, W3, W4, X, D, alpha)"
   ]
  },
  {
   "cell_type": "code",
   "execution_count": 129,
   "metadata": {},
   "outputs": [],
   "source": [
    "def verify_algorithm(x, W1, W2, W3, W4):\n",
    "    v1 = np.matmul(W1, x)\n",
    "    y1 = ReLU(v1)\n",
    "\n",
    "    v2 = np.matmul(W2, y1)\n",
    "    y2 = ReLU(v2)\n",
    "\n",
    "    v3 = np.matmul(W3, y2)\n",
    "    y3 = ReLU(v3)\n",
    "\n",
    "    v  = np.matmul(W4, y3)\n",
    "    y  = Softmax(v)\n",
    "\n",
    "    return y"
   ]
  },
  {
   "cell_type": "code",
   "execution_count": 130,
   "metadata": {},
   "outputs": [
    {
     "name": "stdout",
     "output_type": "stream",
     "text": [
      "Y = 1: \n",
      "[1]\n",
      "[[9.99982729e-01]\n",
      " [6.95148966e-06]\n",
      " [1.03032633e-05]\n",
      " [3.88816377e-09]\n",
      " [1.19020681e-08]]\n",
      "-------\n",
      "Y = 2: \n",
      "[2]\n",
      "[[2.02738057e-07]\n",
      " [9.99987666e-01]\n",
      " [1.09740937e-05]\n",
      " [7.47802299e-07]\n",
      " [4.09237863e-07]]\n",
      "-------\n",
      "Y = 3: \n",
      "[3]\n",
      "[[1.08960398e-05]\n",
      " [6.28958242e-07]\n",
      " [9.99964615e-01]\n",
      " [1.12502000e-06]\n",
      " [2.27350129e-05]]\n",
      "-------\n",
      "Y = 4: \n",
      "[4]\n",
      "[[6.57978075e-07]\n",
      " [2.99773511e-06]\n",
      " [1.49091487e-09]\n",
      " [9.99986088e-01]\n",
      " [1.02547194e-05]]\n",
      "-------\n",
      "Y = 5: \n",
      "[5]\n",
      "[[7.29406411e-06]\n",
      " [4.28046945e-06]\n",
      " [7.66851172e-06]\n",
      " [9.23681719e-06]\n",
      " [9.99971520e-01]]\n",
      "-------\n"
     ]
    }
   ],
   "source": [
    "N = 5\n",
    "for k in range(N):\n",
    "    x = np.reshape(X[:, :, k], (25,1))\n",
    "    y = verify_algorithm(x, W1, W2, W3, W4)\n",
    "\n",
    "    print('Y = {}: '.format(k+1))\n",
    "    print(np.argmax(y, axis=0) + 1)\n",
    "    print(y)\n",
    "    print('-------')"
   ]
  },
  {
   "cell_type": "code",
   "execution_count": null,
   "metadata": {},
   "outputs": [],
   "source": []
  }
 ],
 "metadata": {
  "interpreter": {
   "hash": "b5a26d0e877c4652cf53eb6b13536f4959f02e722fb5eef7979a29d14fb02c8a"
  },
  "kernelspec": {
   "display_name": "Python 3.8.13 ('TF')",
   "language": "python",
   "name": "python3"
  },
  "language_info": {
   "codemirror_mode": {
    "name": "ipython",
    "version": 3
   },
   "file_extension": ".py",
   "mimetype": "text/x-python",
   "name": "python",
   "nbconvert_exporter": "python",
   "pygments_lexer": "ipython3",
   "version": "3.8.13"
  },
  "orig_nbformat": 4
 },
 "nbformat": 4,
 "nbformat_minor": 2
}

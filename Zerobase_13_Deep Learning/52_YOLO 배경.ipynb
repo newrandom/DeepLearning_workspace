{
 "cells": [
  {
   "cell_type": "markdown",
   "metadata": {},
   "source": [
    "# 52_YOLO 배경\n",
    "> You Only Look Once"
   ]
  },
  {
   "cell_type": "markdown",
   "metadata": {},
   "source": [
    "![](./lecture_image/52-01.png)"
   ]
  },
  {
   "cell_type": "markdown",
   "metadata": {},
   "source": [
    "![](./lecture_image/52-02.png)"
   ]
  },
  {
   "cell_type": "markdown",
   "metadata": {},
   "source": [
    "![](./lecture_image/52-03.png)"
   ]
  },
  {
   "cell_type": "markdown",
   "metadata": {},
   "source": [
    "![](./lecture_image/52-04.png)"
   ]
  },
  {
   "cell_type": "markdown",
   "metadata": {},
   "source": [
    "![](./lecture_image/52-05.png)"
   ]
  },
  {
   "cell_type": "markdown",
   "metadata": {},
   "source": [
    "![](./lecture_image/52-06.png)"
   ]
  },
  {
   "cell_type": "markdown",
   "metadata": {},
   "source": [
    "# 1 or 2 stage Detector"
   ]
  },
  {
   "cell_type": "markdown",
   "metadata": {},
   "source": [
    "- ### 1 - stage Detector : YOLO \n",
    "> ### - Regional Proposal 와 Classification이 동시에 이루어짐\n",
    "\n",
    "- ### 2 - stage Detector \n",
    "> ### - Regional Proposal 와 Classification이 순차적으로 이루어짐"
   ]
  },
  {
   "cell_type": "markdown",
   "metadata": {},
   "source": [
    "## Object Detection의 활용\n",
    "- 자율주행자동차\n",
    "- OCR\n",
    "- Aerial Image 분석\n",
    "- CCTV 감시\n",
    "- 스포츠 경기 분석\n",
    "- 무인점포\n",
    "- 불량 제품 검출\n"
   ]
  },
  {
   "cell_type": "markdown",
   "metadata": {},
   "source": []
  }
 ],
 "metadata": {
  "kernelspec": {
   "display_name": "Python 3.8.13 ('tensorflow-dev')",
   "language": "python",
   "name": "python3"
  },
  "language_info": {
   "name": "python",
   "version": "3.8.13"
  },
  "orig_nbformat": 4,
  "vscode": {
   "interpreter": {
    "hash": "edf8c54a41a41a32cf49f70f45bd21c79eabf4cef1c0118d679d509e032472c8"
   }
  }
 },
 "nbformat": 4,
 "nbformat_minor": 2
}

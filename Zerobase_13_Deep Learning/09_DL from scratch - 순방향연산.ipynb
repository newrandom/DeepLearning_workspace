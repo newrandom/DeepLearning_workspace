{
 "cells": [
  {
   "cell_type": "markdown",
   "metadata": {},
   "source": [
    "# 09_DL from scratch - 순방향연산"
   ]
  },
  {
   "cell_type": "markdown",
   "metadata": {},
   "source": [
    "- 넘파이만 가지고 직접 해볼것.\n",
    "- 딥러닝 구조, 학습원리를 배우게 될 것.\n",
    "- 순방향으로 연산하는 것을 추론이라고 한다."
   ]
  },
  {
   "cell_type": "code",
   "execution_count": 1,
   "metadata": {},
   "outputs": [],
   "source": [
    "import numpy as np\n",
    "\n",
    "X = np.array([\n",
    "    [0,0,1],\n",
    "    [0,1,1],\n",
    "    [1,0,1],\n",
    "    [1,1,1]\n",
    "])"
   ]
  },
  {
   "cell_type": "markdown",
   "metadata": {},
   "source": [
    "# 활성화 함수의 종류\n",
    "![](./lecture_image/09-01.png)"
   ]
  },
  {
   "cell_type": "code",
   "execution_count": 14,
   "metadata": {},
   "outputs": [],
   "source": [
    "# 활성함수로 sigmoid를 만듦\n",
    "def sigmoid(x):\n",
    "    return 1.0 / (1.0 + np.exp(-x))"
   ]
  },
  {
   "cell_type": "code",
   "execution_count": 15,
   "metadata": {},
   "outputs": [
    {
     "data": {
      "text/plain": [
       "array([[-0.22154584,  0.19613958,  0.1156338 ]])"
      ]
     },
     "execution_count": 15,
     "metadata": {},
     "output_type": "execute_result"
    }
   ],
   "source": [
    "# 가중치를 랜덤하게 선택\n",
    "# 원래는 학습이 완료된 가중치를 사용해야 한다.\n",
    "W = 2 * np.random.random((1,3)) - 1\n",
    "        # np.random.random((n,m)) : 양수만 나온다.\n",
    "    # 2를 곱하고\n",
    "                                # -1을 해주면 음수 양수 골고루 나온다.\n",
    "W"
   ]
  },
  {
   "cell_type": "code",
   "execution_count": 17,
   "metadata": {},
   "outputs": [
    {
     "name": "stdout",
     "output_type": "stream",
     "text": [
      "[0.52887628]\n",
      "[0.57731806]\n",
      "[0.47354671]\n",
      "[0.5225416]\n"
     ]
    }
   ],
   "source": [
    "# 추론결과\n",
    "N = 4\n",
    "# 데이터가 4개가 있기 때문에 4로 지정함.\n",
    "for k in range(N):\n",
    "    x = X[k, :].T\n",
    "        # k행의 모든 열을 가져옴.\n",
    "                # T : transpose\n",
    "    v = np.matmul(W, x)\n",
    "            # matmul : matrics multiplics // 행렬의 곱의 합\n",
    "    y = sigmoid(v)\n",
    "\n",
    "    print(y)"
   ]
  },
  {
   "cell_type": "code",
   "execution_count": null,
   "metadata": {},
   "outputs": [],
   "source": []
  }
 ],
 "metadata": {
  "interpreter": {
   "hash": "b5a26d0e877c4652cf53eb6b13536f4959f02e722fb5eef7979a29d14fb02c8a"
  },
  "kernelspec": {
   "display_name": "Python 3.8.13 ('TF')",
   "language": "python",
   "name": "python3"
  },
  "language_info": {
   "codemirror_mode": {
    "name": "ipython",
    "version": 3
   },
   "file_extension": ".py",
   "mimetype": "text/x-python",
   "name": "python",
   "nbconvert_exporter": "python",
   "pygments_lexer": "ipython3",
   "version": "3.8.13"
  },
  "orig_nbformat": 4
 },
 "nbformat": 4,
 "nbformat_minor": 2
}

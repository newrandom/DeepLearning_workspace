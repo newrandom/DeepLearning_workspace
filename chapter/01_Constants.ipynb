{
 "cells": [
  {
   "cell_type": "markdown",
   "id": "874c79aa",
   "metadata": {},
   "source": [
    "# Constants"
   ]
  },
  {
   "cell_type": "code",
   "execution_count": 74,
   "id": "64973dd4",
   "metadata": {},
   "outputs": [],
   "source": [
    "import tensorflow as tf"
   ]
  },
  {
   "cell_type": "code",
   "execution_count": 75,
   "id": "059ff4a4",
   "metadata": {},
   "outputs": [],
   "source": [
    "import numpy as np"
   ]
  },
  {
   "cell_type": "markdown",
   "id": "da4d6dd2",
   "metadata": {},
   "source": [
    "## Tensor"
   ]
  },
  {
   "cell_type": "markdown",
   "id": "093978d8",
   "metadata": {},
   "source": [
    "- Deeplearning framework는 기본적으로 Tensor를 다루는 도구다.\n",
    "    - [Tensor](https://www.google.com/search?q=Tensor&newwindow=1&sxsrf=AOaemvLxCRvi46j5dRtWwY8K6ssvkpF48A:1641452781782&source=lnms&tbm=isch&sa=X&ved=2ahUKEwin2eSPyJz1AhXNdd4KHWzUAd8Q_AUoAXoECAIQAw&biw=1440&bih=820&dpr=2)\n",
    "\n",
    "\n",
    "- Tensor를 다룰 때 가장 중요한 것! \n",
    "\n",
    "  ${\\rightarrow} \\ $ **SHAPE !!!**\n",
    "  \n",
    " (해보면 알겠지만, 제일 에러 많이 나는 이유, 제일 헷갈리는 것, 개발할 때 우리가 이론을 알아야 하는 이유, 함수들의 설정값을 확인해야하는 이유)\n",
    " \n",
    " "
   ]
  },
  {
   "cell_type": "markdown",
   "id": "3907c01d",
   "metadata": {},
   "source": [
    "## Tensor 생성"
   ]
  },
  {
   "cell_type": "markdown",
   "id": "7ed66109",
   "metadata": {},
   "source": [
    "우리가 생성하는 것은 `tf.Tensor` 데이터!"
   ]
  },
  {
   "cell_type": "markdown",
   "id": "a902cacd",
   "metadata": {},
   "source": [
    "**항상 체크 해야 할 것 !**\n",
    " - shape\n",
    " - dtype (데이터 타입이 같아야 연산이 가능합니다.)"
   ]
  },
  {
   "cell_type": "markdown",
   "id": "4da46b25",
   "metadata": {},
   "source": [
    "<h4> Constant (상수)</h4>\n",
    "\n",
    "- **```tf.constant()```**\n",
    "\n",
    "    - list -> Tensor\n",
    "    - tuple -> Tensor\n",
    "    - Array -> Tensor"
   ]
  },
  {
   "cell_type": "code",
   "execution_count": 76,
   "id": "f1da2ea9",
   "metadata": {},
   "outputs": [
    {
     "data": {
      "text/plain": [
       "<tf.Tensor: shape=(3,), dtype=int32, numpy=array([1, 2, 3], dtype=int32)>"
      ]
     },
     "execution_count": 76,
     "metadata": {},
     "output_type": "execute_result"
    }
   ],
   "source": [
    "li_ten = tf.constant([1, 2, 3])\n",
    "li_ten"
   ]
  },
  {
   "cell_type": "code",
   "execution_count": 77,
   "id": "94433696",
   "metadata": {},
   "outputs": [
    {
     "data": {
      "text/plain": [
       "<tf.Tensor: shape=(3,), dtype=float32, numpy=array([1., 2., 3.], dtype=float32)>"
      ]
     },
     "execution_count": 77,
     "metadata": {},
     "output_type": "execute_result"
    }
   ],
   "source": [
    "li_ten_f = tf.constant([1., 2., 3.])\n",
    "li_ten_f"
   ]
  },
  {
   "cell_type": "code",
   "execution_count": 78,
   "id": "036f4faa",
   "metadata": {},
   "outputs": [
    {
     "data": {
      "text/plain": [
       "<tf.Tensor: shape=(2, 3), dtype=int32, numpy=\n",
       "array([[1, 2, 3],\n",
       "       [1, 2, 3]], dtype=int32)>"
      ]
     },
     "execution_count": 78,
     "metadata": {},
     "output_type": "execute_result"
    }
   ],
   "source": [
    "tu_ten = tf.constant(((1, 2, 3), (1, 2, 3)), name=\"sample\")\n",
    "tu_ten"
   ]
  },
  {
   "cell_type": "code",
   "execution_count": 79,
   "id": "cb81c7eb",
   "metadata": {},
   "outputs": [
    {
     "data": {
      "text/plain": [
       "<tf.Tensor: shape=(3,), dtype=float64, numpy=array([1., 2., 3.])>"
      ]
     },
     "execution_count": 79,
     "metadata": {},
     "output_type": "execute_result"
    }
   ],
   "source": [
    "arr = np.array([1., 2., 3.])#, dtype='float64')\n",
    "arr_ten = tf.constant(arr)\n",
    "arr_ten"
   ]
  },
  {
   "cell_type": "markdown",
   "id": "23aa3174",
   "metadata": {},
   "source": [
    "#### 잠깐 옆으로 새서...\n",
    "* double precision : 64bits\n",
    "* single precision : 32bits\n",
    "* half precision   : 16bits"
   ]
  },
  {
   "cell_type": "markdown",
   "id": "a39b8eae",
   "metadata": {},
   "source": [
    "### Numpy array 추출"
   ]
  },
  {
   "cell_type": "code",
   "execution_count": 80,
   "id": "83b36c1c",
   "metadata": {},
   "outputs": [
    {
     "data": {
      "text/plain": [
       "(array([1., 2., 3.]), numpy.ndarray)"
      ]
     },
     "execution_count": 80,
     "metadata": {},
     "output_type": "execute_result"
    }
   ],
   "source": [
    "arr_ten.numpy(), type(arr_ten.numpy())"
   ]
  },
  {
   "cell_type": "code",
   "execution_count": 81,
   "id": "c3dc3fd8",
   "metadata": {},
   "outputs": [
    {
     "data": {
      "text/plain": [
       "(array([1, 2, 3], dtype=int32), numpy.ndarray)"
      ]
     },
     "execution_count": 81,
     "metadata": {},
     "output_type": "execute_result"
    }
   ],
   "source": [
    "li_ten.numpy(), type(li_ten.numpy())"
   ]
  },
  {
   "cell_type": "code",
   "execution_count": 82,
   "id": "7e5e33c2",
   "metadata": {},
   "outputs": [],
   "source": [
    "not_a_matrix = [[1,2,3], [4, 5], [6, 7, 8]]\n",
    "# tf.constant(not_a_matrix)\n",
    "\n",
    "# ValueError: Can't convert non-rectangular Python sequence to Tensor.\n",
    "## 3개의 shape 가 맞지 않아서 발생하는 오류"
   ]
  },
  {
   "cell_type": "code",
   "execution_count": 83,
   "id": "942c9361",
   "metadata": {},
   "outputs": [
    {
     "data": {
      "text/plain": [
       "<tf.Tensor: shape=(3, 3), dtype=int32, numpy=\n",
       "array([[1, 2, 3],\n",
       "       [4, 5, 6],\n",
       "       [7, 8, 9]], dtype=int32)>"
      ]
     },
     "execution_count": 83,
     "metadata": {},
     "output_type": "execute_result"
    }
   ],
   "source": [
    "# 3개가 같은 shape 이면 constant 된다.\n",
    "a_matrix = [[1,2,3], [4,5,6], [7,8,9]]\n",
    "tf.constant(a_matrix)"
   ]
  },
  {
   "cell_type": "markdown",
   "id": "1c356a83",
   "metadata": {},
   "source": [
    "### shape, dtype 항상 체크!!"
   ]
  },
  {
   "cell_type": "code",
   "execution_count": 84,
   "id": "59c55661",
   "metadata": {},
   "outputs": [
    {
     "data": {
      "text/plain": [
       "(TensorShape([3]), TensorShape([2, 3]))"
      ]
     },
     "execution_count": 84,
     "metadata": {},
     "output_type": "execute_result"
    }
   ],
   "source": [
    "li_ten.shape, tu_ten.shape"
   ]
  },
  {
   "cell_type": "code",
   "execution_count": 85,
   "id": "cf4c62eb",
   "metadata": {},
   "outputs": [
    {
     "data": {
      "text/plain": [
       "(tf.float64, tf.int32)"
      ]
     },
     "execution_count": 85,
     "metadata": {},
     "output_type": "execute_result"
    }
   ],
   "source": [
    "arr_ten.dtype, li_ten.dtype"
   ]
  },
  {
   "cell_type": "code",
   "execution_count": 86,
   "id": "c7287754",
   "metadata": {},
   "outputs": [],
   "source": [
    "# 1번 케이스\n",
    "# tf.matmul(li_ten, tu_ten)       # matmul : 3차원 이상의 텐서 사이의 행렬 곱\n",
    "# InvalidArgumentError: In[0] and In[1] has different ndims: [3] vs. [2,3] [Op:MatMul]\n",
    "\n",
    "# shape 가 달라셔 발생하는 오류 // 디비전이 안맞아서 내적이 불가능하다."
   ]
  },
  {
   "cell_type": "code",
   "execution_count": 87,
   "id": "a999f6e5",
   "metadata": {},
   "outputs": [],
   "source": [
    "# 2번 케이스\n",
    "# tf.matmul(tu_ten, li_ten)       # 랭크 수(차원)가 안맞아서 불가능하다. // 랭크수를 맞추면 가능함."
   ]
  },
  {
   "cell_type": "code",
   "execution_count": 88,
   "id": "cb21fbc2",
   "metadata": {},
   "outputs": [
    {
     "name": "stdout",
     "output_type": "stream",
     "text": [
      "(3,) 1\n",
      "(2, 3) 2\n"
     ]
    }
   ],
   "source": [
    "# 랭크 수(차원)를 확인하는 명령어 : .ndim\n",
    "print(li_ten.shape, li_ten.ndim)        # 1차원\n",
    "print(tu_ten.shape, tu_ten.ndim)        # 2차원"
   ]
  },
  {
   "cell_type": "code",
   "execution_count": 89,
   "id": "808843ec",
   "metadata": {},
   "outputs": [],
   "source": [
    "# 3번 케이스\n",
    "# arr_ten * li_ten\n",
    "\n",
    "# InvalidArgumentError: cannot compute Mul as input #1(zero-based) was expected to be a double tensor but is a int32 tensor [Op:Mul]\n",
    "# dtype 이 달라서 문제가 생김."
   ]
  },
  {
   "cell_type": "code",
   "execution_count": 90,
   "id": "4d22fcab",
   "metadata": {},
   "outputs": [
    {
     "data": {
      "text/plain": [
       "<tf.Tensor: shape=(3,), dtype=float64, numpy=array([1., 2., 3.])>"
      ]
     },
     "execution_count": 90,
     "metadata": {},
     "output_type": "execute_result"
    }
   ],
   "source": [
    "arr_ten"
   ]
  },
  {
   "cell_type": "code",
   "execution_count": 91,
   "id": "cce8919d",
   "metadata": {},
   "outputs": [
    {
     "data": {
      "text/plain": [
       "<tf.Tensor: shape=(3,), dtype=int32, numpy=array([1, 2, 3], dtype=int32)>"
      ]
     },
     "execution_count": 91,
     "metadata": {},
     "output_type": "execute_result"
    }
   ],
   "source": [
    "li_ten"
   ]
  },
  {
   "cell_type": "markdown",
   "id": "c3babfd8",
   "metadata": {},
   "source": [
    "# 데이터 타입 컨트롤하는 방법\n",
    "  - `tf.cast`"
   ]
  },
  {
   "cell_type": "code",
   "execution_count": 92,
   "id": "0c2cf3cb",
   "metadata": {},
   "outputs": [
    {
     "data": {
      "text/plain": [
       "<tf.Tensor: shape=(3,), dtype=float32, numpy=array([1., 2., 3.], dtype=float32)>"
      ]
     },
     "execution_count": 92,
     "metadata": {},
     "output_type": "execute_result"
    }
   ],
   "source": [
    "# 미리 지정해주거나\n",
    "tensor = tf.constant([1, 2, 3], dtype=tf.float32)\n",
    "tensor"
   ]
  },
  {
   "cell_type": "code",
   "execution_count": 93,
   "id": "b4982741",
   "metadata": {},
   "outputs": [
    {
     "data": {
      "text/plain": [
       "<tf.Tensor: shape=(3,), dtype=int16, numpy=array([1, 2, 3], dtype=int16)>"
      ]
     },
     "execution_count": 93,
     "metadata": {},
     "output_type": "execute_result"
    }
   ],
   "source": [
    "# tf.cast를 사용. 다만, 많은 경우 미리 데이터타입을 정리해둘 수 있다.\n",
    "tf.cast(tensor, dtype=tf.int16)"
   ]
  },
  {
   "cell_type": "code",
   "execution_count": null,
   "id": "792ad7c9",
   "metadata": {},
   "outputs": [],
   "source": []
  },
  {
   "cell_type": "markdown",
   "id": "63b5855f",
   "metadata": {},
   "source": [
    "#### 간단 퀴즈 \n",
    "\n",
    "아래 코드를 에러 없이 실행 하시오. "
   ]
  },
  {
   "cell_type": "code",
   "execution_count": 94,
   "id": "0145cabe",
   "metadata": {},
   "outputs": [
    {
     "data": {
      "text/plain": [
       "(<tf.Tensor: shape=(3,), dtype=float64, numpy=array([1., 2., 3.])>,\n",
       " <tf.Tensor: shape=(3,), dtype=int32, numpy=array([1, 2, 3], dtype=int32)>)"
      ]
     },
     "execution_count": 94,
     "metadata": {},
     "output_type": "execute_result"
    }
   ],
   "source": [
    "arr_ten, li_ten"
   ]
  },
  {
   "cell_type": "code",
   "execution_count": 95,
   "id": "41ee6662",
   "metadata": {},
   "outputs": [
    {
     "ename": "InvalidArgumentError",
     "evalue": "cannot compute Mul as input #1(zero-based) was expected to be a double tensor but is a int32 tensor [Op:Mul]",
     "output_type": "error",
     "traceback": [
      "\u001b[0;31m---------------------------------------------------------------------------\u001b[0m",
      "\u001b[0;31mInvalidArgumentError\u001b[0m                      Traceback (most recent call last)",
      "\u001b[1;32m/Users/newrandom/Documents/DL_ws/01_Constants.ipynb Cell 35'\u001b[0m in \u001b[0;36m<cell line: 1>\u001b[0;34m()\u001b[0m\n\u001b[0;32m----> <a href='vscode-notebook-cell:/Users/newrandom/Documents/DL_ws/01_Constants.ipynb#ch0000033?line=0'>1</a>\u001b[0m arr_ten \u001b[39m*\u001b[39;49m li_ten\n",
      "File \u001b[0;32m~/miniforge3/envs/TF/lib/python3.10/site-packages/tensorflow/python/util/traceback_utils.py:153\u001b[0m, in \u001b[0;36mfilter_traceback.<locals>.error_handler\u001b[0;34m(*args, **kwargs)\u001b[0m\n\u001b[1;32m    <a href='file:///Users/newrandom/miniforge3/envs/TF/lib/python3.10/site-packages/tensorflow/python/util/traceback_utils.py?line=150'>151</a>\u001b[0m \u001b[39mexcept\u001b[39;00m \u001b[39mException\u001b[39;00m \u001b[39mas\u001b[39;00m e:\n\u001b[1;32m    <a href='file:///Users/newrandom/miniforge3/envs/TF/lib/python3.10/site-packages/tensorflow/python/util/traceback_utils.py?line=151'>152</a>\u001b[0m   filtered_tb \u001b[39m=\u001b[39m _process_traceback_frames(e\u001b[39m.\u001b[39m__traceback__)\n\u001b[0;32m--> <a href='file:///Users/newrandom/miniforge3/envs/TF/lib/python3.10/site-packages/tensorflow/python/util/traceback_utils.py?line=152'>153</a>\u001b[0m   \u001b[39mraise\u001b[39;00m e\u001b[39m.\u001b[39mwith_traceback(filtered_tb) \u001b[39mfrom\u001b[39;00m \u001b[39mNone\u001b[39m\n\u001b[1;32m    <a href='file:///Users/newrandom/miniforge3/envs/TF/lib/python3.10/site-packages/tensorflow/python/util/traceback_utils.py?line=153'>154</a>\u001b[0m \u001b[39mfinally\u001b[39;00m:\n\u001b[1;32m    <a href='file:///Users/newrandom/miniforge3/envs/TF/lib/python3.10/site-packages/tensorflow/python/util/traceback_utils.py?line=154'>155</a>\u001b[0m   \u001b[39mdel\u001b[39;00m filtered_tb\n",
      "File \u001b[0;32m~/miniforge3/envs/TF/lib/python3.10/site-packages/tensorflow/python/framework/ops.py:7107\u001b[0m, in \u001b[0;36mraise_from_not_ok_status\u001b[0;34m(e, name)\u001b[0m\n\u001b[1;32m   <a href='file:///Users/newrandom/miniforge3/envs/TF/lib/python3.10/site-packages/tensorflow/python/framework/ops.py?line=7104'>7105</a>\u001b[0m \u001b[39mdef\u001b[39;00m \u001b[39mraise_from_not_ok_status\u001b[39m(e, name):\n\u001b[1;32m   <a href='file:///Users/newrandom/miniforge3/envs/TF/lib/python3.10/site-packages/tensorflow/python/framework/ops.py?line=7105'>7106</a>\u001b[0m   e\u001b[39m.\u001b[39mmessage \u001b[39m+\u001b[39m\u001b[39m=\u001b[39m (\u001b[39m\"\u001b[39m\u001b[39m name: \u001b[39m\u001b[39m\"\u001b[39m \u001b[39m+\u001b[39m name \u001b[39mif\u001b[39;00m name \u001b[39mis\u001b[39;00m \u001b[39mnot\u001b[39;00m \u001b[39mNone\u001b[39;00m \u001b[39melse\u001b[39;00m \u001b[39m\"\u001b[39m\u001b[39m\"\u001b[39m)\n\u001b[0;32m-> <a href='file:///Users/newrandom/miniforge3/envs/TF/lib/python3.10/site-packages/tensorflow/python/framework/ops.py?line=7106'>7107</a>\u001b[0m   \u001b[39mraise\u001b[39;00m core\u001b[39m.\u001b[39m_status_to_exception(e) \u001b[39mfrom\u001b[39;00m \u001b[39mNone\u001b[39m\n",
      "\u001b[0;31mInvalidArgumentError\u001b[0m: cannot compute Mul as input #1(zero-based) was expected to be a double tensor but is a int32 tensor [Op:Mul]"
     ]
    }
   ],
   "source": [
    "arr_ten * li_ten        # dtype이 달라서 생기는 문제"
   ]
  },
  {
   "cell_type": "markdown",
   "id": "6ceece97",
   "metadata": {},
   "source": [
    "------"
   ]
  },
  {
   "cell_type": "code",
   "execution_count": null,
   "id": "c103c075",
   "metadata": {},
   "outputs": [
    {
     "data": {
      "text/plain": [
       "<tf.Tensor: shape=(3,), dtype=int32, numpy=array([1, 2, 3], dtype=int32)>"
      ]
     },
     "execution_count": 42,
     "metadata": {},
     "output_type": "execute_result"
    }
   ],
   "source": [
    "arr_ten = tf.cast(arr_ten, dtype=tf.int32)          # arr_ten 의 dtype을 int32로 바꾸기\n",
    "arr_ten"
   ]
  },
  {
   "cell_type": "code",
   "execution_count": null,
   "id": "1f55bdd6",
   "metadata": {},
   "outputs": [
    {
     "data": {
      "text/plain": [
       "<tf.Tensor: shape=(3,), dtype=int32, numpy=array([1, 4, 9], dtype=int32)>"
      ]
     },
     "execution_count": 43,
     "metadata": {},
     "output_type": "execute_result"
    }
   ],
   "source": [
    "arr_ten * li_ten"
   ]
  },
  {
   "cell_type": "code",
   "execution_count": null,
   "id": "2afbeff7",
   "metadata": {},
   "outputs": [],
   "source": []
  },
  {
   "cell_type": "markdown",
   "id": "ba8e4a02",
   "metadata": {},
   "source": [
    "### 특정 값의 Tensor 생성\n",
    "\n",
    " - `tf.ones`\n",
    " - `tf.zeros`\n",
    " - `tf.range`\n"
   ]
  },
  {
   "cell_type": "code",
   "execution_count": null,
   "id": "32b491d4",
   "metadata": {},
   "outputs": [
    {
     "data": {
      "text/plain": [
       "<tf.Tensor: shape=(1,), dtype=float32, numpy=array([1.], dtype=float32)>"
      ]
     },
     "execution_count": 44,
     "metadata": {},
     "output_type": "execute_result"
    }
   ],
   "source": [
    "tf.ones(1)"
   ]
  },
  {
   "cell_type": "code",
   "execution_count": null,
   "id": "eb35e22a",
   "metadata": {},
   "outputs": [
    {
     "data": {
      "text/plain": [
       "<tf.Tensor: shape=(2, 5), dtype=int32, numpy=\n",
       "array([[0, 0, 0, 0, 0],\n",
       "       [0, 0, 0, 0, 0]], dtype=int32)>"
      ]
     },
     "execution_count": 45,
     "metadata": {},
     "output_type": "execute_result"
    }
   ],
   "source": [
    "tf.zeros((2, 5), dtype=\"int32\")"
   ]
  },
  {
   "cell_type": "code",
   "execution_count": null,
   "id": "e9fe0255",
   "metadata": {},
   "outputs": [
    {
     "data": {
      "text/plain": [
       "<tf.Tensor: shape=(10,), dtype=int32, numpy=array([0, 1, 2, 3, 4, 5, 6, 7, 8, 9], dtype=int32)>"
      ]
     },
     "execution_count": 46,
     "metadata": {},
     "output_type": "execute_result"
    }
   ],
   "source": [
    "tf.range(10)"
   ]
  },
  {
   "cell_type": "code",
   "execution_count": null,
   "id": "12b880bc",
   "metadata": {},
   "outputs": [
    {
     "data": {
      "text/plain": [
       "<tf.Tensor: shape=(10,), dtype=int32, numpy=array([ 1,  2,  3,  4,  5,  6,  7,  8,  9, 10], dtype=int32)>"
      ]
     },
     "execution_count": 47,
     "metadata": {},
     "output_type": "execute_result"
    }
   ],
   "source": [
    "tf.range(1, 11)"
   ]
  },
  {
   "cell_type": "code",
   "execution_count": null,
   "id": "b4b6113b",
   "metadata": {},
   "outputs": [],
   "source": []
  },
  {
   "cell_type": "markdown",
   "id": "76d8fcc5",
   "metadata": {},
   "source": [
    "####  간단 퀴즈"
   ]
  },
  {
   "cell_type": "markdown",
   "id": "58619add",
   "metadata": {},
   "source": [
    "**n 을 입력하면 첫항이 1이고 공비가 2인 등비수열을 생성하는 함수를 만드시오** \n",
    "(이 때 결과값은 tf.Tensor 데이터이고, 데이터 타입은 tf.int32)\n",
    "\n",
    "$$\n",
    "n = 10 \\ 일 때 \\\\ \\\\\n",
    "(1, 2, 4, 8, 16, 32, 64, 128, 256, 512)\n",
    "$$"
   ]
  },
  {
   "cell_type": "code",
   "execution_count": null,
   "id": "a7da07a0",
   "metadata": {},
   "outputs": [],
   "source": [
    "def geometric_sequence(n):      # n 은 출력하는 갯수\n",
    "    pass"
   ]
  },
  {
   "cell_type": "code",
   "execution_count": null,
   "id": "da873ed6",
   "metadata": {},
   "outputs": [],
   "source": [
    "def geometric_sequence(n):\n",
    "    answer = tf.range(1, n, 2, dtype=tf.int32)\n",
    "\n",
    "    return answer"
   ]
  },
  {
   "cell_type": "code",
   "execution_count": null,
   "id": "b708c70b",
   "metadata": {},
   "outputs": [
    {
     "name": "stdout",
     "output_type": "stream",
     "text": [
      "tf.Tensor([1 3 5 7 9], shape=(5,), dtype=int32)\n"
     ]
    }
   ],
   "source": [
    "print(geometric_sequence(10))"
   ]
  },
  {
   "cell_type": "markdown",
   "id": "aabbc751",
   "metadata": {},
   "source": [
    "-----"
   ]
  },
  {
   "cell_type": "code",
   "execution_count": null,
   "id": "3653246b",
   "metadata": {},
   "outputs": [],
   "source": [
    "def geometric_sequence(n):\n",
    "    r = tf.range(n, dtype=tf.int32)   #, dtype='int32')\n",
    "    s = tf.ones(n, dtype=tf.int32) * 2\n",
    "\n",
    "    print('r :', r)\n",
    "    print('s :', s)\n",
    "    return s ** r"
   ]
  },
  {
   "cell_type": "code",
   "execution_count": null,
   "id": "7c512a01",
   "metadata": {},
   "outputs": [
    {
     "name": "stdout",
     "output_type": "stream",
     "text": [
      "r : tf.Tensor([0 1 2 3 4 5 6 7 8 9], shape=(10,), dtype=int32)\n",
      "s : tf.Tensor([2 2 2 2 2 2 2 2 2 2], shape=(10,), dtype=int32)\n",
      "tf.Tensor([  1   2   4   8  16  32  64 128 256 512], shape=(10,), dtype=int32)\n"
     ]
    }
   ],
   "source": [
    "print(geometric_sequence(10))"
   ]
  },
  {
   "cell_type": "markdown",
   "id": "f7d17ca6",
   "metadata": {},
   "source": [
    "<h4> Random Value(난수)</h4>"
   ]
  },
  {
   "cell_type": "markdown",
   "id": "b6b32a12",
   "metadata": {},
   "source": [
    "- 무작위 값을 생성할 때 필요. \n",
    "- Noise를 재현 한다거나, test를 한다거나 할 때 많이 사용됨 \n",
    "- 데이터 타입은 상수형태로 반환됨\n",
    "\n",
    "**`tf.random`** 에 구현 되어 있음. \n",
    "\n",
    "  - `tf.random.normal`\n",
    "      - Gaussian Normal Distribution\n",
    "      \n",
    "  - `tf.random.uniform`\n",
    "      - Uniform Distribution\n",
    "      \n",
    "> 이렇게나 많습니다! [LINK](https://www.tensorflow.org/api_docs/python/tf/random)"
   ]
  },
  {
   "cell_type": "code",
   "execution_count": null,
   "id": "994abe4d",
   "metadata": {},
   "outputs": [],
   "source": [
    "shape = (3, 3)"
   ]
  },
  {
   "cell_type": "code",
   "execution_count": null,
   "id": "566a27b7",
   "metadata": {},
   "outputs": [
    {
     "data": {
      "text/plain": [
       "<tf.Tensor: shape=(3, 3), dtype=float32, numpy=\n",
       "array([[-1.1884669 ,  0.04629149,  0.035827  ],\n",
       "       [ 1.9526739 ,  0.6173512 , -0.6373802 ],\n",
       "       [-0.25540426, -0.17338702, -0.67253745]], dtype=float32)>"
      ]
     },
     "execution_count": 65,
     "metadata": {},
     "output_type": "execute_result"
    }
   ],
   "source": [
    "tf.random.normal(shape)"
   ]
  },
  {
   "cell_type": "code",
   "execution_count": null,
   "id": "dcd62b97",
   "metadata": {},
   "outputs": [
    {
     "data": {
      "text/plain": [
       "<tf.Tensor: shape=(3, 3), dtype=float32, numpy=\n",
       "array([[101.76931 ,  85.457726,  95.54172 ],\n",
       "       [ 79.530304,  98.56057 ,  89.69934 ],\n",
       "       [ 87.74518 ,  89.28386 , 121.190025]], dtype=float32)>"
      ]
     },
     "execution_count": 66,
     "metadata": {},
     "output_type": "execute_result"
    }
   ],
   "source": [
    "tf.random.normal(shape, mean=100, stddev=10) #100 을 평균으로하고, 표준편차를 10으로 한 값"
   ]
  },
  {
   "cell_type": "markdown",
   "id": "2eaa38cb",
   "metadata": {},
   "source": [
    "- tf.random.uniform\n",
    "    - TensorFlow에서 Uniform Distribution"
   ]
  },
  {
   "cell_type": "code",
   "execution_count": null,
   "id": "88f7a8d8",
   "metadata": {},
   "outputs": [
    {
     "data": {
      "text/plain": [
       "<tf.Tensor: shape=(3, 3), dtype=float32, numpy=\n",
       "array([[0.4063989 , 0.16350043, 0.49475944],\n",
       "       [0.41444743, 0.7097274 , 0.43024313],\n",
       "       [0.8637649 , 0.6725483 , 0.09786201]], dtype=float32)>"
      ]
     },
     "execution_count": 62,
     "metadata": {},
     "output_type": "execute_result"
    }
   ],
   "source": [
    "tf.random.uniform(shape)"
   ]
  },
  {
   "cell_type": "code",
   "execution_count": null,
   "id": "c143198c",
   "metadata": {},
   "outputs": [],
   "source": []
  },
  {
   "cell_type": "markdown",
   "id": "d6a68fcc",
   "metadata": {},
   "source": [
    "* **Random seed 관리 하기!!!**\n",
    "\n",
    " - Random value로 보통 가중치를 초기화 \n",
    " - 이외에도 학습과정에서 Random value가 많이 사용됨. \n",
    " - 이를 관리 안해주면, 자신이 했던 작업이 동일하게 복구 또는 재현이 안됨!!! \n",
    " \n",
    " \n",
    "- **`tf.random.set_seed({seed_number})`**\n",
    "\n",
    " \n",
    "**=> 재현성 유지를 위해 항상 Random seed를 고정해두고 개발 한다!!!** \n",
    "   \n",
    "   (주의 할 점은 해당 개발물에 사용되는 난수가 모두 TensorFlow에서 생성된것이 아닐 수 있다는 것이다.) "
   ]
  },
  {
   "cell_type": "code",
   "execution_count": null,
   "id": "6e0b3f17",
   "metadata": {},
   "outputs": [],
   "source": [
    "seed = 7777"
   ]
  },
  {
   "cell_type": "code",
   "execution_count": null,
   "id": "e2924cb0",
   "metadata": {},
   "outputs": [
    {
     "name": "stdout",
     "output_type": "stream",
     "text": [
      "tf.Tensor([0.959749], shape=(1,), dtype=float32)\n",
      "tf.Tensor([0.8677443], shape=(1,), dtype=float32)\n"
     ]
    }
   ],
   "source": [
    "tf.random.set_seed(seed)        # random 값을 고정해두고 사용하는 것을 생활화하면 아주좋다.\n",
    "a = tf.random.uniform([1])\n",
    "b = tf.random.uniform([1])\n",
    "print(a, b, sep=\"\\n\")"
   ]
  },
  {
   "cell_type": "code",
   "execution_count": null,
   "id": "11d41a95",
   "metadata": {},
   "outputs": [
    {
     "name": "stdout",
     "output_type": "stream",
     "text": [
      "tf.Tensor([0.5411682], shape=(1,), dtype=float32)\n",
      "tf.Tensor([0.9065834], shape=(1,), dtype=float32)\n"
     ]
    }
   ],
   "source": [
    "a = tf.random.uniform([1])\n",
    "b = tf.random.uniform([1])\n",
    "print(a, b, sep=\"\\n\")"
   ]
  },
  {
   "cell_type": "code",
   "execution_count": null,
   "id": "225f8ea2",
   "metadata": {},
   "outputs": [
    {
     "name": "stdout",
     "output_type": "stream",
     "text": [
      "tf.Tensor([0.959749], shape=(1,), dtype=float32)\n",
      "tf.Tensor([0.8677443], shape=(1,), dtype=float32)\n"
     ]
    }
   ],
   "source": [
    "tf.random.set_seed(seed)\n",
    "a = tf.random.uniform([1])\n",
    "b = tf.random.uniform([1])\n",
    "print(a, b, sep=\"\\n\")"
   ]
  },
  {
   "cell_type": "code",
   "execution_count": null,
   "id": "1ab4666c",
   "metadata": {},
   "outputs": [],
   "source": []
  },
  {
   "cell_type": "code",
   "execution_count": null,
   "id": "e51c2a70",
   "metadata": {},
   "outputs": [],
   "source": []
  }
 ],
 "metadata": {
  "interpreter": {
   "hash": "b5a26d0e877c4652cf53eb6b13536f4959f02e722fb5eef7979a29d14fb02c8a"
  },
  "kernelspec": {
   "display_name": "Python 3.10.2 ('TF')",
   "language": "python",
   "name": "python3"
  },
  "language_info": {
   "codemirror_mode": {
    "name": "ipython",
    "version": 3
   },
   "file_extension": ".py",
   "mimetype": "text/x-python",
   "name": "python",
   "nbconvert_exporter": "python",
   "pygments_lexer": "ipython3",
   "version": "3.10.2"
  },
  "toc": {
   "base_numbering": 1,
   "nav_menu": {},
   "number_sections": true,
   "sideBar": true,
   "skip_h1_title": false,
   "title_cell": "Table of Contents",
   "title_sidebar": "Contents",
   "toc_cell": false,
   "toc_position": {
    "height": "calc(100% - 180px)",
    "left": "10px",
    "top": "150px",
    "width": "165px"
   },
   "toc_section_display": true,
   "toc_window_display": false
  },
  "varInspector": {
   "cols": {
    "lenName": 16,
    "lenType": 16,
    "lenVar": 40
   },
   "kernels_config": {
    "python": {
     "delete_cmd_postfix": "",
     "delete_cmd_prefix": "del ",
     "library": "var_list.py",
     "varRefreshCmd": "print(var_dic_list())"
    },
    "r": {
     "delete_cmd_postfix": ") ",
     "delete_cmd_prefix": "rm(",
     "library": "var_list.r",
     "varRefreshCmd": "cat(var_dic_list()) "
    }
   },
   "types_to_exclude": [
    "module",
    "function",
    "builtin_function_or_method",
    "instance",
    "_Feature"
   ],
   "window_display": false
  }
 },
 "nbformat": 4,
 "nbformat_minor": 5
}

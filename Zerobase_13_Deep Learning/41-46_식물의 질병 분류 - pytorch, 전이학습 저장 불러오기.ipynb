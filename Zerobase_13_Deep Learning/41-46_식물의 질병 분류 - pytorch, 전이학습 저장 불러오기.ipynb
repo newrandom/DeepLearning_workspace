{
  "nbformat": 4,
  "nbformat_minor": 0,
  "metadata": {
    "colab": {
      "name": "41~46 식물의 질병 분류.ipynb",
      "provenance": [],
      "collapsed_sections": []
    },
    "kernelspec": {
      "name": "python3",
      "display_name": "Python 3"
    },
    "language_info": {
      "name": "python"
    },
    "accelerator": "GPU",
    "gpuClass": "standard",
    "widgets": {
      "application/vnd.jupyter.widget-state+json": {
        "7f73d15852c4430b9c69790dfdaf796c": {
          "model_module": "@jupyter-widgets/controls",
          "model_name": "HBoxModel",
          "model_module_version": "1.5.0",
          "state": {
            "_dom_classes": [],
            "_model_module": "@jupyter-widgets/controls",
            "_model_module_version": "1.5.0",
            "_model_name": "HBoxModel",
            "_view_count": null,
            "_view_module": "@jupyter-widgets/controls",
            "_view_module_version": "1.5.0",
            "_view_name": "HBoxView",
            "box_style": "",
            "children": [
              "IPY_MODEL_5ae020163f21453fa17e13c5962c983e",
              "IPY_MODEL_144d1f69d053410aa32ce335721c11ee",
              "IPY_MODEL_4affa3769b324e9d93df3747afa54436"
            ],
            "layout": "IPY_MODEL_5f6df342e3204f3bb8fa99f23ea541ef"
          }
        },
        "5ae020163f21453fa17e13c5962c983e": {
          "model_module": "@jupyter-widgets/controls",
          "model_name": "HTMLModel",
          "model_module_version": "1.5.0",
          "state": {
            "_dom_classes": [],
            "_model_module": "@jupyter-widgets/controls",
            "_model_module_version": "1.5.0",
            "_model_name": "HTMLModel",
            "_view_count": null,
            "_view_module": "@jupyter-widgets/controls",
            "_view_module_version": "1.5.0",
            "_view_name": "HTMLView",
            "description": "",
            "description_tooltip": null,
            "layout": "IPY_MODEL_0d17f44d78dc4faca119457669b5610c",
            "placeholder": "​",
            "style": "IPY_MODEL_1cc90320159940708e74b05234c1c5a7",
            "value": "100%"
          }
        },
        "144d1f69d053410aa32ce335721c11ee": {
          "model_module": "@jupyter-widgets/controls",
          "model_name": "FloatProgressModel",
          "model_module_version": "1.5.0",
          "state": {
            "_dom_classes": [],
            "_model_module": "@jupyter-widgets/controls",
            "_model_module_version": "1.5.0",
            "_model_name": "FloatProgressModel",
            "_view_count": null,
            "_view_module": "@jupyter-widgets/controls",
            "_view_module_version": "1.5.0",
            "_view_name": "ProgressView",
            "bar_style": "success",
            "description": "",
            "description_tooltip": null,
            "layout": "IPY_MODEL_4703851bcf8e43b7942fd9ac0b6dd067",
            "max": 102530333,
            "min": 0,
            "orientation": "horizontal",
            "style": "IPY_MODEL_8aea50adfd954b9d84b66db1ceaa10e9",
            "value": 102530333
          }
        },
        "4affa3769b324e9d93df3747afa54436": {
          "model_module": "@jupyter-widgets/controls",
          "model_name": "HTMLModel",
          "model_module_version": "1.5.0",
          "state": {
            "_dom_classes": [],
            "_model_module": "@jupyter-widgets/controls",
            "_model_module_version": "1.5.0",
            "_model_name": "HTMLModel",
            "_view_count": null,
            "_view_module": "@jupyter-widgets/controls",
            "_view_module_version": "1.5.0",
            "_view_name": "HTMLView",
            "description": "",
            "description_tooltip": null,
            "layout": "IPY_MODEL_5d78973a86f34e9ba8af04e68e972f6f",
            "placeholder": "​",
            "style": "IPY_MODEL_23e8aac437164efba5c1e5d286ffaab9",
            "value": " 97.8M/97.8M [00:00&lt;00:00, 216MB/s]"
          }
        },
        "5f6df342e3204f3bb8fa99f23ea541ef": {
          "model_module": "@jupyter-widgets/base",
          "model_name": "LayoutModel",
          "model_module_version": "1.2.0",
          "state": {
            "_model_module": "@jupyter-widgets/base",
            "_model_module_version": "1.2.0",
            "_model_name": "LayoutModel",
            "_view_count": null,
            "_view_module": "@jupyter-widgets/base",
            "_view_module_version": "1.2.0",
            "_view_name": "LayoutView",
            "align_content": null,
            "align_items": null,
            "align_self": null,
            "border": null,
            "bottom": null,
            "display": null,
            "flex": null,
            "flex_flow": null,
            "grid_area": null,
            "grid_auto_columns": null,
            "grid_auto_flow": null,
            "grid_auto_rows": null,
            "grid_column": null,
            "grid_gap": null,
            "grid_row": null,
            "grid_template_areas": null,
            "grid_template_columns": null,
            "grid_template_rows": null,
            "height": null,
            "justify_content": null,
            "justify_items": null,
            "left": null,
            "margin": null,
            "max_height": null,
            "max_width": null,
            "min_height": null,
            "min_width": null,
            "object_fit": null,
            "object_position": null,
            "order": null,
            "overflow": null,
            "overflow_x": null,
            "overflow_y": null,
            "padding": null,
            "right": null,
            "top": null,
            "visibility": null,
            "width": null
          }
        },
        "0d17f44d78dc4faca119457669b5610c": {
          "model_module": "@jupyter-widgets/base",
          "model_name": "LayoutModel",
          "model_module_version": "1.2.0",
          "state": {
            "_model_module": "@jupyter-widgets/base",
            "_model_module_version": "1.2.0",
            "_model_name": "LayoutModel",
            "_view_count": null,
            "_view_module": "@jupyter-widgets/base",
            "_view_module_version": "1.2.0",
            "_view_name": "LayoutView",
            "align_content": null,
            "align_items": null,
            "align_self": null,
            "border": null,
            "bottom": null,
            "display": null,
            "flex": null,
            "flex_flow": null,
            "grid_area": null,
            "grid_auto_columns": null,
            "grid_auto_flow": null,
            "grid_auto_rows": null,
            "grid_column": null,
            "grid_gap": null,
            "grid_row": null,
            "grid_template_areas": null,
            "grid_template_columns": null,
            "grid_template_rows": null,
            "height": null,
            "justify_content": null,
            "justify_items": null,
            "left": null,
            "margin": null,
            "max_height": null,
            "max_width": null,
            "min_height": null,
            "min_width": null,
            "object_fit": null,
            "object_position": null,
            "order": null,
            "overflow": null,
            "overflow_x": null,
            "overflow_y": null,
            "padding": null,
            "right": null,
            "top": null,
            "visibility": null,
            "width": null
          }
        },
        "1cc90320159940708e74b05234c1c5a7": {
          "model_module": "@jupyter-widgets/controls",
          "model_name": "DescriptionStyleModel",
          "model_module_version": "1.5.0",
          "state": {
            "_model_module": "@jupyter-widgets/controls",
            "_model_module_version": "1.5.0",
            "_model_name": "DescriptionStyleModel",
            "_view_count": null,
            "_view_module": "@jupyter-widgets/base",
            "_view_module_version": "1.2.0",
            "_view_name": "StyleView",
            "description_width": ""
          }
        },
        "4703851bcf8e43b7942fd9ac0b6dd067": {
          "model_module": "@jupyter-widgets/base",
          "model_name": "LayoutModel",
          "model_module_version": "1.2.0",
          "state": {
            "_model_module": "@jupyter-widgets/base",
            "_model_module_version": "1.2.0",
            "_model_name": "LayoutModel",
            "_view_count": null,
            "_view_module": "@jupyter-widgets/base",
            "_view_module_version": "1.2.0",
            "_view_name": "LayoutView",
            "align_content": null,
            "align_items": null,
            "align_self": null,
            "border": null,
            "bottom": null,
            "display": null,
            "flex": null,
            "flex_flow": null,
            "grid_area": null,
            "grid_auto_columns": null,
            "grid_auto_flow": null,
            "grid_auto_rows": null,
            "grid_column": null,
            "grid_gap": null,
            "grid_row": null,
            "grid_template_areas": null,
            "grid_template_columns": null,
            "grid_template_rows": null,
            "height": null,
            "justify_content": null,
            "justify_items": null,
            "left": null,
            "margin": null,
            "max_height": null,
            "max_width": null,
            "min_height": null,
            "min_width": null,
            "object_fit": null,
            "object_position": null,
            "order": null,
            "overflow": null,
            "overflow_x": null,
            "overflow_y": null,
            "padding": null,
            "right": null,
            "top": null,
            "visibility": null,
            "width": null
          }
        },
        "8aea50adfd954b9d84b66db1ceaa10e9": {
          "model_module": "@jupyter-widgets/controls",
          "model_name": "ProgressStyleModel",
          "model_module_version": "1.5.0",
          "state": {
            "_model_module": "@jupyter-widgets/controls",
            "_model_module_version": "1.5.0",
            "_model_name": "ProgressStyleModel",
            "_view_count": null,
            "_view_module": "@jupyter-widgets/base",
            "_view_module_version": "1.2.0",
            "_view_name": "StyleView",
            "bar_color": null,
            "description_width": ""
          }
        },
        "5d78973a86f34e9ba8af04e68e972f6f": {
          "model_module": "@jupyter-widgets/base",
          "model_name": "LayoutModel",
          "model_module_version": "1.2.0",
          "state": {
            "_model_module": "@jupyter-widgets/base",
            "_model_module_version": "1.2.0",
            "_model_name": "LayoutModel",
            "_view_count": null,
            "_view_module": "@jupyter-widgets/base",
            "_view_module_version": "1.2.0",
            "_view_name": "LayoutView",
            "align_content": null,
            "align_items": null,
            "align_self": null,
            "border": null,
            "bottom": null,
            "display": null,
            "flex": null,
            "flex_flow": null,
            "grid_area": null,
            "grid_auto_columns": null,
            "grid_auto_flow": null,
            "grid_auto_rows": null,
            "grid_column": null,
            "grid_gap": null,
            "grid_row": null,
            "grid_template_areas": null,
            "grid_template_columns": null,
            "grid_template_rows": null,
            "height": null,
            "justify_content": null,
            "justify_items": null,
            "left": null,
            "margin": null,
            "max_height": null,
            "max_width": null,
            "min_height": null,
            "min_width": null,
            "object_fit": null,
            "object_position": null,
            "order": null,
            "overflow": null,
            "overflow_x": null,
            "overflow_y": null,
            "padding": null,
            "right": null,
            "top": null,
            "visibility": null,
            "width": null
          }
        },
        "23e8aac437164efba5c1e5d286ffaab9": {
          "model_module": "@jupyter-widgets/controls",
          "model_name": "DescriptionStyleModel",
          "model_module_version": "1.5.0",
          "state": {
            "_model_module": "@jupyter-widgets/controls",
            "_model_module_version": "1.5.0",
            "_model_name": "DescriptionStyleModel",
            "_view_count": null,
            "_view_module": "@jupyter-widgets/base",
            "_view_module_version": "1.2.0",
            "_view_name": "StyleView",
            "description_width": ""
          }
        }
      }
    }
  },
  "cells": [
    {
      "cell_type": "markdown",
      "source": [
        "# 41_데이터 불러오기 / 파일 정리"
      ],
      "metadata": {
        "id": "yYDXQTPo26eo"
      }
    },
    {
      "cell_type": "code",
      "source": [
        "from google.colab import drive\n",
        "drive.mount('/content/drive')"
      ],
      "metadata": {
        "colab": {
          "base_uri": "https://localhost:8080/"
        },
        "id": "sWdQn7EI14Pb",
        "outputId": "299d8d42-6617-489e-ee93-1666772f9189"
      },
      "execution_count": 1,
      "outputs": [
        {
          "output_type": "stream",
          "name": "stdout",
          "text": [
            "Mounted at /content/drive\n"
          ]
        }
      ]
    },
    {
      "cell_type": "code",
      "source": [
        "!unzip -qq '/content/drive/MyDrive/Colab Notebooks/DL/41_dataset.zip' -d './dataset'"
      ],
      "metadata": {
        "id": "ymx5WBC814zZ"
      },
      "execution_count": 2,
      "outputs": []
    },
    {
      "cell_type": "markdown",
      "source": [
        "--------------------"
      ],
      "metadata": {
        "id": "ilIvLScy2gE8"
      }
    },
    {
      "cell_type": "code",
      "source": [
        "import os\n",
        "\n",
        "original_dataset_dir = './dataset'\n",
        "classes_list = os.listdir(original_dataset_dir)\n",
        "\n",
        "\n",
        "# colab 재가동시에 이 폴더는 사라질 것이다.\n",
        "base_dir = './splitted'\n",
        "    # train, test, validate 폴더로 나누기 위해 지정\n",
        "os.mkdir(base_dir)\n",
        "    # os.mkdir : 새로운 폴더를 만든다."
      ],
      "metadata": {
        "id": "3Ox_QqyF2-jI"
      },
      "execution_count": 4,
      "outputs": []
    },
    {
      "cell_type": "code",
      "source": [
        "import shutil\n",
        "\n",
        "train_dir = os.path.join(base_dir, 'train')\n",
        "os.mkdir(train_dir)\n",
        "\n",
        "validation_dir = os.path.join(base_dir, 'val')\n",
        "os.mkdir(validation_dir)\n",
        "\n",
        "test_dir = os.path.join(base_dir, 'test')\n",
        "os.mkdir(test_dir)\n",
        "\n",
        "for cls in classes_list:        # 폴더 명을 통일시킴.\n",
        "    os.mkdir(os.path.join(train_dir, cls))\n",
        "    os.mkdir(os.path.join(validation_dir, cls))\n",
        "    os.mkdir(os.path.join(test_dir, cls))"
      ],
      "metadata": {
        "id": "hAWBi28I3fpF"
      },
      "execution_count": 5,
      "outputs": []
    },
    {
      "cell_type": "markdown",
      "source": [
        "# 데이터 현황 확인"
      ],
      "metadata": {
        "id": "OZRZHyi64yKZ"
      }
    },
    {
      "cell_type": "code",
      "source": [
        "import math\n",
        "\n",
        "for cls in classes_list:\n",
        "    path = os.path.join(original_dataset_dir, cls)\n",
        "    fnames = os.listdir(path)\n",
        "\n",
        "    train_size = math.floor(len(fnames) * 0.6)\n",
        "                                            # 60% 로 분할\n",
        "                        # floor : 정수형, 내림\n",
        "    validation_size = math.floor(len(fnames) * 0.2)\n",
        "                                            # 20% 로 분할\n",
        "    test_size = math.floor(len(fnames) * 0.2)\n",
        "                                            # 20% 로 분할\n",
        "\n",
        "    train_fnames = fnames[:train_size]\n",
        "    print('Train size(', cls, ') : ',len(train_fnames))\n",
        "    \n",
        "    # 파일 복사하기\n",
        "    for fname in train_fnames:\n",
        "        src = os.path.join(path, fname)\n",
        "        dst = os.path.join(os.path.join(train_dir, cls), fname)\n",
        "        shutil.copyfile(src, dst)\n",
        "\n",
        "    validation_fnames = fnames[train_size:(validation_size + train_size)]\n",
        "    print('Validation size(',cls,'): ', len(validation_fnames))\n",
        "    for fname in validation_fnames:\n",
        "        src = os.path.join(path, fname)\n",
        "        dst = os.path.join(os.path.join(validation_dir, cls), fname)\n",
        "        shutil.copyfile(src, dst)\n",
        "\n",
        "    test_fnames = fnames[(train_size+validation_size):(validation_size + train_size + test_size)]\n",
        "\n",
        "    print('Test size(',cls,'): ', len(test_fnames))\n",
        "    for fname in test_fnames:\n",
        "        src = os.path.join(path, fname)\n",
        "        dst = os.path.join(os.path.join(test_dir, cls), fname)\n",
        "        shutil.copyfile(src, dst)"
      ],
      "metadata": {
        "colab": {
          "base_uri": "https://localhost:8080/"
        },
        "id": "FIdwY-s24IMz",
        "outputId": "0619b20b-cefb-4ce6-ac32-1fef00125b1a"
      },
      "execution_count": 7,
      "outputs": [
        {
          "output_type": "stream",
          "name": "stdout",
          "text": [
            "Train size( Pepper,_bell___healthy ) :  886\n",
            "Validation size( Pepper,_bell___healthy ):  295\n",
            "Test size( Pepper,_bell___healthy ):  295\n",
            "Train size( Potato___Early_blight ) :  600\n",
            "Validation size( Potato___Early_blight ):  200\n",
            "Test size( Potato___Early_blight ):  200\n",
            "Train size( Grape___Black_rot ) :  708\n",
            "Validation size( Grape___Black_rot ):  236\n",
            "Test size( Grape___Black_rot ):  236\n",
            "Train size( Tomato___Spider_mites Two-spotted_spider_mite ) :  1005\n",
            "Validation size( Tomato___Spider_mites Two-spotted_spider_mite ):  335\n",
            "Test size( Tomato___Spider_mites Two-spotted_spider_mite ):  335\n",
            "Train size( Tomato___Late_blight ) :  1145\n",
            "Validation size( Tomato___Late_blight ):  381\n",
            "Test size( Tomato___Late_blight ):  381\n",
            "Train size( Peach___healthy ) :  216\n",
            "Validation size( Peach___healthy ):  72\n",
            "Test size( Peach___healthy ):  72\n",
            "Train size( Pepper,_bell___Bacterial_spot ) :  598\n",
            "Validation size( Pepper,_bell___Bacterial_spot ):  199\n",
            "Test size( Pepper,_bell___Bacterial_spot ):  199\n",
            "Train size( Tomato___Tomato_Yellow_Leaf_Curl_Virus ) :  3214\n",
            "Validation size( Tomato___Tomato_Yellow_Leaf_Curl_Virus ):  1071\n",
            "Test size( Tomato___Tomato_Yellow_Leaf_Curl_Virus ):  1071\n",
            "Train size( Potato___Late_blight ) :  600\n",
            "Validation size( Potato___Late_blight ):  200\n",
            "Test size( Potato___Late_blight ):  200\n",
            "Train size( Corn___Common_rust ) :  715\n",
            "Validation size( Corn___Common_rust ):  238\n",
            "Test size( Corn___Common_rust ):  238\n",
            "Train size( Peach___Bacterial_spot ) :  1378\n",
            "Validation size( Peach___Bacterial_spot ):  459\n",
            "Test size( Peach___Bacterial_spot ):  459\n",
            "Train size( Apple___Apple_scab ) :  378\n",
            "Validation size( Apple___Apple_scab ):  126\n",
            "Test size( Apple___Apple_scab ):  126\n",
            "Train size( Apple___Cedar_apple_rust ) :  165\n",
            "Validation size( Apple___Cedar_apple_rust ):  55\n",
            "Test size( Apple___Cedar_apple_rust ):  55\n",
            "Train size( Corn___Cercospora_leaf_spot Gray_leaf_spot ) :  307\n",
            "Validation size( Corn___Cercospora_leaf_spot Gray_leaf_spot ):  102\n",
            "Test size( Corn___Cercospora_leaf_spot Gray_leaf_spot ):  102\n",
            "Train size( Apple___Black_rot ) :  372\n",
            "Validation size( Apple___Black_rot ):  124\n",
            "Test size( Apple___Black_rot ):  124\n",
            "Train size( Tomato___Septoria_leaf_spot ) :  1062\n",
            "Validation size( Tomato___Septoria_leaf_spot ):  354\n",
            "Test size( Tomato___Septoria_leaf_spot ):  354\n",
            "Train size( Tomato___Tomato_mosaic_virus ) :  223\n",
            "Validation size( Tomato___Tomato_mosaic_virus ):  74\n",
            "Test size( Tomato___Tomato_mosaic_virus ):  74\n",
            "Train size( Tomato___Bacterial_spot ) :  1276\n",
            "Validation size( Tomato___Bacterial_spot ):  425\n",
            "Test size( Tomato___Bacterial_spot ):  425\n",
            "Train size( Corn___healthy ) :  697\n",
            "Validation size( Corn___healthy ):  232\n",
            "Test size( Corn___healthy ):  232\n",
            "Train size( Grape___Esca_(Black_Measles) ) :  829\n",
            "Validation size( Grape___Esca_(Black_Measles) ):  276\n",
            "Test size( Grape___Esca_(Black_Measles) ):  276\n",
            "Train size( Cherry___healthy ) :  512\n",
            "Validation size( Cherry___healthy ):  170\n",
            "Test size( Cherry___healthy ):  170\n",
            "Train size( Tomato___healthy ) :  954\n",
            "Validation size( Tomato___healthy ):  318\n",
            "Test size( Tomato___healthy ):  318\n",
            "Train size( Strawberry___healthy ) :  273\n",
            "Validation size( Strawberry___healthy ):  91\n",
            "Test size( Strawberry___healthy ):  91\n",
            "Train size( Grape___Leaf_blight_(Isariopsis_Leaf_Spot) ) :  645\n",
            "Validation size( Grape___Leaf_blight_(Isariopsis_Leaf_Spot) ):  215\n",
            "Test size( Grape___Leaf_blight_(Isariopsis_Leaf_Spot) ):  215\n",
            "Train size( Tomato___Leaf_Mold ) :  571\n",
            "Validation size( Tomato___Leaf_Mold ):  190\n",
            "Test size( Tomato___Leaf_Mold ):  190\n",
            "Train size( Grape___healthy ) :  253\n",
            "Validation size( Grape___healthy ):  84\n",
            "Test size( Grape___healthy ):  84\n",
            "Train size( Potato___healthy ) :  91\n",
            "Validation size( Potato___healthy ):  30\n",
            "Test size( Potato___healthy ):  30\n",
            "Train size( Cherry___Powdery_mildew ) :  631\n",
            "Validation size( Cherry___Powdery_mildew ):  210\n",
            "Test size( Cherry___Powdery_mildew ):  210\n",
            "Train size( Strawberry___Leaf_scorch ) :  665\n",
            "Validation size( Strawberry___Leaf_scorch ):  221\n",
            "Test size( Strawberry___Leaf_scorch ):  221\n",
            "Train size( Tomato___Early_blight ) :  600\n",
            "Validation size( Tomato___Early_blight ):  200\n",
            "Test size( Tomato___Early_blight ):  200\n",
            "Train size( Apple___healthy ) :  987\n",
            "Validation size( Apple___healthy ):  329\n",
            "Test size( Apple___healthy ):  329\n",
            "Train size( Corn___Northern_Leaf_Blight ) :  591\n",
            "Validation size( Corn___Northern_Leaf_Blight ):  197\n",
            "Test size( Corn___Northern_Leaf_Blight ):  197\n",
            "Train size( Tomato___Target_Spot ) :  842\n",
            "Validation size( Tomato___Target_Spot ):  280\n",
            "Test size( Tomato___Target_Spot ):  280\n"
          ]
        }
      ]
    },
    {
      "cell_type": "markdown",
      "source": [
        "--------------------------"
      ],
      "metadata": {
        "id": "0AbWITx26eEn"
      }
    },
    {
      "cell_type": "markdown",
      "source": [
        "# 42_식물잎의 사진으로 질병분류 - 학습하기"
      ],
      "metadata": {
        "id": "keD4TyC26n6K"
      }
    },
    {
      "cell_type": "code",
      "source": [
        "import torch\n",
        "import os\n",
        "\n",
        "USE_CUDA = torch.cuda.is_available()\n",
        "DEVICE = torch.device('cuda' if USE_CUDA else 'cpu')\n",
        "BATCH_SIZE = 256\n",
        "        # batch_size는 그래픽 메모리의 최대에 도달하면\n",
        "        # 더 올라갈 수 없음.\n",
        "EPOCH = 30"
      ],
      "metadata": {
        "id": "hUxhx_4w6rfJ"
      },
      "execution_count": 8,
      "outputs": []
    },
    {
      "cell_type": "code",
      "source": [
        "import torchvision.transforms as transforms\n",
        "from torchvision.datasets import ImageFolder\n",
        "                                # ImageFolder : 폴더 이름을 라벨로 설정하는 것.\n",
        "\n",
        "transform_base = transforms.Compose([transforms.Resize((64, 64)), transforms.ToTensor()])\n",
        "                            # transform.Compose : 입력받는 사진을 변환한다.\n",
        "                                                # Resize : 사진 크기를 변환\n",
        "                                                                            # ToTensor() : 텐서로 변환\n",
        "train_dataset = ImageFolder(root='./splitted/train', transform=transform_base)\n",
        "val_dataset = ImageFolder(root='./splitted/val', transform=transform_base)"
      ],
      "metadata": {
        "id": "r0HXTmjB7Lhd"
      },
      "execution_count": 9,
      "outputs": []
    },
    {
      "cell_type": "code",
      "source": [
        "from torch.utils.data import DataLoader\n",
        "                                # DataLoader : Combines a dataset and a sampler, and provides an iterable over the given dataset.\n",
        "\n",
        "train_loader = torch.utils.data.DataLoader(train_dataset,\n",
        "                                           batch_size = BATCH_SIZE,\n",
        "                                           shuffle=True,\n",
        "                                           num_workers=4)\n",
        "\n",
        "val_loader = torch.utils.data.DataLoader(val_dataset,\n",
        "                                         batch_size=BATCH_SIZE,\n",
        "                                         shuffle=True,\n",
        "                                         num_workers=4)"
      ],
      "metadata": {
        "colab": {
          "base_uri": "https://localhost:8080/"
        },
        "id": "Y-K3i8Lh8Gvv",
        "outputId": "ae65f503-5697-4557-ec87-7d17bbb94765"
      },
      "execution_count": 11,
      "outputs": [
        {
          "output_type": "stream",
          "name": "stderr",
          "text": [
            "/usr/local/lib/python3.7/dist-packages/torch/utils/data/dataloader.py:490: UserWarning: This DataLoader will create 4 worker processes in total. Our suggested max number of worker in current system is 2, which is smaller than what this DataLoader is going to create. Please be aware that excessive worker creation might get DataLoader running slow or even freeze, lower the worker number to avoid potential slowness/freeze if necessary.\n",
            "  cpuset_checked))\n"
          ]
        }
      ]
    },
    {
      "cell_type": "code",
      "source": [
        "# 모델 구조\n",
        "\n",
        "import torch.nn as nn\n",
        "import torch.nn.functional as F\n",
        "import torch.optim as optim\n",
        "\n",
        "class Net(nn.Module):\n",
        "\n",
        "    def __init__(self):\n",
        "\n",
        "        super(Net, self).__init__()\n",
        "\n",
        "        self.conv1 = nn.Conv2d(3, 32, 3, padding=1)\n",
        "        self.pool = nn.MaxPool2d(2, 2)\n",
        "        self.conv2 = nn.Conv2d(32, 64, 3, padding = 1)\n",
        "        self.conv3 = nn.Conv2d(64, 64, 3, padding = 1)\n",
        "\n",
        "        self.fc1 = nn.Linear(4096, 512)\n",
        "            # fc : fully connected layer\n",
        "        self.fc2 = nn.Linear(512, 33)\n",
        "\n",
        "    def forward(self, x):\n",
        "        x = self.conv1(x)\n",
        "        x = F.relu(x)\n",
        "        x = self.pool(x)\n",
        "        x = F.dropout(x, p=0.25, training=self.training)\n",
        "                                # training : 훈련할 때는 사용하고, evaluation (평가) 할때는 사용하지 않겠다고 설정\n",
        "\n",
        "        x = self.conv2(x)\n",
        "        x = F.relu(x)\n",
        "        x = self.pool(x)\n",
        "        x = F.dropout(x, p=0.25, training=self.training)\n",
        "\n",
        "        x = self.conv3(x)\n",
        "        x = F.relu(x)\n",
        "        x = self.pool(x)\n",
        "        x = F.dropout(x, p=0.25, training=self.training)\n",
        "\n",
        "        x = x.view(-1, 4096)        # flatten 의 과정\n",
        "        x = self.fc1(x)\n",
        "        x = F.relu(x)\n",
        "        x = F.dropout(x, p=0.5, training = self.training)\n",
        "        x = self.fc2(x)\n",
        "\n",
        "        return F.log_softmax(x, dim=1)\n",
        "\n",
        "model_base = Net().to(DEVICE)\n",
        "optimizer = optim.Adam(model_base.parameters(), lr=0.001)"
      ],
      "metadata": {
        "id": "f6niJwFt95XE"
      },
      "execution_count": 17,
      "outputs": []
    },
    {
      "cell_type": "code",
      "source": [
        "def train(model, train_loader, optimizer):\n",
        "    model.train()\n",
        "    for batch_idx, (data, target) in enumerate(train_loader):\n",
        "        data, target = data.to(DEVICE), target.to(DEVICE)\n",
        "        optimizer.zero_grad()       # weight 초기화\n",
        "        output = model(data)\n",
        "        loss = F.cross_entropy(output, target)\n",
        "        loss.backward()     # backpropogation\n",
        "        optimizer.step()        # weight update"
      ],
      "metadata": {
        "id": "bxctjR5Z_yN5"
      },
      "execution_count": 18,
      "outputs": []
    },
    {
      "cell_type": "code",
      "source": [
        "def evaluate(model, test_loader):\n",
        "    model.eval()\n",
        "    test_loss=0\n",
        "    correct = 0\n",
        "\n",
        "    with torch.no_grad():           # with 구문 : https://pythondocs.net/uncategorized/%ED%8C%8C%EC%9D%B4%EC%8D%AC-with-%EC%A0%95%EB%A6%AC/\n",
        "        # gradient 가 없는지 확인하는 과정  \n",
        "        for data, target in test_loader:\n",
        "            data, target = data.to(DEVICE), target.to(DEVICE)\n",
        "            output = model(data)\n",
        "\n",
        "            test_loss += F.cross_entropy(output,target, reduction='sum').item()\n",
        "\n",
        "            pred = output.max(1, keepdim=True)[1]\n",
        "            correct += pred.eq(target.view_as(pred)).sum().item()\n",
        "\n",
        "    test_loss /= len(test_loader.dataset)\n",
        "    test_accuracy = 100. * correct / len(test_loader.dataset)\n",
        "    return test_loss, test_accuracy"
      ],
      "metadata": {
        "id": "vQAt7tkYAi6q"
      },
      "execution_count": 19,
      "outputs": []
    },
    {
      "cell_type": "code",
      "source": [
        "import time\n",
        "import copy\n",
        "\n",
        "def train_baseline(model, train_loader, val_loader, optimizer, num_epochs = 30):\n",
        "    best_acc = 0.0\n",
        "    best_model_wts = copy.deepcopy(model.state_dict())\n",
        "        # 정확도가 가장 높은 모델의 Weight를 저장할 것임\n",
        "\n",
        "    for epoch in range(1, num_epochs + 1):\n",
        "        since = time.time()\n",
        "        train(model, train_loader, optimizer)\n",
        "        train_loss, train_acc = evaluate(model, train_loader)\n",
        "        val_loss, val_acc = evaluate(model, val_loader)\n",
        "\n",
        "        if val_acc > best_acc:\n",
        "            best_acc = val_acc\n",
        "            best_model_wts = copy.deepcopy(model.state_dict())\n",
        "                                    # 당 모델의 acc 가 높으면 model.state_dict()의 정보를 딥카피 한다.\n",
        "\n",
        "        time_elapsed = time.time() - since\n",
        "        print('------------- epoch {} ---------------'.format(epoch))\n",
        "        print('train Loss : {:.4f}, Accuracy : {:.2f}%'.format(train_loss, train_acc))\n",
        "        print('val Loss: {:.4f}, Accuracy : {:.2f}%'.format(val_loss, val_acc))\n",
        "        print('Completed in {:.0f}m {:.0f}s'.format(time_elapsed // 60, time_elapsed % 60))\n",
        "    model.load_state_dict(best_model_wts)\n",
        "                    # 딥카피 된 model.state_dict()를 불러온다\n",
        "    return model\n",
        "\n",
        "base = train_baseline(model_base, train_loader, val_loader, optimizer, EPOCH)\n",
        "torch.save(base, 'baseline.pt')"
      ],
      "metadata": {
        "colab": {
          "base_uri": "https://localhost:8080/"
        },
        "id": "644w5nf9ClEb",
        "outputId": "e1471817-c7a2-45a3-d964-b48dc44e2d32"
      },
      "execution_count": 21,
      "outputs": [
        {
          "output_type": "stream",
          "name": "stderr",
          "text": [
            "/usr/local/lib/python3.7/dist-packages/torch/utils/data/dataloader.py:490: UserWarning: This DataLoader will create 4 worker processes in total. Our suggested max number of worker in current system is 2, which is smaller than what this DataLoader is going to create. Please be aware that excessive worker creation might get DataLoader running slow or even freeze, lower the worker number to avoid potential slowness/freeze if necessary.\n",
            "  cpuset_checked))\n"
          ]
        },
        {
          "output_type": "stream",
          "name": "stdout",
          "text": [
            "------------- epoch 1 ---------------\n",
            "train Loss : 1.1003, Accuracy : 65.93%\n",
            "val Loss: 1.1374, Accuracy : 64.81%\n",
            "Completed in 1m 14s\n",
            "------------- epoch 2 ---------------\n",
            "train Loss : 0.8629, Accuracy : 74.44%\n",
            "val Loss: 0.9171, Accuracy : 72.35%\n",
            "Completed in 1m 16s\n",
            "------------- epoch 3 ---------------\n",
            "train Loss : 0.6618, Accuracy : 79.64%\n",
            "val Loss: 0.7295, Accuracy : 77.77%\n",
            "Completed in 1m 15s\n",
            "------------- epoch 4 ---------------\n",
            "train Loss : 0.5277, Accuracy : 83.62%\n",
            "val Loss: 0.6104, Accuracy : 80.95%\n",
            "Completed in 1m 16s\n",
            "------------- epoch 5 ---------------\n",
            "train Loss : 0.4577, Accuracy : 85.50%\n",
            "val Loss: 0.5479, Accuracy : 82.36%\n",
            "Completed in 1m 14s\n",
            "------------- epoch 6 ---------------\n",
            "train Loss : 0.3821, Accuracy : 88.40%\n",
            "val Loss: 0.4744, Accuracy : 85.19%\n",
            "Completed in 1m 14s\n",
            "------------- epoch 7 ---------------\n",
            "train Loss : 0.3430, Accuracy : 89.49%\n",
            "val Loss: 0.4419, Accuracy : 85.99%\n",
            "Completed in 1m 16s\n",
            "------------- epoch 8 ---------------\n",
            "train Loss : 0.2885, Accuracy : 91.34%\n",
            "val Loss: 0.3940, Accuracy : 87.65%\n",
            "Completed in 1m 14s\n",
            "------------- epoch 9 ---------------\n",
            "train Loss : 0.2975, Accuracy : 90.49%\n",
            "val Loss: 0.4093, Accuracy : 86.42%\n",
            "Completed in 1m 14s\n",
            "------------- epoch 10 ---------------\n",
            "train Loss : 0.2658, Accuracy : 92.23%\n",
            "val Loss: 0.3841, Accuracy : 88.07%\n",
            "Completed in 1m 16s\n",
            "------------- epoch 11 ---------------\n",
            "train Loss : 0.2429, Accuracy : 92.48%\n",
            "val Loss: 0.3748, Accuracy : 87.98%\n",
            "Completed in 1m 14s\n",
            "------------- epoch 12 ---------------\n",
            "train Loss : 0.2096, Accuracy : 93.94%\n",
            "val Loss: 0.3343, Accuracy : 89.20%\n",
            "Completed in 1m 14s\n",
            "------------- epoch 13 ---------------\n",
            "train Loss : 0.2022, Accuracy : 93.94%\n",
            "val Loss: 0.3297, Accuracy : 89.56%\n",
            "Completed in 1m 16s\n",
            "------------- epoch 14 ---------------\n",
            "train Loss : 0.1992, Accuracy : 93.81%\n",
            "val Loss: 0.3354, Accuracy : 89.12%\n",
            "Completed in 1m 14s\n",
            "------------- epoch 15 ---------------\n",
            "train Loss : 0.1663, Accuracy : 95.55%\n",
            "val Loss: 0.2997, Accuracy : 90.20%\n",
            "Completed in 1m 14s\n",
            "------------- epoch 16 ---------------\n",
            "train Loss : 0.1453, Accuracy : 95.98%\n",
            "val Loss: 0.2874, Accuracy : 91.00%\n",
            "Completed in 1m 16s\n",
            "------------- epoch 17 ---------------\n",
            "train Loss : 0.1412, Accuracy : 95.72%\n",
            "val Loss: 0.2845, Accuracy : 90.49%\n",
            "Completed in 1m 14s\n",
            "------------- epoch 18 ---------------\n",
            "train Loss : 0.1306, Accuracy : 96.09%\n",
            "val Loss: 0.2849, Accuracy : 90.51%\n",
            "Completed in 1m 14s\n",
            "------------- epoch 19 ---------------\n",
            "train Loss : 0.1238, Accuracy : 96.42%\n",
            "val Loss: 0.2822, Accuracy : 90.74%\n",
            "Completed in 1m 16s\n",
            "------------- epoch 20 ---------------\n",
            "train Loss : 0.1063, Accuracy : 97.20%\n",
            "val Loss: 0.2529, Accuracy : 92.08%\n",
            "Completed in 1m 14s\n",
            "------------- epoch 21 ---------------\n",
            "train Loss : 0.1036, Accuracy : 97.36%\n",
            "val Loss: 0.2620, Accuracy : 91.71%\n",
            "Completed in 1m 17s\n",
            "------------- epoch 22 ---------------\n",
            "train Loss : 0.0983, Accuracy : 97.23%\n",
            "val Loss: 0.2613, Accuracy : 91.76%\n",
            "Completed in 1m 14s\n",
            "------------- epoch 23 ---------------\n",
            "train Loss : 0.0813, Accuracy : 97.96%\n",
            "val Loss: 0.2446, Accuracy : 92.10%\n",
            "Completed in 1m 15s\n",
            "------------- epoch 24 ---------------\n",
            "train Loss : 0.1482, Accuracy : 95.20%\n",
            "val Loss: 0.3246, Accuracy : 89.57%\n",
            "Completed in 1m 16s\n",
            "------------- epoch 25 ---------------\n",
            "train Loss : 0.0804, Accuracy : 97.89%\n",
            "val Loss: 0.2464, Accuracy : 91.90%\n",
            "Completed in 1m 14s\n",
            "------------- epoch 26 ---------------\n",
            "train Loss : 0.0682, Accuracy : 98.15%\n",
            "val Loss: 0.2303, Accuracy : 92.65%\n",
            "Completed in 1m 14s\n",
            "------------- epoch 27 ---------------\n",
            "train Loss : 0.0907, Accuracy : 97.33%\n",
            "val Loss: 0.2713, Accuracy : 91.38%\n",
            "Completed in 1m 16s\n",
            "------------- epoch 28 ---------------\n",
            "train Loss : 0.0526, Accuracy : 98.73%\n",
            "val Loss: 0.2190, Accuracy : 93.09%\n",
            "Completed in 1m 14s\n",
            "------------- epoch 29 ---------------\n",
            "train Loss : 0.0583, Accuracy : 98.69%\n",
            "val Loss: 0.2255, Accuracy : 92.80%\n",
            "Completed in 1m 14s\n",
            "------------- epoch 30 ---------------\n",
            "train Loss : 0.0536, Accuracy : 98.64%\n",
            "val Loss: 0.2209, Accuracy : 93.00%\n",
            "Completed in 1m 16s\n"
          ]
        }
      ]
    },
    {
      "cell_type": "markdown",
      "source": [
        "-------------------"
      ],
      "metadata": {
        "id": "oTijqrGNEZM1"
      }
    },
    {
      "cell_type": "markdown",
      "source": [
        "# 43_전이학습 개념 - 식물잎의 사진으로 질병분류"
      ],
      "metadata": {
        "id": "xy-kbnncObPx"
      }
    },
    {
      "cell_type": "code",
      "source": [
        "# 전이학습 transfer learning"
      ],
      "metadata": {
        "id": "QFhBmfLEOd1n"
      },
      "execution_count": null,
      "outputs": []
    },
    {
      "cell_type": "markdown",
      "source": [
        "# 44_전이학습 모델불러오기 - 식물잎의 사진으로 질병분류"
      ],
      "metadata": {
        "id": "SupIOMaTOl8F"
      }
    },
    {
      "cell_type": "code",
      "source": [
        "data_transforms = {\n",
        "    'train' : transforms.Compose([transforms.Resize([64, 64]), \n",
        "                                  transforms.RandomHorizontalFlip(),        # 기하학적 증강\n",
        "                                  transforms.RandomVerticalFlip(),          # 기하학적 증강 (augmentation) >> 과적합을 고려하여 상하좌우로 무작위로 뒤집는 것.\n",
        "                                  transforms.RandomCrop(52),\n",
        "                                                        # 52 * 52 사이즈로 크롭\n",
        "                                  transforms.ToTensor(),\n",
        "                                  transforms.Normalize([0.485, 0.456, 0.406], [0.229, 0.224, 0.225]) ]),\n",
        "                                                        # R  ,  G ,   B\n",
        "                                                        # 평균\n",
        "                                                                                # 표준편차\n",
        "                   \n",
        "    'val' : transforms.Compose([transforms.Resize([64, 64]),\n",
        "                                transforms.RandomCrop(52),\n",
        "                                transforms.ToTensor(),\n",
        "                                transforms.Normalize([0.485, 0.456, 0.406], [0.229, 0.224, 0.225]) ])\n",
        "}"
      ],
      "metadata": {
        "id": "2PW04TmdRq0n"
      },
      "execution_count": 22,
      "outputs": []
    },
    {
      "cell_type": "code",
      "source": [
        "data_dir = './splitted'\n",
        "image_datasets = {x: ImageFolder(root = os.path.join(data_dir, x),\n",
        "                                 transform = data_transforms[x]) for x in ['train', 'val']}\n",
        "dataloaders = {x : torch.utils.data.DataLoader(image_datasets[x],\n",
        "                                               batch_size=BATCH_SIZE,\n",
        "                                               shuffle=True,\n",
        "                                               num_workers=4) for x in ['train', 'val']}\n",
        "dataset_sizes = {x: len(image_datasets[x]) for x in ['train', 'val']}\n",
        "\n",
        "class_names = image_datasets['train'].classes"
      ],
      "metadata": {
        "colab": {
          "base_uri": "https://localhost:8080/"
        },
        "id": "RADVEtggSMbP",
        "outputId": "398f8f2e-139e-42c4-d468-5d2c5b407a04"
      },
      "execution_count": 24,
      "outputs": [
        {
          "output_type": "stream",
          "name": "stderr",
          "text": [
            "/usr/local/lib/python3.7/dist-packages/torch/utils/data/dataloader.py:490: UserWarning: This DataLoader will create 4 worker processes in total. Our suggested max number of worker in current system is 2, which is smaller than what this DataLoader is going to create. Please be aware that excessive worker creation might get DataLoader running slow or even freeze, lower the worker number to avoid potential slowness/freeze if necessary.\n",
            "  cpuset_checked))\n"
          ]
        }
      ]
    },
    {
      "cell_type": "markdown",
      "source": [
        "## pre-trained model load"
      ],
      "metadata": {
        "id": "VyQPLmDHVUjP"
      }
    },
    {
      "cell_type": "code",
      "source": [
        "from torchvision import models\n",
        "\n",
        "resnet = models.resnet50(pretrained=True)\n",
        "                        # resnet50 이 가지는 클래스 숫자가 현재 모델의 출력 숫자와 다르기 때문에,\n",
        "                        # 마지막 레이어의 출력 숫자를 바꿔줘야 한다.\n",
        "num_ftrs = resnet.fc.in_features\n",
        "                    # 마지막 레이어 지정\n",
        "resnet.fc = nn.Linear(num_ftrs, 33)\n",
        "                                # 33개 출력으로 변경\n",
        "                                \n",
        "resnet = resnet.to(DEVICE)\n",
        "\n",
        "criterion = nn.CrossEntropyLoss()\n",
        "optimizer_ft = optim.Adam(filter(lambda p: p.requires_grad, resnet.parameters()), lr=0.001)\n",
        "                                            # 맨 마지막 출력단은 weight가 없기 때문에 해당 옵션을 올려줘야 한다.\n",
        "\n",
        "from torch.optim import lr_scheduler\n",
        "exp_lr_scheduler = lr_scheduler.StepLR(optimizer_ft, step_size=7, gamma=0.1)\n",
        "                                                    # 7 Epochs 마다 Learning Rate를 0.1 감소시킨다."
      ],
      "metadata": {
        "colab": {
          "base_uri": "https://localhost:8080/",
          "height": 67,
          "referenced_widgets": [
            "7f73d15852c4430b9c69790dfdaf796c",
            "5ae020163f21453fa17e13c5962c983e",
            "144d1f69d053410aa32ce335721c11ee",
            "4affa3769b324e9d93df3747afa54436",
            "5f6df342e3204f3bb8fa99f23ea541ef",
            "0d17f44d78dc4faca119457669b5610c",
            "1cc90320159940708e74b05234c1c5a7",
            "4703851bcf8e43b7942fd9ac0b6dd067",
            "8aea50adfd954b9d84b66db1ceaa10e9",
            "5d78973a86f34e9ba8af04e68e972f6f",
            "23e8aac437164efba5c1e5d286ffaab9"
          ]
        },
        "id": "bs4RbrwXUtjc",
        "outputId": "fc8d0d87-3248-437e-adb3-a67e007ab7af"
      },
      "execution_count": 25,
      "outputs": [
        {
          "output_type": "stream",
          "name": "stderr",
          "text": [
            "Downloading: \"https://download.pytorch.org/models/resnet50-0676ba61.pth\" to /root/.cache/torch/hub/checkpoints/resnet50-0676ba61.pth\n"
          ]
        },
        {
          "output_type": "display_data",
          "data": {
            "text/plain": [
              "  0%|          | 0.00/97.8M [00:00<?, ?B/s]"
            ],
            "application/vnd.jupyter.widget-view+json": {
              "version_major": 2,
              "version_minor": 0,
              "model_id": "7f73d15852c4430b9c69790dfdaf796c"
            }
          },
          "metadata": {}
        }
      ]
    },
    {
      "cell_type": "markdown",
      "source": [
        "----------------"
      ],
      "metadata": {
        "id": "fzn5eu32WbvX"
      }
    },
    {
      "cell_type": "markdown",
      "source": [
        "# 45_전이학습 모델 수정 후 학습시키기 - 식물잎의 사진으로 질병 분류"
      ],
      "metadata": {
        "id": "atZJOFsEWYLc"
      }
    },
    {
      "cell_type": "code",
      "source": [
        "ct = 0\n",
        "for child in resnet.children():\n",
        "    ct += 1\n",
        "    if ct < 6:\n",
        "        for param in child.parameters():\n",
        "            param.requires_grad =False\n",
        "                        # 0 ~ 5번 레이어를 Freeze 함 (고정)\n",
        "    # 6 ~ 9번 레이어까지는 학습을 진행함!"
      ],
      "metadata": {
        "id": "JNRnqEJ9WNy-"
      },
      "execution_count": 26,
      "outputs": []
    },
    {
      "cell_type": "code",
      "source": [
        "def train_resnet(model, criterion, optimizer, scheduler, num_epochs = 25):\n",
        "\n",
        "    best_model_wts = copy.deepcopy(model.state_dict())\n",
        "    best_acc = 0.0\n",
        "\n",
        "    for epoch in range(num_epochs):\n",
        "        print('--------------- epoch {} ----------------'.format(epoch+1))\n",
        "        since = time.time()\n",
        "        for phase in ['train', 'val']:\n",
        "            if phase == 'train':\n",
        "                model.train()\n",
        "            else:\n",
        "                model.eval()\n",
        "\n",
        "            running_loss = 0.0\n",
        "            running_corrects = 0\n",
        "\n",
        "\n",
        "            for inputs, labels in dataloaders[phase]:\n",
        "                inputs = inputs.to(DEVICE)\n",
        "                labels = labels.to(DEVICE)\n",
        "\n",
        "                optimizer.zero_grad()\n",
        "\n",
        "                with torch.set_grad_enabled(phase == 'train'):      # 만약 train이면 gradient를 적용하도록 설정한다.\n",
        "                    outputs = model(inputs)\n",
        "                    _, preds = torch.max(outputs, 1)\n",
        "                                        # one hot encoding 형태로 뽑힘\n",
        "                                        # 출력 33개를 그대로 가져와서\n",
        "                    loss = criterion(outputs, labels)\n",
        "\n",
        "                    if phase == 'train' :\n",
        "                        loss.backward() # backpropogation\n",
        "                        optimizer.step()    # weight update\n",
        "\n",
        "                running_loss += loss.item() * inputs.size(0)\n",
        "                                                # inputs.size(0) : 설정된 배치사이즈를 잡아주는 것.\n",
        "                running_corrects += torch.sum(preds == labels.data)\n",
        "            if phase == 'train':\n",
        "                scheduler.step()        # scheduler 를 통해 lr 도 업데이트 시켜줌\n",
        "\n",
        "            epoch_loss = running_loss / dataset_sizes[phase]\n",
        "            epoch_acc = running_corrects.double() / dataset_sizes[phase]\n",
        "\n",
        "            print('{} Loss : {:.4f} ACC : {:.4f}'.format(phase, epoch_loss, epoch_acc))\n",
        "\n",
        "\n",
        "            if phase == 'val' and epoch_acc > best_acc:\n",
        "                best_acc = epoch_acc\n",
        "                best_model_wts = copy.deepcopy(model.state_dict())\n",
        "\n",
        "        time_elapsed = time.time() - since\n",
        "        print('Completed in {:.0f}m {:.0f}s'.format(time_elapsed // 60, time_elapsed % 60))\n",
        "    print('Best val Acc : {:4f}'.format(best_acc))\n",
        "\n",
        "    model.load_state_dict(best_model_wts)\n",
        "\n",
        "    return model"
      ],
      "metadata": {
        "id": "9iMWL0T_Wr6q"
      },
      "execution_count": 27,
      "outputs": []
    },
    {
      "cell_type": "code",
      "source": [
        "model_resnet50 = train_resnet(resnet, criterion, optimizer_ft, \n",
        "                              exp_lr_scheduler, num_epochs = EPOCH)\n",
        "\n",
        "torch.save(model_resnet50, 'resnet50.pt')"
      ],
      "metadata": {
        "colab": {
          "base_uri": "https://localhost:8080/"
        },
        "id": "3Hta_Bp9a1Ih",
        "outputId": "0036412c-bbab-4171-aca7-aa4bf592547e"
      },
      "execution_count": 28,
      "outputs": [
        {
          "output_type": "stream",
          "name": "stdout",
          "text": [
            "--------------- epoch 1 ----------------\n"
          ]
        },
        {
          "output_type": "stream",
          "name": "stderr",
          "text": [
            "/usr/local/lib/python3.7/dist-packages/torch/utils/data/dataloader.py:490: UserWarning: This DataLoader will create 4 worker processes in total. Our suggested max number of worker in current system is 2, which is smaller than what this DataLoader is going to create. Please be aware that excessive worker creation might get DataLoader running slow or even freeze, lower the worker number to avoid potential slowness/freeze if necessary.\n",
            "  cpuset_checked))\n"
          ]
        },
        {
          "output_type": "stream",
          "name": "stdout",
          "text": [
            "train Loss : 0.6102 ACC : 0.8155\n",
            "val Loss : 0.2746 ACC : 0.9096\n",
            "Completed in 0m 54s\n",
            "--------------- epoch 2 ----------------\n",
            "train Loss : 0.2166 ACC : 0.9294\n",
            "val Loss : 0.2271 ACC : 0.9304\n",
            "Completed in 0m 52s\n",
            "--------------- epoch 3 ----------------\n",
            "train Loss : 0.1737 ACC : 0.9454\n",
            "val Loss : 0.1881 ACC : 0.9404\n",
            "Completed in 0m 52s\n",
            "--------------- epoch 4 ----------------\n",
            "train Loss : 0.1353 ACC : 0.9566\n",
            "val Loss : 0.1568 ACC : 0.9492\n",
            "Completed in 0m 52s\n",
            "--------------- epoch 5 ----------------\n",
            "train Loss : 0.1137 ACC : 0.9621\n",
            "val Loss : 0.1410 ACC : 0.9547\n",
            "Completed in 0m 53s\n",
            "--------------- epoch 6 ----------------\n",
            "train Loss : 0.0919 ACC : 0.9692\n",
            "val Loss : 0.1600 ACC : 0.9531\n",
            "Completed in 0m 52s\n",
            "--------------- epoch 7 ----------------\n",
            "train Loss : 0.0819 ACC : 0.9738\n",
            "val Loss : 0.1018 ACC : 0.9682\n",
            "Completed in 0m 52s\n",
            "--------------- epoch 8 ----------------\n",
            "train Loss : 0.0446 ACC : 0.9854\n",
            "val Loss : 0.0578 ACC : 0.9815\n",
            "Completed in 0m 52s\n",
            "--------------- epoch 9 ----------------\n",
            "train Loss : 0.0277 ACC : 0.9912\n",
            "val Loss : 0.0494 ACC : 0.9839\n",
            "Completed in 0m 54s\n",
            "--------------- epoch 10 ----------------\n",
            "train Loss : 0.0250 ACC : 0.9916\n",
            "val Loss : 0.0481 ACC : 0.9854\n",
            "Completed in 0m 52s\n",
            "--------------- epoch 11 ----------------\n",
            "train Loss : 0.0206 ACC : 0.9931\n",
            "val Loss : 0.0477 ACC : 0.9844\n",
            "Completed in 0m 52s\n",
            "--------------- epoch 12 ----------------\n",
            "train Loss : 0.0203 ACC : 0.9936\n",
            "val Loss : 0.0432 ACC : 0.9871\n",
            "Completed in 0m 52s\n",
            "--------------- epoch 13 ----------------\n",
            "train Loss : 0.0179 ACC : 0.9944\n",
            "val Loss : 0.0451 ACC : 0.9870\n",
            "Completed in 0m 53s\n",
            "--------------- epoch 14 ----------------\n",
            "train Loss : 0.0171 ACC : 0.9949\n",
            "val Loss : 0.0450 ACC : 0.9857\n",
            "Completed in 0m 52s\n",
            "--------------- epoch 15 ----------------\n",
            "train Loss : 0.0145 ACC : 0.9953\n",
            "val Loss : 0.0471 ACC : 0.9871\n",
            "Completed in 0m 52s\n",
            "--------------- epoch 16 ----------------\n",
            "train Loss : 0.0139 ACC : 0.9957\n",
            "val Loss : 0.0414 ACC : 0.9877\n",
            "Completed in 0m 52s\n",
            "--------------- epoch 17 ----------------\n",
            "train Loss : 0.0133 ACC : 0.9961\n",
            "val Loss : 0.0481 ACC : 0.9860\n",
            "Completed in 0m 52s\n",
            "--------------- epoch 18 ----------------\n",
            "train Loss : 0.0125 ACC : 0.9964\n",
            "val Loss : 0.0450 ACC : 0.9869\n",
            "Completed in 0m 53s\n",
            "--------------- epoch 19 ----------------\n",
            "train Loss : 0.0133 ACC : 0.9957\n",
            "val Loss : 0.0405 ACC : 0.9877\n",
            "Completed in 0m 51s\n",
            "--------------- epoch 20 ----------------\n",
            "train Loss : 0.0123 ACC : 0.9963\n",
            "val Loss : 0.0382 ACC : 0.9875\n",
            "Completed in 0m 51s\n",
            "--------------- epoch 21 ----------------\n",
            "train Loss : 0.0145 ACC : 0.9949\n",
            "val Loss : 0.0403 ACC : 0.9881\n",
            "Completed in 0m 52s\n",
            "--------------- epoch 22 ----------------\n",
            "train Loss : 0.0123 ACC : 0.9962\n",
            "val Loss : 0.0403 ACC : 0.9892\n",
            "Completed in 0m 53s\n",
            "--------------- epoch 23 ----------------\n",
            "train Loss : 0.0109 ACC : 0.9966\n",
            "val Loss : 0.0418 ACC : 0.9881\n",
            "Completed in 0m 52s\n",
            "--------------- epoch 24 ----------------\n",
            "train Loss : 0.0115 ACC : 0.9965\n",
            "val Loss : 0.0385 ACC : 0.9892\n",
            "Completed in 0m 52s\n",
            "--------------- epoch 25 ----------------\n",
            "train Loss : 0.0129 ACC : 0.9961\n",
            "val Loss : 0.0409 ACC : 0.9870\n",
            "Completed in 0m 51s\n",
            "--------------- epoch 26 ----------------\n",
            "train Loss : 0.0119 ACC : 0.9963\n",
            "val Loss : 0.0432 ACC : 0.9870\n",
            "Completed in 0m 53s\n",
            "--------------- epoch 27 ----------------\n",
            "train Loss : 0.0112 ACC : 0.9963\n",
            "val Loss : 0.0402 ACC : 0.9890\n",
            "Completed in 0m 51s\n",
            "--------------- epoch 28 ----------------\n",
            "train Loss : 0.0113 ACC : 0.9961\n",
            "val Loss : 0.0433 ACC : 0.9871\n",
            "Completed in 0m 51s\n",
            "--------------- epoch 29 ----------------\n",
            "train Loss : 0.0122 ACC : 0.9960\n",
            "val Loss : 0.0408 ACC : 0.9880\n",
            "Completed in 0m 51s\n",
            "--------------- epoch 30 ----------------\n",
            "train Loss : 0.0111 ACC : 0.9962\n",
            "val Loss : 0.0394 ACC : 0.9886\n",
            "Completed in 0m 52s\n",
            "Best val Acc : 0.989235\n"
          ]
        }
      ]
    },
    {
      "cell_type": "markdown",
      "source": [
        "-------------------------\n",
        "# 46_전이학습 평가하기 - 식물잎의 사진으로 질병분류"
      ],
      "metadata": {
        "id": "VXOePplokoEP"
      }
    },
    {
      "cell_type": "code",
      "source": [
        "transform_resNet = transforms.Compose([\n",
        "                                       transforms.Resize([64, 64]),\n",
        "                                       transforms.RandomCrop(52),\n",
        "                                       transforms.ToTensor(),\n",
        "                                       transforms.Normalize([0.485, 0.456, 0.406], [0.229, 0.224, 0.225])\n",
        "])\n",
        "\n",
        "test_resNet = ImageFolder(root='./splitted/test', transform = transform_resNet)\n",
        "test_loader_resNet = torch.utils.data.DataLoader(test_resNet,\n",
        "                                                 batch_size = BATCH_SIZE,\n",
        "                                                 shuffle=True,\n",
        "                                                 num_workers=4)"
      ],
      "metadata": {
        "colab": {
          "base_uri": "https://localhost:8080/"
        },
        "id": "L-KtKkGNktit",
        "outputId": "519f412e-a783-4c00-b403-6f87c98db2dd"
      },
      "execution_count": 29,
      "outputs": [
        {
          "output_type": "stream",
          "name": "stderr",
          "text": [
            "/usr/local/lib/python3.7/dist-packages/torch/utils/data/dataloader.py:490: UserWarning: This DataLoader will create 4 worker processes in total. Our suggested max number of worker in current system is 2, which is smaller than what this DataLoader is going to create. Please be aware that excessive worker creation might get DataLoader running slow or even freeze, lower the worker number to avoid potential slowness/freeze if necessary.\n",
            "  cpuset_checked))\n"
          ]
        }
      ]
    },
    {
      "cell_type": "code",
      "source": [
        "resnet50 = torch.load('resnet50.pt')\n",
        "resnet50.eval()\n",
        "test_loss, test_accuracy = evaluate(resnet50, test_loader_resNet)\n",
        "\n",
        "print('ResNet test acc : ', test_accuracy)"
      ],
      "metadata": {
        "colab": {
          "base_uri": "https://localhost:8080/"
        },
        "id": "IsLbBGldlaJU",
        "outputId": "47fcbdfe-104d-4811-b325-4d86aab5c349"
      },
      "execution_count": 30,
      "outputs": [
        {
          "output_type": "stream",
          "name": "stderr",
          "text": [
            "/usr/local/lib/python3.7/dist-packages/torch/utils/data/dataloader.py:490: UserWarning: This DataLoader will create 4 worker processes in total. Our suggested max number of worker in current system is 2, which is smaller than what this DataLoader is going to create. Please be aware that excessive worker creation might get DataLoader running slow or even freeze, lower the worker number to avoid potential slowness/freeze if necessary.\n",
            "  cpuset_checked))\n"
          ]
        },
        {
          "output_type": "stream",
          "name": "stdout",
          "text": [
            "ResNet test acc :  99.03617474026787\n"
          ]
        }
      ]
    },
    {
      "cell_type": "code",
      "source": [
        ""
      ],
      "metadata": {
        "id": "lwZk2k0YlnRw"
      },
      "execution_count": 30,
      "outputs": []
    }
  ]
}
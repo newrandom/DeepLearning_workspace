{
 "cells": [
  {
   "cell_type": "markdown",
   "metadata": {},
   "source": [
    "# 54_RNN - simple RNN\n"
   ]
  },
  {
   "cell_type": "markdown",
   "metadata": {},
   "source": [
    "# simple RNN :\n",
    "### - 순환신경망\n",
    "- 활성화 신호가 입력에서 출력으로 한 방향으로 흐르는 피드포워드 신경망\n",
    "- 순환 신경망은 뒤쪽으로 연결하는 순환 연결이 있음\n",
    "- 순서가 있는 데이터를 입력으로 받고\n",
    "- 변화하는 입력에 대한 출력을 얻음"
   ]
  },
  {
   "cell_type": "code",
   "execution_count": 1,
   "metadata": {},
   "outputs": [],
   "source": [
    "import tensorflow as tf\n",
    "import numpy as np"
   ]
  },
  {
   "cell_type": "code",
   "execution_count": 2,
   "metadata": {},
   "outputs": [
    {
     "name": "stdout",
     "output_type": "stream",
     "text": [
      "[[0. ]\n",
      " [0.1]\n",
      " [0.2]\n",
      " [0.3]] 0.4\n",
      "[[0.1]\n",
      " [0.2]\n",
      " [0.3]\n",
      " [0.4]] 0.5\n",
      "[[0.2]\n",
      " [0.3]\n",
      " [0.4]\n",
      " [0.5]] 0.6\n",
      "[[0.3]\n",
      " [0.4]\n",
      " [0.5]\n",
      " [0.6]] 0.7\n",
      "[[0.4]\n",
      " [0.5]\n",
      " [0.6]\n",
      " [0.7]] 0.8\n",
      "[[0.5]\n",
      " [0.6]\n",
      " [0.7]\n",
      " [0.8]] 0.9\n"
     ]
    }
   ],
   "source": [
    "# time stamp 데이터 만들기\n",
    "X = []\n",
    "Y = []\n",
    "for i in range(6):\n",
    "\n",
    "    lst = list(range(i, i+4))\n",
    "\n",
    "    X.append(list(map(lambda c: [c/10], lst)))\n",
    "                        # lambda c :\n",
    "                            # c = [x/10 for x in lst]\n",
    "    Y.append((i+4)/10)\n",
    "\n",
    "X = np.array(X)\n",
    "Y = np.array(Y)\n",
    "for i in range(len(X)):\n",
    "    print(X[i], Y[i])"
   ]
  },
  {
   "cell_type": "code",
   "execution_count": 3,
   "metadata": {},
   "outputs": [
    {
     "name": "stdout",
     "output_type": "stream",
     "text": [
      "Metal device set to: Apple M1\n",
      "\n",
      "systemMemory: 8.00 GB\n",
      "maxCacheSize: 2.67 GB\n",
      "\n"
     ]
    },
    {
     "name": "stderr",
     "output_type": "stream",
     "text": [
      "2022-06-23 15:36:12.425203: I tensorflow/core/common_runtime/pluggable_device/pluggable_device_factory.cc:305] Could not identify NUMA node of platform GPU ID 0, defaulting to 0. Your kernel may not have been built with NUMA support.\n",
      "2022-06-23 15:36:12.426561: I tensorflow/core/common_runtime/pluggable_device/pluggable_device_factory.cc:271] Created TensorFlow device (/job:localhost/replica:0/task:0/device:GPU:0 with 0 MB memory) -> physical PluggableDevice (device: 0, name: METAL, pci bus id: <undefined>)\n"
     ]
    },
    {
     "name": "stdout",
     "output_type": "stream",
     "text": [
      "Model: \"sequential\"\n",
      "_________________________________________________________________\n",
      " Layer (type)                Output Shape              Param #   \n",
      "=================================================================\n",
      " simple_rnn (SimpleRNN)      (None, 10)                120       \n",
      "                                                                 \n",
      " dense (Dense)               (None, 1)                 11        \n",
      "                                                                 \n",
      "=================================================================\n",
      "Total params: 131\n",
      "Trainable params: 131\n",
      "Non-trainable params: 0\n",
      "_________________________________________________________________\n"
     ]
    }
   ],
   "source": [
    "# simple RNN 구성하기\n",
    "model = tf.keras.Sequential([\n",
    "    tf.keras.layers.SimpleRNN(units = 10, return_sequences=False, input_shape=[4,1]),\n",
    "                                            # return_sequences : 단이 하나이기 때문에 출력만 뽑아서 보려고 False 를 설정\n",
    "                                            # 여러개의 SimpleRNN 을 사용하는 경우 출력단을 제외하고 모두 True를 사용함\n",
    "    tf.keras.layers.Dense(1)\n",
    "])\n",
    "\n",
    "model.compile(optimizer = 'adam', loss='mse')\n",
    "model.summary()"
   ]
  },
  {
   "cell_type": "code",
   "execution_count": 4,
   "metadata": {},
   "outputs": [
    {
     "name": "stderr",
     "output_type": "stream",
     "text": [
      "2022-06-23 15:37:22.542663: W tensorflow/core/platform/profile_utils/cpu_utils.cc:128] Failed to get CPU frequency: 0 Hz\n",
      "2022-06-23 15:37:23.222566: I tensorflow/core/grappler/optimizers/custom_graph_optimizer_registry.cc:113] Plugin optimizer for device_type GPU is enabled.\n"
     ]
    },
    {
     "data": {
      "text/plain": [
       "<keras.callbacks.History at 0x171917e50>"
      ]
     },
     "execution_count": 4,
     "metadata": {},
     "output_type": "execute_result"
    }
   ],
   "source": [
    "# Fit\n",
    "model.fit(X, Y, epochs=100, verbose=0)"
   ]
  },
  {
   "cell_type": "code",
   "execution_count": 5,
   "metadata": {},
   "outputs": [
    {
     "name": "stderr",
     "output_type": "stream",
     "text": [
      "2022-06-23 15:38:00.351758: I tensorflow/core/grappler/optimizers/custom_graph_optimizer_registry.cc:113] Plugin optimizer for device_type GPU is enabled.\n"
     ]
    },
    {
     "name": "stdout",
     "output_type": "stream",
     "text": [
      "1/1 [==============================] - 1s 502ms/step\n"
     ]
    },
    {
     "data": {
      "text/plain": [
       "array([[0.907671]], dtype=float32)"
      ]
     },
     "execution_count": 5,
     "metadata": {},
     "output_type": "execute_result"
    }
   ],
   "source": [
    "# predict\n",
    "model.predict(np.array([[[0.6], [0.7],[.8],[.9]]]))"
   ]
  },
  {
   "cell_type": "code",
   "execution_count": 6,
   "metadata": {},
   "outputs": [
    {
     "name": "stdout",
     "output_type": "stream",
     "text": [
      "1/1 [==============================] - 0s 26ms/step\n"
     ]
    },
    {
     "data": {
      "text/plain": [
       "array([[0.41998538]], dtype=float32)"
      ]
     },
     "execution_count": 6,
     "metadata": {},
     "output_type": "execute_result"
    }
   ],
   "source": [
    "model.predict(np.array([[[-.1],[.0],[.1],[.2]]]))"
   ]
  },
  {
   "cell_type": "markdown",
   "metadata": {},
   "source": [
    "-----------------------\n",
    "# 모델 더 손보기"
   ]
  },
  {
   "cell_type": "code",
   "execution_count": 7,
   "metadata": {},
   "outputs": [
    {
     "name": "stdout",
     "output_type": "stream",
     "text": [
      "Model: \"sequential_1\"\n",
      "_________________________________________________________________\n",
      " Layer (type)                Output Shape              Param #   \n",
      "=================================================================\n",
      " simple_rnn_1 (SimpleRNN)    (None, 4, 10)             120       \n",
      "                                                                 \n",
      " simple_rnn_2 (SimpleRNN)    (None, 4, 10)             210       \n",
      "                                                                 \n",
      " simple_rnn_3 (SimpleRNN)    (None, 4, 10)             210       \n",
      "                                                                 \n",
      " simple_rnn_4 (SimpleRNN)    (None, 10)                210       \n",
      "                                                                 \n",
      " dense_1 (Dense)             (None, 1)                 11        \n",
      "                                                                 \n",
      "=================================================================\n",
      "Total params: 761\n",
      "Trainable params: 761\n",
      "Non-trainable params: 0\n",
      "_________________________________________________________________\n"
     ]
    }
   ],
   "source": [
    "model = tf.keras.Sequential([\n",
    "    tf.keras.layers.SimpleRNN(units=10, return_sequences=True, input_shape=[4,1]),\n",
    "    tf.keras.layers.SimpleRNN(units=10, return_sequences=True, input_shape=[4,1]),\n",
    "    tf.keras.layers.SimpleRNN(units=10, return_sequences=True, input_shape=[4,1]),\n",
    "                                        # return_sequences : 해당 출력단의 결과를 다음 layer로 보냄(True)\n",
    "    tf.keras.layers.SimpleRNN(units=10, return_sequences=False, input_shape=[4,1]),\n",
    "    tf.keras.layers.Dense(1)    \n",
    "])\n",
    "\n",
    "model.compile(optimizer='adam', loss='mse')\n",
    "model.summary()"
   ]
  },
  {
   "cell_type": "code",
   "execution_count": 8,
   "metadata": {},
   "outputs": [
    {
     "name": "stdout",
     "output_type": "stream",
     "text": [
      "Epoch 1/100\n"
     ]
    },
    {
     "name": "stderr",
     "output_type": "stream",
     "text": [
      "2022-06-23 15:41:36.226340: I tensorflow/core/grappler/optimizers/custom_graph_optimizer_registry.cc:113] Plugin optimizer for device_type GPU is enabled.\n"
     ]
    },
    {
     "name": "stdout",
     "output_type": "stream",
     "text": [
      "1/1 [==============================] - 2s 2s/step - loss: 3.2902\n",
      "Epoch 2/100\n",
      "1/1 [==============================] - 0s 111ms/step - loss: 2.8019\n",
      "Epoch 3/100\n",
      "1/1 [==============================] - 0s 111ms/step - loss: 2.3177\n",
      "Epoch 4/100\n",
      "1/1 [==============================] - 0s 131ms/step - loss: 1.8482\n",
      "Epoch 5/100\n",
      "1/1 [==============================] - 0s 93ms/step - loss: 1.4060\n",
      "Epoch 6/100\n",
      "1/1 [==============================] - 0s 93ms/step - loss: 1.0051\n",
      "Epoch 7/100\n",
      "1/1 [==============================] - 0s 102ms/step - loss: 0.6600\n",
      "Epoch 8/100\n",
      "1/1 [==============================] - 0s 88ms/step - loss: 0.3836\n",
      "Epoch 9/100\n",
      "1/1 [==============================] - 0s 109ms/step - loss: 0.1842\n",
      "Epoch 10/100\n",
      "1/1 [==============================] - 0s 85ms/step - loss: 0.0631\n",
      "Epoch 11/100\n",
      "1/1 [==============================] - 0s 85ms/step - loss: 0.0124\n",
      "Epoch 12/100\n",
      "1/1 [==============================] - 0s 96ms/step - loss: 0.0165\n",
      "Epoch 13/100\n",
      "1/1 [==============================] - 0s 80ms/step - loss: 0.0554\n",
      "Epoch 14/100\n",
      "1/1 [==============================] - 0s 88ms/step - loss: 0.1093\n",
      "Epoch 15/100\n",
      "1/1 [==============================] - 0s 91ms/step - loss: 0.1632\n",
      "Epoch 16/100\n",
      "1/1 [==============================] - 0s 93ms/step - loss: 0.2074\n",
      "Epoch 17/100\n",
      "1/1 [==============================] - 0s 80ms/step - loss: 0.2373\n",
      "Epoch 18/100\n",
      "1/1 [==============================] - 0s 105ms/step - loss: 0.2518\n",
      "Epoch 19/100\n",
      "1/1 [==============================] - 0s 94ms/step - loss: 0.2518\n",
      "Epoch 20/100\n",
      "1/1 [==============================] - 0s 98ms/step - loss: 0.2394\n",
      "Epoch 21/100\n",
      "1/1 [==============================] - 0s 130ms/step - loss: 0.2173\n",
      "Epoch 22/100\n",
      "1/1 [==============================] - 0s 110ms/step - loss: 0.1885\n",
      "Epoch 23/100\n",
      "1/1 [==============================] - 0s 142ms/step - loss: 0.1559\n",
      "Epoch 24/100\n",
      "1/1 [==============================] - 0s 120ms/step - loss: 0.1225\n",
      "Epoch 25/100\n",
      "1/1 [==============================] - 0s 105ms/step - loss: 0.0907\n",
      "Epoch 26/100\n",
      "1/1 [==============================] - 0s 125ms/step - loss: 0.0626\n",
      "Epoch 27/100\n",
      "1/1 [==============================] - 0s 119ms/step - loss: 0.0397\n",
      "Epoch 28/100\n",
      "1/1 [==============================] - 0s 138ms/step - loss: 0.0229\n",
      "Epoch 29/100\n",
      "1/1 [==============================] - 0s 146ms/step - loss: 0.0122\n",
      "Epoch 30/100\n",
      "1/1 [==============================] - 0s 133ms/step - loss: 0.0073\n",
      "Epoch 31/100\n",
      "1/1 [==============================] - 0s 120ms/step - loss: 0.0071\n",
      "Epoch 32/100\n",
      "1/1 [==============================] - 0s 140ms/step - loss: 0.0104\n",
      "Epoch 33/100\n",
      "1/1 [==============================] - 0s 142ms/step - loss: 0.0160\n",
      "Epoch 34/100\n",
      "1/1 [==============================] - 0s 165ms/step - loss: 0.0224\n",
      "Epoch 35/100\n",
      "1/1 [==============================] - 0s 139ms/step - loss: 0.0285\n",
      "Epoch 36/100\n",
      "1/1 [==============================] - 0s 192ms/step - loss: 0.0336\n",
      "Epoch 37/100\n",
      "1/1 [==============================] - 0s 142ms/step - loss: 0.0370\n",
      "Epoch 38/100\n",
      "1/1 [==============================] - 0s 141ms/step - loss: 0.0384\n",
      "Epoch 39/100\n",
      "1/1 [==============================] - 0s 134ms/step - loss: 0.0380\n",
      "Epoch 40/100\n",
      "1/1 [==============================] - 0s 133ms/step - loss: 0.0358\n",
      "Epoch 41/100\n",
      "1/1 [==============================] - 0s 124ms/step - loss: 0.0323\n",
      "Epoch 42/100\n",
      "1/1 [==============================] - 0s 136ms/step - loss: 0.0280\n",
      "Epoch 43/100\n",
      "1/1 [==============================] - 0s 115ms/step - loss: 0.0233\n",
      "Epoch 44/100\n",
      "1/1 [==============================] - 0s 108ms/step - loss: 0.0187\n",
      "Epoch 45/100\n",
      "1/1 [==============================] - 0s 112ms/step - loss: 0.0145\n",
      "Epoch 46/100\n",
      "1/1 [==============================] - 0s 113ms/step - loss: 0.0111\n",
      "Epoch 47/100\n",
      "1/1 [==============================] - 0s 111ms/step - loss: 0.0086\n",
      "Epoch 48/100\n",
      "1/1 [==============================] - 0s 116ms/step - loss: 0.0071\n",
      "Epoch 49/100\n",
      "1/1 [==============================] - 0s 129ms/step - loss: 0.0064\n",
      "Epoch 50/100\n",
      "1/1 [==============================] - 0s 110ms/step - loss: 0.0065\n",
      "Epoch 51/100\n",
      "1/1 [==============================] - 0s 108ms/step - loss: 0.0071\n",
      "Epoch 52/100\n",
      "1/1 [==============================] - 0s 105ms/step - loss: 0.0080\n",
      "Epoch 53/100\n",
      "1/1 [==============================] - 0s 107ms/step - loss: 0.0090\n",
      "Epoch 54/100\n",
      "1/1 [==============================] - 0s 139ms/step - loss: 0.0099\n",
      "Epoch 55/100\n",
      "1/1 [==============================] - 0s 112ms/step - loss: 0.0106\n",
      "Epoch 56/100\n",
      "1/1 [==============================] - 0s 107ms/step - loss: 0.0109\n",
      "Epoch 57/100\n",
      "1/1 [==============================] - 0s 114ms/step - loss: 0.0109\n",
      "Epoch 58/100\n",
      "1/1 [==============================] - 0s 122ms/step - loss: 0.0106\n",
      "Epoch 59/100\n",
      "1/1 [==============================] - 0s 98ms/step - loss: 0.0101\n",
      "Epoch 60/100\n",
      "1/1 [==============================] - 0s 100ms/step - loss: 0.0093\n",
      "Epoch 61/100\n",
      "1/1 [==============================] - 0s 104ms/step - loss: 0.0085\n",
      "Epoch 62/100\n",
      "1/1 [==============================] - 0s 106ms/step - loss: 0.0077\n",
      "Epoch 63/100\n",
      "1/1 [==============================] - 0s 108ms/step - loss: 0.0070\n",
      "Epoch 64/100\n",
      "1/1 [==============================] - 0s 101ms/step - loss: 0.0064\n",
      "Epoch 65/100\n",
      "1/1 [==============================] - 0s 98ms/step - loss: 0.0060\n",
      "Epoch 66/100\n",
      "1/1 [==============================] - 0s 122ms/step - loss: 0.0058\n",
      "Epoch 67/100\n",
      "1/1 [==============================] - 0s 110ms/step - loss: 0.0057\n",
      "Epoch 68/100\n",
      "1/1 [==============================] - 0s 119ms/step - loss: 0.0058\n",
      "Epoch 69/100\n",
      "1/1 [==============================] - 0s 145ms/step - loss: 0.0059\n",
      "Epoch 70/100\n",
      "1/1 [==============================] - 0s 113ms/step - loss: 0.0061\n",
      "Epoch 71/100\n",
      "1/1 [==============================] - 0s 108ms/step - loss: 0.0062\n",
      "Epoch 72/100\n",
      "1/1 [==============================] - 0s 106ms/step - loss: 0.0063\n",
      "Epoch 73/100\n",
      "1/1 [==============================] - 0s 106ms/step - loss: 0.0064\n",
      "Epoch 74/100\n",
      "1/1 [==============================] - 0s 120ms/step - loss: 0.0064\n",
      "Epoch 75/100\n",
      "1/1 [==============================] - 0s 115ms/step - loss: 0.0063\n",
      "Epoch 76/100\n",
      "1/1 [==============================] - 0s 112ms/step - loss: 0.0062\n",
      "Epoch 77/100\n",
      "1/1 [==============================] - 0s 104ms/step - loss: 0.0060\n",
      "Epoch 78/100\n",
      "1/1 [==============================] - 0s 106ms/step - loss: 0.0058\n",
      "Epoch 79/100\n",
      "1/1 [==============================] - 0s 110ms/step - loss: 0.0056\n",
      "Epoch 80/100\n",
      "1/1 [==============================] - 0s 147ms/step - loss: 0.0055\n",
      "Epoch 81/100\n",
      "1/1 [==============================] - 0s 134ms/step - loss: 0.0054\n",
      "Epoch 82/100\n",
      "1/1 [==============================] - 0s 113ms/step - loss: 0.0053\n",
      "Epoch 83/100\n",
      "1/1 [==============================] - 0s 103ms/step - loss: 0.0053\n",
      "Epoch 84/100\n",
      "1/1 [==============================] - 0s 103ms/step - loss: 0.0052\n",
      "Epoch 85/100\n",
      "1/1 [==============================] - 0s 109ms/step - loss: 0.0053\n",
      "Epoch 86/100\n",
      "1/1 [==============================] - 0s 108ms/step - loss: 0.0053\n",
      "Epoch 87/100\n",
      "1/1 [==============================] - 0s 112ms/step - loss: 0.0053\n",
      "Epoch 88/100\n",
      "1/1 [==============================] - 0s 108ms/step - loss: 0.0053\n",
      "Epoch 89/100\n",
      "1/1 [==============================] - 0s 105ms/step - loss: 0.0053\n",
      "Epoch 90/100\n",
      "1/1 [==============================] - 0s 106ms/step - loss: 0.0053\n",
      "Epoch 91/100\n",
      "1/1 [==============================] - 0s 105ms/step - loss: 0.0052\n",
      "Epoch 92/100\n",
      "1/1 [==============================] - 0s 106ms/step - loss: 0.0052\n",
      "Epoch 93/100\n",
      "1/1 [==============================] - 0s 103ms/step - loss: 0.0051\n",
      "Epoch 94/100\n",
      "1/1 [==============================] - 0s 105ms/step - loss: 0.0051\n",
      "Epoch 95/100\n",
      "1/1 [==============================] - 0s 106ms/step - loss: 0.0050\n",
      "Epoch 96/100\n",
      "1/1 [==============================] - 0s 122ms/step - loss: 0.0050\n",
      "Epoch 97/100\n",
      "1/1 [==============================] - 0s 114ms/step - loss: 0.0049\n",
      "Epoch 98/100\n",
      "1/1 [==============================] - 0s 113ms/step - loss: 0.0049\n",
      "Epoch 99/100\n",
      "1/1 [==============================] - 0s 102ms/step - loss: 0.0049\n",
      "Epoch 100/100\n",
      "1/1 [==============================] - 0s 106ms/step - loss: 0.0048\n"
     ]
    },
    {
     "data": {
      "text/plain": [
       "<keras.callbacks.History at 0x17f43af40>"
      ]
     },
     "execution_count": 8,
     "metadata": {},
     "output_type": "execute_result"
    }
   ],
   "source": [
    "# fit\n",
    "model.fit(X, Y, epochs=100, verbose=1)"
   ]
  },
  {
   "cell_type": "code",
   "execution_count": 9,
   "metadata": {},
   "outputs": [
    {
     "name": "stdout",
     "output_type": "stream",
     "text": [
      "1/1 [==============================] - 0s 353ms/step\n"
     ]
    },
    {
     "name": "stderr",
     "output_type": "stream",
     "text": [
      "2022-06-23 15:42:12.556133: I tensorflow/core/grappler/optimizers/custom_graph_optimizer_registry.cc:113] Plugin optimizer for device_type GPU is enabled.\n"
     ]
    },
    {
     "data": {
      "text/plain": [
       "array([[0.7825213]], dtype=float32)"
      ]
     },
     "execution_count": 9,
     "metadata": {},
     "output_type": "execute_result"
    }
   ],
   "source": [
    "model.predict(np.array([[[.6],[.7],[0.8],[.9]]]))"
   ]
  },
  {
   "cell_type": "code",
   "execution_count": null,
   "metadata": {},
   "outputs": [],
   "source": []
  }
 ],
 "metadata": {
  "kernelspec": {
   "display_name": "Python 3.8.13 ('tensorflow-dev')",
   "language": "python",
   "name": "python3"
  },
  "language_info": {
   "codemirror_mode": {
    "name": "ipython",
    "version": 3
   },
   "file_extension": ".py",
   "mimetype": "text/x-python",
   "name": "python",
   "nbconvert_exporter": "python",
   "pygments_lexer": "ipython3",
   "version": "3.8.13"
  },
  "orig_nbformat": 4,
  "vscode": {
   "interpreter": {
    "hash": "edf8c54a41a41a32cf49f70f45bd21c79eabf4cef1c0118d679d509e032472c8"
   }
  }
 },
 "nbformat": 4,
 "nbformat_minor": 2
}

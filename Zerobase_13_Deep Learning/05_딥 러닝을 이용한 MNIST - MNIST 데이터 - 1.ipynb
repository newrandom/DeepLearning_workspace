{
 "cells": [
  {
   "cell_type": "markdown",
   "metadata": {},
   "source": [
    "# 05_딥 러닝을 이용한 MNIST - MNIST 데이터 - 1"
   ]
  },
  {
   "cell_type": "code",
   "execution_count": 1,
   "metadata": {},
   "outputs": [],
   "source": [
    "import tensorflow as tf\n",
    "\n",
    "mnist = tf.keras.datasets.mnist\n",
    "\n",
    "(x_train, y_train), (x_test, y_test) = mnist.load_data()\n",
    "# 60,000장\n",
    "                    # 10,000장\n",
    "x_train, x_test = x_train / 255.0, x_test / 255.0\n",
    "                        # 픽셀 값이 255가 최대이기 때문에.\n",
    "# 0 ~ 1 사이의 값으로 조정 (일종의 min-max scaler)"
   ]
  },
  {
   "cell_type": "code",
   "execution_count": 10,
   "metadata": {},
   "outputs": [
    {
     "data": {
      "text/plain": [
       "((60000, 28, 28), (60000,))"
      ]
     },
     "execution_count": 10,
     "metadata": {},
     "output_type": "execute_result"
    }
   ],
   "source": [
    "x_train.shape, y_train.shape"
   ]
  },
  {
   "cell_type": "code",
   "execution_count": 11,
   "metadata": {},
   "outputs": [
    {
     "data": {
      "text/plain": [
       "((10000, 28, 28), (10000,))"
      ]
     },
     "execution_count": 11,
     "metadata": {},
     "output_type": "execute_result"
    }
   ],
   "source": [
    "x_test.shape, y_test.shape"
   ]
  },
  {
   "cell_type": "markdown",
   "metadata": {},
   "source": [
    "# `one-hot encoding` \n",
    "> ### - `loss` 에 `sparse_categorical_crossentropy` 를 사용하면 one-hot encoding 을 fit, transform 할 필요 없이 `바로 적용 가능`."
   ]
  },
  {
   "cell_type": "markdown",
   "metadata": {},
   "source": [
    "> ## 이번에 만들 모델\n",
    "> ![](./lecture_image/05-01.png)"
   ]
  },
  {
   "cell_type": "code",
   "execution_count": 12,
   "metadata": {},
   "outputs": [
    {
     "name": "stdout",
     "output_type": "stream",
     "text": [
      "Metal device set to: Apple M1\n",
      "\n",
      "systemMemory: 8.00 GB\n",
      "maxCacheSize: 2.67 GB\n",
      "\n"
     ]
    },
    {
     "name": "stderr",
     "output_type": "stream",
     "text": [
      "2022-05-31 17:59:36.622538: I tensorflow/core/common_runtime/pluggable_device/pluggable_device_factory.cc:305] Could not identify NUMA node of platform GPU ID 0, defaulting to 0. Your kernel may not have been built with NUMA support.\n",
      "2022-05-31 17:59:36.625760: I tensorflow/core/common_runtime/pluggable_device/pluggable_device_factory.cc:271] Created TensorFlow device (/job:localhost/replica:0/task:0/device:GPU:0 with 0 MB memory) -> physical PluggableDevice (device: 0, name: METAL, pci bus id: <undefined>)\n"
     ]
    }
   ],
   "source": [
    "# 모델 만들기\n",
    "model = tf.keras.models.Sequential([\n",
    "    tf.keras.layers.Flatten(input_shape=(28,28)),\n",
    "                    # Flatten : Flattens the input. Does not affect the batch size. // 데이터를 평탄화 한다. * (28*28, 1) 평면으로 만듦.\n",
    "    tf.keras.layers.Dense(1000, activation = 'relu'),\n",
    "                                # 은닉층이 있기 때문에 relu\n",
    "    tf.keras.layers.Dense(10, activation = 'softmax')   \n",
    "                                # catorical data를 분류하기 위해 softmax\n",
    "])\n",
    "\n",
    "model.compile(optimizer='adam', loss = 'sparse_categorical_crossentropy', metrics=['accuracy'])\n",
    "                                        # sparse_categorical_crossentropy : ohe 로 만들어준다."
   ]
  },
  {
   "cell_type": "markdown",
   "metadata": {},
   "source": [
    "### `relu` 의미\n",
    "![](./lecture_image/05-02.png)\n",
    "\n",
    "### `softmax` 의 사용\n",
    "![](./lecture_image/05-03.png)\n",
    "> - 출력단의 모든 합을 1로 만들어 준다. \n",
    "> - 그 후 가장 큰 값을 가진 것을 답으로 출력한다.\n",
    "\n",
    "### `optimizer` 사용\n",
    "![](./lecture_image/05-04.png)"
   ]
  },
  {
   "cell_type": "code",
   "execution_count": 13,
   "metadata": {},
   "outputs": [
    {
     "name": "stdout",
     "output_type": "stream",
     "text": [
      "Model: \"sequential\"\n",
      "_________________________________________________________________\n",
      " Layer (type)                Output Shape              Param #   \n",
      "=================================================================\n",
      " flatten (Flatten)           (None, 784)               0         \n",
      "                                                                 \n",
      " dense (Dense)               (None, 1000)              785000    \n",
      "                                                                 \n",
      " dense_1 (Dense)             (None, 10)                10010     \n",
      "                                                                 \n",
      "=================================================================\n",
      "Total params: 795,010\n",
      "Trainable params: 795,010\n",
      "Non-trainable params: 0\n",
      "_________________________________________________________________\n"
     ]
    }
   ],
   "source": [
    "model.summary()"
   ]
  },
  {
   "cell_type": "code",
   "execution_count": 15,
   "metadata": {},
   "outputs": [
    {
     "name": "stderr",
     "output_type": "stream",
     "text": [
      "2022-05-31 18:08:20.357448: W tensorflow/core/platform/profile_utils/cpu_utils.cc:128] Failed to get CPU frequency: 0 Hz\n"
     ]
    },
    {
     "name": "stdout",
     "output_type": "stream",
     "text": [
      "Epoch 1/10\n"
     ]
    },
    {
     "name": "stderr",
     "output_type": "stream",
     "text": [
      "2022-05-31 18:08:20.620802: I tensorflow/core/grappler/optimizers/custom_graph_optimizer_registry.cc:113] Plugin optimizer for device_type GPU is enabled.\n"
     ]
    },
    {
     "name": "stdout",
     "output_type": "stream",
     "text": [
      "599/600 [============================>.] - ETA: 0s - loss: 0.2245 - accuracy: 0.9345"
     ]
    },
    {
     "name": "stderr",
     "output_type": "stream",
     "text": [
      "2022-05-31 18:08:26.201913: I tensorflow/core/grappler/optimizers/custom_graph_optimizer_registry.cc:113] Plugin optimizer for device_type GPU is enabled.\n"
     ]
    },
    {
     "name": "stdout",
     "output_type": "stream",
     "text": [
      "600/600 [==============================] - 6s 8ms/step - loss: 0.2244 - accuracy: 0.9345 - val_loss: 0.1142 - val_accuracy: 0.9639\n",
      "Epoch 2/10\n",
      "600/600 [==============================] - 5s 8ms/step - loss: 0.0855 - accuracy: 0.9744 - val_loss: 0.0905 - val_accuracy: 0.9719\n",
      "Epoch 3/10\n",
      "600/600 [==============================] - 5s 9ms/step - loss: 0.0543 - accuracy: 0.9836 - val_loss: 0.0712 - val_accuracy: 0.9784\n",
      "Epoch 4/10\n",
      "600/600 [==============================] - 5s 8ms/step - loss: 0.0357 - accuracy: 0.9891 - val_loss: 0.0756 - val_accuracy: 0.9754\n",
      "Epoch 5/10\n",
      "600/600 [==============================] - 5s 9ms/step - loss: 0.0278 - accuracy: 0.9916 - val_loss: 0.0649 - val_accuracy: 0.9814\n",
      "Epoch 6/10\n",
      "600/600 [==============================] - 5s 8ms/step - loss: 0.0195 - accuracy: 0.9943 - val_loss: 0.0709 - val_accuracy: 0.9786\n",
      "Epoch 7/10\n",
      "600/600 [==============================] - 5s 9ms/step - loss: 0.0136 - accuracy: 0.9959 - val_loss: 0.0714 - val_accuracy: 0.9802\n",
      "Epoch 8/10\n",
      "600/600 [==============================] - 5s 8ms/step - loss: 0.0122 - accuracy: 0.9964 - val_loss: 0.0669 - val_accuracy: 0.9811\n",
      "Epoch 9/10\n",
      "600/600 [==============================] - 5s 9ms/step - loss: 0.0100 - accuracy: 0.9968 - val_loss: 0.0673 - val_accuracy: 0.9820\n",
      "Epoch 10/10\n",
      "600/600 [==============================] - 5s 8ms/step - loss: 0.0077 - accuracy: 0.9978 - val_loss: 0.0726 - val_accuracy: 0.9813\n",
      "Fit time : 52.65989685058594\n"
     ]
    }
   ],
   "source": [
    "# fit 하기\n",
    "import time\n",
    "\n",
    "start_time = time.time()\n",
    "hist = model.fit(x_train, y_train, validation_data=(x_test, y_test), epochs=10, batch_size=100, verbose=1)\n",
    "                # X : input_data\n",
    "                        # Y : target_data\n",
    "                                    # validation_data : Data on which to evaluate the loss and any model metrics at the end of each epoch.\n",
    "                                                                                # batch_size : Integer or None. Number of samples per gradient update. \n",
    "                                                                                # If unspecified, batch_size will default to 32. \n",
    "                                                                                # Do not specify the batch_size if your data is in the form of datasets, generators, or keras.utils.\n",
    "                                                                                # Sequence instances (since they generate batches).\n",
    "                                                                                                # verbose : 'auto', 0, 1, or 2. Verbosity mode. \n",
    "                                                                                                # 0 = silent, 1 = progress bar, 2 = one line per epoch.\n",
    "print('Fit time :', time.time() - start_time)"
   ]
  },
  {
   "cell_type": "code",
   "execution_count": 21,
   "metadata": {},
   "outputs": [
    {
     "data": {
      "text/plain": [
       "dict_keys(['loss', 'accuracy', 'val_loss', 'val_accuracy'])"
      ]
     },
     "execution_count": 21,
     "metadata": {},
     "output_type": "execute_result"
    }
   ],
   "source": [
    "hist.history.keys()"
   ]
  },
  {
   "cell_type": "code",
   "execution_count": 16,
   "metadata": {},
   "outputs": [
    {
     "data": {
      "image/png": "[encoded data removed]",
      "text/plain": [
       "<Figure size 864x576 with 1 Axes>"
      ]
     },
     "metadata": {
      "needs_background": "light"
     },
     "output_type": "display_data"
    }
   ],
   "source": [
    "# acc 와 loss 그리기\n",
    "import matplotlib.pyplot as plt\n",
    "%matplotlib inline\n",
    "\n",
    "plot_target = ['loss','val_loss','accuracy','val_accuracy']\n",
    "\n",
    "plt.figure(figsize=(12,8))\n",
    "\n",
    "for each in plot_target:\n",
    "    plt.plot(hist.history[each], label=each)\n",
    "\n",
    "plt.legend()\n",
    "plt.grid()\n",
    "plt.show()"
   ]
  },
  {
   "cell_type": "code",
   "execution_count": 22,
   "metadata": {},
   "outputs": [
    {
     "name": "stderr",
     "output_type": "stream",
     "text": [
      "2022-05-31 19:25:01.786767: I tensorflow/core/grappler/optimizers/custom_graph_optimizer_registry.cc:113] Plugin optimizer for device_type GPU is enabled.\n"
     ]
    },
    {
     "name": "stdout",
     "output_type": "stream",
     "text": [
      "313/313 [==============================] - 2s 5ms/step - loss: 0.0726 - accuracy: 0.9813\n",
      "Test loss : 0.07255430519580841\n",
      "Test accuracy : 0.9813000559806824\n"
     ]
    }
   ],
   "source": [
    "score = model.evaluate(x_test, y_test)\n",
    "print('Test loss :', score[0])\n",
    "print('Test accuracy :', score[1])\n",
    "\n",
    "## 머신러닝에서 93% 쯤 나왔던 결과대비 5% 쯤 향상 되었다."
   ]
  },
  {
   "cell_type": "code",
   "execution_count": 26,
   "metadata": {},
   "outputs": [
    {
     "data": {
      "text/plain": [
       "array([7, 2, 1, 0, 4, 1, 4, 9, 5, 9])"
      ]
     },
     "execution_count": 26,
     "metadata": {},
     "output_type": "execute_result"
    }
   ],
   "source": [
    "import numpy as np\n",
    "\n",
    "predicted_result = model.predict(x_test)\n",
    "predicted_labels = np.argmax(predicted_result, axis=1)\n",
    "predicted_labels[:10]"
   ]
  },
  {
   "cell_type": "code",
   "execution_count": 25,
   "metadata": {},
   "outputs": [
    {
     "data": {
      "text/plain": [
       "7"
      ]
     },
     "execution_count": 25,
     "metadata": {},
     "output_type": "execute_result"
    }
   ],
   "source": [
    "np.argmax(predicted_result[0] )\n",
    "    # 최대값을 받는 함수"
   ]
  },
  {
   "cell_type": "code",
   "execution_count": 27,
   "metadata": {},
   "outputs": [
    {
     "data": {
      "text/plain": [
       "array([7, 2, 1, 0, 4, 1, 4, 9, 5, 9], dtype=uint8)"
      ]
     },
     "execution_count": 27,
     "metadata": {},
     "output_type": "execute_result"
    }
   ],
   "source": [
    "y_test[:10]"
   ]
  },
  {
   "cell_type": "code",
   "execution_count": 28,
   "metadata": {},
   "outputs": [
    {
     "data": {
      "text/plain": [
       "187"
      ]
     },
     "execution_count": 28,
     "metadata": {},
     "output_type": "execute_result"
    }
   ],
   "source": [
    "# 틀린 결과를 리스트에 담기.\n",
    "wrong_result = []\n",
    "\n",
    "for n in range(0, len(y_test)):\n",
    "    if predicted_labels[n] != y_test[n]:\n",
    "        wrong_result.append(n)\n",
    "\n",
    "len(wrong_result)\n",
    "\n",
    "## test accuracy의 확률이 98.13 % 정도 였기에, 187개 정도의 오답이 나왔다. (?)"
   ]
  },
  {
   "cell_type": "code",
   "execution_count": 30,
   "metadata": {},
   "outputs": [],
   "source": [
    "import random\n",
    "samepls = random.choices(population=wrong_result, k=16)\n",
    "                # choices : Return a `k` sized list of population elements chosen with replacement. \n",
    "                #           // population 으로 받은 리스트에서 k개 만큼 random하게 choices 한다."
   ]
  },
  {
   "cell_type": "code",
   "execution_count": 31,
   "metadata": {},
   "outputs": [
    {
     "data": {
      "image/png": "[encoded data removed]",
      "text/plain": [
       "<Figure size 1008x864 with 16 Axes>"
      ]
     },
     "metadata": {
      "needs_background": "light"
     },
     "output_type": "display_data"
    }
   ],
   "source": [
    "plt.figure(figsize=(14,12))\n",
    "\n",
    "for idx, n in enumerate(samepls):\n",
    "    plt.subplot(4, 4, idx+1)\n",
    "    plt.imshow(x_test[n].reshape(28, 28), cmap='Greys')\n",
    "    plt.title('Label : ' + str(y_test[n]) + ' | predict : ' + str(predicted_labels[n]))\n",
    "    plt.axis('off')\n",
    "        # 좌표 축 끄기\n",
    "plt.show()"
   ]
  },
  {
   "cell_type": "code",
   "execution_count": null,
   "metadata": {},
   "outputs": [],
   "source": []
  }
 ],
 "metadata": {
  "interpreter": {
   "hash": "b5a26d0e877c4652cf53eb6b13536f4959f02e722fb5eef7979a29d14fb02c8a"
  },
  "kernelspec": {
   "display_name": "Python 3.8.13 ('TF')",
   "language": "python",
   "name": "python3"
  },
  "language_info": {
   "codemirror_mode": {
    "name": "ipython",
    "version": 3
   },
   "file_extension": ".py",
   "mimetype": "text/x-python",
   "name": "python",
   "nbconvert_exporter": "python",
   "pygments_lexer": "ipython3",
   "version": "3.8.13"
  },
  "orig_nbformat": 4
 },
 "nbformat": 4,
 "nbformat_minor": 2
}

{
 "cells": [
  {
   "cell_type": "markdown",
   "metadata": {},
   "source": [
    "# 13_DL from scratch - 예제 1"
   ]
  },
  {
   "cell_type": "markdown",
   "metadata": {},
   "source": [
    "# 숫자 맞추기"
   ]
  },
  {
   "cell_type": "code",
   "execution_count": 2,
   "metadata": {},
   "outputs": [],
   "source": [
    "import numpy as np\n",
    "import matplotlib.pyplot as plt\n",
    "from tqdm import tqdm_notebook\n",
    "%matplotlib inline"
   ]
  },
  {
   "cell_type": "code",
   "execution_count": 3,
   "metadata": {},
   "outputs": [],
   "source": [
    "# softmax의 정의\n",
    "def Softmax(x):\n",
    "    x = np.subtract(x, np.max(x))       # prevent overflow\n",
    "                    # 기준이 되는 값\n",
    "                        # 뺄셈할 값\n",
    "\n",
    "    ex = np.exp(x)\n",
    "\n",
    "    return ex / np.sum(ex)"
   ]
  },
  {
   "cell_type": "code",
   "execution_count": 4,
   "metadata": {},
   "outputs": [],
   "source": [
    "X = np.zeros((5,5,5))\n",
    "\n",
    "X[:, :, 0] = [ [0,1,1,0,0], [0,0,1,0,0], [0,0,1,0,0], [0,0,1,0,0], [0,1,1,1,0] ]\n",
    "X[:, :, 1] = [ [1,1,1,1,0], [0,0,0,0,1], [0,1,1,1,0], [1,0,0,0,0], [1,1,1,1,1] ]\n",
    "X[:, :, 2] = [ [1,1,1,1,0], [0,0,0,0,1], [0,1,1,1,0], [0,0,0,0,1], [1,1,1,1,0] ]\n",
    "X[:, :, 3] = [ [0,0,0,1,0], [0,0,1,1,0], [0,1,0,1,0], [1,1,1,1,1], [0,0,0,1,0] ]\n",
    "X[:, :, 4] = [ [1,1,1,1,1], [1,0,0,0,0], [1,1,1,1,0], [0,0,0,0,1], [1,1,1,1,0] ]"
   ]
  },
  {
   "cell_type": "code",
   "execution_count": 5,
   "metadata": {},
   "outputs": [],
   "source": [
    "# 원핫 인코딩, 정답지\n",
    "D = np.array([\n",
    "    [[1,0,0,0,0]], [[0,1,0,0,0]], [[0,0,1,0,0]], [[0,0,0,1,0]], [[0,0,0,0,1]]\n",
    "])"
   ]
  },
  {
   "cell_type": "code",
   "execution_count": 6,
   "metadata": {},
   "outputs": [
    {
     "data": {
      "image/png": "[encoded data removed]",
      "text/plain": [
       "<Figure size 864x288 with 5 Axes>"
      ]
     },
     "metadata": {
      "needs_background": "light"
     },
     "output_type": "display_data"
    }
   ],
   "source": [
    "plt.figure(figsize=(12,4))\n",
    "for n in range(5):\n",
    "    plt.subplot(1, 5, n+1)\n",
    "    plt.imshow(X[:, :, n])\n",
    "\n",
    "plt.show()"
   ]
  },
  {
   "cell_type": "code",
   "execution_count": 8,
   "metadata": {},
   "outputs": [],
   "source": [
    "def ReLU(x):\n",
    "    return np.maximum(0, x)"
   ]
  },
  {
   "cell_type": "code",
   "execution_count": 9,
   "metadata": {},
   "outputs": [],
   "source": [
    "# Relu를 이용한 정방향 계산\n",
    "def calcOutput_ReLU(W1, W2, W3, W4, x):\n",
    "    v1 = np.matmul(W1, x)\n",
    "                        # x :  입력 데이터를 통해\n",
    "                    # W1 : weight를 통과\n",
    "    y1 = ReLU(v1)\n",
    "    v2 = np.matmul(W2, y1)\n",
    "    y2 = ReLU(v2)\n",
    "    v3 = np.matmul(W3, y2)\n",
    "    y3 = ReLU(v3)\n",
    "    v = np.matmul(W4, y3)\n",
    "    y = Softmax(v)\n",
    "\n",
    "    return y, v1, v2, v3, y1, y2, y3"
   ]
  },
  {
   "cell_type": "code",
   "execution_count": null,
   "metadata": {},
   "outputs": [],
   "source": [
    "# 역전파\n",
    "def backpropagation_ReLU(d, y, W2, W3, W4, v1, v2, v3):\n",
    "    e = d - y\n",
    "    delta = e\n",
    "\n",
    "    e3 = np.matmul(W4.T, delta)\n",
    "    delta3 = (v3 > 0) * e3\n",
    "\n",
    "    e2 = np.matmul(W3.T, delta3)\n",
    "    delta2 = (v2 > 0) * e2\n",
    "\n",
    "    e1 = np.matmul(W2.T, delta2)\n",
    "    delta1 = (v1 > 0) * e1\n",
    "\n",
    "    return delta, delta1, delta2, delta3"
   ]
  }
 ],
 "metadata": {
  "interpreter": {
   "hash": "b5a26d0e877c4652cf53eb6b13536f4959f02e722fb5eef7979a29d14fb02c8a"
  },
  "kernelspec": {
   "display_name": "Python 3.8.13 ('TF')",
   "language": "python",
   "name": "python3"
  },
  "language_info": {
   "codemirror_mode": {
    "name": "ipython",
    "version": 3
   },
   "file_extension": ".py",
   "mimetype": "text/x-python",
   "name": "python",
   "nbconvert_exporter": "python",
   "pygments_lexer": "ipython3",
   "version": "3.8.13"
  },
  "orig_nbformat": 4
 },
 "nbformat": 4,
 "nbformat_minor": 2
}

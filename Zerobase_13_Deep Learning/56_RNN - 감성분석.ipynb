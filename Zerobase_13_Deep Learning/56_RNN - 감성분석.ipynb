{
 "cells": [
  {
   "cell_type": "markdown",
   "metadata": {},
   "source": [
    "# 56_RNN - 감성분석"
   ]
  },
  {
   "cell_type": "markdown",
   "metadata": {},
   "source": [
    "# 감성분석\n",
    "### 감성분석 Sentiment Analysis\n",
    "- 입력된 자연어 안의 주관적 의견, 감정 등을 찾아내는 문제\n",
    "- 이중 문장의 긍정/부정 등을 구분하는 경우가 많음"
   ]
  },
  {
   "cell_type": "code",
   "execution_count": 3,
   "metadata": {},
   "outputs": [
    {
     "name": "stdout",
     "output_type": "stream",
     "text": [
      "Length of text : 6937271 characters\n",
      "Length of text : 2318260 characters\n",
      "\n",
      "id\tdocument\tlabel\n",
      "9976970\t아 더빙.. 진짜 짜증나네요 목소리\t0\n",
      "3819312\t흠...포스터보고 초딩영화줄....오버연기조차 가볍지 않구나\t1\n",
      "10265843\t너무재밓었다그래서보는것을추천한다\t0\n",
      "9045019\t교도소 이야기구먼 ..솔직히 재미는 없다..평점 조정\t0\n",
      "6483659\t사이몬페그의 익살스런 연기가 돋보였던 영화!스파이더맨에서 늙어보이기만 했던 커스틴 던스트가 너무나도 이뻐보였다\t1\n",
      "5403919\t막 걸음마 뗀 3세부터 초등학교 1학년생인 8살용영화.ㅋㅋㅋ...별반개도 아까움.\t0\n",
      "7797314\t원작의\n"
     ]
    }
   ],
   "source": [
    "train_text = open('./dataset/nsmc/ratings_train.txt', 'rb').read().decode(encoding='utf-8')\n",
    "                                    # rb : r = open for reading / b = binary mode\n",
    "test_text = open('./dataset/nsmc/ratings_test.txt', 'rb').read().decode(encoding='utf-8')\n",
    "\n",
    "print('Length of text : {} characters'.format(len(train_text)))\n",
    "print('Length of text : {} characters'.format(len(test_text)))\n",
    "print()\n",
    "\n",
    "print(train_text[:300])"
   ]
  },
  {
   "cell_type": "code",
   "execution_count": 4,
   "metadata": {},
   "outputs": [
    {
     "data": {
      "text/plain": [
       "'id\\tdocument\\tlabel\\n9976970\\t아 더빙.. 진짜 짜증나네요 목소리\\t0\\n3819312\\t흠...포스터보고 초딩영화줄....오버연기조차 가볍지 않구나\\t1\\n10265843\\t너무재밓었다그래서보는것을추천한다\\t0\\n9045019\\t교도소 이야기구먼 ..솔직히 재미는 없다..평점 조정\\t0\\n6483659\\t사이몬페그의 익살스런 연기가 돋보였던 영화!스파이더맨에서 늙어보이기만 했던 커스틴 던스트가 너무나도 이뻐보였다\\t1\\n5403919\\t막 걸음마 뗀 3세부터 초등학교 1학년생인 8살용영화.ㅋㅋㅋ...별반개도 아까움.\\t0\\n7797314\\t원작의'"
      ]
     },
     "execution_count": 4,
     "metadata": {},
     "output_type": "execute_result"
    }
   ],
   "source": [
    "train_text[:300]"
   ]
  },
  {
   "cell_type": "markdown",
   "metadata": {},
   "source": [
    "> ## \\t, \\n 등이 있다."
   ]
  },
  {
   "cell_type": "markdown",
   "metadata": {},
   "source": [
    "------------\n",
    "# 데이터 전처리"
   ]
  },
  {
   "cell_type": "code",
   "execution_count": 5,
   "metadata": {},
   "outputs": [
    {
     "data": {
      "text/plain": [
       "['id\\tdocument\\tlabel',\n",
       " '9976970\\t아 더빙.. 진짜 짜증나네요 목소리\\t0',\n",
       " '3819312\\t흠...포스터보고 초딩영화줄....오버연기조차 가볍지 않구나\\t1']"
      ]
     },
     "execution_count": 5,
     "metadata": {},
     "output_type": "execute_result"
    }
   ],
   "source": [
    "# 1 줄바꿈 (\\n)\n",
    "train_text.split('\\n')[:3]"
   ]
  },
  {
   "cell_type": "code",
   "execution_count": 6,
   "metadata": {},
   "outputs": [
    {
     "data": {
      "text/plain": [
       "['10265843', '너무재밓었다그래서보는것을추천한다', '0']"
      ]
     },
     "execution_count": 6,
     "metadata": {},
     "output_type": "execute_result"
    }
   ],
   "source": [
    "# 2 탭 문자 ('\\t')\n",
    "train_text.split('\\n')[3].split('\\t')"
   ]
  },
  {
   "cell_type": "code",
   "execution_count": 7,
   "metadata": {},
   "outputs": [
    {
     "name": "stdout",
     "output_type": "stream",
     "text": [
      "(150000, 1) (50000, 1)\n",
      "[[0]\n",
      " [1]\n",
      " [0]\n",
      " [0]\n",
      " [1]]\n"
     ]
    }
   ],
   "source": [
    "import numpy as np \n",
    "\n",
    "train_Y = np.array([[int(row.split('\\t')[2])] for row in train_text.split('\\n')[1:] if row.count('\\t') > 0])\n",
    "                                                        # train_text.split('\\n')[0] = 'id\\tdocument\\tlabel'\n",
    "                                                                                        # row : ['9976970\\t아 더빙.. 진짜 짜증나네요 목소리\\t0', '3819312\\t흠...포스터보고 초딩영화줄....오버연기조차 가볍지 않구나\\t1', ... ]\n",
    "test_Y = np.array([[int(row.split('\\t')[2])] for row in test_text.split('\\n')[1:] if row.count('\\t') > 0])\n",
    "\n",
    "print(train_Y.shape, test_Y.shape)\n",
    "print(train_Y[:5])      # label print"
   ]
  },
  {
   "cell_type": "markdown",
   "metadata": {},
   "source": [
    "-----------------\n",
    "# tokenization 와 cleaning\n",
    "- ### `tokenization` : 자연어를 처리 가능한 최소의 단위로 나누는 것으로 여기서는 띄어쓰기로 한다.\n",
    "- ### `cleaning` : 불필요한 기호를 제거하는 것"
   ]
  },
  {
   "cell_type": "code",
   "execution_count": 9,
   "metadata": {},
   "outputs": [],
   "source": [
    "# 1 cleaning 함수\n",
    "\n",
    "## 문장을 띄워서 분류할 예정\n",
    "import re\n",
    "\n",
    "def clean_str(string):\n",
    "    string = re.sub(r\"[^가-힣A-Za-z0-9(),!?\\'\\`]\", \" \", string)\n",
    "                        # 바꿔야 할 리스트\n",
    "                                                    # 바뀌게 될 문장\n",
    "\n",
    "    string = re.sub(r\"\\'s\", \" \\'s\", string)         # He 's\n",
    "    string = re.sub(r\"\\'ve\", \" \\'ve\", string)       # I 've\n",
    "    string = re.sub(r\"n\\'t\", \" n\\'t\", string)       # He can 't\n",
    "    string = re.sub(r\"\\'re\", \" \\'re\", string)       # you 're\n",
    "    string = re.sub(r\"\\'d\", \" \\'d\", string)         # I 'd\n",
    "    string = re.sub(r\"\\'ll\", \" \\'ll\", string)       # they 'll\n",
    "    string = re.sub(r\",\", \" , \", string)\n",
    "    string = re.sub(r\"!\", \" ! \", string)\n",
    "    string = re.sub(r\"\\(\", \" \\( \", string)\n",
    "    string = re.sub(r\"\\)\", \" \\) \", string)\n",
    "    string = re.sub(r\"\\?\", \" \\? \", string)\n",
    "    string = re.sub(r\"\\s{2,}\", \" \", string)     # \\s{2,} : white spaces, 공백이 {2,} 2개 이상인 경우 >> ' ' 하나만 표현\n",
    "    string = re.sub(r\"\\'{2,}\", \"\\'\", string)    # \\'{2,} : '이 {2,} 2개 이상인 경우 >> ' 하나만 표현\n",
    "    string = re.sub(r\"\\'\", \"\", string)          # \\' : ' 이 1개만 있는 경우 >> 공란으로 표현\n",
    "\n",
    "    return string.lower()"
   ]
  },
  {
   "cell_type": "markdown",
   "metadata": {},
   "source": [
    "------------------------"
   ]
  },
  {
   "cell_type": "code",
   "execution_count": 10,
   "metadata": {},
   "outputs": [
    {
     "name": "stdout",
     "output_type": "stream",
     "text": [
      "['아', '더빙', '진짜', '짜증나네요', '목소리']\n",
      "['흠', '포스터보고', '초딩영화줄', '오버연기조차', '가볍지', '않구나']\n",
      "['너무재밓었다그래서보는것을추천한다']\n",
      "['교도소', '이야기구먼', '솔직히', '재미는', '없다', '평점', '조정']\n",
      "['사이몬페그의', '익살스런', '연기가', '돋보였던', '영화', '!', '스파이더맨에서', '늙어보이기만', '했던', '커스틴', '던스트가', '너무나도', '이뻐보였다']\n"
     ]
    }
   ],
   "source": [
    "# 훈련용 데이터 전처리 완료\n",
    "train_text_X = [row.split('\\t')[1] for row in train_text.split('\\n')[1:] if row.count('\\t') > 0]\n",
    "train_text_X = [clean_str(sentence) for sentence in train_text_X]\n",
    "\n",
    "sentences = [sentence.split(' ') for sentence in train_text_X]\n",
    "for i in range(5):\n",
    "    print(sentences[i])"
   ]
  },
  {
   "cell_type": "code",
   "execution_count": 11,
   "metadata": {},
   "outputs": [
    {
     "data": {
      "image/png": "[encoded data removed]",
      "text/plain": [
       "<Figure size 432x288 with 1 Axes>"
      ]
     },
     "metadata": {
      "needs_background": "light"
     },
     "output_type": "display_data"
    },
    {
     "name": "stdout",
     "output_type": "stream",
     "text": [
      "142587\n"
     ]
    }
   ],
   "source": [
    "import matplotlib.pyplot as plt\n",
    "%matplotlib inline\n",
    "\n",
    "sentence_len = [len(sentence) for sentence in sentences]\n",
    "sentence_len.sort()\n",
    "plt.plot(sentence_len)\n",
    "plt.show()\n",
    "\n",
    "print(sum([int(l<=25) for l in sentence_len]))"
   ]
  },
  {
   "cell_type": "markdown",
   "metadata": {},
   "source": [
    "> - ### 단어가 0 ~ 90 개 정도의 문장(sentence)을 plot으로 나타냄.\n",
    "> - ### 140,000개 정도의 문장들이 단어가 20개를 넘지 못하는 것을 볼 수 있다."
   ]
  }
 ],
 "metadata": {
  "kernelspec": {
   "display_name": "Python 3.8.13 ('tensorflow-dev')",
   "language": "python",
   "name": "python3"
  },
  "language_info": {
   "codemirror_mode": {
    "name": "ipython",
    "version": 3
   },
   "file_extension": ".py",
   "mimetype": "text/x-python",
   "name": "python",
   "nbconvert_exporter": "python",
   "pygments_lexer": "ipython3",
   "version": "3.8.13"
  },
  "orig_nbformat": 4,
  "vscode": {
   "interpreter": {
    "hash": "edf8c54a41a41a32cf49f70f45bd21c79eabf4cef1c0118d679d509e032472c8"
   }
  }
 },
 "nbformat": 4,
 "nbformat_minor": 2
}

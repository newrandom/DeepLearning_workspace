{
 "cells": [
  {
   "cell_type": "markdown",
   "metadata": {},
   "source": [
    "# 12_DL from scratch - 크로스엔트로피"
   ]
  },
  {
   "cell_type": "markdown",
   "metadata": {},
   "source": [
    "# Loss 함수 교체"
   ]
  },
  {
   "cell_type": "markdown",
   "metadata": {},
   "source": [
    "![](./lecture_image/12-01.png)"
   ]
  },
  {
   "cell_type": "markdown",
   "metadata": {},
   "source": [
    "> ### 01. `MSE`\n",
    "> ### 02. `Crossentropy`"
   ]
  },
  {
   "cell_type": "markdown",
   "metadata": {},
   "source": [
    "![](./lecture_image/12-02.png)"
   ]
  },
  {
   "cell_type": "markdown",
   "metadata": {},
   "source": [
    "![](./lecture_image/12-03.png)"
   ]
  },
  {
   "cell_type": "code",
   "execution_count": 8,
   "metadata": {},
   "outputs": [],
   "source": [
    "import numpy as np\n",
    "\n",
    "X = np.array([[0,0,1],      # 같은 수가 두개이면 0 (0,0)\n",
    "            [0,1,1],        # 다른 수가 두개이면 1 (0,1)\n",
    "            [1,0,1],\n",
    "            [1,1,1]])\n",
    "D = np.array([[0],[1],[1],[0]])\n",
    "\n",
    "W = 2*np.random.random((1,3)) -1"
   ]
  },
  {
   "cell_type": "code",
   "execution_count": 9,
   "metadata": {},
   "outputs": [],
   "source": [
    "# 크로스앤트로피\n",
    "def clacDelta_ce(d,y):\n",
    "    e = d - y\n",
    "    delta = e\n",
    "\n",
    "    return delta"
   ]
  },
  {
   "cell_type": "code",
   "execution_count": 10,
   "metadata": {},
   "outputs": [],
   "source": [
    "import numpy as np\n",
    "\n",
    "def calcDelta1_ce(W2, delta, y1):\n",
    "    e1 = np.matmul(W2.T, delta)\n",
    "    delta1 = y1 * (1 - y1) * e1\n",
    "\n",
    "    return delta1"
   ]
  },
  {
   "cell_type": "code",
   "execution_count": 11,
   "metadata": {},
   "outputs": [],
   "source": [
    "def sigmoid(x):\n",
    "    return 1.0 / (1.0 + np.exp(-x))"
   ]
  },
  {
   "cell_type": "code",
   "execution_count": 12,
   "metadata": {},
   "outputs": [],
   "source": [
    "# output 계산 함수\n",
    "def calc_output(W1, W2, x):\n",
    "    v1 = np.matmul(W1, x)\n",
    "    y1 = sigmoid(v1)\n",
    "    v = np.matmul(W2, y1)   # 2번째 레이어로 들어간다.\n",
    "    y = sigmoid(v)\n",
    "\n",
    "    return y, y1"
   ]
  },
  {
   "cell_type": "code",
   "execution_count": 13,
   "metadata": {},
   "outputs": [],
   "source": [
    "def BackpropCE(W1, W2, X ,D, alpha):\n",
    "    for k in range(4):\n",
    "        x = X[k,:].T\n",
    "        d = D[k]\n",
    "\n",
    "        y, y1 = calc_output(W1, W2, x)\n",
    "        delta = clacDelta_ce(d, y)\n",
    "        delta1 = calcDelta1_ce(W2, delta, y1)\n",
    "\n",
    "        dW1 = (alpha*delta1).reshape(4,1) * x.reshape(1,3)\n",
    "        W1 = W1 + dW1\n",
    "\n",
    "        dW2 = alpha * delta * y1\n",
    "        W2 = W2 + dW2\n",
    "    \n",
    "    return W1, W2"
   ]
  },
  {
   "cell_type": "code",
   "execution_count": 14,
   "metadata": {},
   "outputs": [],
   "source": [
    "# 학습\n",
    "W1 = 2 * np.random.random((4,3)) - 1\n",
    "W2 = 2 * np.random.random((1,4)) - 1\n",
    "\n",
    "alpha=0.9\n",
    "for epoch in range(10000):\n",
    "    W1, W2 = BackpropCE(W1, W2, X, D, alpha)"
   ]
  },
  {
   "cell_type": "code",
   "execution_count": 15,
   "metadata": {},
   "outputs": [
    {
     "name": "stdout",
     "output_type": "stream",
     "text": [
      "[3.13735981e-05]\n",
      "[0.99976493]\n",
      "[0.99990283]\n",
      "[0.00034772]\n"
     ]
    }
   ],
   "source": [
    "N = 4\n",
    "for k in range(N):\n",
    "    x = X[k, :].T\n",
    "    v1 = np.matmul(W1, x)\n",
    "    y1 = sigmoid(v1)\n",
    "    v = np.matmul(W2, y1)\n",
    "    y = sigmoid(v)\n",
    "\n",
    "\n",
    "    print(y)"
   ]
  },
  {
   "cell_type": "markdown",
   "metadata": {},
   "source": [
    "> ### 더욱 `확실한 답`이 나왔다\n",
    "> backpropagation 함수를 사용하는 것도 좋았지만,\\\n",
    "> `활성 함수를 바꾼것(CE)`도 효과가 좋음을 확인!"
   ]
  }
 ],
 "metadata": {
  "interpreter": {
   "hash": "b5a26d0e877c4652cf53eb6b13536f4959f02e722fb5eef7979a29d14fb02c8a"
  },
  "kernelspec": {
   "display_name": "Python 3.8.13 ('TF')",
   "language": "python",
   "name": "python3"
  },
  "language_info": {
   "codemirror_mode": {
    "name": "ipython",
    "version": 3
   },
   "file_extension": ".py",
   "mimetype": "text/x-python",
   "name": "python",
   "nbconvert_exporter": "python",
   "pygments_lexer": "ipython3",
   "version": "3.8.13"
  },
  "orig_nbformat": 4
 },
 "nbformat": 4,
 "nbformat_minor": 2
}

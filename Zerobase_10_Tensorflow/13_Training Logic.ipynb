{
 "cells": [
  {
   "cell_type": "markdown",
   "id": "5681cdc0",
   "metadata": {},
   "source": [
    "# Training Logic"
   ]
  },
  {
   "cell_type": "code",
   "execution_count": 22,
   "id": "d0f3e067",
   "metadata": {},
   "outputs": [],
   "source": [
    "import numpy as np\n",
    "import pandas as pd\n",
    "import tensorflow as tf\n",
    "\n",
    "import matplotlib.pyplot as plt\n",
    "import seaborn as sns\n",
    "%matplotlib inline"
   ]
  },
  {
   "cell_type": "code",
   "execution_count": 23,
   "id": "674ab6ef",
   "metadata": {},
   "outputs": [],
   "source": [
    "np.random.seed(7777)\n",
    "tf.random.set_seed(7777)"
   ]
  },
  {
   "cell_type": "code",
   "execution_count": 24,
   "id": "022f88fa",
   "metadata": {},
   "outputs": [
    {
     "name": "stdout",
     "output_type": "stream",
     "text": [
      "(50000, 32, 32, 3) float32\n",
      "(50000, 10) float32\n",
      "(10000, 32, 32, 3) float32\n",
      "(10000, 10) float32\n"
     ]
    }
   ],
   "source": [
    "class Cifar10DataLoader():\n",
    "    def __init__(self):\n",
    "        # data load\n",
    "        (self.train_x, self.train_y), \\\n",
    "            (self.test_x, self.test_y) = tf.keras.datasets.cifar10.load_data()\n",
    "        self.input_shape = self.train_x.shape[1:]\n",
    "\n",
    "    def scale(self, x):\n",
    "\n",
    "        return (x / 255.0).astype(np.float32)\n",
    "\n",
    "    def preprocess_dataset(self, dataset):\n",
    "\n",
    "        (feature, target) = dataset\n",
    "\n",
    "        # scaling #\n",
    "        scaled_x = np.array([self.scale(x) for x in feature])\n",
    "\n",
    "        # label encoding #\n",
    "        ohe_y = np.array([tf.keras.utils.to_categorical(\n",
    "            y, num_classes=10) for y in target])\n",
    "        \n",
    "        return scaled_x, ohe_y.squeeze(1)\n",
    "\n",
    "    def get_train_dataset(self):\n",
    "        return self.preprocess_dataset((self.train_x, self.train_y))\n",
    "\n",
    "    def get_test_dataset(self):\n",
    "        return self.preprocess_dataset((self.test_x, self.test_y))\n",
    "\n",
    "cifar10_loader = Cifar10DataLoader()\n",
    "train_x, train_y = cifar10_loader.get_train_dataset()\n",
    "\n",
    "print(train_x.shape, train_x.dtype)\n",
    "print(train_y.shape, train_y.dtype)\n",
    "\n",
    "test_x, test_y = cifar10_loader.get_test_dataset()\n",
    "\n",
    "print(test_x.shape, test_x.dtype)\n",
    "print(test_y.shape, test_y.dtype)"
   ]
  },
  {
   "cell_type": "code",
   "execution_count": 25,
   "id": "58c8e1e3",
   "metadata": {},
   "outputs": [
    {
     "name": "stdout",
     "output_type": "stream",
     "text": [
      "Model: \"resnet\"\n",
      "__________________________________________________________________________________________________\n",
      " Layer (type)                   Output Shape         Param #     Connected to                     \n",
      "==================================================================================================\n",
      " input_2 (InputLayer)           [(None, 32, 32, 3)]  0           []                               \n",
      "                                                                                                  \n",
      " conv2d_8 (Conv2D)              (None, 16, 16, 32)   896         ['input_2[0][0]']                \n",
      "                                                                                                  \n",
      " max_pooling2d_2 (MaxPooling2D)  (None, 8, 8, 32)    0           ['conv2d_8[0][0]']               \n",
      "                                                                                                  \n",
      " conv2d_9 (Conv2D)              (None, 8, 8, 64)     2112        ['max_pooling2d_2[0][0]']        \n",
      "                                                                                                  \n",
      " conv2d_10 (Conv2D)             (None, 8, 8, 64)     36928       ['conv2d_9[0][0]']               \n",
      "                                                                                                  \n",
      " conv2d_12 (Conv2D)             (None, 8, 8, 64)     2112        ['max_pooling2d_2[0][0]']        \n",
      "                                                                                                  \n",
      " conv2d_11 (Conv2D)             (None, 8, 8, 64)     4160        ['conv2d_10[0][0]']              \n",
      "                                                                                                  \n",
      " add_2 (Add)                    (None, 8, 8, 64)     0           ['conv2d_12[0][0]',              \n",
      "                                                                  'conv2d_11[0][0]']              \n",
      "                                                                                                  \n",
      " conv2d_13 (Conv2D)             (None, 8, 8, 64)     4160        ['add_2[0][0]']                  \n",
      "                                                                                                  \n",
      " conv2d_14 (Conv2D)             (None, 8, 8, 64)     36928       ['conv2d_13[0][0]']              \n",
      "                                                                                                  \n",
      " conv2d_15 (Conv2D)             (None, 8, 8, 64)     4160        ['conv2d_14[0][0]']              \n",
      "                                                                                                  \n",
      " add_3 (Add)                    (None, 8, 8, 64)     0           ['add_2[0][0]',                  \n",
      "                                                                  'conv2d_15[0][0]']              \n",
      "                                                                                                  \n",
      " max_pooling2d_3 (MaxPooling2D)  (None, 4, 4, 64)    0           ['add_3[0][0]']                  \n",
      "                                                                                                  \n",
      " flatten_1 (Flatten)            (None, 1024)         0           ['max_pooling2d_3[0][0]']        \n",
      "                                                                                                  \n",
      " dense_1 (Dense)                (None, 10)           10250       ['flatten_1[0][0]']              \n",
      "                                                                                                  \n",
      "==================================================================================================\n",
      "Total params: 101,706\n",
      "Trainable params: 101,706\n",
      "Non-trainable params: 0\n",
      "__________________________________________________________________________________________________\n"
     ]
    }
   ],
   "source": [
    "from tensorflow.keras.layers import Input, Conv2D, MaxPool2D, Flatten, Dense, Add\n",
    "\n",
    "def build_resnet(input_shape):\n",
    "    inputs = Input(input_shape)\n",
    "\n",
    "    net = Conv2D(32, kernel_size=3, strides=2,\n",
    "                 padding='same', activation='relu')(inputs)\n",
    "    net = MaxPool2D()(net)\n",
    "    \n",
    "    net1 = Conv2D(64, kernel_size=1, padding='same', activation='relu')(net)\n",
    "    net2 = Conv2D(64, kernel_size=3, padding='same', activation='relu')(net1)\n",
    "    net3 = Conv2D(64, kernel_size=1, padding='same', activation='relu')(net2)\n",
    "    \n",
    "    net1_1 = Conv2D(64, kernel_size=1, padding='same')(net)\n",
    "    net = Add()([net1_1, net3])\n",
    "    \n",
    "    net1 = Conv2D(64, kernel_size=1, padding='same', activation='relu')(net)\n",
    "    net2 = Conv2D(64, kernel_size=3, padding='same', activation='relu')(net1)\n",
    "    net3 = Conv2D(64, kernel_size=1, padding='same', activation='relu')(net2)\n",
    "    \n",
    "    net = Add()([net, net3])\n",
    "    \n",
    "    net = MaxPool2D()(net)\n",
    "    \n",
    "    net = Flatten()(net)\n",
    "    net = Dense(10, activation=\"softmax\")(net)\n",
    "\n",
    "    model = tf.keras.Model(inputs=inputs, outputs=net, name='resnet')\n",
    "    \n",
    "    return model\n",
    "\n",
    "model = build_resnet((32, 32, 3))\n",
    "model.summary()"
   ]
  },
  {
   "cell_type": "markdown",
   "id": "96e6621e",
   "metadata": {},
   "source": [
    "## 학습하는 과정을 직접 만들어보자!"
   ]
  },
  {
   "cell_type": "code",
   "execution_count": 26,
   "id": "c7cfbce9",
   "metadata": {},
   "outputs": [],
   "source": [
    "# 기존의 방법\n",
    "# model.fit()"
   ]
  },
  {
   "cell_type": "code",
   "execution_count": 34,
   "id": "092f631c",
   "metadata": {},
   "outputs": [],
   "source": [
    "lr = 0.03\n",
    "batch_size = 64     # 메모리 절약을 위해 2의 배수로 쓰는데, 실감상 체감은 되지 않는다고 한다. // 관례상!"
   ]
  },
  {
   "cell_type": "code",
   "execution_count": 35,
   "id": "be57cb24",
   "metadata": {},
   "outputs": [],
   "source": [
    "opt=tf.keras.optimizers.Adam(lr)\n",
    "loss_fn = tf.keras.losses.categorical_crossentropy\n",
    "train_loss = tf.keras.metrics.Mean()\n",
    "train_acc = tf.keras.metrics.CategoricalAccuracy()"
   ]
  },
  {
   "cell_type": "code",
   "execution_count": 36,
   "id": "00f47260",
   "metadata": {},
   "outputs": [],
   "source": [
    "# loss_fn([1, 0], [0.8, 0.2])\n",
    "#         #정답"
   ]
  },
  {
   "cell_type": "code",
   "execution_count": 37,
   "id": "5d0d4d39",
   "metadata": {},
   "outputs": [],
   "source": [
    "def train_step(x,y):\n",
    "    with tf.GradientTape() as tape:\n",
    "        pred = model(x)\n",
    "        loss = loss_fn(y, pred)\n",
    "                        # 정답치 , 예측치\n",
    "    gradients = tape.gradient(loss, model.trainable_variables)\n",
    "    # w.assign(w - lr*grad)\n",
    "    opt.apply_gradients(zip(gradients, model.trainable_variables))\n",
    "\n",
    "    train_loss(y)           # 결과값을 계속 누적시킴, 각 epoch 마다의 변화값을 보기 위해서는\n",
    "    train_acc(y, pred)  "
   ]
  },
  {
   "cell_type": "code",
   "execution_count": 38,
   "id": "ac4074a6",
   "metadata": {},
   "outputs": [],
   "source": [
    "# for i in range(train_x.shape[0]):\n",
    "#     print(i)"
   ]
  },
  {
   "cell_type": "code",
   "execution_count": null,
   "id": "a41b7b5e",
   "metadata": {},
   "outputs": [],
   "source": [
    "# for e in epochs:\n",
    "#     for batch_x, batch_y in dataset:\n",
    "        # pred = model(batch_x)    # 예측치를 구하기\n",
    "#         loss_fn(batch_y, pred)\n",
    "#         gradients\n",
    "#         weight_update\n",
    "#         print()"
   ]
  },
  {
   "cell_type": "code",
   "execution_count": 43,
   "id": "2d0d49b7",
   "metadata": {},
   "outputs": [
    {
     "name": "stdout",
     "output_type": "stream",
     "text": [
      "epoch : 1 loss : 0.10000000149011612 acc : 0.1001216396689415\n"
     ]
    }
   ],
   "source": [
    "for epoch in range(1):\n",
    "    for i in range(train_x.shape[0] // batch_size):\n",
    "        idx = i * batch_size\n",
    "        x, y = train_x[idx : idx+batch_size], train_y[idx : idx + batch_size]\n",
    "        train_step(x, y)\n",
    "        print('{} / {}'.format(i, train_x.shape[0] // batch_size), end='\\r')\n",
    "                                                                    # print 값이 덮어쓰기된다.\n",
    "\n",
    "    fmt = 'epoch : {} loss : {} acc : {}'\n",
    "    print(fmt.format(\n",
    "        epoch+1,\n",
    "        train_loss.result(),        # 결과값을 계속 누적시킴, 각 epoch 마다의 변화값을 보기 위해서는\n",
    "        train_acc.result()\n",
    "    ))\n",
    "    train_loss.reset_states()       # 리셋하면 된다.\n",
    "    train_acc.reset_states()"
   ]
  },
  {
   "cell_type": "code",
   "execution_count": 44,
   "id": "aac90ffa",
   "metadata": {},
   "outputs": [],
   "source": [
    "@tf.function        # 데코레이션, 선언됐을 때, 미리 구현해놓는다. // 속도가 빨라진다. (gpu를 쓸 때 효과적)\n",
    "                    # 연산이 이뤄지는 함수를 따로 만들어 데코레이션 해주는게 기본이다.\n",
    "def train_step(x,y):\n",
    "    with tf.GradientTape() as tape:\n",
    "        pred = model(x)\n",
    "        loss = loss_fn(y, pred)\n",
    "                        # 정답치 , 예측치\n",
    "    gradients = tape.gradient(loss, model.trainable_variables)\n",
    "    # w.assign(w - lr*grad)\n",
    "    opt.apply_gradients(zip(gradients, model.trainable_variables))\n",
    "\n",
    "    train_loss(y)           # 결과값을 계속 누적시킴, 각 epoch 마다의 변화값을 보기 위해서는\n",
    "    train_acc(y, pred)  "
   ]
  },
  {
   "cell_type": "code",
   "execution_count": 45,
   "id": "7810abf7",
   "metadata": {},
   "outputs": [
    {
     "name": "stdout",
     "output_type": "stream",
     "text": [
      "epoch : 1 loss : 0.10000000149011612 acc : 0.09865157306194305\n"
     ]
    }
   ],
   "source": [
    "for epoch in range(1):\n",
    "    for i in range(train_x.shape[0] // batch_size):\n",
    "        idx = i * batch_size\n",
    "        x, y = train_x[idx : idx+batch_size], train_y[idx : idx + batch_size]\n",
    "        train_step(x, y)\n",
    "        print('{} / {}'.format(i, train_x.shape[0] // batch_size), end='\\r')\n",
    "                                                                    # print 값이 덮어쓰기된다.\n",
    "\n",
    "    fmt = 'epoch : {} loss : {} acc : {}'\n",
    "    print(fmt.format(\n",
    "        epoch+1,\n",
    "        train_loss.result(),        # 결과값을 계속 누적시킴, 각 epoch 마다의 변화값을 보기 위해서는\n",
    "        train_acc.result()\n",
    "    ))\n",
    "    train_loss.reset_states()       # 리셋하면 된다.\n",
    "    train_acc.reset_states()"
   ]
  },
  {
   "cell_type": "code",
   "execution_count": null,
   "id": "751be855",
   "metadata": {},
   "outputs": [],
   "source": [
    "# model.compile(optimizer=, loss=, metrics=)"
   ]
  }
 ],
 "metadata": {
  "interpreter": {
   "hash": "b5a26d0e877c4652cf53eb6b13536f4959f02e722fb5eef7979a29d14fb02c8a"
  },
  "kernelspec": {
   "display_name": "Python 3.8.13 ('TF')",
   "language": "python",
   "name": "python3"
  },
  "language_info": {
   "codemirror_mode": {
    "name": "ipython",
    "version": 3
   },
   "file_extension": ".py",
   "mimetype": "text/x-python",
   "name": "python",
   "nbconvert_exporter": "python",
   "pygments_lexer": "ipython3",
   "version": "3.8.13"
  },
  "varInspector": {
   "cols": {
    "lenName": 16,
    "lenType": 16,
    "lenVar": 40
   },
   "kernels_config": {
    "python": {
     "delete_cmd_postfix": "",
     "delete_cmd_prefix": "del ",
     "library": "var_list.py",
     "varRefreshCmd": "print(var_dic_list())"
    },
    "r": {
     "delete_cmd_postfix": ") ",
     "delete_cmd_prefix": "rm(",
     "library": "var_list.r",
     "varRefreshCmd": "cat(var_dic_list()) "
    }
   },
   "types_to_exclude": [
    "module",
    "function",
    "builtin_function_or_method",
    "instance",
    "_Feature"
   ],
   "window_display": false
  }
 },
 "nbformat": 4,
 "nbformat_minor": 5
}

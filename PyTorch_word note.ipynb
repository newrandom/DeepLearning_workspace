{
 "cells": [
  {
   "cell_type": "markdown",
   "metadata": {},
   "source": [
    "# PyTorch Word note"
   ]
  },
  {
   "cell_type": "code",
   "execution_count": 1,
   "metadata": {},
   "outputs": [],
   "source": [
    "import torch"
   ]
  },
  {
   "cell_type": "markdown",
   "metadata": {},
   "source": [
    "#### torch 는 tensorflow와 비슷함\n",
    "----------------"
   ]
  },
  {
   "cell_type": "code",
   "execution_count": 7,
   "metadata": {},
   "outputs": [
    {
     "data": {
      "text/plain": [
       "tensor([[1, 2],\n",
       "        [3, 4]])"
      ]
     },
     "execution_count": 7,
     "metadata": {},
     "output_type": "execute_result"
    }
   ],
   "source": [
    "li_tensor = torch.tensor([[1,2],[3,4]])\n",
    "li_tensor"
   ]
  },
  {
   "cell_type": "markdown",
   "metadata": {},
   "source": [
    "#### torch 의 tensor의 속성값 확인\n",
    "-----------"
   ]
  },
  {
   "cell_type": "code",
   "execution_count": 10,
   "metadata": {},
   "outputs": [
    {
     "data": {
      "text/plain": [
       "(torch.Size([2, 2]), torch.Size([2, 2]))"
      ]
     },
     "execution_count": 10,
     "metadata": {},
     "output_type": "execute_result"
    }
   ],
   "source": [
    "li_tensor.shape, li_tensor.size()\n",
    "# 같음"
   ]
  },
  {
   "cell_type": "markdown",
   "metadata": {},
   "source": [
    "#### torch를 numpy 배열로 바꾸기\n",
    "----------"
   ]
  },
  {
   "cell_type": "code",
   "execution_count": 11,
   "metadata": {},
   "outputs": [
    {
     "data": {
      "text/plain": [
       "array([[1, 2],\n",
       "       [3, 4]])"
      ]
     },
     "execution_count": 11,
     "metadata": {},
     "output_type": "execute_result"
    }
   ],
   "source": [
    "li_tensor.numpy()"
   ]
  },
  {
   "cell_type": "code",
   "execution_count": 23,
   "metadata": {},
   "outputs": [
    {
     "name": "stdout",
     "output_type": "stream",
     "text": [
      "arange tensor([0, 1, 2, 3, 4, 5, 6, 7, 8, 9])\n",
      "ones tensor([1., 1., 1., 1., 1.]) \n",
      " zeros tensor([0., 0., 0., 0., 0.])\n",
      "ones_like tensor([[1, 1],\n",
      "        [1, 1]]) \n",
      " zeros_like tensor([[0, 0],\n",
      "        [0, 0]])\n",
      "linspace tensor([ 0.0000,  2.5000,  5.0000,  7.5000, 10.0000])\n",
      "logspace tensor([1.0000e+00, 3.1623e+02, 1.0000e+05, 3.1623e+07, 1.0000e+10])\n"
     ]
    }
   ],
   "source": [
    "print('arange', torch.arange(10))\n",
    "print('ones', torch.ones(5),'\\n', \n",
    "        'zeros', torch.zeros(5))\n",
    "print('ones_like', torch.ones_like(li_tensor), '\\n', \n",
    "        'zeros_like', torch.zeros_like(li_tensor))\n",
    "                        # (arr), Tensor를 입력해야 한다.\n",
    "print('linspace', torch.linspace(0,10,5))\n",
    "print('logspace',torch.logspace(0, 10,  5))"
   ]
  },
  {
   "cell_type": "markdown",
   "metadata": {},
   "source": [
    "#### 난수 생성하기\n",
    "----------"
   ]
  },
  {
   "cell_type": "code",
   "execution_count": 27,
   "metadata": {},
   "outputs": [
    {
     "data": {
      "text/plain": [
       "<torch._C.Generator at 0x103a5c5b0>"
      ]
     },
     "execution_count": 27,
     "metadata": {},
     "output_type": "execute_result"
    }
   ],
   "source": [
    "torch.manual_seed(7777)\n",
    "# tf.random.set_seed(7777)"
   ]
  },
  {
   "cell_type": "code",
   "execution_count": 28,
   "id": "941fb602",
   "metadata": {},
   "outputs": [
    {
     "name": "stdout",
     "output_type": "stream",
     "text": [
      "tensor([0.7453, 0.7328, 0.2350, 0.8423, 0.8364])\n",
      "tensor([ 0.2238,  0.2423,  0.8459,  0.6961, -0.8149])\n",
      "tensor([9, 5, 6, 0, 7])\n"
     ]
    }
   ],
   "source": [
    "a = torch.rand(5)#균등분포\n",
    "b = torch.randn(5)#Normal 분포 \n",
    "c = torch.randint(10, size=(5,))\n",
    "                            # size는 (tuple)로 넣어주어야 한다.\n",
    "print(a, b, c, sep=\"\\n\")"
   ]
  },
  {
   "cell_type": "code",
   "execution_count": 89,
   "metadata": {},
   "outputs": [
    {
     "data": {
      "image/png": "[encoded data removed]",
      "text/plain": [
       "<Figure size 864x360 with 3 Axes>"
      ]
     },
     "metadata": {
      "needs_background": "light"
     },
     "output_type": "display_data"
    }
   ],
   "source": [
    "import matplotlib.pyplot as plt\n",
    "plt.figure(figsize=(12,5))\n",
    "plt.subplot(231)\n",
    "plt.plot(a)\n",
    "plt.subplot(232)\n",
    "plt.plot(b)\n",
    "plt.subplot(233)\n",
    "plt.plot(c)\n",
    "plt.show()"
   ]
  },
  {
   "cell_type": "markdown",
   "metadata": {},
   "source": [
    "#### 데이터 타입\n",
    "-----------"
   ]
  },
  {
   "cell_type": "code",
   "execution_count": 91,
   "metadata": {},
   "outputs": [
    {
     "data": {
      "text/plain": [
       "tensor([7., 0., 4., 6., 0.])"
      ]
     },
     "execution_count": 91,
     "metadata": {},
     "output_type": "execute_result"
    }
   ],
   "source": [
    "torch.randint(10, size=(5,), dtype=torch.float32)\n",
    "                            # tf 때와 같음\n",
    "            # 10까지의 숫자중\n",
    "                    # 5개를\n",
    "        # 무작위로 뽑기\n",
    "                            # torch.float32 데이터 타입으로"
   ]
  },
  {
   "cell_type": "markdown",
   "id": "f1bcbd18",
   "metadata": {},
   "source": [
    "`tensor_var.type()` -> inplace 명령이 아님"
   ]
  },
  {
   "cell_type": "code",
   "execution_count": 92,
   "id": "b0c4c76b",
   "metadata": {},
   "outputs": [
    {
     "name": "stdout",
     "output_type": "stream",
     "text": [
      "torch.int64\n",
      "tensor([4., 6., 7., 2., 1.])\n",
      "torch.int64\n",
      "torch.float64\n"
     ]
    }
   ],
   "source": [
    "a = torch.randint(10, size=(5,))\n",
    "print(a.dtype)\n",
    "\n",
    "print(a.type(torch.float32))    # print는 형식으로 보여주지만, \n",
    "print(a.dtype)                  # 해당 값이 저장되지는 않음.\n",
    "\n",
    "a = a.type(torch.float64)       # 갱신해 주어야 한다.\n",
    "print(a.dtype)"
   ]
  },
  {
   "cell_type": "markdown",
   "metadata": {},
   "source": [
    "#### GPU 사용하기\n",
    "------------"
   ]
  },
  {
   "cell_type": "markdown",
   "id": "4a915176",
   "metadata": {},
   "source": [
    "GPU 를 사용하기 위해 Cuda에서 사용하는 데이터타입으로 바꾸어줘야 한다. \n",
    "\n",
    "방법 세가지! \n",
    "\n",
    " - 만들 때, device 설정해두기\n",
    " - tensor_var.cuda()\n",
    " - tensor_var.to(device)\n"
   ]
  },
  {
   "cell_type": "markdown",
   "metadata": {},
   "source": [
    "> `만들 때, device 설정해두기`"
   ]
  },
  {
   "cell_type": "code",
   "execution_count": null,
   "id": "d8f86356",
   "metadata": {},
   "outputs": [
    {
     "ename": "AssertionError",
     "evalue": "Torch not compiled with CUDA enabled",
     "output_type": "error",
     "traceback": [
      "\u001b[0;31m---------------------------------------------------------------------------\u001b[0m\n",
      "\u001b[0;31mAssertionError\u001b[0m                            Traceback (most recent call last)\n",
      "\u001b[1;32m/Users/newrandom/Documents/GitHub/DL_ws/PyTorch/18_텐서 다루기.ipynb Cell 35'\u001b[0m in \u001b[0;36m<cell line: 2>\u001b[0;34m()\u001b[0m\n",
      "\u001b[1;32m      <a href='vscode-notebook-cell:/Users/newrandom/Documents/GitHub/DL_ws/PyTorch/18_%ED%85%90%EC%84%9C%20%EB%8B%A4%EB%A3%A8%EA%B8%B0.ipynb#ch0000033?line=0'>1</a>\u001b[0m \u001b[39m# device 설정하기.\u001b[39;00m\n",
      "\u001b[0;32m----> <a href='vscode-notebook-cell:/Users/newrandom/Documents/GitHub/DL_ws/PyTorch/18_%ED%85%90%EC%84%9C%20%EB%8B%A4%EB%A3%A8%EA%B8%B0.ipynb#ch0000033?line=1'>2</a>\u001b[0m x \u001b[39m=\u001b[39m torch\u001b[39m.\u001b[39;49mones(\u001b[39m2\u001b[39;49m, \u001b[39m2\u001b[39;49m, device\u001b[39m=\u001b[39;49m\u001b[39m'\u001b[39;49m\u001b[39mcuda\u001b[39;49m\u001b[39m'\u001b[39;49m)\n",
      "\u001b[1;32m      <a href='vscode-notebook-cell:/Users/newrandom/Documents/GitHub/DL_ws/PyTorch/18_%ED%85%90%EC%84%9C%20%EB%8B%A4%EB%A3%A8%EA%B8%B0.ipynb#ch0000033?line=3'>4</a>\u001b[0m \u001b[39m# 여러개 중에 하나의 GPU에 할당하고 싶을 때\u001b[39;00m\n",
      "\u001b[1;32m      <a href='vscode-notebook-cell:/Users/newrandom/Documents/GitHub/DL_ws/PyTorch/18_%ED%85%90%EC%84%9C%20%EB%8B%A4%EB%A3%A8%EA%B8%B0.ipynb#ch0000033?line=4'>5</a>\u001b[0m \u001b[39m# 번호는 nvidia-smi 명령을 Shell에 입력해서 찾을 수 있음 \u001b[39;00m\n",
      "\u001b[1;32m      <a href='vscode-notebook-cell:/Users/newrandom/Documents/GitHub/DL_ws/PyTorch/18_%ED%85%90%EC%84%9C%20%EB%8B%A4%EB%A3%A8%EA%B8%B0.ipynb#ch0000033?line=5'>6</a>\u001b[0m x \u001b[39m=\u001b[39m torch\u001b[39m.\u001b[39mones(\u001b[39m2\u001b[39m, \u001b[39m2\u001b[39m, device\u001b[39m=\u001b[39m\u001b[39m'\u001b[39m\u001b[39mcuda:0\u001b[39m\u001b[39m'\u001b[39m)\n",
      "\n",
      "File \u001b[0;32m~/miniforge3/envs/TF/lib/python3.8/site-packages/torch/cuda/__init__.py:210\u001b[0m, in \u001b[0;36m_lazy_init\u001b[0;34m()\u001b[0m\n",
      "\u001b[1;32m    <a href='file:///Users/newrandom/miniforge3/envs/TF/lib/python3.8/site-packages/torch/cuda/__init__.py?line=205'>206</a>\u001b[0m     \u001b[39mraise\u001b[39;00m \u001b[39mRuntimeError\u001b[39;00m(\n",
      "\u001b[1;32m    <a href='file:///Users/newrandom/miniforge3/envs/TF/lib/python3.8/site-packages/torch/cuda/__init__.py?line=206'>207</a>\u001b[0m         \u001b[39m\"\u001b[39m\u001b[39mCannot re-initialize CUDA in forked subprocess. To use CUDA with \u001b[39m\u001b[39m\"\u001b[39m\n",
      "\u001b[1;32m    <a href='file:///Users/newrandom/miniforge3/envs/TF/lib/python3.8/site-packages/torch/cuda/__init__.py?line=207'>208</a>\u001b[0m         \u001b[39m\"\u001b[39m\u001b[39mmultiprocessing, you must use the \u001b[39m\u001b[39m'\u001b[39m\u001b[39mspawn\u001b[39m\u001b[39m'\u001b[39m\u001b[39m start method\u001b[39m\u001b[39m\"\u001b[39m)\n",
      "\u001b[1;32m    <a href='file:///Users/newrandom/miniforge3/envs/TF/lib/python3.8/site-packages/torch/cuda/__init__.py?line=208'>209</a>\u001b[0m \u001b[39mif\u001b[39;00m \u001b[39mnot\u001b[39;00m \u001b[39mhasattr\u001b[39m(torch\u001b[39m.\u001b[39m_C, \u001b[39m'\u001b[39m\u001b[39m_cuda_getDeviceCount\u001b[39m\u001b[39m'\u001b[39m):\n",
      "\u001b[0;32m--> <a href='file:///Users/newrandom/miniforge3/envs/TF/lib/python3.8/site-packages/torch/cuda/__init__.py?line=209'>210</a>\u001b[0m     \u001b[39mraise\u001b[39;00m \u001b[39mAssertionError\u001b[39;00m(\u001b[39m\"\u001b[39m\u001b[39mTorch not compiled with CUDA enabled\u001b[39m\u001b[39m\"\u001b[39m)\n",
      "\u001b[1;32m    <a href='file:///Users/newrandom/miniforge3/envs/TF/lib/python3.8/site-packages/torch/cuda/__init__.py?line=210'>211</a>\u001b[0m \u001b[39mif\u001b[39;00m _cudart \u001b[39mis\u001b[39;00m \u001b[39mNone\u001b[39;00m:\n",
      "\u001b[1;32m    <a href='file:///Users/newrandom/miniforge3/envs/TF/lib/python3.8/site-packages/torch/cuda/__init__.py?line=211'>212</a>\u001b[0m     \u001b[39mraise\u001b[39;00m \u001b[39mAssertionError\u001b[39;00m(\n",
      "\u001b[1;32m    <a href='file:///Users/newrandom/miniforge3/envs/TF/lib/python3.8/site-packages/torch/cuda/__init__.py?line=212'>213</a>\u001b[0m         \u001b[39m\"\u001b[39m\u001b[39mlibcudart functions unavailable. It looks like you have a broken build?\u001b[39m\u001b[39m\"\u001b[39m)\n",
      "\n",
      "\u001b[0;31mAssertionError\u001b[0m: Torch not compiled with CUDA enabled"
     ]
    }
   ],
   "source": [
    "# device 설정하기.\n",
    "x = torch.ones(2, 2, device='cuda')\n",
    "\n",
    "# 여러개 중에 하나의 GPU에 할당하고 싶을 때\n",
    "# 번호는 nvidia-smi 명령을 Shell에 입력해서 찾을 수 있음 \n",
    "x = torch.ones(2, 2, device='cuda:0')\n",
    "\n",
    "# device 객체를 입력하는게 기본\n",
    "x = torch.ones(2, 2, device=torch.device('cuda'))"
   ]
  },
  {
   "cell_type": "markdown",
   "metadata": {},
   "source": [
    "> `tensor_var.cuda()`"
   ]
  },
  {
   "cell_type": "code",
   "execution_count": null,
   "id": "dc7b5352",
   "metadata": {},
   "outputs": [
    {
     "name": "stdout",
     "output_type": "stream",
     "text": [
      "tensor([0.9787, 0.2532, 0.9973, 0.1773, 0.2655, 0.0740, 0.4339, 0.8307, 0.0894,\n",
      "        0.1826])\n"
     ]
    },
    {
     "ename": "AssertionError",
     "evalue": "Torch not compiled with CUDA enabled",
     "output_type": "error",
     "traceback": [
      "\u001b[0;31m---------------------------------------------------------------------------\u001b[0m\n",
      "\u001b[0;31mAssertionError\u001b[0m                            Traceback (most recent call last)\n",
      "\u001b[1;32m/Users/newrandom/Documents/GitHub/DL_ws/PyTorch/18_텐서 다루기.ipynb Cell 36'\u001b[0m in \u001b[0;36m<cell line: 5>\u001b[0;34m()\u001b[0m\n",
      "\u001b[1;32m      <a href='vscode-notebook-cell:/Users/newrandom/Documents/GitHub/DL_ws/PyTorch/18_%ED%85%90%EC%84%9C%20%EB%8B%A4%EB%A3%A8%EA%B8%B0.ipynb#ch0000034?line=1'>2</a>\u001b[0m a \u001b[39m=\u001b[39m torch\u001b[39m.\u001b[39mrand(\u001b[39m10\u001b[39m)\n",
      "\u001b[1;32m      <a href='vscode-notebook-cell:/Users/newrandom/Documents/GitHub/DL_ws/PyTorch/18_%ED%85%90%EC%84%9C%20%EB%8B%A4%EB%A3%A8%EA%B8%B0.ipynb#ch0000034?line=2'>3</a>\u001b[0m \u001b[39mprint\u001b[39m(a)\n",
      "\u001b[0;32m----> <a href='vscode-notebook-cell:/Users/newrandom/Documents/GitHub/DL_ws/PyTorch/18_%ED%85%90%EC%84%9C%20%EB%8B%A4%EB%A3%A8%EA%B8%B0.ipynb#ch0000034?line=4'>5</a>\u001b[0m a \u001b[39m=\u001b[39m a\u001b[39m.\u001b[39;49mcuda()\n",
      "\u001b[1;32m      <a href='vscode-notebook-cell:/Users/newrandom/Documents/GitHub/DL_ws/PyTorch/18_%ED%85%90%EC%84%9C%20%EB%8B%A4%EB%A3%A8%EA%B8%B0.ipynb#ch0000034?line=5'>6</a>\u001b[0m \u001b[39mprint\u001b[39m(a)\n",
      "\n",
      "File \u001b[0;32m~/miniforge3/envs/TF/lib/python3.8/site-packages/torch/cuda/__init__.py:210\u001b[0m, in \u001b[0;36m_lazy_init\u001b[0;34m()\u001b[0m\n",
      "\u001b[1;32m    <a href='file:///Users/newrandom/miniforge3/envs/TF/lib/python3.8/site-packages/torch/cuda/__init__.py?line=205'>206</a>\u001b[0m     \u001b[39mraise\u001b[39;00m \u001b[39mRuntimeError\u001b[39;00m(\n",
      "\u001b[1;32m    <a href='file:///Users/newrandom/miniforge3/envs/TF/lib/python3.8/site-packages/torch/cuda/__init__.py?line=206'>207</a>\u001b[0m         \u001b[39m\"\u001b[39m\u001b[39mCannot re-initialize CUDA in forked subprocess. To use CUDA with \u001b[39m\u001b[39m\"\u001b[39m\n",
      "\u001b[1;32m    <a href='file:///Users/newrandom/miniforge3/envs/TF/lib/python3.8/site-packages/torch/cuda/__init__.py?line=207'>208</a>\u001b[0m         \u001b[39m\"\u001b[39m\u001b[39mmultiprocessing, you must use the \u001b[39m\u001b[39m'\u001b[39m\u001b[39mspawn\u001b[39m\u001b[39m'\u001b[39m\u001b[39m start method\u001b[39m\u001b[39m\"\u001b[39m)\n",
      "\u001b[1;32m    <a href='file:///Users/newrandom/miniforge3/envs/TF/lib/python3.8/site-packages/torch/cuda/__init__.py?line=208'>209</a>\u001b[0m \u001b[39mif\u001b[39;00m \u001b[39mnot\u001b[39;00m \u001b[39mhasattr\u001b[39m(torch\u001b[39m.\u001b[39m_C, \u001b[39m'\u001b[39m\u001b[39m_cuda_getDeviceCount\u001b[39m\u001b[39m'\u001b[39m):\n",
      "\u001b[0;32m--> <a href='file:///Users/newrandom/miniforge3/envs/TF/lib/python3.8/site-packages/torch/cuda/__init__.py?line=209'>210</a>\u001b[0m     \u001b[39mraise\u001b[39;00m \u001b[39mAssertionError\u001b[39;00m(\u001b[39m\"\u001b[39m\u001b[39mTorch not compiled with CUDA enabled\u001b[39m\u001b[39m\"\u001b[39m)\n",
      "\u001b[1;32m    <a href='file:///Users/newrandom/miniforge3/envs/TF/lib/python3.8/site-packages/torch/cuda/__init__.py?line=210'>211</a>\u001b[0m \u001b[39mif\u001b[39;00m _cudart \u001b[39mis\u001b[39;00m \u001b[39mNone\u001b[39;00m:\n",
      "\u001b[1;32m    <a href='file:///Users/newrandom/miniforge3/envs/TF/lib/python3.8/site-packages/torch/cuda/__init__.py?line=211'>212</a>\u001b[0m     \u001b[39mraise\u001b[39;00m \u001b[39mAssertionError\u001b[39;00m(\n",
      "\u001b[1;32m    <a href='file:///Users/newrandom/miniforge3/envs/TF/lib/python3.8/site-packages/torch/cuda/__init__.py?line=212'>213</a>\u001b[0m         \u001b[39m\"\u001b[39m\u001b[39mlibcudart functions unavailable. It looks like you have a broken build?\u001b[39m\u001b[39m\"\u001b[39m)\n",
      "\n",
      "\u001b[0;31mAssertionError\u001b[0m: Torch not compiled with CUDA enabled"
     ]
    }
   ],
   "source": [
    "# .cuda()\n",
    "a = torch.rand(10)\n",
    "print(a)\n",
    "\n",
    "a = a.cuda()\n",
    "print(a)"
   ]
  },
  {
   "cell_type": "markdown",
   "metadata": {},
   "source": [
    "> `tensor_var.to(device)`"
   ]
  },
  {
   "cell_type": "code",
   "execution_count": null,
   "id": "6f8b70fe",
   "metadata": {},
   "outputs": [
    {
     "name": "stdout",
     "output_type": "stream",
     "text": [
      "tensor([0.2865, 0.2110])\n"
     ]
    },
    {
     "ename": "AssertionError",
     "evalue": "Torch not compiled with CUDA enabled",
     "output_type": "error",
     "traceback": [
      "\u001b[0;31m---------------------------------------------------------------------------\u001b[0m\n",
      "\u001b[0;31mAssertionError\u001b[0m                            Traceback (most recent call last)\n",
      "\u001b[1;32m/Users/newrandom/Documents/GitHub/DL_ws/PyTorch/18_텐서 다루기.ipynb Cell 37'\u001b[0m in \u001b[0;36m<cell line: 5>\u001b[0;34m()\u001b[0m\n",
      "\u001b[1;32m      <a href='vscode-notebook-cell:/Users/newrandom/Documents/GitHub/DL_ws/PyTorch/18_%ED%85%90%EC%84%9C%20%EB%8B%A4%EB%A3%A8%EA%B8%B0.ipynb#ch0000035?line=1'>2</a>\u001b[0m a \u001b[39m=\u001b[39m torch\u001b[39m.\u001b[39mrand(\u001b[39m2\u001b[39m)\n",
      "\u001b[1;32m      <a href='vscode-notebook-cell:/Users/newrandom/Documents/GitHub/DL_ws/PyTorch/18_%ED%85%90%EC%84%9C%20%EB%8B%A4%EB%A3%A8%EA%B8%B0.ipynb#ch0000035?line=2'>3</a>\u001b[0m \u001b[39mprint\u001b[39m(a)\n",
      "\u001b[0;32m----> <a href='vscode-notebook-cell:/Users/newrandom/Documents/GitHub/DL_ws/PyTorch/18_%ED%85%90%EC%84%9C%20%EB%8B%A4%EB%A3%A8%EA%B8%B0.ipynb#ch0000035?line=4'>5</a>\u001b[0m a \u001b[39m=\u001b[39m a\u001b[39m.\u001b[39;49mto(\u001b[39m\"\u001b[39;49m\u001b[39mcuda\u001b[39;49m\u001b[39m\"\u001b[39;49m)\n",
      "\u001b[1;32m      <a href='vscode-notebook-cell:/Users/newrandom/Documents/GitHub/DL_ws/PyTorch/18_%ED%85%90%EC%84%9C%20%EB%8B%A4%EB%A3%A8%EA%B8%B0.ipynb#ch0000035?line=5'>6</a>\u001b[0m \u001b[39mprint\u001b[39m(a)\n",
      "\n",
      "File \u001b[0;32m~/miniforge3/envs/TF/lib/python3.8/site-packages/torch/cuda/__init__.py:210\u001b[0m, in \u001b[0;36m_lazy_init\u001b[0;34m()\u001b[0m\n",
      "\u001b[1;32m    <a href='file:///Users/newrandom/miniforge3/envs/TF/lib/python3.8/site-packages/torch/cuda/__init__.py?line=205'>206</a>\u001b[0m     \u001b[39mraise\u001b[39;00m \u001b[39mRuntimeError\u001b[39;00m(\n",
      "\u001b[1;32m    <a href='file:///Users/newrandom/miniforge3/envs/TF/lib/python3.8/site-packages/torch/cuda/__init__.py?line=206'>207</a>\u001b[0m         \u001b[39m\"\u001b[39m\u001b[39mCannot re-initialize CUDA in forked subprocess. To use CUDA with \u001b[39m\u001b[39m\"\u001b[39m\n",
      "\u001b[1;32m    <a href='file:///Users/newrandom/miniforge3/envs/TF/lib/python3.8/site-packages/torch/cuda/__init__.py?line=207'>208</a>\u001b[0m         \u001b[39m\"\u001b[39m\u001b[39mmultiprocessing, you must use the \u001b[39m\u001b[39m'\u001b[39m\u001b[39mspawn\u001b[39m\u001b[39m'\u001b[39m\u001b[39m start method\u001b[39m\u001b[39m\"\u001b[39m)\n",
      "\u001b[1;32m    <a href='file:///Users/newrandom/miniforge3/envs/TF/lib/python3.8/site-packages/torch/cuda/__init__.py?line=208'>209</a>\u001b[0m \u001b[39mif\u001b[39;00m \u001b[39mnot\u001b[39;00m \u001b[39mhasattr\u001b[39m(torch\u001b[39m.\u001b[39m_C, \u001b[39m'\u001b[39m\u001b[39m_cuda_getDeviceCount\u001b[39m\u001b[39m'\u001b[39m):\n",
      "\u001b[0;32m--> <a href='file:///Users/newrandom/miniforge3/envs/TF/lib/python3.8/site-packages/torch/cuda/__init__.py?line=209'>210</a>\u001b[0m     \u001b[39mraise\u001b[39;00m \u001b[39mAssertionError\u001b[39;00m(\u001b[39m\"\u001b[39m\u001b[39mTorch not compiled with CUDA enabled\u001b[39m\u001b[39m\"\u001b[39m)\n",
      "\u001b[1;32m    <a href='file:///Users/newrandom/miniforge3/envs/TF/lib/python3.8/site-packages/torch/cuda/__init__.py?line=210'>211</a>\u001b[0m \u001b[39mif\u001b[39;00m _cudart \u001b[39mis\u001b[39;00m \u001b[39mNone\u001b[39;00m:\n",
      "\u001b[1;32m    <a href='file:///Users/newrandom/miniforge3/envs/TF/lib/python3.8/site-packages/torch/cuda/__init__.py?line=211'>212</a>\u001b[0m     \u001b[39mraise\u001b[39;00m \u001b[39mAssertionError\u001b[39;00m(\n",
      "\u001b[1;32m    <a href='file:///Users/newrandom/miniforge3/envs/TF/lib/python3.8/site-packages/torch/cuda/__init__.py?line=212'>213</a>\u001b[0m         \u001b[39m\"\u001b[39m\u001b[39mlibcudart functions unavailable. It looks like you have a broken build?\u001b[39m\u001b[39m\"\u001b[39m)\n",
      "\n",
      "\u001b[0;31mAssertionError\u001b[0m: Torch not compiled with CUDA enabled"
     ]
    }
   ],
   "source": [
    "# .to(device)\n",
    "a = torch.rand(2)\n",
    "print(a)\n",
    "\n",
    "a = a.to(\"cuda\")\n",
    "print(a)"
   ]
  },
  {
   "cell_type": "code",
   "execution_count": null,
   "id": "ec633f55",
   "metadata": {},
   "outputs": [
    {
     "name": "stdout",
     "output_type": "stream",
     "text": [
      "tensor([0.5899, 0.1865])\n"
     ]
    },
    {
     "ename": "AssertionError",
     "evalue": "Torch not compiled with CUDA enabled",
     "output_type": "error",
     "traceback": [
      "\u001b[0;31m---------------------------------------------------------------------------\u001b[0m\n",
      "\u001b[0;31mAssertionError\u001b[0m                            Traceback (most recent call last)\n",
      "\u001b[1;32m/Users/newrandom/Documents/GitHub/DL_ws/PyTorch/18_텐서 다루기.ipynb Cell 38'\u001b[0m in \u001b[0;36m<cell line: 4>\u001b[0;34m()\u001b[0m\n",
      "\u001b[1;32m      <a href='vscode-notebook-cell:/Users/newrandom/Documents/GitHub/DL_ws/PyTorch/18_%ED%85%90%EC%84%9C%20%EB%8B%A4%EB%A3%A8%EA%B8%B0.ipynb#ch0000036?line=0'>1</a>\u001b[0m a \u001b[39m=\u001b[39m torch\u001b[39m.\u001b[39mrand(\u001b[39m2\u001b[39m)\n",
      "\u001b[1;32m      <a href='vscode-notebook-cell:/Users/newrandom/Documents/GitHub/DL_ws/PyTorch/18_%ED%85%90%EC%84%9C%20%EB%8B%A4%EB%A3%A8%EA%B8%B0.ipynb#ch0000036?line=1'>2</a>\u001b[0m \u001b[39mprint\u001b[39m(a)\n",
      "\u001b[0;32m----> <a href='vscode-notebook-cell:/Users/newrandom/Documents/GitHub/DL_ws/PyTorch/18_%ED%85%90%EC%84%9C%20%EB%8B%A4%EB%A3%A8%EA%B8%B0.ipynb#ch0000036?line=3'>4</a>\u001b[0m a \u001b[39m=\u001b[39m a\u001b[39m.\u001b[39;49mto(torch\u001b[39m.\u001b[39;49mdevice(\u001b[39m\"\u001b[39;49m\u001b[39mcuda\u001b[39;49m\u001b[39m\"\u001b[39;49m))\n",
      "\u001b[1;32m      <a href='vscode-notebook-cell:/Users/newrandom/Documents/GitHub/DL_ws/PyTorch/18_%ED%85%90%EC%84%9C%20%EB%8B%A4%EB%A3%A8%EA%B8%B0.ipynb#ch0000036?line=4'>5</a>\u001b[0m \u001b[39mprint\u001b[39m(a)\n",
      "\n",
      "File \u001b[0;32m~/miniforge3/envs/TF/lib/python3.8/site-packages/torch/cuda/__init__.py:210\u001b[0m, in \u001b[0;36m_lazy_init\u001b[0;34m()\u001b[0m\n",
      "\u001b[1;32m    <a href='file:///Users/newrandom/miniforge3/envs/TF/lib/python3.8/site-packages/torch/cuda/__init__.py?line=205'>206</a>\u001b[0m     \u001b[39mraise\u001b[39;00m \u001b[39mRuntimeError\u001b[39;00m(\n",
      "\u001b[1;32m    <a href='file:///Users/newrandom/miniforge3/envs/TF/lib/python3.8/site-packages/torch/cuda/__init__.py?line=206'>207</a>\u001b[0m         \u001b[39m\"\u001b[39m\u001b[39mCannot re-initialize CUDA in forked subprocess. To use CUDA with \u001b[39m\u001b[39m\"\u001b[39m\n",
      "\u001b[1;32m    <a href='file:///Users/newrandom/miniforge3/envs/TF/lib/python3.8/site-packages/torch/cuda/__init__.py?line=207'>208</a>\u001b[0m         \u001b[39m\"\u001b[39m\u001b[39mmultiprocessing, you must use the \u001b[39m\u001b[39m'\u001b[39m\u001b[39mspawn\u001b[39m\u001b[39m'\u001b[39m\u001b[39m start method\u001b[39m\u001b[39m\"\u001b[39m)\n",
      "\u001b[1;32m    <a href='file:///Users/newrandom/miniforge3/envs/TF/lib/python3.8/site-packages/torch/cuda/__init__.py?line=208'>209</a>\u001b[0m \u001b[39mif\u001b[39;00m \u001b[39mnot\u001b[39;00m \u001b[39mhasattr\u001b[39m(torch\u001b[39m.\u001b[39m_C, \u001b[39m'\u001b[39m\u001b[39m_cuda_getDeviceCount\u001b[39m\u001b[39m'\u001b[39m):\n",
      "\u001b[0;32m--> <a href='file:///Users/newrandom/miniforge3/envs/TF/lib/python3.8/site-packages/torch/cuda/__init__.py?line=209'>210</a>\u001b[0m     \u001b[39mraise\u001b[39;00m \u001b[39mAssertionError\u001b[39;00m(\u001b[39m\"\u001b[39m\u001b[39mTorch not compiled with CUDA enabled\u001b[39m\u001b[39m\"\u001b[39m)\n",
      "\u001b[1;32m    <a href='file:///Users/newrandom/miniforge3/envs/TF/lib/python3.8/site-packages/torch/cuda/__init__.py?line=210'>211</a>\u001b[0m \u001b[39mif\u001b[39;00m _cudart \u001b[39mis\u001b[39;00m \u001b[39mNone\u001b[39;00m:\n",
      "\u001b[1;32m    <a href='file:///Users/newrandom/miniforge3/envs/TF/lib/python3.8/site-packages/torch/cuda/__init__.py?line=211'>212</a>\u001b[0m     \u001b[39mraise\u001b[39;00m \u001b[39mAssertionError\u001b[39;00m(\n",
      "\u001b[1;32m    <a href='file:///Users/newrandom/miniforge3/envs/TF/lib/python3.8/site-packages/torch/cuda/__init__.py?line=212'>213</a>\u001b[0m         \u001b[39m\"\u001b[39m\u001b[39mlibcudart functions unavailable. It looks like you have a broken build?\u001b[39m\u001b[39m\"\u001b[39m)\n",
      "\n",
      "\u001b[0;31mAssertionError\u001b[0m: Torch not compiled with CUDA enabled"
     ]
    }
   ],
   "source": [
    "a = torch.rand(2)\n",
    "print(a)\n",
    "\n",
    "a = a.to(torch.device(\"cuda\"))\n",
    "print(a)"
   ]
  },
  {
   "cell_type": "markdown",
   "id": "a8d95ec9",
   "metadata": {},
   "source": [
    "> 대부분 그냥 이렇게 사용합니다! "
   ]
  },
  {
   "cell_type": "code",
   "execution_count": null,
   "id": "244c98af",
   "metadata": {},
   "outputs": [
    {
     "name": "stdout",
     "output_type": "stream",
     "text": [
      "cpu\n",
      "tensor([0.4578, 0.2209])\n",
      "tensor([0.4578, 0.2209])\n"
     ]
    }
   ],
   "source": [
    "device = torch.device(\"cuda\" if torch.cuda.is_available() else \"cpu\")\n",
    "print(device)\n",
    "\n",
    "a = torch.rand(2)\n",
    "print(a)\n",
    "\n",
    "a = a.to(device)\n",
    "print(a)"
   ]
  }
 ],
 "metadata": {
  "interpreter": {
   "hash": "b5a26d0e877c4652cf53eb6b13536f4959f02e722fb5eef7979a29d14fb02c8a"
  },
  "kernelspec": {
   "display_name": "Python 3.8.13 ('TF')",
   "language": "python",
   "name": "python3"
  },
  "language_info": {
   "codemirror_mode": {
    "name": "ipython",
    "version": 3
   },
   "file_extension": ".py",
   "mimetype": "text/x-python",
   "name": "python",
   "nbconvert_exporter": "python",
   "pygments_lexer": "ipython3",
   "version": "3.8.13"
  },
  "orig_nbformat": 4
 },
 "nbformat": 4,
 "nbformat_minor": 2
}

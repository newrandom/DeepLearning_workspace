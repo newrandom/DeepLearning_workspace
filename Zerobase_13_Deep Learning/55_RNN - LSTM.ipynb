{
  "cells": [
    {
      "cell_type": "markdown",
      "metadata": {
        "id": "TBornN_mfanW"
      },
      "source": [
        "# 55_RNN - LSTM"
      ]
    },
    {
      "cell_type": "markdown",
      "metadata": {
        "id": "03SxYHWgfanf"
      },
      "source": [
        "### simple RNN 의 단점\n",
        "- 입력 데이터가 길어지면 학습 능력이 떨어진다. (`Long-term Dependency` 문제)\n",
        "- 현재의 답을 얻기 위해 과거의 정보에 의존해야 하는 RNN이지만, `과거 시점이 현재와 너무 멀어지면 문제를 풀기 어렵다`\n"
      ]
    },
    {
      "cell_type": "markdown",
      "source": [
        "--------------------------"
      ],
      "metadata": {
        "id": "5e6kGVMzonsK"
      }
    },
    {
      "cell_type": "markdown",
      "metadata": {
        "id": "rd8NnuaSfanh"
      },
      "source": [
        "# LSTM\n",
        "- Cell State가 중요하다.\n",
        "- 이전의 기억을 얼마나 반영하고, 지금 입력을 얼마나 넣을 것인가"
      ]
    },
    {
      "cell_type": "code",
      "execution_count": 1,
      "metadata": {
        "colab": {
          "base_uri": "https://localhost:8080/"
        },
        "id": "j_6wvcTLfanj",
        "outputId": "281f1dac-0c57-42c4-b8c3-39297d8ad2c8"
      },
      "outputs": [
        {
          "output_type": "stream",
          "name": "stdout",
          "text": [
            "[[0.00000000e+00 8.36017523e-01]\n",
            " [0.00000000e+00 6.78725721e-01]\n",
            " [0.00000000e+00 3.86660033e-01]\n",
            " [0.00000000e+00 2.01385505e-01]\n",
            " [0.00000000e+00 3.06199639e-01]\n",
            " [0.00000000e+00 7.07880581e-01]\n",
            " [0.00000000e+00 9.48700989e-01]\n",
            " [0.00000000e+00 6.06233399e-02]\n",
            " [0.00000000e+00 9.49934598e-02]\n",
            " [0.00000000e+00 1.45716740e-01]\n",
            " [0.00000000e+00 7.90738284e-01]\n",
            " [0.00000000e+00 1.93153161e-01]\n",
            " [0.00000000e+00 3.94417557e-01]\n",
            " [0.00000000e+00 2.22130637e-01]\n",
            " [0.00000000e+00 5.42786848e-01]\n",
            " [0.00000000e+00 6.69285224e-01]\n",
            " [0.00000000e+00 5.52348726e-01]\n",
            " [0.00000000e+00 3.14339285e-01]\n",
            " [0.00000000e+00 1.91636477e-02]\n",
            " [0.00000000e+00 6.71618175e-02]\n",
            " [0.00000000e+00 9.54581211e-01]\n",
            " [0.00000000e+00 6.56047191e-02]\n",
            " [0.00000000e+00 8.48462626e-01]\n",
            " [0.00000000e+00 5.20967432e-02]\n",
            " [0.00000000e+00 3.21137188e-01]\n",
            " [0.00000000e+00 5.43798125e-01]\n",
            " [0.00000000e+00 5.32399362e-01]\n",
            " [0.00000000e+00 2.11989272e-01]\n",
            " [0.00000000e+00 1.74868062e-01]\n",
            " [0.00000000e+00 8.86515755e-03]\n",
            " [0.00000000e+00 8.48108901e-01]\n",
            " [0.00000000e+00 5.82492371e-01]\n",
            " [0.00000000e+00 3.76163395e-01]\n",
            " [0.00000000e+00 7.43379700e-01]\n",
            " [0.00000000e+00 4.03982835e-01]\n",
            " [0.00000000e+00 4.46157526e-01]\n",
            " [0.00000000e+00 5.95706249e-01]\n",
            " [0.00000000e+00 3.97007267e-01]\n",
            " [0.00000000e+00 4.07248723e-01]\n",
            " [0.00000000e+00 5.24437795e-01]\n",
            " [0.00000000e+00 1.24771923e-01]\n",
            " [0.00000000e+00 1.90973956e-01]\n",
            " [0.00000000e+00 6.99559518e-01]\n",
            " [0.00000000e+00 8.76534986e-01]\n",
            " [0.00000000e+00 3.91034158e-01]\n",
            " [0.00000000e+00 9.97586547e-01]\n",
            " [0.00000000e+00 3.36716269e-01]\n",
            " [0.00000000e+00 5.34067868e-01]\n",
            " [0.00000000e+00 7.85101045e-01]\n",
            " [0.00000000e+00 3.71484515e-03]\n",
            " [0.00000000e+00 7.13687995e-01]\n",
            " [0.00000000e+00 5.85286308e-04]\n",
            " [0.00000000e+00 5.93340562e-01]\n",
            " [0.00000000e+00 1.38194958e-01]\n",
            " [0.00000000e+00 7.91411555e-01]\n",
            " [0.00000000e+00 5.44881055e-01]\n",
            " [0.00000000e+00 6.83057961e-02]\n",
            " [0.00000000e+00 1.45304152e-01]\n",
            " [0.00000000e+00 4.97203563e-01]\n",
            " [0.00000000e+00 9.70997440e-01]\n",
            " [0.00000000e+00 2.45570874e-01]\n",
            " [0.00000000e+00 6.82831684e-01]\n",
            " [0.00000000e+00 8.50846076e-01]\n",
            " [0.00000000e+00 6.51214638e-01]\n",
            " [0.00000000e+00 5.33934468e-01]\n",
            " [0.00000000e+00 6.16396234e-01]\n",
            " [0.00000000e+00 5.95457039e-01]\n",
            " [0.00000000e+00 6.11981147e-01]\n",
            " [0.00000000e+00 1.73793292e-01]\n",
            " [0.00000000e+00 1.41147354e-01]\n",
            " [0.00000000e+00 6.99392639e-01]\n",
            " [0.00000000e+00 6.60022397e-01]\n",
            " [1.00000000e+00 5.75900331e-01]\n",
            " [0.00000000e+00 3.59184738e-01]\n",
            " [0.00000000e+00 3.92400337e-01]\n",
            " [0.00000000e+00 5.21480682e-01]\n",
            " [0.00000000e+00 6.66622827e-01]\n",
            " [0.00000000e+00 3.63947943e-01]\n",
            " [0.00000000e+00 5.11797171e-01]\n",
            " [0.00000000e+00 1.99271967e-01]\n",
            " [0.00000000e+00 1.47293220e-01]\n",
            " [0.00000000e+00 9.26091222e-01]\n",
            " [1.00000000e+00 9.10863722e-02]\n",
            " [0.00000000e+00 2.76881214e-01]\n",
            " [0.00000000e+00 6.04968194e-01]\n",
            " [0.00000000e+00 4.71302151e-02]\n",
            " [0.00000000e+00 6.82308342e-01]\n",
            " [0.00000000e+00 9.24740372e-01]\n",
            " [0.00000000e+00 8.78348207e-02]\n",
            " [0.00000000e+00 2.80857579e-01]\n",
            " [0.00000000e+00 3.87346957e-01]\n",
            " [0.00000000e+00 8.27002079e-01]\n",
            " [0.00000000e+00 2.07544075e-01]\n",
            " [0.00000000e+00 7.50100970e-01]\n",
            " [0.00000000e+00 4.90432168e-01]\n",
            " [0.00000000e+00 9.20902599e-01]\n",
            " [0.00000000e+00 8.13140527e-01]\n",
            " [0.00000000e+00 3.68908801e-01]\n",
            " [0.00000000e+00 7.91108018e-01]\n",
            " [0.00000000e+00 8.88491743e-01]] 0.05245667191451437\n"
          ]
        }
      ],
      "source": [
        "import numpy as np\n",
        "\n",
        "X = []\n",
        "Y = []\n",
        "for i in range(3000):\n",
        "    lst = np.random.rand(100)\n",
        "    idx = np.random.choice(100, 2, replace=False)\n",
        "    zeros = np.zeros(100)\n",
        "    zeros[idx] = 1\n",
        "    X.append(np.array(list(zip(zeros, lst))))\n",
        "    Y.append(np.prod(lst[idx]))\n",
        "\n",
        "print(X[0], Y[0])"
      ]
    },
    {
      "cell_type": "markdown",
      "source": [
        "# SimpleRNN 모델로 진행"
      ],
      "metadata": {
        "id": "p1rTawKKoDHv"
      }
    },
    {
      "cell_type": "code",
      "execution_count": 2,
      "metadata": {
        "colab": {
          "base_uri": "https://localhost:8080/"
        },
        "id": "W7sRGy2Qfanm",
        "outputId": "ded05d88-7804-43ef-e596-e270af0599ff"
      },
      "outputs": [
        {
          "output_type": "stream",
          "name": "stdout",
          "text": [
            "Model: \"sequential\"\n",
            "_________________________________________________________________\n",
            " Layer (type)                Output Shape              Param #   \n",
            "=================================================================\n",
            " simple_rnn (SimpleRNN)      (None, 100, 30)           990       \n",
            "                                                                 \n",
            " simple_rnn_1 (SimpleRNN)    (None, 30)                1830      \n",
            "                                                                 \n",
            " dense (Dense)               (None, 1)                 31        \n",
            "                                                                 \n",
            "=================================================================\n",
            "Total params: 2,851\n",
            "Trainable params: 2,851\n",
            "Non-trainable params: 0\n",
            "_________________________________________________________________\n"
          ]
        }
      ],
      "source": [
        "import tensorflow as tf\n",
        "\n",
        "model = tf.keras.Sequential([\n",
        "    tf.keras.layers.SimpleRNN(units=30, return_sequences=True, input_shape=[100,2]),\n",
        "    tf.keras.layers.SimpleRNN(units=30),\n",
        "    tf.keras.layers.Dense(1)\n",
        "])\n",
        "\n",
        "model.compile(optimizer='adam', loss='mse')\n",
        "model.summary()"
      ]
    },
    {
      "cell_type": "code",
      "execution_count": 3,
      "metadata": {
        "colab": {
          "base_uri": "https://localhost:8080/"
        },
        "id": "IcIiyfugfanm",
        "outputId": "6bd5e9ba-c11e-435c-c781-ceb68ac3f4d2"
      },
      "outputs": [
        {
          "output_type": "stream",
          "name": "stdout",
          "text": [
            "Epoch 1/100\n",
            "64/64 [==============================] - 11s 118ms/step - loss: 0.0782 - val_loss: 0.0540\n",
            "Epoch 2/100\n",
            "64/64 [==============================] - 7s 116ms/step - loss: 0.0501 - val_loss: 0.0525\n",
            "Epoch 3/100\n",
            "64/64 [==============================] - 7s 114ms/step - loss: 0.0496 - val_loss: 0.0553\n",
            "Epoch 4/100\n",
            "64/64 [==============================] - 9s 145ms/step - loss: 0.0503 - val_loss: 0.0522\n",
            "Epoch 5/100\n",
            "64/64 [==============================] - 9s 143ms/step - loss: 0.0497 - val_loss: 0.0497\n",
            "Epoch 6/100\n",
            "64/64 [==============================] - 14s 222ms/step - loss: 0.0486 - val_loss: 0.0505\n",
            "Epoch 7/100\n",
            "64/64 [==============================] - 15s 229ms/step - loss: 0.0483 - val_loss: 0.0504\n",
            "Epoch 8/100\n",
            "64/64 [==============================] - 13s 208ms/step - loss: 0.0498 - val_loss: 0.0505\n",
            "Epoch 9/100\n",
            "64/64 [==============================] - 11s 163ms/step - loss: 0.0486 - val_loss: 0.0523\n",
            "Epoch 10/100\n",
            "64/64 [==============================] - 10s 154ms/step - loss: 0.0485 - val_loss: 0.0545\n",
            "Epoch 11/100\n",
            "64/64 [==============================] - 7s 116ms/step - loss: 0.0479 - val_loss: 0.0497\n",
            "Epoch 12/100\n",
            "64/64 [==============================] - 7s 115ms/step - loss: 0.0479 - val_loss: 0.0539\n",
            "Epoch 13/100\n",
            "64/64 [==============================] - 7s 115ms/step - loss: 0.0482 - val_loss: 0.0523\n",
            "Epoch 14/100\n",
            "64/64 [==============================] - 7s 115ms/step - loss: 0.0469 - val_loss: 0.0507\n",
            "Epoch 15/100\n",
            "64/64 [==============================] - 8s 127ms/step - loss: 0.0467 - val_loss: 0.0510\n",
            "Epoch 16/100\n",
            "64/64 [==============================] - 7s 115ms/step - loss: 0.0478 - val_loss: 0.0541\n",
            "Epoch 17/100\n",
            "64/64 [==============================] - 7s 116ms/step - loss: 0.0474 - val_loss: 0.0516\n",
            "Epoch 18/100\n",
            "64/64 [==============================] - 7s 117ms/step - loss: 0.0467 - val_loss: 0.0525\n",
            "Epoch 19/100\n",
            "64/64 [==============================] - 7s 116ms/step - loss: 0.0466 - val_loss: 0.0527\n",
            "Epoch 20/100\n",
            "64/64 [==============================] - 8s 119ms/step - loss: 0.0485 - val_loss: 0.0537\n",
            "Epoch 21/100\n",
            "64/64 [==============================] - 8s 127ms/step - loss: 0.0465 - val_loss: 0.0518\n",
            "Epoch 22/100\n",
            "64/64 [==============================] - 8s 117ms/step - loss: 0.0462 - val_loss: 0.0584\n",
            "Epoch 23/100\n",
            "64/64 [==============================] - 8s 123ms/step - loss: 0.0481 - val_loss: 0.0528\n",
            "Epoch 24/100\n",
            "64/64 [==============================] - 7s 115ms/step - loss: 0.0459 - val_loss: 0.0521\n",
            "Epoch 25/100\n",
            "64/64 [==============================] - 7s 113ms/step - loss: 0.0461 - val_loss: 0.0537\n",
            "Epoch 26/100\n",
            "64/64 [==============================] - 7s 116ms/step - loss: 0.0454 - val_loss: 0.0531\n",
            "Epoch 27/100\n",
            "64/64 [==============================] - 7s 117ms/step - loss: 0.0452 - val_loss: 0.0536\n",
            "Epoch 28/100\n",
            "64/64 [==============================] - 7s 116ms/step - loss: 0.0455 - val_loss: 0.0531\n",
            "Epoch 29/100\n",
            "64/64 [==============================] - 7s 114ms/step - loss: 0.0455 - val_loss: 0.0536\n",
            "Epoch 30/100\n",
            "64/64 [==============================] - 7s 117ms/step - loss: 0.0444 - val_loss: 0.0565\n",
            "Epoch 31/100\n",
            "64/64 [==============================] - 7s 117ms/step - loss: 0.0451 - val_loss: 0.0559\n",
            "Epoch 32/100\n",
            "64/64 [==============================] - 7s 116ms/step - loss: 0.0443 - val_loss: 0.0577\n",
            "Epoch 33/100\n",
            "64/64 [==============================] - 7s 115ms/step - loss: 0.0438 - val_loss: 0.0587\n",
            "Epoch 34/100\n",
            "64/64 [==============================] - 7s 116ms/step - loss: 0.0443 - val_loss: 0.0555\n",
            "Epoch 35/100\n",
            "64/64 [==============================] - 7s 117ms/step - loss: 0.0439 - val_loss: 0.0556\n",
            "Epoch 36/100\n",
            "64/64 [==============================] - 7s 115ms/step - loss: 0.0437 - val_loss: 0.0551\n",
            "Epoch 37/100\n",
            "64/64 [==============================] - 7s 114ms/step - loss: 0.0445 - val_loss: 0.0555\n",
            "Epoch 38/100\n",
            "64/64 [==============================] - 7s 116ms/step - loss: 0.0426 - val_loss: 0.0550\n",
            "Epoch 39/100\n",
            "64/64 [==============================] - 7s 116ms/step - loss: 0.0432 - val_loss: 0.0552\n",
            "Epoch 40/100\n",
            "64/64 [==============================] - 7s 115ms/step - loss: 0.0430 - val_loss: 0.0573\n",
            "Epoch 41/100\n",
            "64/64 [==============================] - 7s 115ms/step - loss: 0.0421 - val_loss: 0.0580\n",
            "Epoch 42/100\n",
            "64/64 [==============================] - 7s 114ms/step - loss: 0.0425 - val_loss: 0.0590\n",
            "Epoch 43/100\n",
            "64/64 [==============================] - 7s 115ms/step - loss: 0.0426 - val_loss: 0.0588\n",
            "Epoch 44/100\n",
            "64/64 [==============================] - 7s 116ms/step - loss: 0.0420 - val_loss: 0.0561\n",
            "Epoch 45/100\n",
            "64/64 [==============================] - 7s 116ms/step - loss: 0.0410 - val_loss: 0.0576\n",
            "Epoch 46/100\n",
            "64/64 [==============================] - 7s 116ms/step - loss: 0.0410 - val_loss: 0.0559\n",
            "Epoch 47/100\n",
            "64/64 [==============================] - 7s 113ms/step - loss: 0.0406 - val_loss: 0.0580\n",
            "Epoch 48/100\n",
            "64/64 [==============================] - 7s 116ms/step - loss: 0.0402 - val_loss: 0.0575\n",
            "Epoch 49/100\n",
            "64/64 [==============================] - 7s 117ms/step - loss: 0.0405 - val_loss: 0.0573\n",
            "Epoch 50/100\n",
            "64/64 [==============================] - 7s 115ms/step - loss: 0.0403 - val_loss: 0.0612\n",
            "Epoch 51/100\n",
            "64/64 [==============================] - 7s 116ms/step - loss: 0.0394 - val_loss: 0.0606\n",
            "Epoch 52/100\n",
            "64/64 [==============================] - 7s 115ms/step - loss: 0.0392 - val_loss: 0.0616\n",
            "Epoch 53/100\n",
            "64/64 [==============================] - 7s 114ms/step - loss: 0.0389 - val_loss: 0.0598\n",
            "Epoch 54/100\n",
            "64/64 [==============================] - 7s 116ms/step - loss: 0.0392 - val_loss: 0.0600\n",
            "Epoch 55/100\n",
            "64/64 [==============================] - 7s 115ms/step - loss: 0.0380 - val_loss: 0.0615\n",
            "Epoch 56/100\n",
            "64/64 [==============================] - 8s 128ms/step - loss: 0.0377 - val_loss: 0.0609\n",
            "Epoch 57/100\n",
            "64/64 [==============================] - 7s 117ms/step - loss: 0.0386 - val_loss: 0.0604\n",
            "Epoch 58/100\n",
            "64/64 [==============================] - 7s 116ms/step - loss: 0.0367 - val_loss: 0.0628\n",
            "Epoch 59/100\n",
            "64/64 [==============================] - 7s 116ms/step - loss: 0.0368 - val_loss: 0.0621\n",
            "Epoch 60/100\n",
            "64/64 [==============================] - 7s 115ms/step - loss: 0.0372 - val_loss: 0.0648\n",
            "Epoch 61/100\n",
            "64/64 [==============================] - 7s 115ms/step - loss: 0.0360 - val_loss: 0.0613\n",
            "Epoch 62/100\n",
            "64/64 [==============================] - 7s 114ms/step - loss: 0.0360 - val_loss: 0.0661\n",
            "Epoch 63/100\n",
            "64/64 [==============================] - 7s 113ms/step - loss: 0.0358 - val_loss: 0.0619\n",
            "Epoch 64/100\n",
            "64/64 [==============================] - 7s 116ms/step - loss: 0.0348 - val_loss: 0.0623\n",
            "Epoch 65/100\n",
            "64/64 [==============================] - 7s 116ms/step - loss: 0.0356 - val_loss: 0.0624\n",
            "Epoch 66/100\n",
            "64/64 [==============================] - 7s 115ms/step - loss: 0.0339 - val_loss: 0.0628\n",
            "Epoch 67/100\n",
            "64/64 [==============================] - 7s 115ms/step - loss: 0.0338 - val_loss: 0.0646\n",
            "Epoch 68/100\n",
            "64/64 [==============================] - 7s 113ms/step - loss: 0.0343 - val_loss: 0.0619\n",
            "Epoch 69/100\n",
            "64/64 [==============================] - 7s 114ms/step - loss: 0.0346 - val_loss: 0.0650\n",
            "Epoch 70/100\n",
            "64/64 [==============================] - 7s 114ms/step - loss: 0.0324 - val_loss: 0.0659\n",
            "Epoch 71/100\n",
            "64/64 [==============================] - 7s 115ms/step - loss: 0.0326 - val_loss: 0.0689\n",
            "Epoch 72/100\n",
            "64/64 [==============================] - 7s 114ms/step - loss: 0.0317 - val_loss: 0.0668\n",
            "Epoch 73/100\n",
            "64/64 [==============================] - 7s 114ms/step - loss: 0.0318 - val_loss: 0.0668\n",
            "Epoch 74/100\n",
            "64/64 [==============================] - 7s 114ms/step - loss: 0.0311 - val_loss: 0.0655\n",
            "Epoch 75/100\n",
            "64/64 [==============================] - 7s 115ms/step - loss: 0.0306 - val_loss: 0.0666\n",
            "Epoch 76/100\n",
            "64/64 [==============================] - 7s 115ms/step - loss: 0.0307 - val_loss: 0.0652\n",
            "Epoch 77/100\n",
            "64/64 [==============================] - 7s 115ms/step - loss: 0.0298 - val_loss: 0.0669\n",
            "Epoch 78/100\n",
            "64/64 [==============================] - 7s 117ms/step - loss: 0.0295 - val_loss: 0.0659\n",
            "Epoch 79/100\n",
            "64/64 [==============================] - 7s 116ms/step - loss: 0.0290 - val_loss: 0.0728\n",
            "Epoch 80/100\n",
            "64/64 [==============================] - 7s 116ms/step - loss: 0.0290 - val_loss: 0.0644\n",
            "Epoch 81/100\n",
            "64/64 [==============================] - 7s 115ms/step - loss: 0.0281 - val_loss: 0.0714\n",
            "Epoch 82/100\n",
            "64/64 [==============================] - 7s 116ms/step - loss: 0.0278 - val_loss: 0.0704\n",
            "Epoch 83/100\n",
            "64/64 [==============================] - 8s 119ms/step - loss: 0.0281 - val_loss: 0.0709\n",
            "Epoch 84/100\n",
            "64/64 [==============================] - 7s 116ms/step - loss: 0.0278 - val_loss: 0.0722\n",
            "Epoch 85/100\n",
            "64/64 [==============================] - 7s 117ms/step - loss: 0.0266 - val_loss: 0.0694\n",
            "Epoch 86/100\n",
            "64/64 [==============================] - 7s 115ms/step - loss: 0.0262 - val_loss: 0.0721\n",
            "Epoch 87/100\n",
            "64/64 [==============================] - 7s 114ms/step - loss: 0.0268 - val_loss: 0.0697\n",
            "Epoch 88/100\n",
            "64/64 [==============================] - 7s 114ms/step - loss: 0.0252 - val_loss: 0.0750\n",
            "Epoch 89/100\n",
            "64/64 [==============================] - 7s 111ms/step - loss: 0.0259 - val_loss: 0.0711\n",
            "Epoch 90/100\n",
            "64/64 [==============================] - 7s 114ms/step - loss: 0.0251 - val_loss: 0.0717\n",
            "Epoch 91/100\n",
            "64/64 [==============================] - 7s 113ms/step - loss: 0.0246 - val_loss: 0.0723\n",
            "Epoch 92/100\n",
            "64/64 [==============================] - 7s 113ms/step - loss: 0.0237 - val_loss: 0.0686\n",
            "Epoch 93/100\n",
            "64/64 [==============================] - 7s 112ms/step - loss: 0.0244 - val_loss: 0.0728\n",
            "Epoch 94/100\n",
            "64/64 [==============================] - 7s 115ms/step - loss: 0.0231 - val_loss: 0.0737\n",
            "Epoch 95/100\n",
            "64/64 [==============================] - 7s 113ms/step - loss: 0.0242 - val_loss: 0.0749\n",
            "Epoch 96/100\n",
            "64/64 [==============================] - 8s 123ms/step - loss: 0.0221 - val_loss: 0.0717\n",
            "Epoch 97/100\n",
            "64/64 [==============================] - 7s 112ms/step - loss: 0.0243 - val_loss: 0.0726\n",
            "Epoch 98/100\n",
            "64/64 [==============================] - 7s 112ms/step - loss: 0.0227 - val_loss: 0.0727\n",
            "Epoch 99/100\n",
            "64/64 [==============================] - 7s 113ms/step - loss: 0.0226 - val_loss: 0.0716\n",
            "Epoch 100/100\n",
            "64/64 [==============================] - 7s 113ms/step - loss: 0.0216 - val_loss: 0.0741\n"
          ]
        }
      ],
      "source": [
        "# 훈련\n",
        "X = np.array(X)\n",
        "Y = np.array(Y)\n",
        "\n",
        "history = model.fit(X[:2560], Y[:2560], epochs=100, validation_split=0.2)"
      ]
    },
    {
      "cell_type": "code",
      "execution_count": 4,
      "metadata": {
        "colab": {
          "base_uri": "https://localhost:8080/",
          "height": 280
        },
        "id": "0YwiZQ7sfann",
        "outputId": "b4124d2a-ae4b-4c6c-e77c-e9a366d18ec4"
      },
      "outputs": [
        {
          "output_type": "display_data",
          "data": {
            "text/plain": [
              "<Figure size 432x288 with 1 Axes>"
            ],
            "image/png": "[encoded data removed]"
          },
          "metadata": {
            "needs_background": "light"
          }
        }
      ],
      "source": [
        "import matplotlib.pyplot as plt\n",
        "%matplotlib inline\n",
        "\n",
        "plt.plot(history.history['loss'], 'b-', label = 'loss')\n",
        "plt.plot(history.history['val_loss'], 'r--', label='val_loss')\n",
        "plt.xlabel('Epoch')\n",
        "plt.legend()\n",
        "plt.show()"
      ]
    },
    {
      "cell_type": "markdown",
      "source": [
        "> ### 학습 결과는 별로 좋지 않음"
      ],
      "metadata": {
        "id": "aM6YYKxNn1aE"
      }
    },
    {
      "cell_type": "markdown",
      "source": [
        "--------------------------\n",
        "# LSTM 으로 해보자"
      ],
      "metadata": {
        "id": "6Xf-2lJen5k2"
      }
    },
    {
      "cell_type": "code",
      "source": [
        "model = tf.keras.Sequential([\n",
        "                             tf.keras.layers.LSTM(units=30, return_sequences=True, input_shape=[100,2]),\n",
        "                             tf.keras.layers.LSTM(units=30),\n",
        "                             tf.keras.layers.Dense(1)\n",
        "])\n",
        "\n",
        "model.compile(optimizer='adam', loss='mse')\n",
        "model.summary()"
      ],
      "metadata": {
        "colab": {
          "base_uri": "https://localhost:8080/"
        },
        "id": "mmUIHMEwoGPd",
        "outputId": "da6c31bd-72ae-47e7-f403-61ee5396b360"
      },
      "execution_count": 5,
      "outputs": [
        {
          "output_type": "stream",
          "name": "stdout",
          "text": [
            "Model: \"sequential_1\"\n",
            "_________________________________________________________________\n",
            " Layer (type)                Output Shape              Param #   \n",
            "=================================================================\n",
            " lstm (LSTM)                 (None, 100, 30)           3960      \n",
            "                                                                 \n",
            " lstm_1 (LSTM)               (None, 30)                7320      \n",
            "                                                                 \n",
            " dense_1 (Dense)             (None, 1)                 31        \n",
            "                                                                 \n",
            "=================================================================\n",
            "Total params: 11,311\n",
            "Trainable params: 11,311\n",
            "Non-trainable params: 0\n",
            "_________________________________________________________________\n"
          ]
        }
      ]
    },
    {
      "cell_type": "code",
      "source": [
        "# Fit\n",
        "X = np.array(X)\n",
        "Y = np.array(Y)\n",
        "history = model.fit(X[:2560], Y[:2560], epochs=100, validation_split = 0.2)"
      ],
      "metadata": {
        "colab": {
          "base_uri": "https://localhost:8080/"
        },
        "id": "JjrKe7L1oThC",
        "outputId": "53a5f5f7-d477-436f-8956-758abd985166"
      },
      "execution_count": 6,
      "outputs": [
        {
          "output_type": "stream",
          "name": "stdout",
          "text": [
            "Epoch 1/100\n",
            "64/64 [==============================] - 6s 22ms/step - loss: 0.0522 - val_loss: 0.0497\n",
            "Epoch 2/100\n",
            "64/64 [==============================] - 1s 10ms/step - loss: 0.0478 - val_loss: 0.0492\n",
            "Epoch 3/100\n",
            "64/64 [==============================] - 1s 10ms/step - loss: 0.0480 - val_loss: 0.0495\n",
            "Epoch 4/100\n",
            "64/64 [==============================] - 1s 10ms/step - loss: 0.0478 - val_loss: 0.0492\n",
            "Epoch 5/100\n",
            "64/64 [==============================] - 1s 10ms/step - loss: 0.0480 - val_loss: 0.0492\n",
            "Epoch 6/100\n",
            "64/64 [==============================] - 1s 10ms/step - loss: 0.0478 - val_loss: 0.0493\n",
            "Epoch 7/100\n",
            "64/64 [==============================] - 1s 11ms/step - loss: 0.0478 - val_loss: 0.0492\n",
            "Epoch 8/100\n",
            "64/64 [==============================] - 1s 11ms/step - loss: 0.0478 - val_loss: 0.0491\n",
            "Epoch 9/100\n",
            "64/64 [==============================] - 1s 10ms/step - loss: 0.0476 - val_loss: 0.0491\n",
            "Epoch 10/100\n",
            "64/64 [==============================] - 1s 10ms/step - loss: 0.0479 - val_loss: 0.0495\n",
            "Epoch 11/100\n",
            "64/64 [==============================] - 1s 10ms/step - loss: 0.0477 - val_loss: 0.0490\n",
            "Epoch 12/100\n",
            "64/64 [==============================] - 1s 10ms/step - loss: 0.0476 - val_loss: 0.0490\n",
            "Epoch 13/100\n",
            "64/64 [==============================] - 1s 11ms/step - loss: 0.0478 - val_loss: 0.0492\n",
            "Epoch 14/100\n",
            "64/64 [==============================] - 1s 11ms/step - loss: 0.0477 - val_loss: 0.0493\n",
            "Epoch 15/100\n",
            "64/64 [==============================] - 1s 10ms/step - loss: 0.0475 - val_loss: 0.0496\n",
            "Epoch 16/100\n",
            "64/64 [==============================] - 1s 10ms/step - loss: 0.0474 - val_loss: 0.0490\n",
            "Epoch 17/100\n",
            "64/64 [==============================] - 1s 10ms/step - loss: 0.0475 - val_loss: 0.0490\n",
            "Epoch 18/100\n",
            "64/64 [==============================] - 1s 10ms/step - loss: 0.0471 - val_loss: 0.0493\n",
            "Epoch 19/100\n",
            "64/64 [==============================] - 1s 10ms/step - loss: 0.0470 - val_loss: 0.0489\n",
            "Epoch 20/100\n",
            "64/64 [==============================] - 1s 10ms/step - loss: 0.0473 - val_loss: 0.0488\n",
            "Epoch 21/100\n",
            "64/64 [==============================] - 1s 11ms/step - loss: 0.0470 - val_loss: 0.0495\n",
            "Epoch 22/100\n",
            "64/64 [==============================] - 1s 10ms/step - loss: 0.0465 - val_loss: 0.0485\n",
            "Epoch 23/100\n",
            "64/64 [==============================] - 1s 10ms/step - loss: 0.0465 - val_loss: 0.0487\n",
            "Epoch 24/100\n",
            "64/64 [==============================] - 1s 10ms/step - loss: 0.0466 - val_loss: 0.0488\n",
            "Epoch 25/100\n",
            "64/64 [==============================] - 1s 10ms/step - loss: 0.0440 - val_loss: 0.0502\n",
            "Epoch 26/100\n",
            "64/64 [==============================] - 1s 10ms/step - loss: 0.0424 - val_loss: 0.0404\n",
            "Epoch 27/100\n",
            "64/64 [==============================] - 1s 10ms/step - loss: 0.0378 - val_loss: 0.0363\n",
            "Epoch 28/100\n",
            "64/64 [==============================] - 1s 11ms/step - loss: 0.0335 - val_loss: 0.0272\n",
            "Epoch 29/100\n",
            "64/64 [==============================] - 1s 10ms/step - loss: 0.0185 - val_loss: 0.0143\n",
            "Epoch 30/100\n",
            "64/64 [==============================] - 1s 11ms/step - loss: 0.0095 - val_loss: 0.0057\n",
            "Epoch 31/100\n",
            "64/64 [==============================] - 1s 10ms/step - loss: 0.0065 - val_loss: 0.0041\n",
            "Epoch 32/100\n",
            "64/64 [==============================] - 1s 10ms/step - loss: 0.0060 - val_loss: 0.0036\n",
            "Epoch 33/100\n",
            "64/64 [==============================] - 1s 10ms/step - loss: 0.0048 - val_loss: 0.0028\n",
            "Epoch 34/100\n",
            "64/64 [==============================] - 1s 10ms/step - loss: 0.0033 - val_loss: 0.0019\n",
            "Epoch 35/100\n",
            "64/64 [==============================] - 1s 10ms/step - loss: 0.0025 - val_loss: 0.0028\n",
            "Epoch 36/100\n",
            "64/64 [==============================] - 1s 10ms/step - loss: 0.0028 - val_loss: 0.0017\n",
            "Epoch 37/100\n",
            "64/64 [==============================] - 1s 10ms/step - loss: 0.0026 - val_loss: 0.0015\n",
            "Epoch 38/100\n",
            "64/64 [==============================] - 1s 10ms/step - loss: 0.0028 - val_loss: 0.0014\n",
            "Epoch 39/100\n",
            "64/64 [==============================] - 1s 10ms/step - loss: 0.0017 - val_loss: 0.0019\n",
            "Epoch 40/100\n",
            "64/64 [==============================] - 1s 10ms/step - loss: 0.0014 - val_loss: 9.2143e-04\n",
            "Epoch 41/100\n",
            "64/64 [==============================] - 1s 11ms/step - loss: 0.0016 - val_loss: 0.0031\n",
            "Epoch 42/100\n",
            "64/64 [==============================] - 1s 10ms/step - loss: 0.0014 - val_loss: 0.0012\n",
            "Epoch 43/100\n",
            "64/64 [==============================] - 1s 10ms/step - loss: 0.0013 - val_loss: 7.7907e-04\n",
            "Epoch 44/100\n",
            "64/64 [==============================] - 1s 11ms/step - loss: 0.0015 - val_loss: 0.0011\n",
            "Epoch 45/100\n",
            "64/64 [==============================] - 1s 10ms/step - loss: 0.0011 - val_loss: 8.5501e-04\n",
            "Epoch 46/100\n",
            "64/64 [==============================] - 1s 11ms/step - loss: 0.0011 - val_loss: 9.8998e-04\n",
            "Epoch 47/100\n",
            "64/64 [==============================] - 1s 10ms/step - loss: 0.0013 - val_loss: 9.6922e-04\n",
            "Epoch 48/100\n",
            "64/64 [==============================] - 1s 10ms/step - loss: 0.0011 - val_loss: 7.1377e-04\n",
            "Epoch 49/100\n",
            "64/64 [==============================] - 1s 10ms/step - loss: 9.6966e-04 - val_loss: 7.6097e-04\n",
            "Epoch 50/100\n",
            "64/64 [==============================] - 1s 10ms/step - loss: 0.0010 - val_loss: 7.2178e-04\n",
            "Epoch 51/100\n",
            "64/64 [==============================] - 1s 10ms/step - loss: 8.3327e-04 - val_loss: 0.0017\n",
            "Epoch 52/100\n",
            "64/64 [==============================] - 1s 10ms/step - loss: 8.5004e-04 - val_loss: 7.5011e-04\n",
            "Epoch 53/100\n",
            "64/64 [==============================] - 1s 11ms/step - loss: 6.4707e-04 - val_loss: 8.7270e-04\n",
            "Epoch 54/100\n",
            "64/64 [==============================] - 1s 10ms/step - loss: 6.7659e-04 - val_loss: 8.4344e-04\n",
            "Epoch 55/100\n",
            "64/64 [==============================] - 1s 10ms/step - loss: 9.6788e-04 - val_loss: 9.5388e-04\n",
            "Epoch 56/100\n",
            "64/64 [==============================] - 1s 10ms/step - loss: 7.1462e-04 - val_loss: 4.9412e-04\n",
            "Epoch 57/100\n",
            "64/64 [==============================] - 1s 10ms/step - loss: 7.2732e-04 - val_loss: 6.1095e-04\n",
            "Epoch 58/100\n",
            "64/64 [==============================] - 1s 11ms/step - loss: 5.1400e-04 - val_loss: 4.6300e-04\n",
            "Epoch 59/100\n",
            "64/64 [==============================] - 1s 11ms/step - loss: 5.0816e-04 - val_loss: 5.8074e-04\n",
            "Epoch 60/100\n",
            "64/64 [==============================] - 1s 10ms/step - loss: 7.2352e-04 - val_loss: 7.2853e-04\n",
            "Epoch 61/100\n",
            "64/64 [==============================] - 1s 10ms/step - loss: 4.8097e-04 - val_loss: 3.2649e-04\n",
            "Epoch 62/100\n",
            "64/64 [==============================] - 1s 10ms/step - loss: 4.7965e-04 - val_loss: 6.7941e-04\n",
            "Epoch 63/100\n",
            "64/64 [==============================] - 1s 10ms/step - loss: 5.7805e-04 - val_loss: 3.3644e-04\n",
            "Epoch 64/100\n",
            "64/64 [==============================] - 1s 10ms/step - loss: 3.7197e-04 - val_loss: 3.1232e-04\n",
            "Epoch 65/100\n",
            "64/64 [==============================] - 1s 11ms/step - loss: 4.2645e-04 - val_loss: 4.5685e-04\n",
            "Epoch 66/100\n",
            "64/64 [==============================] - 1s 10ms/step - loss: 3.9913e-04 - val_loss: 2.9130e-04\n",
            "Epoch 67/100\n",
            "64/64 [==============================] - 1s 10ms/step - loss: 5.5261e-04 - val_loss: 3.7993e-04\n",
            "Epoch 68/100\n",
            "64/64 [==============================] - 1s 10ms/step - loss: 3.2069e-04 - val_loss: 5.8314e-04\n",
            "Epoch 69/100\n",
            "64/64 [==============================] - 1s 10ms/step - loss: 5.3105e-04 - val_loss: 3.3818e-04\n",
            "Epoch 70/100\n",
            "64/64 [==============================] - 1s 10ms/step - loss: 5.0012e-04 - val_loss: 2.6564e-04\n",
            "Epoch 71/100\n",
            "64/64 [==============================] - 1s 10ms/step - loss: 3.7227e-04 - val_loss: 3.3877e-04\n",
            "Epoch 72/100\n",
            "64/64 [==============================] - 1s 10ms/step - loss: 3.5681e-04 - val_loss: 4.7634e-04\n",
            "Epoch 73/100\n",
            "64/64 [==============================] - 1s 10ms/step - loss: 5.4897e-04 - val_loss: 3.8089e-04\n",
            "Epoch 74/100\n",
            "64/64 [==============================] - 1s 10ms/step - loss: 3.6119e-04 - val_loss: 2.4754e-04\n",
            "Epoch 75/100\n",
            "64/64 [==============================] - 1s 10ms/step - loss: 2.7943e-04 - val_loss: 2.4775e-04\n",
            "Epoch 76/100\n",
            "64/64 [==============================] - 1s 10ms/step - loss: 2.8464e-04 - val_loss: 2.2130e-04\n",
            "Epoch 77/100\n",
            "64/64 [==============================] - 1s 10ms/step - loss: 0.0012 - val_loss: 3.6675e-04\n",
            "Epoch 78/100\n",
            "64/64 [==============================] - 1s 10ms/step - loss: 5.8112e-04 - val_loss: 2.8277e-04\n",
            "Epoch 79/100\n",
            "64/64 [==============================] - 1s 10ms/step - loss: 2.2045e-04 - val_loss: 2.3938e-04\n",
            "Epoch 80/100\n",
            "64/64 [==============================] - 1s 10ms/step - loss: 5.4213e-04 - val_loss: 0.0010\n",
            "Epoch 81/100\n",
            "64/64 [==============================] - 1s 10ms/step - loss: 2.8656e-04 - val_loss: 2.2066e-04\n",
            "Epoch 82/100\n",
            "64/64 [==============================] - 1s 10ms/step - loss: 2.7738e-04 - val_loss: 3.9826e-04\n",
            "Epoch 83/100\n",
            "64/64 [==============================] - 1s 10ms/step - loss: 2.1659e-04 - val_loss: 3.9479e-04\n",
            "Epoch 84/100\n",
            "64/64 [==============================] - 1s 10ms/step - loss: 3.2683e-04 - val_loss: 3.3838e-04\n",
            "Epoch 85/100\n",
            "64/64 [==============================] - 1s 11ms/step - loss: 4.5085e-04 - val_loss: 3.0328e-04\n",
            "Epoch 86/100\n",
            "64/64 [==============================] - 1s 10ms/step - loss: 7.1421e-04 - val_loss: 2.2267e-04\n",
            "Epoch 87/100\n",
            "64/64 [==============================] - 1s 10ms/step - loss: 3.3866e-04 - val_loss: 4.5859e-04\n",
            "Epoch 88/100\n",
            "64/64 [==============================] - 1s 10ms/step - loss: 2.6636e-04 - val_loss: 5.9434e-04\n",
            "Epoch 89/100\n",
            "64/64 [==============================] - 1s 10ms/step - loss: 2.7400e-04 - val_loss: 3.7464e-04\n",
            "Epoch 90/100\n",
            "64/64 [==============================] - 1s 10ms/step - loss: 6.6932e-04 - val_loss: 6.8867e-04\n",
            "Epoch 91/100\n",
            "64/64 [==============================] - 1s 10ms/step - loss: 2.7556e-04 - val_loss: 1.7636e-04\n",
            "Epoch 92/100\n",
            "64/64 [==============================] - 1s 10ms/step - loss: 2.0228e-04 - val_loss: 1.5941e-04\n",
            "Epoch 93/100\n",
            "64/64 [==============================] - 1s 10ms/step - loss: 2.2721e-04 - val_loss: 2.1195e-04\n",
            "Epoch 94/100\n",
            "64/64 [==============================] - 1s 10ms/step - loss: 3.2305e-04 - val_loss: 1.6360e-04\n",
            "Epoch 95/100\n",
            "64/64 [==============================] - 1s 11ms/step - loss: 2.2524e-04 - val_loss: 4.1067e-04\n",
            "Epoch 96/100\n",
            "64/64 [==============================] - 1s 11ms/step - loss: 4.3802e-04 - val_loss: 1.9885e-04\n",
            "Epoch 97/100\n",
            "64/64 [==============================] - 1s 10ms/step - loss: 5.4112e-04 - val_loss: 2.8260e-04\n",
            "Epoch 98/100\n",
            "64/64 [==============================] - 1s 11ms/step - loss: 2.5728e-04 - val_loss: 1.5271e-04\n",
            "Epoch 99/100\n",
            "64/64 [==============================] - 1s 10ms/step - loss: 4.6635e-04 - val_loss: 4.6727e-04\n",
            "Epoch 100/100\n",
            "64/64 [==============================] - 1s 10ms/step - loss: 4.7820e-04 - val_loss: 2.0264e-04\n"
          ]
        }
      ]
    },
    {
      "cell_type": "code",
      "source": [
        "# evaluate\n",
        "plt.plot(history.history['loss'], 'b-', label = 'loss')\n",
        "plt.plot(history.history['val_loss'], 'r--', label = 'val_loss')\n",
        "plt.xlabel('Epoch')\n",
        "plt.legend()\n",
        "plt.show()"
      ],
      "metadata": {
        "colab": {
          "base_uri": "https://localhost:8080/",
          "height": 279
        },
        "id": "zXIbdPS-osDD",
        "outputId": "a11a6b16-0207-46ec-928e-7a1be494a294"
      },
      "execution_count": 7,
      "outputs": [
        {
          "output_type": "display_data",
          "data": {
            "text/plain": [
              "<Figure size 432x288 with 1 Axes>"
            ],
            "image/png": "[encoded data removed]"
          },
          "metadata": {
            "needs_background": "light"
          }
        }
      ]
    },
    {
      "cell_type": "markdown",
      "source": [
        "> ### SimpleRNN 보다 결과가 좋아진 것을 볼 수 있다."
      ],
      "metadata": {
        "id": "s-LjLmyipsCo"
      }
    },
    {
      "cell_type": "code",
      "source": [
        ""
      ],
      "metadata": {
        "id": "VLSoRz2ypwmR"
      },
      "execution_count": null,
      "outputs": []
    }
  ],
  "metadata": {
    "kernelspec": {
      "display_name": "Python 3.8.13 ('tensorflow-dev')",
      "language": "python",
      "name": "python3"
    },
    "language_info": {
      "codemirror_mode": {
        "name": "ipython",
        "version": 3
      },
      "file_extension": ".py",
      "mimetype": "text/x-python",
      "name": "python",
      "nbconvert_exporter": "python",
      "pygments_lexer": "ipython3",
      "version": "3.8.13"
    },
    "orig_nbformat": 4,
    "vscode": {
      "interpreter": {
        "hash": "edf8c54a41a41a32cf49f70f45bd21c79eabf4cef1c0118d679d509e032472c8"
      }
    },
    "colab": {
      "name": "55_RNN - LSTM.ipynb",
      "provenance": [],
      "collapsed_sections": []
    },
    "accelerator": "GPU",
    "gpuClass": "standard"
  },
  "nbformat": 4,
  "nbformat_minor": 0
}
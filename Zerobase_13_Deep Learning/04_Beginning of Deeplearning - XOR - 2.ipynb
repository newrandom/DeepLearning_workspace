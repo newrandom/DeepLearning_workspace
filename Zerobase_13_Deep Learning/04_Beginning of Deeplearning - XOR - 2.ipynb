{
 "cells": [
  {
   "cell_type": "markdown",
   "metadata": {},
   "source": [
    "# 04_Beginning of Deeplearning - XOR - 2"
   ]
  },
  {
   "cell_type": "markdown",
   "metadata": {},
   "source": [
    "## `분류문제` 풀기"
   ]
  },
  {
   "cell_type": "code",
   "execution_count": 7,
   "metadata": {},
   "outputs": [],
   "source": [
    "from sklearn.datasets import load_iris\n",
    "\n",
    "iris = load_iris()\n",
    "\n",
    "X = iris.data\n",
    "y = iris.target"
   ]
  },
  {
   "cell_type": "code",
   "execution_count": 8,
   "metadata": {},
   "outputs": [
    {
     "data": {
      "text/plain": [
       "array([0, 0, 0, 0, 0, 0, 0, 0, 0, 0, 0, 0, 0, 0, 0, 0, 0, 0, 0, 0, 0, 0,\n",
       "       0, 0, 0, 0, 0, 0, 0, 0, 0, 0, 0, 0, 0, 0, 0, 0, 0, 0, 0, 0, 0, 0,\n",
       "       0, 0, 0, 0, 0, 0, 1, 1, 1, 1, 1, 1, 1, 1, 1, 1, 1, 1, 1, 1, 1, 1,\n",
       "       1, 1, 1, 1, 1, 1, 1, 1, 1, 1, 1, 1, 1, 1, 1, 1, 1, 1, 1, 1, 1, 1,\n",
       "       1, 1, 1, 1, 1, 1, 1, 1, 1, 1, 1, 1, 2, 2, 2, 2, 2, 2, 2, 2, 2, 2,\n",
       "       2, 2, 2, 2, 2, 2, 2, 2, 2, 2, 2, 2, 2, 2, 2, 2, 2, 2, 2, 2, 2, 2,\n",
       "       2, 2, 2, 2, 2, 2, 2, 2, 2, 2, 2, 2, 2, 2, 2, 2, 2, 2])"
      ]
     },
     "execution_count": 8,
     "metadata": {},
     "output_type": "execute_result"
    }
   ],
   "source": [
    "y"
   ]
  },
  {
   "cell_type": "markdown",
   "metadata": {},
   "source": [
    "# `One Hot Encoding`\n",
    "![](./lecture_image/04-01.png)"
   ]
  },
  {
   "cell_type": "code",
   "execution_count": 9,
   "metadata": {},
   "outputs": [
    {
     "data": {
      "text/html": [
       "<style>#sk-container-id-2 {color: black;background-color: white;}#sk-container-id-2 pre{padding: 0;}#sk-container-id-2 div.sk-toggleable {background-color: white;}#sk-container-id-2 label.sk-toggleable__label {cursor: pointer;display: block;width: 100%;margin-bottom: 0;padding: 0.3em;box-sizing: border-box;text-align: center;}#sk-container-id-2 label.sk-toggleable__label-arrow:before {content: \"▸\";float: left;margin-right: 0.25em;color: #696969;}#sk-container-id-2 label.sk-toggleable__label-arrow:hover:before {color: black;}#sk-container-id-2 div.sk-estimator:hover label.sk-toggleable__label-arrow:before {color: black;}#sk-container-id-2 div.sk-toggleable__content {max-height: 0;max-width: 0;overflow: hidden;text-align: left;background-color: #f0f8ff;}#sk-container-id-2 div.sk-toggleable__content pre {margin: 0.2em;color: black;border-radius: 0.25em;background-color: #f0f8ff;}#sk-container-id-2 input.sk-toggleable__control:checked~div.sk-toggleable__content {max-height: 200px;max-width: 100%;overflow: auto;}#sk-container-id-2 input.sk-toggleable__control:checked~label.sk-toggleable__label-arrow:before {content: \"▾\";}#sk-container-id-2 div.sk-estimator input.sk-toggleable__control:checked~label.sk-toggleable__label {background-color: #d4ebff;}#sk-container-id-2 div.sk-label input.sk-toggleable__control:checked~label.sk-toggleable__label {background-color: #d4ebff;}#sk-container-id-2 input.sk-hidden--visually {border: 0;clip: rect(1px 1px 1px 1px);clip: rect(1px, 1px, 1px, 1px);height: 1px;margin: -1px;overflow: hidden;padding: 0;position: absolute;width: 1px;}#sk-container-id-2 div.sk-estimator {font-family: monospace;background-color: #f0f8ff;border: 1px dotted black;border-radius: 0.25em;box-sizing: border-box;margin-bottom: 0.5em;}#sk-container-id-2 div.sk-estimator:hover {background-color: #d4ebff;}#sk-container-id-2 div.sk-parallel-item::after {content: \"\";width: 100%;border-bottom: 1px solid gray;flex-grow: 1;}#sk-container-id-2 div.sk-label:hover label.sk-toggleable__label {background-color: #d4ebff;}#sk-container-id-2 div.sk-serial::before {content: \"\";position: absolute;border-left: 1px solid gray;box-sizing: border-box;top: 0;bottom: 0;left: 50%;z-index: 0;}#sk-container-id-2 div.sk-serial {display: flex;flex-direction: column;align-items: center;background-color: white;padding-right: 0.2em;padding-left: 0.2em;position: relative;}#sk-container-id-2 div.sk-item {position: relative;z-index: 1;}#sk-container-id-2 div.sk-parallel {display: flex;align-items: stretch;justify-content: center;background-color: white;position: relative;}#sk-container-id-2 div.sk-item::before, #sk-container-id-2 div.sk-parallel-item::before {content: \"\";position: absolute;border-left: 1px solid gray;box-sizing: border-box;top: 0;bottom: 0;left: 50%;z-index: -1;}#sk-container-id-2 div.sk-parallel-item {display: flex;flex-direction: column;z-index: 1;position: relative;background-color: white;}#sk-container-id-2 div.sk-parallel-item:first-child::after {align-self: flex-end;width: 50%;}#sk-container-id-2 div.sk-parallel-item:last-child::after {align-self: flex-start;width: 50%;}#sk-container-id-2 div.sk-parallel-item:only-child::after {width: 0;}#sk-container-id-2 div.sk-dashed-wrapped {border: 1px dashed gray;margin: 0 0.4em 0.5em 0.4em;box-sizing: border-box;padding-bottom: 0.4em;background-color: white;}#sk-container-id-2 div.sk-label label {font-family: monospace;font-weight: bold;display: inline-block;line-height: 1.2em;}#sk-container-id-2 div.sk-label-container {text-align: center;}#sk-container-id-2 div.sk-container {/* jupyter's `normalize.less` sets `[hidden] { display: none; }` but bootstrap.min.css set `[hidden] { display: none !important; }` so we also need the `!important` here to be able to override the default hidden behavior on the sphinx rendered scikit-learn.org. See: https://github.com/scikit-learn/scikit-learn/issues/21755 */display: inline-block !important;position: relative;}#sk-container-id-2 div.sk-text-repr-fallback {display: none;}</style><div id=\"sk-container-id-2\" class=\"sk-top-container\"><div class=\"sk-text-repr-fallback\"><pre>OneHotEncoder(handle_unknown=&#x27;ignore&#x27;, sparse=False)</pre><b>In a Jupyter environment, please rerun this cell to show the HTML representation or trust the notebook. <br />On GitHub, the HTML representation is unable to render, please try loading this page with nbviewer.org.</b></div><div class=\"sk-container\" hidden><div class=\"sk-item\"><div class=\"sk-estimator sk-toggleable\"><input class=\"sk-toggleable__control sk-hidden--visually\" id=\"sk-estimator-id-2\" type=\"checkbox\" checked><label for=\"sk-estimator-id-2\" class=\"sk-toggleable__label sk-toggleable__label-arrow\">OneHotEncoder</label><div class=\"sk-toggleable__content\"><pre>OneHotEncoder(handle_unknown=&#x27;ignore&#x27;, sparse=False)</pre></div></div></div></div></div>"
      ],
      "text/plain": [
       "OneHotEncoder(handle_unknown='ignore', sparse=False)"
      ]
     },
     "execution_count": 9,
     "metadata": {},
     "output_type": "execute_result"
    }
   ],
   "source": [
    "# sklean의 one hot encoding\n",
    "from sklearn.preprocessing import OneHotEncoder\n",
    "\n",
    "enc = OneHotEncoder(sparse=False, handle_unknown='ignore')\n",
    "                    # sparse : Will return sparse matrix if set True else will return an array.\n",
    "                                    # handle_unknown :     Specifies the way unknown categories are handled during transform.\n",
    "                                        # 'error' : Raise an error if an unknown category is present during transform.\n",
    "                                        # 'ignore' : When an unknown category is encountered during transform, the resulting one-hot encoded columns for this feature will be all zeros. \n",
    "                                        #            In the inverse transform, an unknown category will be denoted as None.\n",
    "                                        # 'infrequent_if_exist' : When an unknown category is encountered during transform, the resulting one-hot encoded columns for this feature will map to the infrequent category if it exists. \n",
    "                                        #           The infrequent category will be mapped to the last position in the encoding. \n",
    "                                        #           During inverse transform, an unknown category will be mapped to the category denoted 'infrequent' if it exists. \n",
    "                                        #           If the 'infrequent' category does not exist, then transform and inverse_transform will handle an unknown category as with handle_unknown='ignore'. \n",
    "                                        #           Infrequent categories exist based on min_frequency and max_categories. Read more in the User Guide <one_hot_encoder_infrequent_categories>.\n",
    "\n",
    "enc.fit(y.reshape(len(y),1))"
   ]
  },
  {
   "cell_type": "code",
   "execution_count": 10,
   "metadata": {},
   "outputs": [
    {
     "data": {
      "text/plain": [
       "[array([0, 1, 2])]"
      ]
     },
     "execution_count": 10,
     "metadata": {},
     "output_type": "execute_result"
    }
   ],
   "source": [
    "enc.categories_"
   ]
  },
  {
   "cell_type": "code",
   "execution_count": 11,
   "metadata": {},
   "outputs": [
    {
     "data": {
      "text/plain": [
       "array([[1., 0., 0.],\n",
       "       [1., 0., 0.],\n",
       "       [1., 0., 0.]])"
      ]
     },
     "execution_count": 11,
     "metadata": {},
     "output_type": "execute_result"
    }
   ],
   "source": [
    "y_onehot = enc.transform(y.reshape(len(y),1))\n",
    "y_onehot[:3]    # vergicala"
   ]
  },
  {
   "cell_type": "code",
   "execution_count": 12,
   "metadata": {},
   "outputs": [],
   "source": [
    "# 데이터 나누기\n",
    "from sklearn.model_selection import train_test_split\n",
    "\n",
    "X_train, X_test, y_train, y_test = train_test_split(X, y_onehot, test_size=0.2, random_state=13)"
   ]
  },
  {
   "cell_type": "code",
   "execution_count": 14,
   "metadata": {},
   "outputs": [
    {
     "name": "stdout",
     "output_type": "stream",
     "text": [
      "Metal device set to: Apple M1\n",
      "\n",
      "systemMemory: 8.00 GB\n",
      "maxCacheSize: 2.67 GB\n",
      "\n"
     ]
    },
    {
     "name": "stderr",
     "output_type": "stream",
     "text": [
      "2022-05-31 13:29:50.915914: I tensorflow/core/common_runtime/pluggable_device/pluggable_device_factory.cc:305] Could not identify NUMA node of platform GPU ID 0, defaulting to 0. Your kernel may not have been built with NUMA support.\n",
      "2022-05-31 13:29:50.916753: I tensorflow/core/common_runtime/pluggable_device/pluggable_device_factory.cc:271] Created TensorFlow device (/job:localhost/replica:0/task:0/device:GPU:0 with 0 MB memory) -> physical PluggableDevice (device: 0, name: METAL, pci bus id: <undefined>)\n"
     ]
    }
   ],
   "source": [
    "import tensorflow as tf\n",
    "\n",
    "model = tf.keras.models.Sequential([\n",
    "    tf.keras.layers.Dense(32, input_shape=(4,), activation = 'relu'),\n",
    "    tf.keras.layers.Dense(32, activation='relu'),\n",
    "    tf.keras.layers.Dense(32, activation='relu'),\n",
    "    tf.keras.layers.Dense(3, activation='softmax'),\n",
    "])"
   ]
  },
  {
   "cell_type": "markdown",
   "metadata": {},
   "source": [
    "# `모델 모양`\n",
    "![](./lecture_image/04-02.png)"
   ]
  },
  {
   "cell_type": "code",
   "execution_count": 15,
   "metadata": {},
   "outputs": [
    {
     "name": "stdout",
     "output_type": "stream",
     "text": [
      "Model: \"sequential\"\n",
      "_________________________________________________________________\n",
      " Layer (type)                Output Shape              Param #   \n",
      "=================================================================\n",
      " dense (Dense)               (None, 32)                160       \n",
      "                                                                 \n",
      " dense_1 (Dense)             (None, 32)                1056      \n",
      "                                                                 \n",
      " dense_2 (Dense)             (None, 32)                1056      \n",
      "                                                                 \n",
      " dense_3 (Dense)             (None, 3)                 99        \n",
      "                                                                 \n",
      "=================================================================\n",
      "Total params: 2,371\n",
      "Trainable params: 2,371\n",
      "Non-trainable params: 0\n",
      "_________________________________________________________________\n"
     ]
    }
   ],
   "source": [
    "# adam\n",
    "model.compile(optimizer = 'adam', loss='categorical_crossentropy',\n",
    "                metrics=['accuracy'])\n",
    "model.summary()"
   ]
  },
  {
   "cell_type": "code",
   "execution_count": 16,
   "metadata": {},
   "outputs": [
    {
     "name": "stderr",
     "output_type": "stream",
     "text": [
      "2022-05-31 17:33:28.673564: W tensorflow/core/platform/profile_utils/cpu_utils.cc:128] Failed to get CPU frequency: 0 Hz\n"
     ]
    },
    {
     "name": "stdout",
     "output_type": "stream",
     "text": [
      "Epoch 1/100\n"
     ]
    },
    {
     "name": "stderr",
     "output_type": "stream",
     "text": [
      "2022-05-31 17:33:29.233428: I tensorflow/core/grappler/optimizers/custom_graph_optimizer_registry.cc:113] Plugin optimizer for device_type GPU is enabled.\n"
     ]
    },
    {
     "name": "stdout",
     "output_type": "stream",
     "text": [
      "4/4 [==============================] - 3s 55ms/step - loss: 1.1170 - accuracy: 0.5000\n",
      "Epoch 2/100\n",
      "4/4 [==============================] - 0s 16ms/step - loss: 0.9938 - accuracy: 0.6667\n",
      "Epoch 3/100\n",
      "4/4 [==============================] - 0s 15ms/step - loss: 0.9092 - accuracy: 0.7167\n",
      "Epoch 4/100\n",
      "4/4 [==============================] - 0s 13ms/step - loss: 0.8599 - accuracy: 0.6417\n",
      "Epoch 5/100\n",
      "4/4 [==============================] - 0s 15ms/step - loss: 0.8135 - accuracy: 0.7917\n",
      "Epoch 6/100\n",
      "4/4 [==============================] - 0s 13ms/step - loss: 0.7707 - accuracy: 0.9333\n",
      "Epoch 7/100\n",
      "4/4 [==============================] - 0s 19ms/step - loss: 0.7334 - accuracy: 0.9500\n",
      "Epoch 8/100\n",
      "4/4 [==============================] - 0s 16ms/step - loss: 0.6927 - accuracy: 0.8833\n",
      "Epoch 9/100\n",
      "4/4 [==============================] - 0s 20ms/step - loss: 0.6578 - accuracy: 0.8000\n",
      "Epoch 10/100\n",
      "4/4 [==============================] - 0s 20ms/step - loss: 0.6205 - accuracy: 0.8583\n",
      "Epoch 11/100\n",
      "4/4 [==============================] - 0s 12ms/step - loss: 0.5861 - accuracy: 0.9417\n",
      "Epoch 12/100\n",
      "4/4 [==============================] - 0s 12ms/step - loss: 0.5548 - accuracy: 0.9750\n",
      "Epoch 13/100\n",
      "4/4 [==============================] - 0s 13ms/step - loss: 0.5241 - accuracy: 0.9583\n",
      "Epoch 14/100\n",
      "4/4 [==============================] - 0s 13ms/step - loss: 0.4936 - accuracy: 0.9750\n",
      "Epoch 15/100\n",
      "4/4 [==============================] - 0s 16ms/step - loss: 0.4680 - accuracy: 0.9417\n",
      "Epoch 16/100\n",
      "4/4 [==============================] - 0s 11ms/step - loss: 0.4476 - accuracy: 0.9667\n",
      "Epoch 17/100\n",
      "4/4 [==============================] - 0s 11ms/step - loss: 0.4215 - accuracy: 0.9583\n",
      "Epoch 18/100\n",
      "4/4 [==============================] - 0s 21ms/step - loss: 0.4029 - accuracy: 0.9333\n",
      "Epoch 19/100\n",
      "4/4 [==============================] - 0s 13ms/step - loss: 0.3787 - accuracy: 0.9750\n",
      "Epoch 20/100\n",
      "4/4 [==============================] - 0s 12ms/step - loss: 0.3620 - accuracy: 0.9667\n",
      "Epoch 21/100\n",
      "4/4 [==============================] - 0s 18ms/step - loss: 0.3392 - accuracy: 0.9667\n",
      "Epoch 22/100\n",
      "4/4 [==============================] - 0s 20ms/step - loss: 0.3245 - accuracy: 0.9667\n",
      "Epoch 23/100\n",
      "4/4 [==============================] - 0s 15ms/step - loss: 0.3080 - accuracy: 0.9667\n",
      "Epoch 24/100\n",
      "4/4 [==============================] - 0s 12ms/step - loss: 0.2929 - accuracy: 0.9667\n",
      "Epoch 25/100\n",
      "4/4 [==============================] - 0s 12ms/step - loss: 0.2785 - accuracy: 0.9750\n",
      "Epoch 26/100\n",
      "4/4 [==============================] - 0s 14ms/step - loss: 0.2644 - accuracy: 0.9750\n",
      "Epoch 27/100\n",
      "4/4 [==============================] - 0s 12ms/step - loss: 0.2522 - accuracy: 0.9750\n",
      "Epoch 28/100\n",
      "4/4 [==============================] - 0s 12ms/step - loss: 0.2422 - accuracy: 0.9750\n",
      "Epoch 29/100\n",
      "4/4 [==============================] - 0s 15ms/step - loss: 0.2325 - accuracy: 0.9750\n",
      "Epoch 30/100\n",
      "4/4 [==============================] - 0s 12ms/step - loss: 0.2175 - accuracy: 0.9750\n",
      "Epoch 31/100\n",
      "4/4 [==============================] - 0s 12ms/step - loss: 0.2190 - accuracy: 0.9583\n",
      "Epoch 32/100\n",
      "4/4 [==============================] - 0s 13ms/step - loss: 0.2027 - accuracy: 0.9583\n",
      "Epoch 33/100\n",
      "4/4 [==============================] - 0s 12ms/step - loss: 0.1913 - accuracy: 0.9750\n",
      "Epoch 34/100\n",
      "4/4 [==============================] - 0s 19ms/step - loss: 0.1856 - accuracy: 0.9667\n",
      "Epoch 35/100\n",
      "4/4 [==============================] - 0s 19ms/step - loss: 0.1747 - accuracy: 0.9750\n",
      "Epoch 36/100\n",
      "4/4 [==============================] - 0s 29ms/step - loss: 0.1782 - accuracy: 0.9583\n",
      "Epoch 37/100\n",
      "4/4 [==============================] - 0s 20ms/step - loss: 0.1639 - accuracy: 0.9833\n",
      "Epoch 38/100\n",
      "4/4 [==============================] - 0s 20ms/step - loss: 0.1619 - accuracy: 0.9583\n",
      "Epoch 39/100\n",
      "4/4 [==============================] - 0s 18ms/step - loss: 0.1470 - accuracy: 0.9750\n",
      "Epoch 40/100\n",
      "4/4 [==============================] - 0s 17ms/step - loss: 0.1525 - accuracy: 0.9667\n",
      "Epoch 41/100\n",
      "4/4 [==============================] - 0s 19ms/step - loss: 0.1495 - accuracy: 0.9750\n",
      "Epoch 42/100\n",
      "4/4 [==============================] - 0s 16ms/step - loss: 0.1374 - accuracy: 0.9750\n",
      "Epoch 43/100\n",
      "4/4 [==============================] - 0s 13ms/step - loss: 0.1371 - accuracy: 0.9667\n",
      "Epoch 44/100\n",
      "4/4 [==============================] - 0s 15ms/step - loss: 0.1287 - accuracy: 0.9750\n",
      "Epoch 45/100\n",
      "4/4 [==============================] - 0s 13ms/step - loss: 0.1274 - accuracy: 0.9667\n",
      "Epoch 46/100\n",
      "4/4 [==============================] - 0s 14ms/step - loss: 0.1214 - accuracy: 0.9750\n",
      "Epoch 47/100\n",
      "4/4 [==============================] - 0s 16ms/step - loss: 0.1272 - accuracy: 0.9667\n",
      "Epoch 48/100\n",
      "4/4 [==============================] - 0s 14ms/step - loss: 0.1122 - accuracy: 0.9667\n",
      "Epoch 49/100\n",
      "4/4 [==============================] - 0s 14ms/step - loss: 0.1190 - accuracy: 0.9667\n",
      "Epoch 50/100\n",
      "4/4 [==============================] - 0s 14ms/step - loss: 0.1060 - accuracy: 0.9750\n",
      "Epoch 51/100\n",
      "4/4 [==============================] - 0s 16ms/step - loss: 0.1105 - accuracy: 0.9750\n",
      "Epoch 52/100\n",
      "4/4 [==============================] - 0s 15ms/step - loss: 0.1063 - accuracy: 0.9833\n",
      "Epoch 53/100\n",
      "4/4 [==============================] - 0s 15ms/step - loss: 0.1036 - accuracy: 0.9750\n",
      "Epoch 54/100\n",
      "4/4 [==============================] - 0s 15ms/step - loss: 0.1051 - accuracy: 0.9833\n",
      "Epoch 55/100\n",
      "4/4 [==============================] - 0s 15ms/step - loss: 0.0993 - accuracy: 0.9750\n",
      "Epoch 56/100\n",
      "4/4 [==============================] - 0s 18ms/step - loss: 0.1058 - accuracy: 0.9750\n",
      "Epoch 57/100\n",
      "4/4 [==============================] - 0s 15ms/step - loss: 0.1020 - accuracy: 0.9667\n",
      "Epoch 58/100\n",
      "4/4 [==============================] - 0s 16ms/step - loss: 0.1004 - accuracy: 0.9750\n",
      "Epoch 59/100\n",
      "4/4 [==============================] - 0s 16ms/step - loss: 0.0953 - accuracy: 0.9750\n",
      "Epoch 60/100\n",
      "4/4 [==============================] - 0s 19ms/step - loss: 0.0961 - accuracy: 0.9750\n",
      "Epoch 61/100\n",
      "4/4 [==============================] - 0s 15ms/step - loss: 0.0894 - accuracy: 0.9750\n",
      "Epoch 62/100\n",
      "4/4 [==============================] - 0s 15ms/step - loss: 0.0923 - accuracy: 0.9833\n",
      "Epoch 63/100\n",
      "4/4 [==============================] - 0s 14ms/step - loss: 0.0865 - accuracy: 0.9833\n",
      "Epoch 64/100\n",
      "4/4 [==============================] - 0s 13ms/step - loss: 0.0888 - accuracy: 0.9750\n",
      "Epoch 65/100\n",
      "4/4 [==============================] - 0s 13ms/step - loss: 0.0862 - accuracy: 0.9750\n",
      "Epoch 66/100\n",
      "4/4 [==============================] - 0s 13ms/step - loss: 0.0870 - accuracy: 0.9750\n",
      "Epoch 67/100\n",
      "4/4 [==============================] - 0s 16ms/step - loss: 0.0868 - accuracy: 0.9750\n",
      "Epoch 68/100\n",
      "4/4 [==============================] - 0s 12ms/step - loss: 0.0873 - accuracy: 0.9667\n",
      "Epoch 69/100\n",
      "4/4 [==============================] - 0s 15ms/step - loss: 0.0835 - accuracy: 0.9750\n",
      "Epoch 70/100\n",
      "4/4 [==============================] - 0s 13ms/step - loss: 0.0851 - accuracy: 0.9750\n",
      "Epoch 71/100\n",
      "4/4 [==============================] - 0s 13ms/step - loss: 0.0794 - accuracy: 0.9750\n",
      "Epoch 72/100\n",
      "4/4 [==============================] - 0s 14ms/step - loss: 0.0799 - accuracy: 0.9750\n",
      "Epoch 73/100\n",
      "4/4 [==============================] - 0s 14ms/step - loss: 0.0784 - accuracy: 0.9750\n",
      "Epoch 74/100\n",
      "4/4 [==============================] - 0s 16ms/step - loss: 0.0781 - accuracy: 0.9833\n",
      "Epoch 75/100\n",
      "4/4 [==============================] - 0s 16ms/step - loss: 0.0767 - accuracy: 0.9750\n",
      "Epoch 76/100\n",
      "4/4 [==============================] - 0s 18ms/step - loss: 0.0764 - accuracy: 0.9750\n",
      "Epoch 77/100\n",
      "4/4 [==============================] - 0s 19ms/step - loss: 0.0792 - accuracy: 0.9750\n",
      "Epoch 78/100\n",
      "4/4 [==============================] - 0s 18ms/step - loss: 0.0762 - accuracy: 0.9750\n",
      "Epoch 79/100\n",
      "4/4 [==============================] - 0s 18ms/step - loss: 0.0758 - accuracy: 0.9750\n",
      "Epoch 80/100\n",
      "4/4 [==============================] - 0s 22ms/step - loss: 0.0773 - accuracy: 0.9667\n",
      "Epoch 81/100\n",
      "4/4 [==============================] - 0s 22ms/step - loss: 0.0727 - accuracy: 0.9750\n",
      "Epoch 82/100\n",
      "4/4 [==============================] - 0s 18ms/step - loss: 0.0788 - accuracy: 0.9750\n",
      "Epoch 83/100\n",
      "4/4 [==============================] - 0s 20ms/step - loss: 0.0767 - accuracy: 0.9667\n",
      "Epoch 84/100\n",
      "4/4 [==============================] - 0s 19ms/step - loss: 0.0749 - accuracy: 0.9750\n",
      "Epoch 85/100\n",
      "4/4 [==============================] - 0s 16ms/step - loss: 0.0769 - accuracy: 0.9833\n",
      "Epoch 86/100\n",
      "4/4 [==============================] - 0s 16ms/step - loss: 0.0739 - accuracy: 0.9750\n",
      "Epoch 87/100\n",
      "4/4 [==============================] - 0s 17ms/step - loss: 0.0731 - accuracy: 0.9667\n",
      "Epoch 88/100\n",
      "4/4 [==============================] - 0s 14ms/step - loss: 0.0707 - accuracy: 0.9750\n",
      "Epoch 89/100\n",
      "4/4 [==============================] - 0s 13ms/step - loss: 0.0749 - accuracy: 0.9833\n",
      "Epoch 90/100\n",
      "4/4 [==============================] - 0s 13ms/step - loss: 0.0686 - accuracy: 0.9750\n",
      "Epoch 91/100\n",
      "4/4 [==============================] - 0s 13ms/step - loss: 0.0719 - accuracy: 0.9667\n",
      "Epoch 92/100\n",
      "4/4 [==============================] - 0s 13ms/step - loss: 0.0741 - accuracy: 0.9750\n",
      "Epoch 93/100\n",
      "4/4 [==============================] - 0s 13ms/step - loss: 0.0672 - accuracy: 0.9833\n",
      "Epoch 94/100\n",
      "4/4 [==============================] - 0s 12ms/step - loss: 0.0708 - accuracy: 0.9750\n",
      "Epoch 95/100\n",
      "4/4 [==============================] - 0s 29ms/step - loss: 0.0667 - accuracy: 0.9750\n",
      "Epoch 96/100\n",
      "4/4 [==============================] - 0s 19ms/step - loss: 0.0673 - accuracy: 0.9750\n",
      "Epoch 97/100\n",
      "4/4 [==============================] - 0s 17ms/step - loss: 0.0682 - accuracy: 0.9750\n",
      "Epoch 98/100\n",
      "4/4 [==============================] - 0s 17ms/step - loss: 0.0675 - accuracy: 0.9750\n",
      "Epoch 99/100\n",
      "4/4 [==============================] - 0s 17ms/step - loss: 0.0691 - accuracy: 0.9833\n",
      "Epoch 100/100\n",
      "4/4 [==============================] - 0s 16ms/step - loss: 0.0682 - accuracy: 0.9750\n"
     ]
    }
   ],
   "source": [
    "hist = model.fit(X_train, y_train, epochs=100)"
   ]
  },
  {
   "cell_type": "code",
   "execution_count": 17,
   "metadata": {},
   "outputs": [
    {
     "name": "stdout",
     "output_type": "stream",
     "text": [
      "1/1 - 0s - loss: 0.1196 - accuracy: 0.9667 - 141ms/epoch - 141ms/step\n"
     ]
    },
    {
     "name": "stderr",
     "output_type": "stream",
     "text": [
      "2022-05-31 17:33:56.422399: I tensorflow/core/grappler/optimizers/custom_graph_optimizer_registry.cc:113] Plugin optimizer for device_type GPU is enabled.\n"
     ]
    },
    {
     "data": {
      "text/plain": [
       "[0.11959729343652725, 0.9666666984558105]"
      ]
     },
     "execution_count": 17,
     "metadata": {},
     "output_type": "execute_result"
    }
   ],
   "source": [
    "model.evaluate(X_test, y_test, verbose=2)\n",
    "\n",
    "# 손실율 : 11% // 정확도 : 97%"
   ]
  },
  {
   "cell_type": "code",
   "execution_count": 21,
   "metadata": {},
   "outputs": [
    {
     "data": {
      "image/png": "[encoded data removed]",
      "text/plain": [
       "<Figure size 432x288 with 1 Axes>"
      ]
     },
     "metadata": {
      "needs_background": "light"
     },
     "output_type": "display_data"
    }
   ],
   "source": [
    "import matplotlib.pyplot as plt\n",
    "%matplotlib inline\n",
    "\n",
    "plt.plot(hist.history['loss'])\n",
    "plt.plot(hist.history['accuracy'])\n",
    "plt.grid()\n",
    "plt.show()\n",
    "\n",
    "# epochs = 20 부근에서 accuracy는 100% 에 근접하고, \n",
    "# epochs = 60~ 부근부터 최저 손실율에 도달함을 볼 수 있다."
   ]
  },
  {
   "cell_type": "code",
   "execution_count": null,
   "metadata": {},
   "outputs": [],
   "source": []
  }
 ],
 "metadata": {
  "interpreter": {
   "hash": "b5a26d0e877c4652cf53eb6b13536f4959f02e722fb5eef7979a29d14fb02c8a"
  },
  "kernelspec": {
   "display_name": "Python 3.8.13 ('TF')",
   "language": "python",
   "name": "python3"
  },
  "language_info": {
   "codemirror_mode": {
    "name": "ipython",
    "version": 3
   },
   "file_extension": ".py",
   "mimetype": "text/x-python",
   "name": "python",
   "nbconvert_exporter": "python",
   "pygments_lexer": "ipython3",
   "version": "3.8.13"
  },
  "orig_nbformat": 4
 },
 "nbformat": 4,
 "nbformat_minor": 2
}

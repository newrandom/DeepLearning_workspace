{
 "cells": [
  {
   "cell_type": "markdown",
   "id": "88433c9f",
   "metadata": {},
   "source": [
    "# Variable"
   ]
  },
  {
   "cell_type": "code",
   "execution_count": 6,
   "id": "9b6d30eb",
   "metadata": {},
   "outputs": [],
   "source": [
    "import tensorflow as tf\n",
    "import numpy as np"
   ]
  },
  {
   "cell_type": "markdown",
   "id": "196dae0f",
   "metadata": {},
   "source": [
    "<h4> Variable (변수)</h4>"
   ]
  },
  {
   "cell_type": "markdown",
   "id": "a1dca53d",
   "metadata": {},
   "source": [
    "- 미지수, 가중치를 정의할 때 사용\n",
    "- 직접 사용할 일이 많지는 않음\n",
    "\n",
    "- 변수 정의는 변수 생성 + 초기화"
   ]
  },
  {
   "cell_type": "code",
   "execution_count": 7,
   "id": "44de8242",
   "metadata": {},
   "outputs": [
    {
     "name": "stdout",
     "output_type": "stream",
     "text": [
      "<tf.Variable 'Variable:0' shape=(2, 2) dtype=float32, numpy=\n",
      "array([[1., 2.],\n",
      "       [3., 4.]], dtype=float32)>\n",
      "<tf.Variable 'Variable:0' shape=(2, 2) dtype=int64, numpy=\n",
      "array([[1, 2],\n",
      "       [3, 4]])>\n",
      "<tf.Variable 'Variable:0' shape=(2, 2) dtype=int32, numpy=\n",
      "array([[1, 2],\n",
      "       [3, 4]], dtype=int32)>\n"
     ]
    }
   ],
   "source": [
    "tensor = tf.constant([[1.0, 2.0], [3.0, 4.0]])\n",
    "arr = np.array([[1, 2], [3, 4]])\n",
    "li = [[1, 2], [3, 4]]\n",
    "\n",
    "te_var = tf.Variable(tensor)\n",
    "arr_var = tf.Variable(arr)\n",
    "li_var = tf.Variable(li)\n",
    "\n",
    "print(te_var)\n",
    "print(arr_var)\n",
    "print(li_var)"
   ]
  },
  {
   "cell_type": "markdown",
   "id": "4d3ee3ca",
   "metadata": {},
   "source": [
    "- Constant와 같이 기본 속성값이 들어있음. "
   ]
  },
  {
   "cell_type": "code",
   "execution_count": 11,
   "id": "ecbc082f",
   "metadata": {},
   "outputs": [
    {
     "name": "stdout",
     "output_type": "stream",
     "text": [
      "Shape:  (2, 2)\n",
      "DType:  <dtype: 'float32'>\n",
      "As NumPy:  [[1. 2.]\n",
      " [3. 4.]]\n"
     ]
    }
   ],
   "source": [
    "print(\"Shape: \", te_var.shape)\n",
    "print(\"DType: \", te_var.dtype)\n",
    "print(\"As NumPy: \", te_var.numpy())"
   ]
  },
  {
   "cell_type": "code",
   "execution_count": 14,
   "id": "722c9dc9",
   "metadata": {},
   "outputs": [
    {
     "name": "stdout",
     "output_type": "stream",
     "text": [
      "shape :  (2, 2)\n",
      "dtype :  <dtype: 'int64'>\n",
      "as numpy :  [[1 2]\n",
      " [3 4]]\n"
     ]
    }
   ],
   "source": [
    "print('shape : ', arr_var.shape)\n",
    "print('dtype : ', arr_var.dtype)\n",
    "print('as numpy : ', arr_var.numpy())"
   ]
  },
  {
   "cell_type": "code",
   "execution_count": 15,
   "id": "f1d92786",
   "metadata": {},
   "outputs": [
    {
     "name": "stdout",
     "output_type": "stream",
     "text": [
      "shape :  (2, 2)\n",
      "dtype :  <dtype: 'int32'>\n",
      "as numpy :  [[1 2]\n",
      " [3 4]]\n"
     ]
    }
   ],
   "source": [
    "print('shape : ', li_var.shape)\n",
    "print('dtype : ', li_var.dtype)\n",
    "print('as numpy : ', li_var.numpy())"
   ]
  },
  {
   "cell_type": "markdown",
   "id": "99a266fa",
   "metadata": {},
   "source": [
    "### 변수는 기존 텐서의 메모리를 재사용하여 텐서를 재할당 할 수 있다. \n"
   ]
  },
  {
   "cell_type": "code",
   "execution_count": 12,
   "id": "0b93f357",
   "metadata": {},
   "outputs": [
    {
     "name": "stdout",
     "output_type": "stream",
     "text": [
      "First :  <tf.Variable 'Variable:0' shape=(2,) dtype=float32, numpy=array([2., 3.], dtype=float32)> \n",
      "\n",
      "Second :  <tf.Variable 'Variable:0' shape=(2,) dtype=float32, numpy=array([1., 2.], dtype=float32)> \n",
      "\n"
     ]
    }
   ],
   "source": [
    "a = tf.Variable([2.0, 3.0])\n",
    "print(\"First : \", a, \"\\n\")\n",
    "\n",
    "a.assign([1, 2])        # 똑같은 형태의, 하지만 값은 다른 것을 설정함. \n",
    "                        # 해당 줄의 경우 int 값을 넣었지만, float32 값으로 재설정되어 들어감\n",
    "print(\"Second : \", a, \"\\n\")\n"
   ]
  },
  {
   "cell_type": "code",
   "execution_count": 13,
   "id": "be2ef9d3",
   "metadata": {},
   "outputs": [
    {
     "ename": "ValueError",
     "evalue": "Cannot assign value to variable ' Variable:0': Shape mismatch.The variable shape (2,), and the assigned value shape (3,) are incompatible.",
     "output_type": "error",
     "traceback": [
      "\u001b[0;31m---------------------------------------------------------------------------\u001b[0m",
      "\u001b[0;31mValueError\u001b[0m                                Traceback (most recent call last)",
      "\u001b[1;32m/Users/newrandom/Documents/GitHub/DL_ws/chapter/02_Variable.ipynb Cell 11'\u001b[0m in \u001b[0;36m<cell line: 2>\u001b[0;34m()\u001b[0m\n\u001b[1;32m      <a href='vscode-notebook-cell:/Users/newrandom/Documents/GitHub/DL_ws/chapter/02_Variable.ipynb#ch0000010?line=0'>1</a>\u001b[0m \u001b[39m# 기존 메모리의 크기와 다르면 할당 할 수 없음! \u001b[39;00m\n\u001b[0;32m----> <a href='vscode-notebook-cell:/Users/newrandom/Documents/GitHub/DL_ws/chapter/02_Variable.ipynb#ch0000010?line=1'>2</a>\u001b[0m a\u001b[39m.\u001b[39;49massign([\u001b[39m1.0\u001b[39;49m, \u001b[39m2.0\u001b[39;49m, \u001b[39m3.0\u001b[39;49m])\n",
      "File \u001b[0;32m~/miniforge3/envs/TF/lib/python3.10/site-packages/tensorflow/python/ops/resource_variable_ops.py:911\u001b[0m, in \u001b[0;36mBaseResourceVariable.assign\u001b[0;34m(self, value, use_locking, name, read_value)\u001b[0m\n\u001b[1;32m    <a href='file:///Users/newrandom/miniforge3/envs/TF/lib/python3.10/site-packages/tensorflow/python/ops/resource_variable_ops.py?line=908'>909</a>\u001b[0m   \u001b[39melse\u001b[39;00m:\n\u001b[1;32m    <a href='file:///Users/newrandom/miniforge3/envs/TF/lib/python3.10/site-packages/tensorflow/python/ops/resource_variable_ops.py?line=909'>910</a>\u001b[0m     tensor_name \u001b[39m=\u001b[39m \u001b[39m\"\u001b[39m\u001b[39m \u001b[39m\u001b[39m\"\u001b[39m \u001b[39m+\u001b[39m \u001b[39mstr\u001b[39m(\u001b[39mself\u001b[39m\u001b[39m.\u001b[39mname)\n\u001b[0;32m--> <a href='file:///Users/newrandom/miniforge3/envs/TF/lib/python3.10/site-packages/tensorflow/python/ops/resource_variable_ops.py?line=910'>911</a>\u001b[0m   \u001b[39mraise\u001b[39;00m \u001b[39mValueError\u001b[39;00m(\n\u001b[1;32m    <a href='file:///Users/newrandom/miniforge3/envs/TF/lib/python3.10/site-packages/tensorflow/python/ops/resource_variable_ops.py?line=911'>912</a>\u001b[0m       (\u001b[39mf\u001b[39m\u001b[39m\"\u001b[39m\u001b[39mCannot assign value to variable \u001b[39m\u001b[39m'\u001b[39m\u001b[39m{\u001b[39;00mtensor_name\u001b[39m}\u001b[39;00m\u001b[39m'\u001b[39m\u001b[39m: Shape mismatch.\u001b[39m\u001b[39m\"\u001b[39m\n\u001b[1;32m    <a href='file:///Users/newrandom/miniforge3/envs/TF/lib/python3.10/site-packages/tensorflow/python/ops/resource_variable_ops.py?line=912'>913</a>\u001b[0m        \u001b[39mf\u001b[39m\u001b[39m\"\u001b[39m\u001b[39mThe variable shape \u001b[39m\u001b[39m{\u001b[39;00m\u001b[39mself\u001b[39m\u001b[39m.\u001b[39m_shape\u001b[39m}\u001b[39;00m\u001b[39m, and the \u001b[39m\u001b[39m\"\u001b[39m\n\u001b[1;32m    <a href='file:///Users/newrandom/miniforge3/envs/TF/lib/python3.10/site-packages/tensorflow/python/ops/resource_variable_ops.py?line=913'>914</a>\u001b[0m        \u001b[39mf\u001b[39m\u001b[39m\"\u001b[39m\u001b[39massigned value shape \u001b[39m\u001b[39m{\u001b[39;00mvalue_tensor\u001b[39m.\u001b[39mshape\u001b[39m}\u001b[39;00m\u001b[39m are incompatible.\u001b[39m\u001b[39m\"\u001b[39m))\n\u001b[1;32m    <a href='file:///Users/newrandom/miniforge3/envs/TF/lib/python3.10/site-packages/tensorflow/python/ops/resource_variable_ops.py?line=914'>915</a>\u001b[0m assign_op \u001b[39m=\u001b[39m gen_resource_variable_ops\u001b[39m.\u001b[39massign_variable_op(\n\u001b[1;32m    <a href='file:///Users/newrandom/miniforge3/envs/TF/lib/python3.10/site-packages/tensorflow/python/ops/resource_variable_ops.py?line=915'>916</a>\u001b[0m     \u001b[39mself\u001b[39m\u001b[39m.\u001b[39mhandle, value_tensor, name\u001b[39m=\u001b[39mname)\n\u001b[1;32m    <a href='file:///Users/newrandom/miniforge3/envs/TF/lib/python3.10/site-packages/tensorflow/python/ops/resource_variable_ops.py?line=916'>917</a>\u001b[0m \u001b[39mif\u001b[39;00m read_value:\n",
      "\u001b[0;31mValueError\u001b[0m: Cannot assign value to variable ' Variable:0': Shape mismatch.The variable shape (2,), and the assigned value shape (3,) are incompatible."
     ]
    }
   ],
   "source": [
    "# 기존 메모리의 크기와 다르면 할당 할 수 없음! \n",
    "a.assign([1.0, 2.0, 3.0]) "
   ]
  },
  {
   "cell_type": "code",
   "execution_count": null,
   "id": "3a66b0f1",
   "metadata": {},
   "outputs": [],
   "source": []
  }
 ],
 "metadata": {
  "interpreter": {
   "hash": "b5a26d0e877c4652cf53eb6b13536f4959f02e722fb5eef7979a29d14fb02c8a"
  },
  "kernelspec": {
   "display_name": "Python 3.10.4 ('TF')",
   "language": "python",
   "name": "python3"
  },
  "language_info": {
   "codemirror_mode": {
    "name": "ipython",
    "version": 3
   },
   "file_extension": ".py",
   "mimetype": "text/x-python",
   "name": "python",
   "nbconvert_exporter": "python",
   "pygments_lexer": "ipython3",
   "version": "3.10.4"
  },
  "toc": {
   "base_numbering": 1,
   "nav_menu": {},
   "number_sections": true,
   "sideBar": true,
   "skip_h1_title": false,
   "title_cell": "Table of Contents",
   "title_sidebar": "Contents",
   "toc_cell": false,
   "toc_position": {
    "height": "calc(100% - 180px)",
    "left": "10px",
    "top": "150px",
    "width": "205.312px"
   },
   "toc_section_display": true,
   "toc_window_display": true
  },
  "varInspector": {
   "cols": {
    "lenName": 16,
    "lenType": 16,
    "lenVar": 40
   },
   "kernels_config": {
    "python": {
     "delete_cmd_postfix": "",
     "delete_cmd_prefix": "del ",
     "library": "var_list.py",
     "varRefreshCmd": "print(var_dic_list())"
    },
    "r": {
     "delete_cmd_postfix": ") ",
     "delete_cmd_prefix": "rm(",
     "library": "var_list.r",
     "varRefreshCmd": "cat(var_dic_list()) "
    }
   },
   "types_to_exclude": [
    "module",
    "function",
    "builtin_function_or_method",
    "instance",
    "_Feature"
   ],
   "window_display": false
  }
 },
 "nbformat": 4,
 "nbformat_minor": 5
}

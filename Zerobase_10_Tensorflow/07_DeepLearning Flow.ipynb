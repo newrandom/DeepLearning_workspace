{
 "cells": [
  {
   "cell_type": "markdown",
   "id": "3169f002",
   "metadata": {},
   "source": [
    "# Deep learning Flow"
   ]
  },
  {
   "cell_type": "code",
   "execution_count": 236,
   "id": "40ae810a",
   "metadata": {},
   "outputs": [],
   "source": [
    "import numpy as np\n",
    "import pandas as pd\n",
    "import tensorflow as tf\n",
    "\n",
    "import matplotlib.pyplot as plt\n",
    "import seaborn as sns\n",
    "%matplotlib inline"
   ]
  },
  {
   "cell_type": "markdown",
   "id": "e607c9f2",
   "metadata": {},
   "source": [
    "## 변하지 않는 Deep learning Flow \n",
    "\n",
    "<img src=../statics/imgs/dl_flow.png> </img>\n",
    "> data > preprocess > model > evaluation"
   ]
  },
  {
   "cell_type": "markdown",
   "id": "552cb4b9",
   "metadata": {},
   "source": [
    "## 1. Data 가져오기\n",
    "\n",
    "TensorFlow에서 제공하는 MNIST 예제"
   ]
  },
  {
   "cell_type": "markdown",
   "id": "0182c0f2",
   "metadata": {},
   "source": [
    "- 데이터 shape, dtype 확인하기"
   ]
  },
  {
   "cell_type": "code",
   "execution_count": 237,
   "id": "1f6659ec",
   "metadata": {},
   "outputs": [],
   "source": [
    "(train_x, train_y), (test_x, test_y) = tf.keras.datasets.mnist.load_data()"
   ]
  },
  {
   "cell_type": "markdown",
   "id": "2917a3f1",
   "metadata": {},
   "source": [
    "--------------------"
   ]
  },
  {
   "cell_type": "code",
   "execution_count": 238,
   "id": "4def170f",
   "metadata": {},
   "outputs": [
    {
     "name": "stdout",
     "output_type": "stream",
     "text": [
      "(60000, 28, 28)\n",
      "uint8\n",
      "(60000,)\n",
      "uint8\n"
     ]
    }
   ],
   "source": [
    "print(train_x.shape)\n",
    "print(train_x.dtype)    #    uint8 : \n",
    "print(train_y.shape)\n",
    "print(train_y.dtype)"
   ]
  },
  {
   "cell_type": "code",
   "execution_count": 239,
   "id": "a588840c",
   "metadata": {},
   "outputs": [
    {
     "data": {
      "text/plain": [
       "(28, 28)"
      ]
     },
     "execution_count": 239,
     "metadata": {},
     "output_type": "execute_result"
    }
   ],
   "source": [
    "image = train_x[77]\n",
    "image.shape"
   ]
  },
  {
   "cell_type": "code",
   "execution_count": 240,
   "id": "ead30b7c",
   "metadata": {},
   "outputs": [
    {
     "data": {
      "text/plain": [
       "(28, 28)"
      ]
     },
     "execution_count": 240,
     "metadata": {},
     "output_type": "execute_result"
    }
   ],
   "source": [
    "train_x[77].shape\n",
    "# 784개의 fixel로 만들어졌다."
   ]
  },
  {
   "cell_type": "code",
   "execution_count": 241,
   "id": "1710d26d",
   "metadata": {},
   "outputs": [],
   "source": [
    "# image = train_x[77:78]\n",
    "# image.shape"
   ]
  },
  {
   "cell_type": "code",
   "execution_count": 242,
   "id": "2917fc27",
   "metadata": {},
   "outputs": [
    {
     "data": {
      "image/png": "[encoded data removed]",
      "text/plain": [
       "<Figure size 432x288 with 1 Axes>"
      ]
     },
     "metadata": {
      "needs_background": "light"
     },
     "output_type": "display_data"
    }
   ],
   "source": [
    "plt.imshow(image, 'gray')\n",
    "    # image plot 을 만든다\n",
    "plt.show()"
   ]
  },
  {
   "cell_type": "markdown",
   "id": "78c192af",
   "metadata": {},
   "source": [
    "#### 데이터를 받으면 데이터를 이해하기 위해 노력해야합니다! \n"
   ]
  },
  {
   "cell_type": "markdown",
   "id": "75a0b963",
   "metadata": {},
   "source": [
    "#### ex> 훈련용 데이터셋(train_x)에는 각 숫자의 그림이 몇개씩 들어가 있나? (QUIZ)"
   ]
  },
  {
   "cell_type": "markdown",
   "id": "7421cad4",
   "metadata": {},
   "source": [
    "----"
   ]
  },
  {
   "cell_type": "code",
   "execution_count": 243,
   "id": "420b5046",
   "metadata": {},
   "outputs": [],
   "source": [
    "y_unique, y_counts = np.unique(train_y, return_counts=True)"
   ]
  },
  {
   "cell_type": "code",
   "execution_count": 244,
   "id": "7a338b13",
   "metadata": {},
   "outputs": [
    {
     "data": {
      "text/plain": [
       "(array([0, 1, 2, 3, 4, 5, 6, 7, 8, 9], dtype=uint8),\n",
       " array([5923, 6742, 5958, 6131, 5842, 5421, 5918, 6265, 5851, 5949]),\n",
       " 60000)"
      ]
     },
     "execution_count": 244,
     "metadata": {},
     "output_type": "execute_result"
    }
   ],
   "source": [
    "y_unique, y_counts, y_counts.sum()"
   ]
  },
  {
   "cell_type": "code",
   "execution_count": 245,
   "id": "ae765680",
   "metadata": {},
   "outputs": [],
   "source": [
    "# 시각화\n",
    "df_view = pd.DataFrame(data={'count' : y_counts}, index = y_unique)\n",
    "            # DataFrame으로 변환\n",
    "                        # data는 'count' 컬럼에 y_counts를 입력\n",
    "                                                # index 는 y_unique를 사용"
   ]
  },
  {
   "cell_type": "code",
   "execution_count": 246,
   "id": "908ffeb4",
   "metadata": {},
   "outputs": [
    {
     "data": {
      "text/html": [
       "<div>\n",
       "<style scoped>\n",
       "    .dataframe tbody tr th:only-of-type {\n",
       "        vertical-align: middle;\n",
       "    }\n",
       "\n",
       "    .dataframe tbody tr th {\n",
       "        vertical-align: top;\n",
       "    }\n",
       "\n",
       "    .dataframe thead th {\n",
       "        text-align: right;\n",
       "    }\n",
       "</style>\n",
       "<table border=\"1\" class=\"dataframe\">\n",
       "  <thead>\n",
       "    <tr style=\"text-align: right;\">\n",
       "      <th></th>\n",
       "      <th>count</th>\n",
       "    </tr>\n",
       "  </thead>\n",
       "  <tbody>\n",
       "    <tr>\n",
       "      <th>0</th>\n",
       "      <td>5923</td>\n",
       "    </tr>\n",
       "    <tr>\n",
       "      <th>1</th>\n",
       "      <td>6742</td>\n",
       "    </tr>\n",
       "    <tr>\n",
       "      <th>2</th>\n",
       "      <td>5958</td>\n",
       "    </tr>\n",
       "    <tr>\n",
       "      <th>3</th>\n",
       "      <td>6131</td>\n",
       "    </tr>\n",
       "    <tr>\n",
       "      <th>4</th>\n",
       "      <td>5842</td>\n",
       "    </tr>\n",
       "    <tr>\n",
       "      <th>5</th>\n",
       "      <td>5421</td>\n",
       "    </tr>\n",
       "    <tr>\n",
       "      <th>6</th>\n",
       "      <td>5918</td>\n",
       "    </tr>\n",
       "    <tr>\n",
       "      <th>7</th>\n",
       "      <td>6265</td>\n",
       "    </tr>\n",
       "    <tr>\n",
       "      <th>8</th>\n",
       "      <td>5851</td>\n",
       "    </tr>\n",
       "    <tr>\n",
       "      <th>9</th>\n",
       "      <td>5949</td>\n",
       "    </tr>\n",
       "  </tbody>\n",
       "</table>\n",
       "</div>"
      ],
      "text/plain": [
       "   count\n",
       "0   5923\n",
       "1   6742\n",
       "2   5958\n",
       "3   6131\n",
       "4   5842\n",
       "5   5421\n",
       "6   5918\n",
       "7   6265\n",
       "8   5851\n",
       "9   5949"
      ]
     },
     "execution_count": 246,
     "metadata": {},
     "output_type": "execute_result"
    }
   ],
   "source": [
    "df_view"
   ]
  },
  {
   "cell_type": "code",
   "execution_count": 247,
   "id": "a2a895c9",
   "metadata": {},
   "outputs": [
    {
     "data": {
      "text/html": [
       "<div>\n",
       "<style scoped>\n",
       "    .dataframe tbody tr th:only-of-type {\n",
       "        vertical-align: middle;\n",
       "    }\n",
       "\n",
       "    .dataframe tbody tr th {\n",
       "        vertical-align: top;\n",
       "    }\n",
       "\n",
       "    .dataframe thead th {\n",
       "        text-align: right;\n",
       "    }\n",
       "</style>\n",
       "<table border=\"1\" class=\"dataframe\">\n",
       "  <thead>\n",
       "    <tr style=\"text-align: right;\">\n",
       "      <th></th>\n",
       "      <th>count</th>\n",
       "    </tr>\n",
       "  </thead>\n",
       "  <tbody>\n",
       "    <tr>\n",
       "      <th>5</th>\n",
       "      <td>5421</td>\n",
       "    </tr>\n",
       "    <tr>\n",
       "      <th>4</th>\n",
       "      <td>5842</td>\n",
       "    </tr>\n",
       "    <tr>\n",
       "      <th>8</th>\n",
       "      <td>5851</td>\n",
       "    </tr>\n",
       "    <tr>\n",
       "      <th>6</th>\n",
       "      <td>5918</td>\n",
       "    </tr>\n",
       "    <tr>\n",
       "      <th>0</th>\n",
       "      <td>5923</td>\n",
       "    </tr>\n",
       "    <tr>\n",
       "      <th>9</th>\n",
       "      <td>5949</td>\n",
       "    </tr>\n",
       "    <tr>\n",
       "      <th>2</th>\n",
       "      <td>5958</td>\n",
       "    </tr>\n",
       "    <tr>\n",
       "      <th>3</th>\n",
       "      <td>6131</td>\n",
       "    </tr>\n",
       "    <tr>\n",
       "      <th>7</th>\n",
       "      <td>6265</td>\n",
       "    </tr>\n",
       "    <tr>\n",
       "      <th>1</th>\n",
       "      <td>6742</td>\n",
       "    </tr>\n",
       "  </tbody>\n",
       "</table>\n",
       "</div>"
      ],
      "text/plain": [
       "   count\n",
       "5   5421\n",
       "4   5842\n",
       "8   5851\n",
       "6   5918\n",
       "0   5923\n",
       "9   5949\n",
       "2   5958\n",
       "3   6131\n",
       "7   6265\n",
       "1   6742"
      ]
     },
     "execution_count": 247,
     "metadata": {},
     "output_type": "execute_result"
    }
   ],
   "source": [
    "df_view.sort_values('count', ascending=True)\n",
    "        # sort_values의 기준을 'count'로 한다.\n",
    "                            # 오름차순으로 정렬"
   ]
  },
  {
   "cell_type": "code",
   "execution_count": 248,
   "id": "f81fbd0e",
   "metadata": {},
   "outputs": [
    {
     "data": {
      "image/png": "[encoded data removed]",
      "text/plain": [
       "<Figure size 432x288 with 1 Axes>"
      ]
     },
     "metadata": {
      "needs_background": "light"
     },
     "output_type": "display_data"
    }
   ],
   "source": [
    "plt.bar(x=y_unique, height = y_counts, color = 'black')\n",
    "    # bar로 나타 낼 건데,\n",
    "        # x 축은 y_unique,\n",
    "                    # height(y축) 는 y_counts\n",
    "                                        # bar 색상은 'black'\n",
    "plt.title('label distribution')\n",
    "    # plot의 제목(title)은 'label distribution'으로 지정\n",
    "plt.show()"
   ]
  },
  {
   "cell_type": "markdown",
   "id": "1f851c76",
   "metadata": {},
   "source": [
    "### 막간 퀴즈"
   ]
  },
  {
   "cell_type": "markdown",
   "id": "ed08f3bb",
   "metadata": {},
   "source": [
    "다음 코드를 완성하여, 아래 이미지를 시계 반대 방향으로 90도 회전하고 아래위를 반전 시키기"
   ]
  },
  {
   "cell_type": "code",
   "execution_count": 249,
   "id": "005b5845",
   "metadata": {},
   "outputs": [],
   "source": [
    "image = tf.constant(image)\n",
    "            # transpose를 하기 위해서는 tf. 처리를 해야한다."
   ]
  },
  {
   "cell_type": "code",
   "execution_count": 250,
   "id": "ea85f4e4",
   "metadata": {},
   "outputs": [
    {
     "data": {
      "image/png": "[encoded data removed]",
      "text/plain": [
       "<Figure size 432x288 with 1 Axes>"
      ]
     },
     "metadata": {
      "needs_background": "light"
     },
     "output_type": "display_data"
    }
   ],
   "source": [
    "plt.imshow(image, 'gray')\n",
    "plt.show()"
   ]
  },
  {
   "cell_type": "code",
   "execution_count": 251,
   "id": "e51de896",
   "metadata": {},
   "outputs": [],
   "source": [
    "# plt.imshow(?????????(image), 'gray')\n",
    "# plt.show()"
   ]
  },
  {
   "cell_type": "markdown",
   "id": "4483fe10",
   "metadata": {},
   "source": [
    "----"
   ]
  },
  {
   "cell_type": "code",
   "execution_count": 252,
   "id": "dfbd7c09",
   "metadata": {},
   "outputs": [
    {
     "data": {
      "image/png": "[encoded data removed]",
      "text/plain": [
       "<Figure size 432x288 with 1 Axes>"
      ]
     },
     "metadata": {
      "needs_background": "light"
     },
     "output_type": "display_data"
    }
   ],
   "source": [
    "plt.imshow(tf.transpose(image), 'gray')     \n",
    "            # 90도로 회전 및 아래위 반전 (tf.transpose)\n",
    "plt.show()"
   ]
  },
  {
   "cell_type": "markdown",
   "id": "98150ef8",
   "metadata": {},
   "source": [
    "## 2. Preprocessing\n",
    "\n",
    "- 데이터 검증 \n",
    "- 전처리 \n",
    "- 데이터 증강 ... (이 건 추후에!)"
   ]
  },
  {
   "cell_type": "markdown",
   "id": "7691280a",
   "metadata": {},
   "source": [
    "#### 데이터 검증 \n",
    "\n",
    " - 데이터 중에 학습에 포함 되면 안되는 것이 있는가? ex> 개인정보가 들어있는 데이터, 테스트용 데이터에 들어있는것, 중복되는 데이터\n",
    " - 학습 의도와 다른 데이터가 있는가? ex> 얼굴을 학습하는데 발 사진이 들어가있진 않은지(가끔은 의도하고 일부러 집어넣는 경우도 있음)\n",
    " - 라벨이 잘못된 데이터가 있는가? ex> 7인데 1로 라벨링, 고양이 인데 강아지로 라벨링 \n",
    " -  ... 등\n",
    " "
   ]
  },
  {
   "cell_type": "code",
   "execution_count": 253,
   "id": "cd8c3d9b",
   "metadata": {},
   "outputs": [],
   "source": [
    "def validate_pixel_scale(x):\n",
    "    return 255 >= x.max() and 0 <= x.min()\n",
    "            # x.max()의 값이 255 이하 이거나\n",
    "                            # x.min()의 값이 0 이상이면 True를 반환"
   ]
  },
  {
   "cell_type": "code",
   "execution_count": 254,
   "id": "7117f235",
   "metadata": {},
   "outputs": [],
   "source": [
    "validated_train_x = np.array([x for x in train_x if validate_pixel_scale(x)])\n",
    "                                    # train_x에서 x를 뽑을 때,\n",
    "                                                # 만약 validate_pixel_scale(x)의 값이 True이면\n",
    "                            # x를 리스트에 넣고, 아니면 넣지 않는다.\n",
    "validated_train_y = np.array([y for x, y in zip(train_x, train_y) if validate_pixel_scale(x)])\n",
    "                                    # zip(train_x, train_y)에서 x, y을 뽑고,\n",
    "                                                                # 만약 validate_pixel_scale(x)가 True이면\n",
    "                            # y를 리스트에 넣는다."
   ]
  },
  {
   "cell_type": "code",
   "execution_count": 255,
   "id": "5574791d",
   "metadata": {},
   "outputs": [
    {
     "name": "stdout",
     "output_type": "stream",
     "text": [
      "(60000, 28, 28)\n",
      "(60000,)\n"
     ]
    }
   ],
   "source": [
    "print(validated_train_x.shape)\n",
    "print(validated_train_y.shape)"
   ]
  },
  {
   "cell_type": "code",
   "execution_count": 256,
   "id": "f0d5b854",
   "metadata": {},
   "outputs": [
    {
     "data": {
      "text/plain": [
       "array([5, 0, 4, ..., 5, 6, 8], dtype=uint8)"
      ]
     },
     "execution_count": 256,
     "metadata": {},
     "output_type": "execute_result"
    }
   ],
   "source": [
    "train_y"
   ]
  },
  {
   "cell_type": "markdown",
   "id": "e8ea6d63",
   "metadata": {},
   "source": [
    "#### 전처리 \n",
    "\n",
    " - 입력하기 전에 모델링에 적합하게 처리! \n",
    " - 대표적으로 Scaling, Resizing, label encoding 등이 있다. \n",
    " - dtype, shape 항상 체크!!"
   ]
  },
  {
   "cell_type": "markdown",
   "id": "2be19f99",
   "metadata": {},
   "source": [
    "##### Scaling"
   ]
  },
  {
   "cell_type": "code",
   "execution_count": 257,
   "id": "936514c5",
   "metadata": {},
   "outputs": [],
   "source": [
    "def scale(x):\n",
    "    return (x / 255.0).astype(np.float32)    # 0 ~ 1 사이 값으로 만들어준다.\n",
    "            # x/255.0 을 return 하는데,\n",
    "                        # dtype을 np.float32 타입으로 반환한다."
   ]
  },
  {
   "cell_type": "code",
   "execution_count": 258,
   "id": "98489287",
   "metadata": {},
   "outputs": [],
   "source": [
    "scaled_train_x = np.array([scale(x) for x in validated_train_x])\n",
    "                                        # validated_train_x 에서 x(원소)를 뽑아\n",
    "                            # scale(x)에 넣고 (x/255.0)의 값을 리스트에 저장한 후\n",
    "                # np.array()로 저장한다."
   ]
  },
  {
   "cell_type": "code",
   "execution_count": 259,
   "id": "b89f1457",
   "metadata": {},
   "outputs": [],
   "source": [
    "# test code\n",
    "sample = scale(validated_train_x[777])"
   ]
  },
  {
   "cell_type": "code",
   "execution_count": 260,
   "id": "a092bcea",
   "metadata": {},
   "outputs": [
    {
     "data": {
      "text/plain": [
       "(1.0, 0.0)"
      ]
     },
     "execution_count": 260,
     "metadata": {},
     "output_type": "execute_result"
    }
   ],
   "source": [
    "sample.max(), sample.min()"
   ]
  },
  {
   "cell_type": "code",
   "execution_count": 261,
   "id": "4ee4dc6e",
   "metadata": {},
   "outputs": [
    {
     "data": {
      "text/plain": [
       "<seaborn.axisgrid.FacetGrid at 0x28151df30>"
      ]
     },
     "execution_count": 261,
     "metadata": {},
     "output_type": "execute_result"
    },
    {
     "data": {
      "image/png": "[encoded data removed]",
      "text/plain": [
       "<Figure size 408.75x360 with 1 Axes>"
      ]
     },
     "metadata": {
      "needs_background": "light"
     },
     "output_type": "display_data"
    }
   ],
   "source": [
    "sns.displot(sample)"
   ]
  },
  {
   "cell_type": "markdown",
   "id": "6a003baa",
   "metadata": {},
   "source": [
    "##### Flattening\n",
    "\n",
    " - 이번에 사용할 모델은 기본적인 Feed-Forward Neural Network\n",
    " - 1차원 벡터가 Input의 샘플 하나가 된다. (2차원 텐서라는 말)"
   ]
  },
  {
   "cell_type": "code",
   "execution_count": 262,
   "id": "c8abafd1",
   "metadata": {},
   "outputs": [
    {
     "data": {
      "text/plain": [
       "(60000, 28, 28)"
      ]
     },
     "execution_count": 262,
     "metadata": {},
     "output_type": "execute_result"
    }
   ],
   "source": [
    "scaled_train_x.shape\n",
    "# 60000개, 28 컬럼, 28데이터 (?)"
   ]
  },
  {
   "cell_type": "code",
   "execution_count": 263,
   "id": "a3d265e4",
   "metadata": {},
   "outputs": [],
   "source": [
    "# validated_train_x.reshape((60000, -1))\n",
    "flattend_train_x = scaled_train_x.reshape((60000, -1))\n",
    "                                                # 28 * 28 = 784 로 flatten 하였다. (-1)"
   ]
  },
  {
   "cell_type": "code",
   "execution_count": 264,
   "id": "8bad7367",
   "metadata": {},
   "outputs": [
    {
     "data": {
      "text/plain": [
       "(60000, 784)"
      ]
     },
     "execution_count": 264,
     "metadata": {},
     "output_type": "execute_result"
    }
   ],
   "source": [
    "flattend_train_x.shape"
   ]
  },
  {
   "cell_type": "markdown",
   "id": "a8db62cd",
   "metadata": {},
   "source": [
    "##### Label encoding\n",
    "\n",
    " - One-Hot encoding\n",
    " - `tf.keras.utils.to_categorical` 사용! "
   ]
  },
  {
   "cell_type": "code",
   "execution_count": 265,
   "id": "7310b45e",
   "metadata": {},
   "outputs": [
    {
     "data": {
      "text/plain": [
       "array([0., 0., 0., 0., 0., 1., 0., 0., 0., 0.], dtype=float32)"
      ]
     },
     "execution_count": 265,
     "metadata": {},
     "output_type": "execute_result"
    }
   ],
   "source": [
    "tf.keras.utils.to_categorical(5, num_classes=10)        # 10 개 중 5번째 클래스\n",
    "                            # index 5의 값을 1\n",
    "                                # num_classes 의 len 을 10으로 // 전체 10개 "
   ]
  },
  {
   "cell_type": "code",
   "execution_count": 266,
   "id": "dd36836e",
   "metadata": {},
   "outputs": [
    {
     "data": {
      "text/plain": [
       "array([0., 0., 1., 0., 0., 0., 0., 0., 0., 0.], dtype=float32)"
      ]
     },
     "execution_count": 266,
     "metadata": {},
     "output_type": "execute_result"
    }
   ],
   "source": [
    "# tf.keras.utils.to_categorical 연습\n",
    "test = tf.keras.utils.to_categorical(2, num_classes=10)\n",
    "test"
   ]
  },
  {
   "cell_type": "code",
   "execution_count": 267,
   "id": "19d771d8",
   "metadata": {},
   "outputs": [],
   "source": [
    "# 원 핫 인코딩\n",
    "ohe_train_y = np.array([tf.keras.utils.to_categorical(5, num_classes=10) \\\n",
    "    for y in validated_train_y])"
   ]
  },
  {
   "cell_type": "code",
   "execution_count": 268,
   "id": "406b6a16",
   "metadata": {},
   "outputs": [
    {
     "name": "stdout",
     "output_type": "stream",
     "text": [
      "[0. 0. 0. 0. 0. 1. 0. 0. 0. 0.]\n"
     ]
    }
   ],
   "source": [
    "print(ohe_train_y[0])"
   ]
  },
  {
   "cell_type": "code",
   "execution_count": 269,
   "id": "e7d92f4f",
   "metadata": {},
   "outputs": [
    {
     "data": {
      "text/plain": [
       "(60000, 10)"
      ]
     },
     "execution_count": 269,
     "metadata": {},
     "output_type": "execute_result"
    }
   ],
   "source": [
    "ohe_train_y.shape"
   ]
  },
  {
   "cell_type": "markdown",
   "id": "e531ec05",
   "metadata": {},
   "source": [
    "### 보통은 큰 작업을 하나의 클래스로 만들어서 관리한다. \n"
   ]
  },
  {
   "cell_type": "code",
   "execution_count": 270,
   "id": "bcfad533",
   "metadata": {},
   "outputs": [],
   "source": [
    "class DataLoader():\n",
    "\n",
    "    def __init__(self):\n",
    "        (self.train_x, self.train_y), \\\n",
    "            (self.test_x, self.test_y) = tf.keras.datasets.mnist.load_data()\n",
    "\n",
    "        # (train_x, train_y), (test_x, test_y) = tf.keras.datasets.mnist.load_data()\n",
    "\n",
    "    def validate_pixel_scale(self, x):\n",
    "        return 255 >= x.max() and 0 <= x.min()\n",
    "\n",
    "    def scale(self, x):\n",
    "        return (x / 255.0).astype(np.float32)\n",
    "\n",
    "    def preprocess_dataset(self, dataset):\n",
    "        feature, target = dataset\n",
    "\n",
    "        validated_x = np.array([x for x in feature if self.validate_pixel_scale(x)])\n",
    "        validated_y = np.array([y for x,y in zip(feature, target) if self.validate_pixel_scale(x)])\n",
    "\n",
    "        # scale\n",
    "        scaled_x = np.array([self.scale(x) for x in validated_x])\n",
    "        \n",
    "        # flatten\n",
    "        flatten_x = scaled_x.reshape((scaled_x.shape[0], -1))\n",
    "\n",
    "        # label encoding\n",
    "        ohe_y = np.array([tf.keras.utils.to_categorical(y, num_classes=10) for y in validated_y])\n",
    "\n",
    "        return flatten_x, ohe_y\n",
    "    \n",
    "    def get_train_dataset(self):\n",
    "        return self.preprocess_dataset((self.train_x, self.train_y))\n",
    "    \n",
    "    def get_test_dataset(self):\n",
    "        return self.preprocess_dataset((self.test_x, self.test_y))"
   ]
  },
  {
   "cell_type": "code",
   "execution_count": 271,
   "id": "21fe5618",
   "metadata": {},
   "outputs": [],
   "source": [
    "mnist_loader = DataLoader()"
   ]
  },
  {
   "cell_type": "code",
   "execution_count": 272,
   "id": "206eafb5",
   "metadata": {},
   "outputs": [],
   "source": [
    "train_x, train_y = mnist_loader.get_train_dataset()"
   ]
  },
  {
   "cell_type": "code",
   "execution_count": 273,
   "id": "d6386900",
   "metadata": {},
   "outputs": [],
   "source": [
    "## 의문점 발생\n",
    "# - test 데이터에 적용시키려면 get_test_dataset() 으로 해야하는 것 아닌가요?\n",
    "\n",
    "# test_x, test_y = mnist_loader.get_test_dataset()\n",
    "test_x, test_y = mnist_loader.get_train_dataset()"
   ]
  },
  {
   "cell_type": "code",
   "execution_count": 274,
   "id": "03663884",
   "metadata": {},
   "outputs": [
    {
     "data": {
      "text/plain": [
       "((60000, 784), (60000, 10))"
      ]
     },
     "execution_count": 274,
     "metadata": {},
     "output_type": "execute_result"
    }
   ],
   "source": [
    "train_x.shape, train_y.shape"
   ]
  },
  {
   "cell_type": "code",
   "execution_count": 275,
   "id": "e80667ff",
   "metadata": {},
   "outputs": [
    {
     "data": {
      "text/plain": [
       "((60000, 784), (60000, 10))"
      ]
     },
     "execution_count": 275,
     "metadata": {},
     "output_type": "execute_result"
    }
   ],
   "source": [
    "test_x.shape, test_y.shape"
   ]
  },
  {
   "cell_type": "markdown",
   "id": "6cd8c289",
   "metadata": {},
   "source": [
    "## 3. Modeling\n",
    " 1. 모델 정의 \n",
    " 2. 학습 로직 - 비용함수, 학습파라미터 세팅\n",
    " 3. 학습\n"
   ]
  },
  {
   "cell_type": "markdown",
   "id": "8399e8fd",
   "metadata": {},
   "source": [
    "#### 모델 정의"
   ]
  },
  {
   "cell_type": "code",
   "execution_count": 276,
   "id": "3fe0c16c",
   "metadata": {},
   "outputs": [],
   "source": [
    "from tensorflow.keras.layers import Dense, Activation      \n",
    "                                    # Dense layer : FFNN 그 자체\n",
    "                                            # Activation layer"
   ]
  },
  {
   "cell_type": "code",
   "execution_count": 277,
   "id": "18c739d4",
   "metadata": {},
   "outputs": [],
   "source": [
    "model = tf.keras.Sequential()"
   ]
  },
  {
   "cell_type": "code",
   "execution_count": 278,
   "id": "bf3da7cd",
   "metadata": {},
   "outputs": [],
   "source": [
    "# Dense(15)"
   ]
  },
  {
   "cell_type": "code",
   "execution_count": 279,
   "id": "6cdcdc47",
   "metadata": {},
   "outputs": [],
   "source": [
    "model.add(Dense(15, input_dim = 784))\n",
    "                # node 개수\n",
    "                    # \n",
    "model.add(Activation('sigmoid'))\n",
    "                    # \n",
    "model.add(Dense(10))\n",
    "                # output이 10개의 모델임\n",
    "model.add(Activation('softmax'))\n",
    "                    #"
   ]
  },
  {
   "cell_type": "code",
   "execution_count": 280,
   "id": "f2784e53",
   "metadata": {},
   "outputs": [
    {
     "name": "stdout",
     "output_type": "stream",
     "text": [
      "Model: \"sequential_4\"\n",
      "_________________________________________________________________\n",
      " Layer (type)                Output Shape              Param #   \n",
      "=================================================================\n",
      " dense_9 (Dense)             (None, 15)                11775     \n",
      "                                                                 \n",
      " activation_8 (Activation)   (None, 15)                0         \n",
      "                                                                 \n",
      " dense_10 (Dense)            (None, 10)                160       \n",
      "                                                                 \n",
      " activation_9 (Activation)   (None, 10)                0         \n",
      "                                                                 \n",
      "=================================================================\n",
      "Total params: 11,935\n",
      "Trainable params: 11,935\n",
      "Non-trainable params: 0\n",
      "_________________________________________________________________\n"
     ]
    }
   ],
   "source": [
    "model.summary()"
   ]
  },
  {
   "cell_type": "markdown",
   "id": "1846dd6a",
   "metadata": {},
   "source": [
    "#### 학습 로직"
   ]
  },
  {
   "cell_type": "code",
   "execution_count": 281,
   "id": "00981f28",
   "metadata": {},
   "outputs": [],
   "source": [
    "opt = tf.keras.optimizers.SGD(0.03)\n",
    "                                # learning rate = 0.03\n",
    "loss = tf.keras.losses.categorical_crossentropy\n",
    "                        # 분류문제를 풀 때는 categorical_crossentropy 사용"
   ]
  },
  {
   "cell_type": "code",
   "execution_count": 282,
   "id": "73a38542",
   "metadata": {},
   "outputs": [],
   "source": [
    "model.compile(optimizer=opt, loss=loss, metrics=['accuracy'])"
   ]
  },
  {
   "cell_type": "markdown",
   "id": "99f12458",
   "metadata": {},
   "source": [
    "#### 학습 실행"
   ]
  },
  {
   "cell_type": "code",
   "execution_count": 283,
   "id": "d5202347",
   "metadata": {},
   "outputs": [
    {
     "name": "stdout",
     "output_type": "stream",
     "text": [
      "Epoch 1/10\n",
      "235/235 [==============================] - 0s 865us/step - loss: 2.0587 - accuracy: 0.4383\n",
      "Epoch 2/10\n",
      "235/235 [==============================] - 0s 653us/step - loss: 1.6601 - accuracy: 0.6644\n",
      "Epoch 3/10\n",
      "235/235 [==============================] - 0s 647us/step - loss: 1.3687 - accuracy: 0.7380\n",
      "Epoch 4/10\n",
      "235/235 [==============================] - 0s 649us/step - loss: 1.1591 - accuracy: 0.7783\n",
      "Epoch 5/10\n",
      "235/235 [==============================] - 0s 640us/step - loss: 1.0069 - accuracy: 0.8025\n",
      "Epoch 6/10\n",
      "235/235 [==============================] - 0s 641us/step - loss: 0.8937 - accuracy: 0.8207\n",
      "Epoch 7/10\n",
      "235/235 [==============================] - 0s 644us/step - loss: 0.8077 - accuracy: 0.8325\n",
      "Epoch 8/10\n",
      "235/235 [==============================] - 0s 634us/step - loss: 0.7408 - accuracy: 0.8410\n",
      "Epoch 9/10\n",
      "235/235 [==============================] - 0s 704us/step - loss: 0.6877 - accuracy: 0.8483\n",
      "Epoch 10/10\n",
      "235/235 [==============================] - 0s 658us/step - loss: 0.6447 - accuracy: 0.8544\n"
     ]
    }
   ],
   "source": [
    "hist = model.fit(train_x, train_y, epochs=10, batch_size=256)\n",
    "                            # 기본 epochs = 1 회\n",
    "                                        # 기본 batch_size = 32 >> 1875 = 60000/32\n",
    "\n",
    "## 학습만 하고 끝남."
   ]
  },
  {
   "cell_type": "code",
   "execution_count": 284,
   "id": "3952caf8",
   "metadata": {},
   "outputs": [
    {
     "data": {
      "text/plain": [
       "<keras.callbacks.History at 0x2821a2020>"
      ]
     },
     "execution_count": 284,
     "metadata": {},
     "output_type": "execute_result"
    }
   ],
   "source": [
    "hist"
   ]
  },
  {
   "cell_type": "code",
   "execution_count": 285,
   "id": "2be04bb3",
   "metadata": {},
   "outputs": [
    {
     "data": {
      "text/plain": [
       "{'loss': [2.058748245239258,\n",
       "  1.6601380109786987,\n",
       "  1.3687351942062378,\n",
       "  1.159058690071106,\n",
       "  1.0068979263305664,\n",
       "  0.8937408924102783,\n",
       "  0.8076717257499695,\n",
       "  0.7407666444778442,\n",
       "  0.6876872777938843,\n",
       "  0.6447018980979919],\n",
       " 'accuracy': [0.4383000135421753,\n",
       "  0.6644166707992554,\n",
       "  0.7379666566848755,\n",
       "  0.7782666683197021,\n",
       "  0.802483320236206,\n",
       "  0.8207333087921143,\n",
       "  0.8325333595275879,\n",
       "  0.8409500122070312,\n",
       "  0.8483333587646484,\n",
       "  0.8543833494186401]}"
      ]
     },
     "execution_count": 285,
     "metadata": {},
     "output_type": "execute_result"
    }
   ],
   "source": [
    "hist.history"
   ]
  },
  {
   "cell_type": "markdown",
   "id": "45c34c13",
   "metadata": {},
   "source": [
    "## 4. Evaluation \n",
    "    - 학습 과정 추적 \n",
    "    - Test / 모델 검증\n",
    "    - 후처리"
   ]
  },
  {
   "cell_type": "markdown",
   "id": "9b725a2d",
   "metadata": {},
   "source": [
    "##### 학습 과정 추적"
   ]
  },
  {
   "cell_type": "code",
   "execution_count": 286,
   "id": "df11f4b3",
   "metadata": {},
   "outputs": [
    {
     "data": {
      "image/png": "[encoded data removed]",
      "text/plain": [
       "<Figure size 720x360 with 2 Axes>"
      ]
     },
     "metadata": {
      "needs_background": "light"
     },
     "output_type": "display_data"
    }
   ],
   "source": [
    "plt.figure(figsize=(10,5))\n",
    "\n",
    "plt.subplot(121)\n",
    "plt.plot(hist.history['loss'])\n",
    "plt.subplot(122)\n",
    "plt.plot(hist.history['accuracy'])\n",
    "\n",
    "plt.show()\n",
    "\n",
    "# 1자형 곡선은 학습이 잘 안된것.\n",
    "# 학습이 잘 된 것은 L자형임"
   ]
  },
  {
   "cell_type": "markdown",
   "id": "5f4bf22c",
   "metadata": {},
   "source": [
    "##### 모델 검증"
   ]
  },
  {
   "cell_type": "code",
   "execution_count": 287,
   "id": "fd4e0367",
   "metadata": {},
   "outputs": [
    {
     "name": "stdout",
     "output_type": "stream",
     "text": [
      "1875/1875 [==============================] - 1s 290us/step - loss: 0.6254 - accuracy: 0.8577\n"
     ]
    },
    {
     "data": {
      "text/plain": [
       "[0.6254056096076965, 0.8577166795730591]"
      ]
     },
     "execution_count": 287,
     "metadata": {},
     "output_type": "execute_result"
    }
   ],
   "source": [
    "model.evaluate(test_x, test_y)"
   ]
  },
  {
   "cell_type": "markdown",
   "id": "21567ce4",
   "metadata": {},
   "source": [
    "##### 후처리"
   ]
  },
  {
   "cell_type": "code",
   "execution_count": 288,
   "id": "2dbd62f2",
   "metadata": {},
   "outputs": [],
   "source": [
    "pred = model.predict(test_x[:1])"
   ]
  },
  {
   "cell_type": "code",
   "execution_count": 289,
   "id": "110f2bc4",
   "metadata": {},
   "outputs": [
    {
     "data": {
      "text/plain": [
       "5"
      ]
     },
     "execution_count": 289,
     "metadata": {},
     "output_type": "execute_result"
    }
   ],
   "source": [
    "pred.argmax()       # 후처리"
   ]
  },
  {
   "cell_type": "code",
   "execution_count": 290,
   "id": "85c2ab88",
   "metadata": {},
   "outputs": [],
   "source": [
    "sample_img = test_x[0].reshape((28, 28)) * 255      # 원상복구\n",
    "                                        # * 255 를 안해도 상관없음"
   ]
  },
  {
   "cell_type": "code",
   "execution_count": 291,
   "id": "b93d0f01",
   "metadata": {},
   "outputs": [
    {
     "data": {
      "text/plain": [
       "array([0., 0., 0., 0., 0., 1., 0., 0., 0., 0.], dtype=float32)"
      ]
     },
     "execution_count": 291,
     "metadata": {},
     "output_type": "execute_result"
    }
   ],
   "source": [
    "test_y[0]"
   ]
  },
  {
   "cell_type": "code",
   "execution_count": 292,
   "id": "689f72db",
   "metadata": {},
   "outputs": [
    {
     "data": {
      "image/png": "[encoded data removed]",
      "text/plain": [
       "<Figure size 432x288 with 1 Axes>"
      ]
     },
     "metadata": {
      "needs_background": "light"
     },
     "output_type": "display_data"
    }
   ],
   "source": [
    "plt.imshow(sample_img)\n",
    "plt.show()"
   ]
  },
  {
   "cell_type": "code",
   "execution_count": null,
   "id": "b2f0cc1b",
   "metadata": {},
   "outputs": [],
   "source": []
  },
  {
   "cell_type": "code",
   "execution_count": null,
   "id": "ceebf587",
   "metadata": {},
   "outputs": [],
   "source": []
  }
 ],
 "metadata": {
  "interpreter": {
   "hash": "b5a26d0e877c4652cf53eb6b13536f4959f02e722fb5eef7979a29d14fb02c8a"
  },
  "kernelspec": {
   "display_name": "Python 3.10.4 ('TF')",
   "language": "python",
   "name": "python3"
  },
  "language_info": {
   "codemirror_mode": {
    "name": "ipython",
    "version": 3
   },
   "file_extension": ".py",
   "mimetype": "text/x-python",
   "name": "python",
   "nbconvert_exporter": "python",
   "pygments_lexer": "ipython3",
   "version": "3.10.4"
  },
  "varInspector": {
   "cols": {
    "lenName": 16,
    "lenType": 16,
    "lenVar": 40
   },
   "kernels_config": {
    "python": {
     "delete_cmd_postfix": "",
     "delete_cmd_prefix": "del ",
     "library": "var_list.py",
     "varRefreshCmd": "print(var_dic_list())"
    },
    "r": {
     "delete_cmd_postfix": ") ",
     "delete_cmd_prefix": "rm(",
     "library": "var_list.r",
     "varRefreshCmd": "cat(var_dic_list()) "
    }
   },
   "types_to_exclude": [
    "module",
    "function",
    "builtin_function_or_method",
    "instance",
    "_Feature"
   ],
   "window_display": false
  }
 },
 "nbformat": 4,
 "nbformat_minor": 5
}

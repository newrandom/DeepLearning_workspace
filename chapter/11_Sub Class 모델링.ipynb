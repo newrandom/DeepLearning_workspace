{
 "cells": [
  {
   "cell_type": "markdown",
   "id": "66f8aa76",
   "metadata": {},
   "source": [
    "# Sub Class 모델링"
   ]
  },
  {
   "cell_type": "markdown",
   "id": "c001ac1f",
   "metadata": {},
   "source": [
    "모델 이란 것은 Input을 Output으로 만들어주는 수식이다. \n",
    "\n",
    "해당 기능을 수행하는 두 가지 클래스가 `tf.keras.layers.Layer` 와 `tf.keras.layers.Model` 클래스이다. \n",
    "\n",
    "두가지 모두 **연산을 추상화** 하는 것으로 동일한 역할을 하지만, `tf.keras.layers.Model` 클래스의 경우 모델을 저장 하는 기능 과 `fit`, `save` 함수를 사용할 수 있다는 점에서 차이가 있다. \n",
    "\n",
    "- tf.keras.layers.Layer\n",
    "- tf.keras.layers.Model"
   ]
  },
  {
   "cell_type": "code",
   "execution_count": 1,
   "id": "88ee619a",
   "metadata": {},
   "outputs": [],
   "source": [
    "import numpy as np\n",
    "import pandas as pd\n",
    "import tensorflow as tf\n",
    "\n",
    "import matplotlib.pyplot as plt\n",
    "import seaborn as sns\n",
    "%matplotlib inline"
   ]
  },
  {
   "cell_type": "code",
   "execution_count": 2,
   "id": "7253a144",
   "metadata": {},
   "outputs": [],
   "source": [
    "np.random.seed(7777)\n",
    "tf.random.set_seed(7777)"
   ]
  },
  {
   "cell_type": "markdown",
   "id": "33799c3c",
   "metadata": {},
   "source": [
    "### Linear Regression을 Layer로 만들어 보자. "
   ]
  },
  {
   "cell_type": "code",
   "execution_count": 10,
   "id": "f5eddbc8",
   "metadata": {},
   "outputs": [],
   "source": [
    "class LinearRegression(tf.keras.layers.Layer):\n",
    "    def __init__(self, units):      # units 은 몇개의 output을 나타내는지를 나타냄\n",
    "        super(LinearRegression, self).__init__()\n",
    "        self.units = units\n",
    "\n",
    "    def build(self, input_shape):       \n",
    "        self.w = self.add_weight(       # 레이어 클래스에 들어있는 하이 메서드\n",
    "            shape = (input_shape[-1], self.units),   # feature 개수를 받아옴.\n",
    "            initializer = 'random_normal',\n",
    "            trainable = True\n",
    "        )  \n",
    "\n",
    "        self.b = tf.Variable(0.0)\n",
    "\n",
    "\n",
    "        # self.w = tf.Variable()\n",
    "        # y_hat = w * input * b   # y_hat : y 추정치\n",
    "    def call(self, inputs):  # overiding이라고도 한다.\n",
    "        return tf.matmul(inputs, self.w) + self.b"
   ]
  },
  {
   "cell_type": "markdown",
   "id": "d6677a83",
   "metadata": {},
   "source": [
    "### 가상 데이터"
   ]
  },
  {
   "cell_type": "code",
   "execution_count": 11,
   "id": "ffdbc23b",
   "metadata": {},
   "outputs": [],
   "source": [
    "W_true = np.array([3., 2., 4., 1.]).reshape(4, 1)\n",
    "B_true = np.array([1.])         # 정답"
   ]
  },
  {
   "cell_type": "code",
   "execution_count": 12,
   "id": "f8ef1686",
   "metadata": {},
   "outputs": [],
   "source": [
    "X = tf.random.normal((500, 4))\n",
    "noise = tf.random.normal((500, 1))\n",
    "\n",
    "y = X @ W_true + B_true + noise"
   ]
  },
  {
   "cell_type": "code",
   "execution_count": 13,
   "id": "37d91b41",
   "metadata": {},
   "outputs": [],
   "source": [
    "opt = tf.keras.optimizers.SGD(learning_rate=0.03)\n",
    "\n",
    "linear_layer = LinearRegression(1)"
   ]
  },
  {
   "cell_type": "code",
   "execution_count": 14,
   "id": "4a0b650f",
   "metadata": {},
   "outputs": [
    {
     "name": "stdout",
     "output_type": "stream",
     "text": [
      "epoch : 0 loss : 30.994300842285156\n",
      "epoch : 10 loss : 10.11658000946045\n",
      "epoch : 20 loss : 3.7557129859924316\n",
      "epoch : 30 loss : 1.8134708404541016\n",
      "epoch : 40 loss : 1.2191704511642456\n",
      "epoch : 50 loss : 1.0369535684585571\n",
      "epoch : 60 loss : 0.9809763431549072\n",
      "epoch : 70 loss : 0.9637481570243835\n",
      "epoch : 80 loss : 0.9584361910820007\n",
      "epoch : 90 loss : 0.9567957520484924\n"
     ]
    }
   ],
   "source": [
    "for epoch in range(100):\n",
    "    with tf.GradientTape() as tape:\n",
    "        y_hat = linear_layer(X)\n",
    "        loss = tf.reduce_mean(tf.square(y - y_hat))\n",
    "\n",
    "    grads = tape.gradient(loss, linear_layer.trainable_weights)\n",
    "\n",
    "    # w.assign_sub(lr*dw)\n",
    "    opt.apply_gradients(zip(grads, linear_layer.trainable_weights))\n",
    "    \n",
    "    if epoch % 10 == 0:\n",
    "        print('epoch : {} loss : {}'.format(epoch, loss.numpy()))"
   ]
  },
  {
   "cell_type": "code",
   "execution_count": 8,
   "id": "a8044b1c",
   "metadata": {},
   "outputs": [
    {
     "data": {
      "text/plain": [
       "[<tf.Variable 'linear_regression/Variable:0' shape=(4, 1) dtype=float32, numpy=\n",
       " array([[ 0.08569323],\n",
       "        [ 0.00562383],\n",
       "        [-0.02817372],\n",
       "        [-0.05486977]], dtype=float32)>,\n",
       " <tf.Variable 'linear_regression/Variable:0' shape=() dtype=float32, numpy=0.0>]"
      ]
     },
     "execution_count": 8,
     "metadata": {},
     "output_type": "execute_result"
    }
   ],
   "source": [
    "linear_layer.trainable_weights"
   ]
  },
  {
   "cell_type": "markdown",
   "id": "51f8ef2b",
   "metadata": {},
   "source": [
    "### ResNet - Sub Class 로 구현 하기 \n",
    "\n",
    "1. Residual Block - Layer\n",
    "2. ResNet  - Model"
   ]
  },
  {
   "cell_type": "code",
   "execution_count": 15,
   "id": "a1bb7c07",
   "metadata": {},
   "outputs": [],
   "source": [
    "from tensorflow.keras.layers import Input, Conv2D, MaxPool2D, Flatten, Dense, Add"
   ]
  },
  {
   "cell_type": "code",
   "execution_count": 16,
   "id": "30686ffe",
   "metadata": {},
   "outputs": [],
   "source": [
    "class ResidualBlock(tf.keras.layers.Layer):\n",
    "\n",
    "    def __init__(self, filters=32, filter_match=False):\n",
    "                        # residualblock 에 필요한 filters\n",
    "                                    # filter_match가 True이면 \n",
    "\n",
    "        super(ResidualBlock, self).__init__()\n",
    "\n",
    "        self.conv1 = Conv2D(filters, kernel_size=1, padding='same', activation = 'relu')\n",
    "        self.conv2 = Conv2D(filters, kernel_size=3, padding='same', activation = 'relu')\n",
    "        self.conv3 = Conv2D(filters, kernel_size=1, padding='same', activation = 'relu')\n",
    "        self.add = Add()\n",
    "        self.filters = filters\n",
    "        self.filter_match = filter_match\n",
    "        \n",
    "        if self.filter_match:    # True일때\n",
    "            self.conv_ext = Conv2D(filters, kernel_size=1, padding='same')\n",
    "\n",
    "    def call(self, inputs):\n",
    "        net1 = self.conv1(inputs)\n",
    "        net2 = self.conv2(net1)\n",
    "        net3 = self.conv3(net2)\n",
    "        \n",
    "        if self.filter_match:\n",
    "            res = self.add([self.conv_ext(inputs), net3])\n",
    "\n",
    "        else:\n",
    "            res = self.add([inputs, net3])\n",
    "        \n",
    "        return res"
   ]
  },
  {
   "cell_type": "code",
   "execution_count": 17,
   "id": "f51ae7c7",
   "metadata": {},
   "outputs": [],
   "source": [
    "class ResNet(tf.keras.Model):\n",
    "    def __init__(self, num_classes):\n",
    "        super(ResNet, self).__init__()\n",
    "\n",
    "        self.conv1 = Conv2D(32, kernel_size=3, strides=2, padding='same', activation = 'relu')\n",
    "        self.maxp1 = MaxPool2D()\n",
    "        self.block1 = ResidualBlock(64, True)\n",
    "        self.block2 = ResidualBlock(64)\n",
    "        self.maxp2 = MaxPool2D\n",
    "        self.flat = Flatten()\n",
    "        self.dense = Dense(num_classes)\n",
    "\n",
    "    def call(self, inputs):\n",
    "        x = self.conv1(inputs)\n",
    "        x = self.maxp1(x)\n",
    "        x = self.block1(x)\n",
    "        x = self.block2(x)\n",
    "        x = self.maxp2(x)\n",
    "        x = self.flat(x)\n",
    "        return self.dense(x)\n",
    "        \n",
    "        "
   ]
  },
  {
   "cell_type": "code",
   "execution_count": 18,
   "id": "38877d4c",
   "metadata": {},
   "outputs": [],
   "source": [
    "model = ResNet(10)"
   ]
  },
  {
   "cell_type": "code",
   "execution_count": null,
   "id": "df46d6d5",
   "metadata": {},
   "outputs": [],
   "source": []
  },
  {
   "cell_type": "code",
   "execution_count": null,
   "id": "49ae5b65",
   "metadata": {},
   "outputs": [],
   "source": []
  },
  {
   "cell_type": "code",
   "execution_count": null,
   "id": "810eac35",
   "metadata": {},
   "outputs": [],
   "source": []
  },
  {
   "cell_type": "code",
   "execution_count": null,
   "id": "45c2bccf",
   "metadata": {},
   "outputs": [],
   "source": []
  },
  {
   "cell_type": "markdown",
   "id": "f843d6f2",
   "metadata": {},
   "source": [
    "### 학습 시켜보기"
   ]
  },
  {
   "cell_type": "code",
   "execution_count": null,
   "id": "a1125f62",
   "metadata": {},
   "outputs": [],
   "source": []
  },
  {
   "cell_type": "code",
   "execution_count": null,
   "id": "0fbdd270",
   "metadata": {},
   "outputs": [],
   "source": []
  },
  {
   "cell_type": "code",
   "execution_count": null,
   "id": "fc225181",
   "metadata": {},
   "outputs": [],
   "source": []
  },
  {
   "cell_type": "code",
   "execution_count": null,
   "id": "ac09e7c0",
   "metadata": {},
   "outputs": [],
   "source": []
  },
  {
   "cell_type": "code",
   "execution_count": null,
   "id": "c22b8b99",
   "metadata": {},
   "outputs": [],
   "source": []
  }
 ],
 "metadata": {
  "interpreter": {
   "hash": "b5a26d0e877c4652cf53eb6b13536f4959f02e722fb5eef7979a29d14fb02c8a"
  },
  "kernelspec": {
   "display_name": "Python 3.10.4 ('TF')",
   "language": "python",
   "name": "python3"
  },
  "language_info": {
   "codemirror_mode": {
    "name": "ipython",
    "version": 3
   },
   "file_extension": ".py",
   "mimetype": "text/x-python",
   "name": "python",
   "nbconvert_exporter": "python",
   "pygments_lexer": "ipython3",
   "version": "3.10.4"
  },
  "varInspector": {
   "cols": {
    "lenName": 16,
    "lenType": 16,
    "lenVar": 40
   },
   "kernels_config": {
    "python": {
     "delete_cmd_postfix": "",
     "delete_cmd_prefix": "del ",
     "library": "var_list.py",
     "varRefreshCmd": "print(var_dic_list())"
    },
    "r": {
     "delete_cmd_postfix": ") ",
     "delete_cmd_prefix": "rm(",
     "library": "var_list.r",
     "varRefreshCmd": "cat(var_dic_list()) "
    }
   },
   "types_to_exclude": [
    "module",
    "function",
    "builtin_function_or_method",
    "instance",
    "_Feature"
   ],
   "window_display": false
  }
 },
 "nbformat": 4,
 "nbformat_minor": 5
}

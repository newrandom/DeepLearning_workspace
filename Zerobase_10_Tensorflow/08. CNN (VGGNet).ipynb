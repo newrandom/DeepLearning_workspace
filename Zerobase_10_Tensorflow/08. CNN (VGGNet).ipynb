{
 "cells": [
  {
   "cell_type": "markdown",
   "id": "8679b3af",
   "metadata": {},
   "source": [
    "# 지금까지 정리\n",
    "\n",
    "\n",
    "딥러닝 프레임워크를 공부할 떄는 먼저, 4가지를 어떻게 하면 되는지를 알아보면 된다!\n",
    "\n",
    "![](../statics/imgs/4elems_dlFramework.png)\n",
    "\n",
    "> - Tensor 다루기\n",
    "> - 최적화 : `tf.GradientTape` 을 통해 최적화\n",
    "> - 연산정의(Modeling)\n",
    "> - 데이터 다루기"
   ]
  },
  {
   "cell_type": "code",
   "execution_count": null,
   "id": "7e3df118",
   "metadata": {},
   "outputs": [],
   "source": []
  },
  {
   "cell_type": "markdown",
   "id": "becf8dd5",
   "metadata": {},
   "source": [
    "딥러닝 프로젝트를 수행하기 위해서 아래 4 단계를 구현 하면 된다. \n",
    "\n",
    "![](../statics/imgs/dl_flow.png)\n",
    "> Data -> Preprocess -> Model -> Evaluation\n",
    ">   -   preprocess : 데이터 검증, 전처리, 데이터 증강\n",
    ">   -   Model : modeling , 학습로직\n",
    ">   -   Evaluation : 학습과정 추적, 후처리, 모델 검증"
   ]
  },
  {
   "cell_type": "code",
   "execution_count": null,
   "id": "493baf82",
   "metadata": {},
   "outputs": [],
   "source": []
  },
  {
   "cell_type": "markdown",
   "id": "ec387c46",
   "metadata": {},
   "source": [
    "## 모델을 정의 하는 방법! \n",
    "3가지만!\n",
    "\n",
    "1. Sequencial 사용하기  (우리가 지금까지 모델을 만들던 방식) : 제일 간단하지만 자유도가 떨어진다.\n",
    "2. Functional API model : 1번보다 자유도가 높고, 3번보다 낮다. 대부분의 논문을 구현할 수 있다.\n",
    "3. Sub class model : 자유도가 가장 높지만 코드가 길어지고, 초보자에게는 어려운 것"
   ]
  },
  {
   "cell_type": "code",
   "execution_count": null,
   "id": "088ffdb4",
   "metadata": {},
   "outputs": [],
   "source": []
  },
  {
   "cell_type": "markdown",
   "id": "f3773714",
   "metadata": {},
   "source": [
    "# Convolutional Neural Network; CNN (VGG19)\n",
    "- convolution 연산을 이용한 neural network 이다.\n",
    "- vgg 는 cnn의 종류중 하나\n",
    "- CNN 은 주로 이미지 데이터에 사용된다."
   ]
  },
  {
   "cell_type": "code",
   "execution_count": 1,
   "id": "37f7fd0a",
   "metadata": {},
   "outputs": [],
   "source": [
    "import numpy as np\n",
    "import pandas as pd\n",
    "import tensorflow as tf\n",
    "\n",
    "import matplotlib.pyplot as plt\n",
    "import seaborn as sns\n",
    "%matplotlib inline"
   ]
  },
  {
   "cell_type": "code",
   "execution_count": 2,
   "id": "5e771042",
   "metadata": {},
   "outputs": [],
   "source": [
    "np.random.seed(7777)\n",
    "tf.random.set_seed(7777)"
   ]
  },
  {
   "cell_type": "markdown",
   "id": "055c0145",
   "metadata": {},
   "source": [
    "### Convolutional Neural Network\n",
    "\n",
    "![](../statics/imgs/convnets-feature-maps.png)"
   ]
  },
  {
   "cell_type": "markdown",
   "id": "9ca204d9",
   "metadata": {},
   "source": [
    "### Filter to an image (Convolution layer)\n",
    "\n",
    "\n",
    "![](../statics/imgs/cnn.png)\n"
   ]
  },
  {
   "cell_type": "code",
   "execution_count": null,
   "id": "527a307b",
   "metadata": {},
   "outputs": [],
   "source": []
  },
  {
   "cell_type": "markdown",
   "id": "9c837910",
   "metadata": {},
   "source": [
    "## 이번 시간에는 VGGNet를 구현 해보겠습니다. "
   ]
  },
  {
   "cell_type": "markdown",
   "id": "42c5b9ae",
   "metadata": {},
   "source": [
    "### VGGNet \n",
    "\n",
    " VGGNet은 2014년 ILSVRC에서 비록 다음에 배울 GoogLeNet에 밀려 2위를 했지만, 훨씬 간단한 구조로 이해와 변형이 쉽다는 장점이 있어 많이 응용된 모델이다."
   ]
  },
  {
   "cell_type": "markdown",
   "id": "5bac95bb",
   "metadata": {},
   "source": [
    "VGGNet의 개발자들은 모델의 깊이가 성능에 얼마나 영향을 끼칠지에 집중하여 연구하였다고 논문에서 밝혔다. 깊은 네트워크를 가지고 있지만, GoogLeNet과 비교하면, 구조가 매우 간단하다. 깊이에 따른 변화를 비교하기 위해, 3x3의 작은 필터 크기를 사용했고, 모델 깊이와 구조에 변화를 주어 실험하였다. 논문에서 언급한 것은 총 6개의 모델로 내용은 다음 표와 같다. 표의 \"D\" 구조를 VGG16, \"E\" 구조를 VGG19라고 부른다. 다음 표에서, \"conv 3, 64\" 는 3x3 컨볼루션(convolution) 연산에 출력 피쳐맵 갯수는 64개라는 뜻이다. "
   ]
  },
  {
   "cell_type": "markdown",
   "id": "5ef80cd8",
   "metadata": {},
   "source": [
    "|  A  |  A-LRN  |   B   |   C   |   D   |   E   |\n",
    "|:--------:|:--------:|:--------:|:--------:|:--------:|:--------:|\n",
    "|11개의 레이어|11개의 레이어|13개의 레이어|16개의 레이어|16개의 레이어|19개의 레이어|\n",
    "|conv 3, 64|conv 3, 64|conv 3, 64|conv 3, 64|conv 3, 64|conv 3, 64| \n",
    "|          |LRN       |conv 3, 64|conv 3, 64|conv 3, 64|conv 3, 64|\n",
    "| maxpool 2| maxpool 2| maxpool 2| maxpool 2| maxpool 2| maxpool 2|\n",
    "|conv 3, 128|conv 3, 128|conv 3, 128|conv 3, 128|conv 3, 128|conv 3, 128|\n",
    "|           |           |conv 3, 128|conv 3, 128|conv 3, 128|conv 3, 128|\n",
    "| maxpool 2| maxpool 2| maxpool 2| maxpool 2| maxpool 2| maxpool 2|\n",
    "|conv 3, 256|conv 3, 256|conv 3, 256|conv 3, 256|conv 3, 256|conv 3, 256|\n",
    "|conv 3, 256|conv 3, 256|conv 3, 256|conv 3, 256|conv 3, 256|conv 3, 256|\n",
    "|           |           |           |conv 1, 256|conv 3, 256|conv 3, 256|\n",
    "|           |           |           |           |           |conv 3, 256|\n",
    "| maxpool 2| maxpool 2| maxpool 2| maxpool 2| maxpool 2| maxpool 2|\n",
    "|conv 3, 512|conv 3, 512|conv 3, 512|conv 3, 512|conv 3, 512|conv 3, 512|\n",
    "|conv 3, 512|conv 3, 512|conv 3, 512|conv 3, 512|conv 3, 512|conv 3, 512|\n",
    "|           |           |           |conv 1, 512|conv 3, 512|conv 3, 512|\n",
    "|           |           |           |           |           |conv 3, 512|\n",
    "| maxpool 2| maxpool 2| maxpool 2| maxpool 2| maxpool 2| maxpool 2|\n",
    "|conv 3, 512|conv 3, 512|conv 3, 512|conv 3, 512|conv 3, 512|conv 3, 512|\n",
    "|conv 3, 512|conv 3, 512|conv 3, 512|conv 3, 512|conv 3, 512|conv 3, 512|\n",
    "|           |           |           |conv 1, 512|conv 3, 512|conv 3, 512|\n",
    "|           |           |           |           |           |conv 3, 512|\n",
    "| maxpool 2| maxpool 2| maxpool 2| maxpool 2| maxpool 2| maxpool 2|\n",
    "| FCN 4096  | FCN 4096  | FCN 4096  | FCN 4096  | FCN 4096  | FCN 4096  |\n",
    "| FCN 4096  | FCN 4096  | FCN 4096  | FCN 4096  | FCN 4096  | FCN 4096  |\n",
    "| FCN 1000  | FCN 1000  | FCN 1000  | FCN 1000  | FCN 1000  | FCN 1000  |\n",
    " "
   ]
  },
  {
   "cell_type": "code",
   "execution_count": null,
   "id": "0b7fc5d7",
   "metadata": {},
   "outputs": [],
   "source": []
  },
  {
   "cell_type": "code",
   "execution_count": null,
   "id": "4298b2ed",
   "metadata": {},
   "outputs": [],
   "source": []
  },
  {
   "cell_type": "markdown",
   "id": "dcb6e21c",
   "metadata": {},
   "source": [
    "### Dataloader\n",
    "\n",
    " - Flatten => 채널 차원 추가로 변경 \n",
    " \n",
    " (Convolution Layer는 주로 이미지데이터처리를 위해 사용되기 때문에, `컬러이미지는 (height, width, 3)` `흑백은 (height, width, 1)`로 사용한다.)\n",
    " \n",
    " \n",
    "       ex) (num_data, 28, 28) => (num_data, 28, 28, 1)\n",
    " "
   ]
  },
  {
   "cell_type": "code",
   "execution_count": 3,
   "id": "a602a36c",
   "metadata": {},
   "outputs": [],
   "source": [
    "class DataLoader():\n",
    "\n",
    "    def __init__(self):\n",
    "        (self.train_x, self.train_y), \\\n",
    "            (self.test_x, self.test_y) = tf.keras.datasets.mnist.load_data()\n",
    "\n",
    "        # (train_x, train_y), (test_x, test_y) = tf.keras.datasets.mnist.load_data()\n",
    "\n",
    "    def validate_pixel_scale(self, x):\n",
    "        return 255 >= x.max() and 0 <= x.min()\n",
    "\n",
    "    def scale(self, x):\n",
    "        return (x / 255.0).astype(np.float32)\n",
    "\n",
    "    def preprocess_dataset(self, dataset):\n",
    "        feature, target = dataset\n",
    "\n",
    "        validated_x = np.array([x for x in feature if self.validate_pixel_scale(x)])\n",
    "        validated_y = np.array([y for x,y in zip(feature, target) if self.validate_pixel_scale(x)])\n",
    "\n",
    "        # scale\n",
    "        scaled_x = np.array([self.scale(x) for x in validated_x])\n",
    "        \n",
    "        # flatten   CNN에서는 안쓴다고 함\n",
    "        # flatten_x = scaled_x.reshape((scaled_x.shape[0], -1))\n",
    "\n",
    "        # expand\n",
    "        expanded_x = scaled_x[:, :, :, np.newaxis]\n",
    "                                        # 가짜 차원 하나를 추가한다.\n",
    "                              # 인덱스 전체\n",
    "                                # height\n",
    "                                    # width\n",
    "\n",
    "        # label encoding\n",
    "        ohe_y = np.array([tf.keras.utils.to_categorical(y, num_classes=10) for y in validated_y])\n",
    "\n",
    "        return expanded_x, ohe_y    # expanded_x 로 변경\n",
    "    \n",
    "    def get_train_dataset(self):\n",
    "        return self.preprocess_dataset((self.train_x, self.train_y))\n",
    "    \n",
    "    def get_test_dataset(self):\n",
    "        return self.preprocess_dataset((self.test_x, self.test_y))"
   ]
  },
  {
   "cell_type": "code",
   "execution_count": 4,
   "id": "540d6842",
   "metadata": {},
   "outputs": [
    {
     "name": "stdout",
     "output_type": "stream",
     "text": [
      "(60000, 28, 28, 1)\n",
      "(60000, 28, 28, 1)\n",
      "(60000, 10)\n",
      "(60000, 10)\n"
     ]
    }
   ],
   "source": [
    "mnist_loader = DataLoader()\n",
    "\n",
    "train_x, train_y = mnist_loader.get_train_dataset()\n",
    "\n",
    "test_x, test_y = mnist_loader.get_train_dataset()   # mnist_loader.get_test_dataset()\n",
    "\n",
    "print(train_x.shape)\n",
    "print(test_x.shape)\n",
    "print(train_y.shape)\n",
    "print(test_y.shape)\n",
    "\n",
    "# 3차원 이미지로 바뀌고, 10개의 ohe 된 레이블로 바뀌었다."
   ]
  },
  {
   "cell_type": "markdown",
   "id": "1992c743",
   "metadata": {},
   "source": [
    "## VGGNet에서 사용되는 Layer들\n",
    "\n",
    " - `tf.keras.layers.Conv2D`\n",
    " - `tf.keras.layers.Activation`\n",
    " - `tf.keras.layers.MaxPool2D`\n",
    " - `tf.keras.layers.Flatten`\n",
    " - `tf.keras.layers.Dense`"
   ]
  },
  {
   "cell_type": "markdown",
   "id": "c6450b8d",
   "metadata": {},
   "source": [
    "#### Conv2D\n",
    "\n",
    "![](../statics/imgs/conv2D.png)"
   ]
  },
  {
   "cell_type": "markdown",
   "id": "91fc430e",
   "metadata": {},
   "source": [
    "- filters: layer에서 사용할 Filter(weights)의 갯수\n",
    "- kernel_size: Filter(weights)의 사이즈  \n",
    "- strides: 몇 개의 pixel을 skip 하면서 훑어지나갈 것인지 (출력 피쳐맵의 사이즈에 영향을 줌)\n",
    "- padding: zero padding을 만들 것인지. VALID는 Padding이 없고, SAME은 Padding이 있음 (출력 피쳐맵의 사이즈에 영향을 줌)\n",
    "- activation: Activation Function을 지정"
   ]
  },
  {
   "cell_type": "code",
   "execution_count": 5,
   "id": "9c05a213",
   "metadata": {},
   "outputs": [
    {
     "data": {
      "text/plain": [
       "<keras.layers.convolutional.Conv2D at 0x1799ce0d0>"
      ]
     },
     "execution_count": 5,
     "metadata": {},
     "output_type": "execute_result"
    }
   ],
   "source": [
    "tf.keras.layers.Conv2D(64, (3,3), 1, padding = 'same', activation='relu')\n",
    "                      # filters 개수\n",
    "                            # kernel_size : 정사각형(n * n)인 경우 n만 써도 된다.\n",
    "                                 # strides\n",
    "                                     # padding 여부\n",
    "                                                        # activation 지정"
   ]
  },
  {
   "cell_type": "code",
   "execution_count": null,
   "id": "b8404829",
   "metadata": {},
   "outputs": [],
   "source": []
  },
  {
   "cell_type": "markdown",
   "id": "a4bec1b4",
   "metadata": {},
   "source": [
    "#### MaxPool2D\n",
    "\n",
    "![](../statics/imgs/Maxpool2D.png)"
   ]
  },
  {
   "cell_type": "markdown",
   "id": "6f91c8d6",
   "metadata": {},
   "source": [
    "- pool_size: Pooling window 크기\n",
    "- strides: 몇 개의 pixel을 skip 하면서 훑어지나갈 것인지 \n",
    "- padding: zero padding을 만들 것인지"
   ]
  },
  {
   "cell_type": "code",
   "execution_count": 6,
   "id": "3acd2618",
   "metadata": {},
   "outputs": [
    {
     "data": {
      "text/plain": [
       "keras.layers.pooling.MaxPooling2D"
      ]
     },
     "execution_count": 6,
     "metadata": {},
     "output_type": "execute_result"
    }
   ],
   "source": [
    "tf.keras.layers.MaxPool2D"
   ]
  },
  {
   "cell_type": "code",
   "execution_count": null,
   "id": "b4c7d4ac",
   "metadata": {},
   "outputs": [],
   "source": []
  },
  {
   "cell_type": "markdown",
   "id": "83935747",
   "metadata": {},
   "source": [
    "#### Flatten\n",
    "\n",
    "![](../statics/imgs/Flatten.png)"
   ]
  },
  {
   "cell_type": "code",
   "execution_count": 7,
   "id": "4cd0f960",
   "metadata": {},
   "outputs": [
    {
     "data": {
      "text/plain": [
       "keras.layers.core.flatten.Flatten"
      ]
     },
     "execution_count": 7,
     "metadata": {},
     "output_type": "execute_result"
    }
   ],
   "source": [
    "tf.keras.layers.Flatten"
   ]
  },
  {
   "cell_type": "code",
   "execution_count": null,
   "id": "b0350fb6",
   "metadata": {},
   "outputs": [],
   "source": []
  },
  {
   "cell_type": "markdown",
   "id": "783fe722",
   "metadata": {},
   "source": [
    "#### Dense\n",
    "\n",
    "![](../statics/imgs/Dense.png)"
   ]
  },
  {
   "cell_type": "markdown",
   "id": "215e946f",
   "metadata": {},
   "source": [
    "- units : 노드 갯수\n",
    "- activation : 활성화 함수\n",
    "- use_bias : bias 를 사용 할 것인지\n",
    "- kernel_initializer : 최초 가중치를 어떻게 세팅 할 것인지\n",
    "- bias_initializer : 최초 bias를 어떻게 세팅 할 것인지"
   ]
  },
  {
   "cell_type": "code",
   "execution_count": 8,
   "id": "1e30d7b3",
   "metadata": {},
   "outputs": [
    {
     "data": {
      "text/plain": [
       "keras.layers.core.dense.Dense"
      ]
     },
     "execution_count": 8,
     "metadata": {},
     "output_type": "execute_result"
    }
   ],
   "source": [
    "tf.keras.layers.Dense"
   ]
  },
  {
   "cell_type": "code",
   "execution_count": null,
   "id": "a038d808",
   "metadata": {},
   "outputs": [],
   "source": []
  },
  {
   "cell_type": "markdown",
   "id": "377473ee",
   "metadata": {},
   "source": [
    "## Layer들을 이용해 모델 만들기 - Sequencial 방식"
   ]
  },
  {
   "cell_type": "code",
   "execution_count": 9,
   "id": "b252f635",
   "metadata": {},
   "outputs": [],
   "source": [
    "from tensorflow.keras.layers import Conv2D, MaxPool2D, Flatten, Dense"
   ]
  },
  {
   "cell_type": "code",
   "execution_count": 10,
   "id": "78952097",
   "metadata": {},
   "outputs": [
    {
     "name": "stdout",
     "output_type": "stream",
     "text": [
      "Metal device set to: Apple M1\n",
      "\n",
      "systemMemory: 8.00 GB\n",
      "maxCacheSize: 2.67 GB\n",
      "\n"
     ]
    },
    {
     "name": "stderr",
     "output_type": "stream",
     "text": [
      "2022-05-23 19:32:02.691492: I tensorflow/core/common_runtime/pluggable_device/pluggable_device_factory.cc:305] Could not identify NUMA node of platform GPU ID 0, defaulting to 0. Your kernel may not have been built with NUMA support.\n",
      "2022-05-23 19:32:02.691784: I tensorflow/core/common_runtime/pluggable_device/pluggable_device_factory.cc:271] Created TensorFlow device (/job:localhost/replica:0/task:0/device:GPU:0 with 0 MB memory) -> physical PluggableDevice (device: 0, name: METAL, pci bus id: <undefined>)\n"
     ]
    }
   ],
   "source": [
    "model = tf.keras.Sequential()"
   ]
  },
  {
   "cell_type": "code",
   "execution_count": 11,
   "id": "5a614ca0",
   "metadata": {},
   "outputs": [],
   "source": [
    "model.add(Conv2D(32, kernel_size=3, padding='same', activation='relu', input_shape = (28,28,1)))\n",
    "model.add(Conv2D(32, kernel_size=3, padding='same', activation='relu'))\n",
    "model.add(MaxPool2D())\n",
    "model.add(Conv2D(64, kernel_size=3, padding='same', activation='relu'))\n",
    "model.add(Conv2D(64, kernel_size=3, padding='same', activation='relu'))\n",
    "model.add(MaxPool2D())\n",
    "model.add(Flatten())\n",
    "model.add(Dense(128, activation='relu'))\n",
    "model.add(Dense(64, activation='relu'))\n",
    "model.add(Dense(10, activation='softmax'))      # 10은 우리가 사용하는 클래스 개수\n"
   ]
  },
  {
   "cell_type": "code",
   "execution_count": 12,
   "id": "719df101",
   "metadata": {},
   "outputs": [
    {
     "name": "stdout",
     "output_type": "stream",
     "text": [
      "Model: \"sequential\"\n",
      "_________________________________________________________________\n",
      " Layer (type)                Output Shape              Param #   \n",
      "=================================================================\n",
      " conv2d_1 (Conv2D)           (None, 28, 28, 32)        320       \n",
      "                                                                 \n",
      " conv2d_2 (Conv2D)           (None, 28, 28, 32)        9248      \n",
      "                                                                 \n",
      " max_pooling2d (MaxPooling2D  (None, 14, 14, 32)       0         \n",
      " )                                                               \n",
      "                                                                 \n",
      " conv2d_3 (Conv2D)           (None, 14, 14, 64)        18496     \n",
      "                                                                 \n",
      " conv2d_4 (Conv2D)           (None, 14, 14, 64)        36928     \n",
      "                                                                 \n",
      " max_pooling2d_1 (MaxPooling  (None, 7, 7, 64)         0         \n",
      " 2D)                                                             \n",
      "                                                                 \n",
      " flatten (Flatten)           (None, 3136)              0         \n",
      "                                                                 \n",
      " dense (Dense)               (None, 128)               401536    \n",
      "                                                                 \n",
      " dense_1 (Dense)             (None, 64)                8256      \n",
      "                                                                 \n",
      " dense_2 (Dense)             (None, 10)                650       \n",
      "                                                                 \n",
      "=================================================================\n",
      "Total params: 475,434\n",
      "Trainable params: 475,434\n",
      "Non-trainable params: 0\n",
      "_________________________________________________________________\n"
     ]
    }
   ],
   "source": [
    "model.summary()"
   ]
  },
  {
   "cell_type": "code",
   "execution_count": 13,
   "id": "1dc329b7",
   "metadata": {},
   "outputs": [],
   "source": [
    "# 학습 시키기\n",
    "lr = 0.03\n",
    "opt = tf.keras.optimizers.Adam(lr)\n",
    "loss = tf.keras.losses.categorical_crossentropy\n",
    "\n",
    "model.compile(optimizer=opt, loss=loss, metrics = ['accuracy'])\n",
    "                                        # metrics 는 한개만 있다 해도 항상 리스트 형식으로 넣어야 한다.\n",
    "                            # loss도 리스트로 받을 수는 있다."
   ]
  },
  {
   "cell_type": "code",
   "execution_count": 14,
   "id": "90ef0180",
   "metadata": {},
   "outputs": [
    {
     "name": "stdout",
     "output_type": "stream",
     "text": [
      "Epoch 1/2\n"
     ]
    },
    {
     "name": "stderr",
     "output_type": "stream",
     "text": [
      "2022-05-23 19:32:03.415095: W tensorflow/core/platform/profile_utils/cpu_utils.cc:128] Failed to get CPU frequency: 0 Hz\n",
      "2022-05-23 19:32:03.683066: I tensorflow/core/grappler/optimizers/custom_graph_optimizer_registry.cc:113] Plugin optimizer for device_type GPU is enabled.\n"
     ]
    },
    {
     "name": "stdout",
     "output_type": "stream",
     "text": [
      "469/469 [==============================] - ETA: 0s - loss: 0.7485 - accuracy: 0.7818"
     ]
    },
    {
     "name": "stderr",
     "output_type": "stream",
     "text": [
      "2022-05-23 19:32:17.628062: I tensorflow/core/grappler/optimizers/custom_graph_optimizer_registry.cc:113] Plugin optimizer for device_type GPU is enabled.\n"
     ]
    },
    {
     "name": "stdout",
     "output_type": "stream",
     "text": [
      "469/469 [==============================] - 19s 37ms/step - loss: 0.7485 - accuracy: 0.7818 - val_loss: 0.2714 - val_accuracy: 0.9204\n",
      "Epoch 2/2\n",
      "469/469 [==============================] - 17s 35ms/step - loss: 0.2475 - accuracy: 0.9249 - val_loss: 0.2194 - val_accuracy: 0.9317\n"
     ]
    }
   ],
   "source": [
    "hist = model.fit(train_x, train_y, epochs=2, batch_size=128, validation_data=(test_x, test_y))"
   ]
  },
  {
   "cell_type": "code",
   "execution_count": 15,
   "id": "72aaf03f",
   "metadata": {},
   "outputs": [
    {
     "data": {
      "text/plain": [
       "{'loss': [0.7485263347625732, 0.24754241108894348],\n",
       " 'accuracy': [0.7817833423614502, 0.9249333143234253],\n",
       " 'val_loss': [0.2713930010795593, 0.21938341856002808],\n",
       " 'val_accuracy': [0.9203667044639587, 0.9316666722297668]}"
      ]
     },
     "execution_count": 15,
     "metadata": {},
     "output_type": "execute_result"
    }
   ],
   "source": [
    "hist.history"
   ]
  },
  {
   "cell_type": "code",
   "execution_count": 16,
   "id": "c9516da4",
   "metadata": {},
   "outputs": [
    {
     "data": {
      "image/png": "[encoded data removed]",
      "text/plain": [
       "<Figure size 720x360 with 4 Axes>"
      ]
     },
     "metadata": {
      "needs_background": "light"
     },
     "output_type": "display_data"
    }
   ],
   "source": [
    "plt.figure(figsize=(10,5))\n",
    "plt.subplot(221)    #2 * 2 * 1\n",
    "plt.plot(hist.history['loss'])\n",
    "plt.subplot(222)\n",
    "plt.plot(hist.history['accuracy'])\n",
    "plt.subplot(223)\n",
    "plt.plot(hist.history['val_loss'])\n",
    "plt.subplot(224)\n",
    "plt.plot(hist.history['val_accuracy'])\n",
    "\n",
    "plt.tight_layout()\n",
    "plt.show()"
   ]
  },
  {
   "cell_type": "code",
   "execution_count": null,
   "id": "02d1ba37",
   "metadata": {},
   "outputs": [],
   "source": []
  },
  {
   "cell_type": "code",
   "execution_count": null,
   "id": "e33689fa",
   "metadata": {},
   "outputs": [],
   "source": []
  }
 ],
 "metadata": {
  "interpreter": {
   "hash": "b5a26d0e877c4652cf53eb6b13536f4959f02e722fb5eef7979a29d14fb02c8a"
  },
  "kernelspec": {
   "display_name": "Python 3.10.4 ('TF')",
   "language": "python",
   "name": "python3"
  },
  "language_info": {
   "codemirror_mode": {
    "name": "ipython",
    "version": 3
   },
   "file_extension": ".py",
   "mimetype": "text/x-python",
   "name": "python",
   "nbconvert_exporter": "python",
   "pygments_lexer": "ipython3",
   "version": "3.8.13"
  },
  "varInspector": {
   "cols": {
    "lenName": 16,
    "lenType": 16,
    "lenVar": 40
   },
   "kernels_config": {
    "python": {
     "delete_cmd_postfix": "",
     "delete_cmd_prefix": "del ",
     "library": "var_list.py",
     "varRefreshCmd": "print(var_dic_list())"
    },
    "r": {
     "delete_cmd_postfix": ") ",
     "delete_cmd_prefix": "rm(",
     "library": "var_list.r",
     "varRefreshCmd": "cat(var_dic_list()) "
    }
   },
   "types_to_exclude": [
    "module",
    "function",
    "builtin_function_or_method",
    "instance",
    "_Feature"
   ],
   "window_display": false
  }
 },
 "nbformat": 4,
 "nbformat_minor": 5
}

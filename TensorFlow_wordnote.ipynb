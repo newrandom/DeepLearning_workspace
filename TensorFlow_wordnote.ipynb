{
 "cells": [
  {
   "cell_type": "markdown",
   "id": "14c94222",
   "metadata": {},
   "source": [
    "# conda 환경 관련\n",
    "> - `python3.7 -m pip insatll ipykernel`      // 파이썬3.7 버전의 pip에서 ipykernel을 설치\n",
    "> - `python3.7 -m ipykernel install --user --name=\"이름\"`     // 파이선 3.7 버전의 kernel을 \"이름\"으로 만듦\n",
    "> - `jupyter kernelspec uninstall 가상환경이름`   // jupyter 커널 중 가상환경이름의 커널을 삭제\n",
    "> - `conda env remove -n 'name'`    // 가상환경 삭제하기"
   ]
  },
  {
   "cell_type": "markdown",
   "id": "6eafeca7",
   "metadata": {},
   "source": [
    "# tensorflow 설치\n",
    "> - python 최신 버전의 conda env를 만든다. // `conda create --name 'env_name' python=3`\n",
    "> - python 버전 확인 // `python --version`  (22.5.16 기준 3.10.4 가 최신)\n",
    "> - Jupyter notebook 설치 // `conda install jupyter`\n",
    "> - tensorflow 설치 // `conda install tensorflow`"
   ]
  },
  {
   "cell_type": "markdown",
   "id": "16479822",
   "metadata": {},
   "source": [
    "# 배운 단어"
   ]
  },
  {
   "cell_type": "markdown",
   "id": "ee076da9",
   "metadata": {},
   "source": [
    "### - tensorflow import 하기\n",
    "> `import tensorflow as tf`"
   ]
  },
  {
   "cell_type": "code",
   "execution_count": 268,
   "id": "b6980700",
   "metadata": {},
   "outputs": [],
   "source": [
    "import tensorflow as tf"
   ]
  },
  {
   "cell_type": "markdown",
   "id": "6b08ef7f",
   "metadata": {},
   "source": [
    "### - tensor 사용할 때 가장 중요한 것\n",
    "> `shape` 와 `dtype`"
   ]
  },
  {
   "cell_type": "markdown",
   "id": "f40f9001",
   "metadata": {},
   "source": [
    "### - Tensor 생성하기\n",
    "> `tf.Tensor`"
   ]
  },
  {
   "cell_type": "code",
   "execution_count": 269,
   "id": "b54c4769",
   "metadata": {},
   "outputs": [
    {
     "data": {
      "text/plain": [
       "tensorflow.python.framework.ops.Tensor"
      ]
     },
     "execution_count": 269,
     "metadata": {},
     "output_type": "execute_result"
    }
   ],
   "source": [
    "tf.Tensor"
   ]
  },
  {
   "cell_type": "markdown",
   "id": "ca5cdf4b",
   "metadata": {},
   "source": [
    "### constant (상수)\n",
    "> `tf.constant()`\n",
    "> - list, tuple, array 모두 Tensor로 들어올 수 있다.\n",
    "\n",
    "> - doble precision : 64bits\n",
    "> - single precision : 32bits\n",
    "> - half precision : 16bits"
   ]
  },
  {
   "cell_type": "markdown",
   "id": "cc54ddeb",
   "metadata": {},
   "source": [
    "### Numpy array 추출\n",
    "> - `.numpy()`"
   ]
  },
  {
   "cell_type": "markdown",
   "id": "890fea0b",
   "metadata": {},
   "source": [
    "### 기타 단어\n",
    "> - `matmul` : (3차원 이상의) 텐서 사이의 행렬 곱\n",
    "> - `랭크` : 차원 수를 말한다. // matmul 함수를 사용할 때, 차원(랭크)이 같아야 진행할 수 있음\n"
   ]
  },
  {
   "cell_type": "markdown",
   "id": "7861ac74",
   "metadata": {},
   "source": [
    "### 데이터 타입 컨트롤 하기\n",
    "> - `tf.cast(tensor, dtype=tf.int16)`   : tensor 데이터를 tf.int16 타입으로 바꾼다."
   ]
  },
  {
   "cell_type": "markdown",
   "id": "f0843293",
   "metadata": {},
   "source": [
    "### 특정값의 Tensor 생성하기\n",
    "> - `tf.ones(shape: [3, 4], dtype: DType = dtypes.float32, name: Any | None = None) -> Any\n",
    ")`  : n개의 1을 생성\n",
    "> - `tf.zeros(shape: [3, 4], dtype: DType = dtypes.float32, name: Any | None = None) -> Any)` : n개의 0을 생성\n",
    "> - `tf.range(start: Any, limit: Any | None = None, delta: int = 1, dtype: Any | None = None, name: str = \"range\") -> Any)` : start ~ limit까지 delta 만큼의 등차를 두고 수를 생성"
   ]
  },
  {
   "cell_type": "markdown",
   "id": "13127605",
   "metadata": {},
   "source": [
    "### tf.random 함수\n",
    "> - `tf.random.normal` : Gaussian Normal Distribution       // 정확하진 않지만, 모든 수(음, 양) 사용\n",
    "> - `tf.random.uniform` : Uniform Distribution              // 정확하진 않지만, 모든 양수 사용\n"
   ]
  },
  {
   "cell_type": "code",
   "execution_count": 270,
   "id": "910b68f8",
   "metadata": {},
   "outputs": [
    {
     "name": "stdout",
     "output_type": "stream",
     "text": [
      "tf.Tensor(\n",
      "[[-0.14004177 -1.1747965   0.524166  ]\n",
      " [-1.0716152  -0.40996674 -1.5631914 ]\n",
      " [ 0.8472872   0.64720666 -1.3824488 ]], shape=(3, 3), dtype=float32)\n",
      "tf.Tensor(\n",
      "[[0.32495224 0.61381674 0.05145121]\n",
      " [0.5139203  0.6999235  0.8378595 ]\n",
      " [0.890808   0.9498911  0.78284097]], shape=(3, 3), dtype=float32)\n",
      "tf.Tensor(\n",
      "[[[[[4.6018677  0.78535825 3.0240672 ]\n",
      "    [0.43609232 0.72959477 1.2524052 ]]\n",
      "\n",
      "   [[2.4564812  1.3090692  1.1014789 ]\n",
      "    [0.77481616 1.3524066  1.7109905 ]]\n",
      "\n",
      "   [[4.338565   1.3134674  0.49777594]\n",
      "    [1.4845678  0.8674727  0.6370235 ]]]\n",
      "\n",
      "\n",
      "  [[[2.4445186  3.4984705  1.6458575 ]\n",
      "    [0.89895636 1.3216425  0.60115874]]\n",
      "\n",
      "   [[4.132379   1.7557054  1.2538794 ]\n",
      "    [0.73737127 0.6038469  0.75492275]]\n",
      "\n",
      "   [[5.774218   1.2706084  1.5523777 ]\n",
      "    [0.89607084 0.95434135 0.81326896]]]]], shape=(1, 2, 3, 2, 3), dtype=float32)\n"
     ]
    }
   ],
   "source": [
    "test_r_normal = tf.random.normal((3,3))\n",
    "print(test_r_normal)\n",
    "test_r_uniform = tf.random.uniform((3,3))\n",
    "print(test_r_uniform)\n",
    "test_ = tf.random.gamma([1,2,3],[[4,5,6],[7,8,9]],[[1,3,5],[7,9,10]])       # gamma 는 뭘까?\n",
    "print(test_)"
   ]
  },
  {
   "cell_type": "markdown",
   "id": "b6ff55ec",
   "metadata": {},
   "source": [
    "### Random seed 관리하기\n",
    "> - Random value로 보통 가중치를 초기화\n",
    "> - 이외에도 학습 과정에서 Random value가 많이 사용된다.\n",
    "> - 이를 관리해주지 않으면, 자신이 했던 작업이 동일하게 복구 또는 재현이 되지 않는다.\n",
    "> - `tf.random.set_seed({seed_number})`\n",
    "> - 재현성 유지를 위해 항상 Random seed를 고정해두고 개발한다.\n",
    "> - (주의할 점은 해당 개발물에 사용되는 난수가 모두 TensorFlow에서 생성된 것이 아닐수도 있다는 것이다.)\n",
    "\n",
    "> - random 값을 고정해두고 사용하는 것을 생활화하면 좋다."
   ]
  },
  {
   "cell_type": "code",
   "execution_count": 271,
   "id": "6a179627",
   "metadata": {},
   "outputs": [
    {
     "data": {
      "text/plain": [
       "<tf.Tensor: shape=(3, 3), dtype=float32, numpy=\n",
       "array([[-0.088318  , -0.27270302,  0.3974953 ],\n",
       "       [-0.05383141,  0.74247944,  0.78894496],\n",
       "       [-0.76774085, -0.8008568 ,  1.624177  ]], dtype=float32)>"
      ]
     },
     "execution_count": 271,
     "metadata": {},
     "output_type": "execute_result"
    }
   ],
   "source": [
    "seed = 7777\n",
    "tf.random.set_seed(seed)        # seed 설정을 했기 때문에 \n",
    "tf.random.normal((3,3))         # normal 3,3 의 랜덤을 아무리 해도 값이 변하지 않는다."
   ]
  },
  {
   "cell_type": "markdown",
   "id": "30ec0fc8",
   "metadata": {},
   "source": [
    "## Variable (변수)\n",
    "> - 미지수, 가중치를 정의할 때 사용\n",
    "> - 직접 사용할 일이 많지는 않다.\n",
    "> - 변수 정의는 변수 생성 + 초기화\n",
    "> - Constant와 같이 기본 속성값이 들어있다."
   ]
  },
  {
   "cell_type": "markdown",
   "id": "74be401f",
   "metadata": {},
   "source": [
    "## .assign\n",
    "> - 기존 텐서의 메모리를 재사용하여 텐서를 재할당 할 수 있다.  // `a.assign([1,2])`\n",
    "\n",
    "> - 기존 메모리의 크기와 다르면 할당할 수 없다."
   ]
  },
  {
   "cell_type": "code",
   "execution_count": 272,
   "id": "80255431",
   "metadata": {},
   "outputs": [
    {
     "name": "stdout",
     "output_type": "stream",
     "text": [
      "First :  <tf.Variable 'Variable:0' shape=(2,) dtype=float32, numpy=array([2., 3.], dtype=float32)> \n",
      "\n",
      "Second :  <tf.Variable 'Variable:0' shape=(2,) dtype=float32, numpy=array([1., 2.], dtype=float32)> \n",
      "\n"
     ]
    }
   ],
   "source": [
    "import tensorflow as tf\n",
    "import numpy as np\n",
    "\n",
    "a = tf.Variable([2.0, 3.0])\n",
    "print(\"First : \", a, \"\\n\")\n",
    "\n",
    "a.assign([1, 2])        # 똑같은 형태의, 하지만 값은 다른 것을 설정함. \n",
    "                        # 해당 줄의 경우 int 값을 넣었지만, float32 값으로 재설정되어 들어감\n",
    "print(\"Second : \", a, \"\\n\")"
   ]
  },
  {
   "cell_type": "code",
   "execution_count": 273,
   "id": "6aad8e86",
   "metadata": {},
   "outputs": [],
   "source": [
    "# 기존 메모리의 크기와 다르면 할당 할 수 없음! \n",
    "# a.assign([1.0, 2.0, 3.0]) \n",
    "\n",
    "# ValueError: Cannot assign value to variable ' Variable:0': Shape mismatch.The variable shape (2,), and the assigned value shape (3,) are incompatible."
   ]
  },
  {
   "cell_type": "markdown",
   "id": "345d521c",
   "metadata": {},
   "source": [
    "# 03_ Tensor 연산 강의"
   ]
  },
  {
   "cell_type": "markdown",
   "id": "c04719f1",
   "metadata": {},
   "source": [
    "## * 01. Tensor 의 연산\n",
    "(https://www.tensorflow.org/api_docs/python/tf/math/cumprod)\n",
    "- tf.math.을 붙여서 하는걸 습관화하자\n",
    "\n",
    "- 기본연산\n",
    "> - `tf.add` : 덧셈 , a + b 형식으로 사용할 수 있다. (shape, dtype 중요)\n",
    "> - `tf.subtract` : 뺄셈\n",
    "> - `tf.multiply` : 곱셈\n",
    "> - `tf.divide` : 나눗셈\n",
    "> - `tf.pow` : n-제곱\n",
    "> - `tf.negative` : 음수부호\n",
    "\n",
    "- 기타 연산\n",
    "> - `tf.abs` : 절댓값\n",
    "> - `tf.sign` : 부호\n",
    "> - `tf.round` : 반올림\n",
    "> - `tf.math.ceil` : 올림\n",
    "> - `tf.floor` : 내림\n",
    "> - `tf.square` : 제곱\n",
    "> - `tf.sqrt` : 제곱근 // 들어가는 인수는 float 형식으로 들어가야 한다. ex(3.)\n",
    "> - `tf.maximum` : 두 텐서의 각 원소에서 최댓값만 반환.\n",
    "> - `tf.minimum` : 두 텐서의 각 원소에서 최솟값만 반환\n",
    "> - `tf.cumsum` : 누적합 // 인수를 하나만 받는다.\n",
    "> - `tf.cumprod` : 누적곱"
   ]
  },
  {
   "cell_type": "markdown",
   "id": "2349f38b",
   "metadata": {},
   "source": [
    "## * 02. Tensor Axis 이해하기"
   ]
  },
  {
   "cell_type": "code",
   "execution_count": 274,
   "id": "ab4e91f9",
   "metadata": {},
   "outputs": [],
   "source": [
    "rank_2 = tf.random.normal([3,3])\n",
    "rank_3 = tf.random.normal([3,3,3])\n",
    "rank_4 = tf.random.normal([3,3,3,3])"
   ]
  },
  {
   "cell_type": "code",
   "execution_count": 275,
   "id": "a0b2e47d",
   "metadata": {},
   "outputs": [
    {
     "name": "stdout",
     "output_type": "stream",
     "text": [
      "rank_2 :  tf.Tensor(\n",
      "[[ 0.47418475 -0.24262138  0.7449602 ]\n",
      " [-0.7118004  -0.5367534  -1.3745131 ]\n",
      " [ 0.3270427  -0.7774067   1.2267568 ]], shape=(3, 3), dtype=float32)\n",
      "rank_3 :  tf.Tensor(\n",
      "[[[ 1.7138644   0.11247656 -0.5634745 ]\n",
      "  [-1.0973954  -0.8627759   0.32190448]\n",
      "  [-0.3382404   0.7828357   1.3411108 ]]\n",
      "\n",
      " [[-0.09244853  0.29530686  1.1222136 ]\n",
      "  [-2.0415335   1.8115544   0.15857348]\n",
      "  [-1.0756649   1.638441    1.6376851 ]]\n",
      "\n",
      " [[-0.26098922  1.9173054   0.6165042 ]\n",
      "  [-1.5637621  -0.5816116  -0.18569659]\n",
      "  [ 1.5237521   0.7528277   0.15044552]]], shape=(3, 3, 3), dtype=float32)\n",
      "rank_4 :  tf.Tensor(\n",
      "[[[[-4.1633421e-01  2.9580247e-01 -1.6451327e+00]\n",
      "   [ 6.6793525e-01  1.1097385e+00  3.8852524e-02]\n",
      "   [-1.3685702e+00 -7.2100449e-01  1.2574142e+00]]\n",
      "\n",
      "  [[-5.0250608e-01 -3.4573492e-01  1.9388064e+00]\n",
      "   [-6.4260954e-01  4.6868595e-01  6.2638599e-01]\n",
      "   [-1.3092035e+00 -9.1215783e-01 -6.4995790e-01]]\n",
      "\n",
      "  [[-1.4183570e+00  1.1523370e+00 -7.9360586e-01]\n",
      "   [ 2.7489960e-01 -1.2162000e+00  1.3483654e+00]\n",
      "   [-1.0036046e-02  1.0592305e-02  1.2735361e-01]]]\n",
      "\n",
      "\n",
      " [[[ 2.8573704e-01 -5.7192302e-01  1.7280191e+00]\n",
      "   [ 6.0913436e-02 -5.0821072e-01  6.5658957e-02]\n",
      "   [-1.8229018e-01 -1.0681341e+00 -5.2734524e-01]]\n",
      "\n",
      "  [[ 1.9115716e+00  9.7333872e-01  2.7172101e-01]\n",
      "   [ 1.6359557e+00 -1.4968483e+00  8.1465411e-01]\n",
      "   [-1.2770168e+00 -1.4490485e+00 -1.3892137e-04]]\n",
      "\n",
      "  [[ 7.5744665e-01  1.5200567e+00  1.0478030e+00]\n",
      "   [-9.1671574e-01  1.7233722e+00  1.3076218e+00]\n",
      "   [ 1.5362809e+00  7.4549562e-01  5.7913119e-01]]]\n",
      "\n",
      "\n",
      " [[[-4.3874842e-01  3.0213240e-01 -2.4947317e+00]\n",
      "   [-1.6070993e+00 -3.9151146e+00  9.2796743e-01]\n",
      "   [ 1.3911902e+00 -9.8194873e-01  7.8773999e-01]]\n",
      "\n",
      "  [[ 6.0644555e-01  1.2043524e+00 -7.3262841e-01]\n",
      "   [-1.9120200e-01 -3.8115111e-01 -3.3860698e-01]\n",
      "   [-2.0596189e+00 -6.1313683e-01 -1.1742885e+00]]\n",
      "\n",
      "  [[-1.1685904e+00  1.4518945e+00  1.6640893e-01]\n",
      "   [-5.6484604e-01  8.4250534e-01 -5.4320639e-01]\n",
      "   [-1.3515472e+00 -1.2364474e-01  1.1234235e+00]]]], shape=(3, 3, 3, 3), dtype=float32)\n"
     ]
    }
   ],
   "source": [
    "print('rank_2 : ', rank_2)\n",
    "print('rank_3 : ', rank_3)\n",
    "print('rank_4 : ', rank_4)"
   ]
  },
  {
   "cell_type": "code",
   "execution_count": 276,
   "id": "022c672e",
   "metadata": {},
   "outputs": [
    {
     "name": "stdout",
     "output_type": "stream",
     "text": [
      "tf.Tensor(\n",
      "[[ 0.47418475 -0.24262138  0.7449602 ]\n",
      " [-0.7118004  -0.5367534  -1.3745131 ]\n",
      " [ 0.3270427  -0.7774067   1.2267568 ]], shape=(3, 3), dtype=float32)\n",
      "tf.Tensor(-0.5367534, shape=(), dtype=float32)\n",
      "tf.Tensor(\n",
      "[[-0.24262138]\n",
      " [-0.5367534 ]\n",
      " [-0.7774067 ]], shape=(3, 1), dtype=float32)\n"
     ]
    }
   ],
   "source": [
    "print(rank_2)\n",
    "print(rank_2[1,1])      # 한 원소만 반환하기\n",
    "print(rank_2[0:3,1:2])  # 범위 원소 반환하기 // shape를 나타낸다. "
   ]
  },
  {
   "cell_type": "code",
   "execution_count": 277,
   "id": "c853ee7c",
   "metadata": {},
   "outputs": [
    {
     "name": "stdout",
     "output_type": "stream",
     "text": [
      "tf.Tensor(\n",
      "[[[ 1.7138644   0.11247656 -0.5634745 ]\n",
      "  [-1.0973954  -0.8627759   0.32190448]\n",
      "  [-0.3382404   0.7828357   1.3411108 ]]\n",
      "\n",
      " [[-0.09244853  0.29530686  1.1222136 ]\n",
      "  [-2.0415335   1.8115544   0.15857348]\n",
      "  [-1.0756649   1.638441    1.6376851 ]]\n",
      "\n",
      " [[-0.26098922  1.9173054   0.6165042 ]\n",
      "  [-1.5637621  -0.5816116  -0.18569659]\n",
      "  [ 1.5237521   0.7528277   0.15044552]]], shape=(3, 3, 3), dtype=float32)\n",
      "tf.Tensor(1.8115544, shape=(), dtype=float32)\n",
      "tf.Tensor([[[1.8115544]]], shape=(1, 1, 1), dtype=float32)\n"
     ]
    }
   ],
   "source": [
    "print(rank_3)\n",
    "print(rank_3[1,1,1])        # 한 원소만 반환하기\n",
    "print(rank_3[1:2,1:2,1:2])  # 범위 원소 반환하기 // shape를 나타낸다."
   ]
  },
  {
   "cell_type": "code",
   "execution_count": 278,
   "id": "f521c295",
   "metadata": {},
   "outputs": [
    {
     "name": "stdout",
     "output_type": "stream",
     "text": [
      "tf.Tensor(\n",
      "[[[[-4.1633421e-01  2.9580247e-01 -1.6451327e+00]\n",
      "   [ 6.6793525e-01  1.1097385e+00  3.8852524e-02]\n",
      "   [-1.3685702e+00 -7.2100449e-01  1.2574142e+00]]\n",
      "\n",
      "  [[-5.0250608e-01 -3.4573492e-01  1.9388064e+00]\n",
      "   [-6.4260954e-01  4.6868595e-01  6.2638599e-01]\n",
      "   [-1.3092035e+00 -9.1215783e-01 -6.4995790e-01]]\n",
      "\n",
      "  [[-1.4183570e+00  1.1523370e+00 -7.9360586e-01]\n",
      "   [ 2.7489960e-01 -1.2162000e+00  1.3483654e+00]\n",
      "   [-1.0036046e-02  1.0592305e-02  1.2735361e-01]]]\n",
      "\n",
      "\n",
      " [[[ 2.8573704e-01 -5.7192302e-01  1.7280191e+00]\n",
      "   [ 6.0913436e-02 -5.0821072e-01  6.5658957e-02]\n",
      "   [-1.8229018e-01 -1.0681341e+00 -5.2734524e-01]]\n",
      "\n",
      "  [[ 1.9115716e+00  9.7333872e-01  2.7172101e-01]\n",
      "   [ 1.6359557e+00 -1.4968483e+00  8.1465411e-01]\n",
      "   [-1.2770168e+00 -1.4490485e+00 -1.3892137e-04]]\n",
      "\n",
      "  [[ 7.5744665e-01  1.5200567e+00  1.0478030e+00]\n",
      "   [-9.1671574e-01  1.7233722e+00  1.3076218e+00]\n",
      "   [ 1.5362809e+00  7.4549562e-01  5.7913119e-01]]]\n",
      "\n",
      "\n",
      " [[[-4.3874842e-01  3.0213240e-01 -2.4947317e+00]\n",
      "   [-1.6070993e+00 -3.9151146e+00  9.2796743e-01]\n",
      "   [ 1.3911902e+00 -9.8194873e-01  7.8773999e-01]]\n",
      "\n",
      "  [[ 6.0644555e-01  1.2043524e+00 -7.3262841e-01]\n",
      "   [-1.9120200e-01 -3.8115111e-01 -3.3860698e-01]\n",
      "   [-2.0596189e+00 -6.1313683e-01 -1.1742885e+00]]\n",
      "\n",
      "  [[-1.1685904e+00  1.4518945e+00  1.6640893e-01]\n",
      "   [-5.6484604e-01  8.4250534e-01 -5.4320639e-01]\n",
      "   [-1.3515472e+00 -1.2364474e-01  1.1234235e+00]]]], shape=(3, 3, 3, 3), dtype=float32)\n",
      "tf.Tensor(0.46868595, shape=(), dtype=float32)\n",
      "tf.Tensor([[[[0.46868595]]]], shape=(1, 1, 1, 1), dtype=float32)\n"
     ]
    }
   ],
   "source": [
    "print(rank_4)\n",
    "print(rank_4[0,1,1,1])              # 한 원소만 나타내기\n",
    "print(rank_4[0:1,1:2,1:2,1:2])      # 범위 원소 나타내기 // shape를 보여준다."
   ]
  },
  {
   "cell_type": "markdown",
   "id": "5e70d962",
   "metadata": {},
   "source": [
    "## * 03. 차원 축소 연산\n",
    "> - `tf.reduce_mean`: 설정한 축의 평균을 구한다.\n",
    "> - `tf.reduce_max`: 설정한 축의 최댓값을 구한다.\n",
    "> - `tf.reduce_min`: 설정한 축의 최솟값을 구한다.\n",
    "> - `tf.reduce_prod`: 설정한 축의 요소를 모두 곱한 값을 구한다.\n",
    "> - `tf.reduce_sum`: 설정한 축의 요소를 모두 더한 값을 구한다."
   ]
  },
  {
   "cell_type": "code",
   "execution_count": 279,
   "id": "d91b5060",
   "metadata": {},
   "outputs": [
    {
     "data": {
      "text/plain": [
       "<tf.Tensor: shape=(6,), dtype=int32, numpy=array([0, 1, 2, 3, 4, 5], dtype=int32)>"
      ]
     },
     "execution_count": 279,
     "metadata": {},
     "output_type": "execute_result"
    }
   ],
   "source": [
    "a = tf.range(6)\n",
    "a"
   ]
  },
  {
   "cell_type": "code",
   "execution_count": 280,
   "id": "96065931",
   "metadata": {},
   "outputs": [
    {
     "name": "stdout",
     "output_type": "stream",
     "text": [
      "tf.Tensor(15, shape=(), dtype=int32)\n",
      "tf.Tensor(15, shape=(), dtype=int32)\n"
     ]
    }
   ],
   "source": [
    "print(tf.reduce_sum(a))\n",
    "print(tf.reduce_sum(a, axis=0))     # axis 를 많이 생활화 하기"
   ]
  },
  {
   "cell_type": "code",
   "execution_count": 281,
   "id": "7b3f3881",
   "metadata": {},
   "outputs": [
    {
     "name": "stdout",
     "output_type": "stream",
     "text": [
      "평균 :  tf.Tensor(2, shape=(), dtype=int32)\n",
      "최댓값 :  tf.Tensor(5, shape=(), dtype=int32)\n",
      "최솟값 :  tf.Tensor(0, shape=(), dtype=int32)\n",
      "곱의 합 :  tf.Tensor(0, shape=(), dtype=int32)\n",
      "총합 :  tf.Tensor(15, shape=(), dtype=int32)\n"
     ]
    }
   ],
   "source": [
    "print('평균 : ',tf.reduce_mean(a, axis=0))\n",
    "print('최댓값 : ',tf.reduce_max(a, axis=0))\n",
    "print('최솟값 : ',tf.reduce_min(a, axis=0))\n",
    "print('곱의 합 : ',tf.reduce_prod(a, axis=0))\n",
    "print('총합 : ',tf.reduce_sum(a, axis=0))"
   ]
  },
  {
   "cell_type": "code",
   "execution_count": 282,
   "id": "2631e593",
   "metadata": {},
   "outputs": [
    {
     "data": {
      "text/plain": [
       "<tf.Tensor: shape=(2, 7), dtype=float32, numpy=\n",
       "array([[ 0.39949304, -0.57603157,  1.9408727 ,  0.44997263, -0.30515158,\n",
       "         0.02044026,  0.19132732],\n",
       "       [-1.6136625 ,  2.595704  ,  1.079782  , -0.43072778, -0.32124633,\n",
       "        -0.49523184,  2.1495926 ]], dtype=float32)>"
      ]
     },
     "execution_count": 282,
     "metadata": {},
     "output_type": "execute_result"
    }
   ],
   "source": [
    "b = tf.random.normal((2,7))\n",
    "b"
   ]
  },
  {
   "cell_type": "code",
   "execution_count": 283,
   "id": "f4fded63",
   "metadata": {},
   "outputs": [
    {
     "name": "stdout",
     "output_type": "stream",
     "text": [
      "tf.Tensor(\n",
      "[-0.60708475  1.0098362   1.5103273   0.00962242 -0.31319895 -0.2373958\n",
      "  1.17046   ], shape=(7,), dtype=float32)\n",
      "tf.Tensor([0.30298898 0.42345864], shape=(2,), dtype=float32)\n"
     ]
    }
   ],
   "source": [
    "print(tf.reduce_mean(b, axis=0))\n",
    "print(tf.reduce_mean(b, axis=1))"
   ]
  },
  {
   "cell_type": "markdown",
   "id": "45b70a1a",
   "metadata": {},
   "source": [
    "## * 04.  행렬과 관련된 연산\n",
    "> - `tf.matmul` : 내적 // 텐서 사이의 행렬 곱\n",
    "> - `tf.linalg.inv` : 역행렬"
   ]
  },
  {
   "cell_type": "code",
   "execution_count": 284,
   "id": "c0eb88bc",
   "metadata": {},
   "outputs": [
    {
     "data": {
      "text/plain": [
       "<tf.Tensor: shape=(2, 2), dtype=float32, numpy=\n",
       "array([[2., 2.],\n",
       "       [1., 1.]], dtype=float32)>"
      ]
     },
     "execution_count": 284,
     "metadata": {},
     "output_type": "execute_result"
    }
   ],
   "source": [
    "# tf.matmul()\n",
    "a = tf.constant([[2,0],[0,1]], dtype=tf.float32)\n",
    "b = tf.constant([[1,1],[1,1]], dtype=tf.float32)\n",
    "tf.matmul(a,b)"
   ]
  },
  {
   "cell_type": "markdown",
   "id": "b667dfd2",
   "metadata": {},
   "source": [
    "###  행렬의 곱\n",
    "> - `a = 2 * 2` 행렬 // `b = 2 * 2` 행렬\n",
    "> - a 행렬의 `열`과 b 행렬의 `행`의 개수가 `동일`하므로 (필수)\n",
    "> - a * b 의 행렬은 `2 * 2` 행렬로 나오게 된다.\n",
    "> - 결과물의 값은 `각 원소들의 곱의 합`으로 나온다."
   ]
  },
  {
   "cell_type": "code",
   "execution_count": 285,
   "id": "c5810d31",
   "metadata": {},
   "outputs": [
    {
     "name": "stdout",
     "output_type": "stream",
     "text": [
      "tf.Tensor(\n",
      "[[2 2]\n",
      " [1 1]], shape=(2, 2), dtype=int32)\n"
     ]
    }
   ],
   "source": [
    "c = [[2,0],[0,1]];d=[[1,1],[1,1]]\n",
    "print(tf.matmul(c,d))       # 일반 행렬의 곱 연산과 같음\n",
    "\n",
    "# tf.matmul(c,d)[0,0] 의 값 : 2 * 1 + 0 * 1 = 2\n",
    "# tf.matmul(c,d)[0,1] 의 값 : 2 * 1 + 0 * 1 = 2\n",
    "# tf.matmul(c,d)[1,0] 의 값 : 0 * 1 + 1 * 1 = 1\n",
    "# tf.matmul(c,d)[1,1] 의 값 : 0 * 1 + 0 * 1 = 1"
   ]
  },
  {
   "cell_type": "markdown",
   "id": "6f7f9f39",
   "metadata": {},
   "source": [
    "### 역행렬과 항등행렬(단위행렬)\n",
    "> - 특정 행렬을 `항등행렬(단위행렬)` 로 만들기 위한 행렬이 `역행렬`\n",
    "> - 역행렬은 `없을 수도 있다.`\n",
    "> - 항등행렬(단위행렬) 은 `1 과 0` 으로 이루어져 있으며\n",
    "> - n * n 행렬의 첫번째 원소부터 `대각선으로 1이 존재`하며 `나머지는 0`으로 이루어짐"
   ]
  },
  {
   "cell_type": "code",
   "execution_count": 286,
   "id": "c5915b91",
   "metadata": {},
   "outputs": [
    {
     "data": {
      "text/plain": [
       "<tf.Tensor: shape=(2, 2), dtype=float32, numpy=\n",
       "array([[0.5, 0. ],\n",
       "       [0. , 1. ]], dtype=float32)>"
      ]
     },
     "execution_count": 286,
     "metadata": {},
     "output_type": "execute_result"
    }
   ],
   "source": [
    "# tf.linalg.inv()\n",
    "tf.linalg.inv(a)"
   ]
  },
  {
   "cell_type": "code",
   "execution_count": 287,
   "id": "34db355e",
   "metadata": {},
   "outputs": [
    {
     "data": {
      "text/plain": [
       "<tf.Tensor: shape=(2, 2), dtype=float32, numpy=\n",
       "array([[1., 0.],\n",
       "       [0., 1.]], dtype=float32)>"
      ]
     },
     "execution_count": 287,
     "metadata": {},
     "output_type": "execute_result"
    }
   ],
   "source": [
    "# 항등행렬\n",
    "tf.matmul(a, tf.linalg.inv(a))"
   ]
  },
  {
   "cell_type": "markdown",
   "id": "256c20cd",
   "metadata": {},
   "source": [
    "### 크기 및 차원을 바꾸는 명령 (잘 사용됩니다)\n",
    "이를 사용할 때는 축을 잘 이해하고 사용하면 좋다.\n",
    "\n",
    "> - `tf.reshape` : 벡터 행렬의 크기 변환\n",
    "> - `tf.transpose` : 전치 연산 // 쉽게, 원래 데이터 shape를 왼쪽으로 90도 회전시킨 모양이라 생각하면 될듯\n",
    "> - `tf.expand_dims` : 지정한 축으로 차원을 추가\n",
    "> - `tf.squeeze` : 벡터로 차원을 축소"
   ]
  },
  {
   "cell_type": "code",
   "execution_count": 288,
   "id": "6ba83fe6",
   "metadata": {},
   "outputs": [
    {
     "name": "stdout",
     "output_type": "stream",
     "text": [
      "tf.Tensor(\n",
      "[[0 1 2]\n",
      " [3 4 5]], shape=(2, 3), dtype=int32)\n",
      "tf.Tensor(\n",
      "[[0 3]\n",
      " [1 4]\n",
      " [2 5]], shape=(3, 2), dtype=int32)\n"
     ]
    }
   ],
   "source": [
    "# reshape 과 transpose 사용\n",
    "\n",
    "a = tf.range(6, dtype=tf.int32)\n",
    "a_2d = tf.reshape(a,(2,3))\n",
    "print(a_2d)\n",
    "a_2d_t = tf.transpose(a_2d)\n",
    "print(a_2d_t)\n",
    "\n",
    "# a = tf.range(9, dtype=tf.int32)\n",
    "# a_2d = tf.reshape(a, (3,3))\n",
    "# print(a_2d)\n",
    "# a_2d_t = tf.transpose(a_2d)\n",
    "# print(a_2d_t)\n",
    "\n",
    "# a = tf.range(16, dtype=tf.int32)\n",
    "# a_d = tf.reshape(a,(4,4))\n",
    "# print(a_d)\n",
    "# a_d_t = tf.transpose(a_d)\n",
    "# print(a_d_t)"
   ]
  },
  {
   "cell_type": "code",
   "execution_count": 289,
   "id": "67828b3b",
   "metadata": {},
   "outputs": [
    {
     "name": "stdout",
     "output_type": "stream",
     "text": [
      "tf.Tensor(\n",
      "[[[0 1 2]\n",
      "  [3 4 5]]], shape=(1, 2, 3), dtype=int32)\n",
      "tf.Tensor(\n",
      "[[[[0]\n",
      "   [1]\n",
      "   [2]]\n",
      "\n",
      "  [[3]\n",
      "   [4]\n",
      "   [5]]]], shape=(1, 2, 3, 1), dtype=int32)\n"
     ]
    }
   ],
   "source": [
    "# expand_dims 사용\n",
    "\n",
    "a_3d = tf.expand_dims(a_2d, 0)      # 2 * 3 행렬을 1 * 2 * 3 크기의 3차원 행렬로 변환\n",
    "print(a_3d)\n",
    "\n",
    "a_4d = tf.expand_dims(a_3d, 3)      # 1 * 2 * 3 행렬을 1 * 2 * 3 * 1 크기의 4차원 행렬로 변환\n",
    "print(a_4d)"
   ]
  },
  {
   "cell_type": "code",
   "execution_count": 290,
   "id": "55ac0251",
   "metadata": {},
   "outputs": [
    {
     "name": "stdout",
     "output_type": "stream",
     "text": [
      "tf.Tensor(\n",
      "[[0 1 2]\n",
      " [3 4 5]], shape=(2, 3), dtype=int32)\n"
     ]
    }
   ],
   "source": [
    "# squeeze 사용\n",
    "a_1d = tf.squeeze(a_4d)     # 1 * 2 * 3 * 1 행렬을 1차원 벡터로 변환\n",
    "print(a_1d)"
   ]
  },
  {
   "cell_type": "markdown",
   "id": "0b18c30b",
   "metadata": {},
   "source": [
    "### 텐서를 나누거나 두개 이상의 텐서를 합치는 명령\n",
    "> - `tf.slice` : 특정 부분을 추출 // 시작좌표와 크기를 지정해 주어야 한다.\n",
    "> - `tf.split` : 분할 // 정확하게 등분할 수 있는 num, axis 값이 중요하다\n",
    "> - `tf.concat` : 합치기\n",
    "> - `tf.tile`: 복제 - 붙이기 // 이해를 아직 완벽하게 못함.\n",
    "> - `tf.stack` : 합성 // 이해를 아직 못함\n",
    "> - `tf.unstack` : 분리 // 이해를 아직 못함"
   ]
  },
  {
   "cell_type": "code",
   "execution_count": 291,
   "id": "8ba2c185",
   "metadata": {},
   "outputs": [
    {
     "data": {
      "text/plain": [
       "<tf.Tensor: shape=(3, 4), dtype=int32, numpy=\n",
       "array([[ 0,  1,  2,  3],\n",
       "       [ 4,  5,  6,  7],\n",
       "       [ 8,  9, 10, 11]], dtype=int32)>"
      ]
     },
     "execution_count": 291,
     "metadata": {},
     "output_type": "execute_result"
    }
   ],
   "source": [
    "a = tf.reshape(tf.range(12), shape = (3,4))     # shape 는 생략 가능\n",
    "a"
   ]
  },
  {
   "cell_type": "code",
   "execution_count": 292,
   "id": "b76d7d3a",
   "metadata": {},
   "outputs": [
    {
     "name": "stdout",
     "output_type": "stream",
     "text": [
      "tf.Tensor(\n",
      "[[ 0  1  2  3]\n",
      " [ 4  5  6  7]\n",
      " [ 8  9 10 11]], shape=(3, 4), dtype=int32)\n",
      "tf.Tensor(\n",
      "[[ 2  3]\n",
      " [ 6  7]\n",
      " [10 11]], shape=(3, 2), dtype=int32)\n"
     ]
    }
   ],
   "source": [
    "# tf.slice(a, [begin], [size])  : begin = [n,n], size = [n,n]\n",
    "print(tf.slice(a, [0,0], [3,4]))      # == a와 같음, (0,0 좌표에서 시작하여 3 * 4 사이즈의 데이터를 반환)\n",
    "print(tf.slice(a, [0,2], [3,2]))    # (0,2 좌표에서 시작하여 3 * 2 사이즈의 데이터를 반환)"
   ]
  },
  {
   "cell_type": "code",
   "execution_count": 293,
   "id": "0f86b2d0",
   "metadata": {},
   "outputs": [
    {
     "name": "stdout",
     "output_type": "stream",
     "text": [
      "tf.Tensor(\n",
      "[[ 0  1  2  3]\n",
      " [ 4  5  6  7]\n",
      " [ 8  9 10 11]], shape=(3, 4), dtype=int32)\n",
      "tf.Tensor(\n",
      "[[0 1]\n",
      " [4 5]\n",
      " [8 9]], shape=(3, 2), dtype=int32) tf.Tensor(\n",
      "[[ 2  3]\n",
      " [ 6  7]\n",
      " [10 11]], shape=(3, 2), dtype=int32)\n"
     ]
    }
   ],
   "source": [
    "# tf.split(a, num_or_size_splits = n, axis = n)\n",
    "print(a)\n",
    "a1, a2 = tf.split(a, num_or_size_splits=2, axis=1)      # 정확하게 등분할 수 있는 axis 값이 필요하다 (중요)\n",
    "print(a1, a2)"
   ]
  },
  {
   "cell_type": "code",
   "execution_count": 294,
   "id": "47ce5727",
   "metadata": {},
   "outputs": [
    {
     "name": "stdout",
     "output_type": "stream",
     "text": [
      "[<tf.Tensor: shape=(3, 4), dtype=int32, numpy=\n",
      "array([[ 0,  1,  2,  3],\n",
      "       [ 4,  5,  6,  7],\n",
      "       [ 8,  9, 10, 11]], dtype=int32)>] [<tf.Tensor: shape=(1, 4), dtype=int32, numpy=array([[0, 1, 2, 3]], dtype=int32)>, <tf.Tensor: shape=(1, 4), dtype=int32, numpy=array([[4, 5, 6, 7]], dtype=int32)>, <tf.Tensor: shape=(1, 4), dtype=int32, numpy=array([[ 8,  9, 10, 11]], dtype=int32)>]\n",
      "[<tf.Tensor: shape=(3, 4), dtype=int32, numpy=\n",
      "array([[ 0,  1,  2,  3],\n",
      "       [ 4,  5,  6,  7],\n",
      "       [ 8,  9, 10, 11]], dtype=int32)>]\n"
     ]
    }
   ],
   "source": [
    "print(tf.split(a, num_or_size_splits= 1), tf.split(a, 3))      # num or size split 은 생략해도 된다.\n",
    "# 균등하게 분할 할 수 있는 것이 중요.\n",
    "print(tf.split(a, num_or_size_splits= 1, axis=1))"
   ]
  },
  {
   "cell_type": "code",
   "execution_count": 295,
   "id": "9ad9d1d5",
   "metadata": {},
   "outputs": [
    {
     "name": "stdout",
     "output_type": "stream",
     "text": [
      "tf.Tensor(\n",
      "[[ 0  1  2  3]\n",
      " [ 4  5  6  7]\n",
      " [ 8  9 10 11]], shape=(3, 4), dtype=int32)\n",
      "tf.Tensor(\n",
      "[[ 0  1]\n",
      " [ 4  5]\n",
      " [ 8  9]\n",
      " [ 2  3]\n",
      " [ 6  7]\n",
      " [10 11]], shape=(6, 2), dtype=int32)\n"
     ]
    }
   ],
   "source": [
    "# tf.concat()\n",
    "\n",
    "print(tf.concat([a1, a2], axis=1))   # 가로축 (axis=1)을 따라 a1, a2 합치기\n",
    "print(tf.concat([a1, a2], axis=0))   # 가로축 (axis=0) 을 따라 a1, a2 합치기\n",
    "# for n in range(-2,2):\n",
    "#     print(n, tf.concat([a1, a2], axis=n))"
   ]
  },
  {
   "cell_type": "code",
   "execution_count": 296,
   "id": "66ccd8f9",
   "metadata": {},
   "outputs": [
    {
     "name": "stdout",
     "output_type": "stream",
     "text": [
      "tf.Tensor(\n",
      "[[0 1 0 1 0 1]\n",
      " [4 5 4 5 4 5]\n",
      " [8 9 8 9 8 9]], shape=(3, 6), dtype=int32)\n"
     ]
    }
   ],
   "source": [
    "# tf.tile()\n",
    "print(tf.tile(a1, [1,3]))      # 가로축(axis=1)을 따라 3개로 복사 - 붙이기"
   ]
  },
  {
   "cell_type": "code",
   "execution_count": 297,
   "id": "ea995920",
   "metadata": {},
   "outputs": [
    {
     "data": {
      "text/plain": [
       "<tf.Tensor: shape=(2, 3, 2), dtype=int32, numpy=\n",
       "array([[[ 0,  1],\n",
       "        [ 4,  5],\n",
       "        [ 8,  9]],\n",
       "\n",
       "       [[ 2,  3],\n",
       "        [ 6,  7],\n",
       "        [10, 11]]], dtype=int32)>"
      ]
     },
     "execution_count": 297,
     "metadata": {},
     "output_type": "execute_result"
    }
   ],
   "source": [
    "# tf.stack()\n",
    "a3 = tf.stack([a1, a2])     # 3 * 2 행렬 a1, a2를 추가적인 차원으로 붙여 2 * 3 * 2 고차원 텐서 생성\n",
    "a3"
   ]
  },
  {
   "cell_type": "code",
   "execution_count": 298,
   "id": "3429fd0d",
   "metadata": {},
   "outputs": [
    {
     "data": {
      "text/plain": [
       "[<tf.Tensor: shape=(2, 2), dtype=int32, numpy=\n",
       " array([[0, 1],\n",
       "        [2, 3]], dtype=int32)>,\n",
       " <tf.Tensor: shape=(2, 2), dtype=int32, numpy=\n",
       " array([[4, 5],\n",
       "        [6, 7]], dtype=int32)>,\n",
       " <tf.Tensor: shape=(2, 2), dtype=int32, numpy=\n",
       " array([[ 8,  9],\n",
       "        [10, 11]], dtype=int32)>]"
      ]
     },
     "execution_count": 298,
     "metadata": {},
     "output_type": "execute_result"
    }
   ],
   "source": [
    "# tf.unstack()\n",
    "tf.unstack(a3, axis=1)      # 2 * 3 * 2 고차원 텐서를 0차원으로 풀어서 3개의 2 * 2 행렬 생성"
   ]
  },
  {
   "cell_type": "markdown",
   "id": "7fedc694",
   "metadata": {},
   "source": [
    "# 04_ 자동미분\n",
    "\n",
    "> ### **딥러닝 공부하는 4가지**\n",
    "> - 1. 텐서 다루는 방법\n",
    "> - 2. 연산, 모델링\n",
    "> - 3. 최적화 하는 방법\n",
    "> - 4. 데이터 다루기"
   ]
  },
  {
   "cell_type": "markdown",
   "id": "1e742575",
   "metadata": {},
   "source": [
    "### `tf.GradientTape`\n",
    "> - 컨텍스트(context) 안에서 실행된 모든 연산을 테이프(tape)에 '기록'.TabError\n",
    "> - 그 다음 텐서플로는 `후진 방식 자동 미분 (reverse mode differenctiation)`을 아용해 테이프에 '기록된' 연산의 그래디언트를 계산한다."
   ]
  },
  {
   "cell_type": "markdown",
   "id": "5c21ea88",
   "metadata": {},
   "source": [
    "- Scalar 를 Scalar 로 미분"
   ]
  },
  {
   "cell_type": "code",
   "execution_count": 309,
   "id": "3830427d",
   "metadata": {},
   "outputs": [],
   "source": [
    "x = tf.Variable(3.0)\n",
    "\n",
    "with tf.GradientTape() as tape:\n",
    "    y = x ** 2"
   ]
  },
  {
   "cell_type": "code",
   "execution_count": 310,
   "id": "1f50bf81",
   "metadata": {},
   "outputs": [
    {
     "data": {
      "text/plain": [
       "<tf.Tensor: shape=(), dtype=float32, numpy=9.0>"
      ]
     },
     "execution_count": 310,
     "metadata": {},
     "output_type": "execute_result"
    }
   ],
   "source": [
    "y"
   ]
  },
  {
   "cell_type": "code",
   "execution_count": 311,
   "id": "92df78f4",
   "metadata": {},
   "outputs": [
    {
     "data": {
      "text/plain": [
       "6.0"
      ]
     },
     "execution_count": 311,
     "metadata": {},
     "output_type": "execute_result"
    }
   ],
   "source": [
    "# dy = 2x * dx      : 미분!\n",
    "dy_dx = tape.gradient(y,x)\n",
    "dy_dx.numpy()"
   ]
  },
  {
   "cell_type": "code",
   "execution_count": 312,
   "id": "0ca70373",
   "metadata": {},
   "outputs": [
    {
     "name": "stdout",
     "output_type": "stream",
     "text": [
      "tf.Tensor(6.0, shape=(), dtype=float32)\n"
     ]
    }
   ],
   "source": [
    "print(dy_dx)"
   ]
  },
  {
   "cell_type": "markdown",
   "id": "69740a91",
   "metadata": {},
   "source": [
    "- Scalar 를 Vector로 미분"
   ]
  },
  {
   "cell_type": "code",
   "execution_count": null,
   "id": "327b48c0",
   "metadata": {},
   "outputs": [],
   "source": []
  }
 ],
 "metadata": {
  "interpreter": {
   "hash": "b5a26d0e877c4652cf53eb6b13536f4959f02e722fb5eef7979a29d14fb02c8a"
  },
  "kernelspec": {
   "display_name": "Python 3.10.2 ('TF')",
   "language": "python",
   "name": "python3"
  },
  "language_info": {
   "codemirror_mode": {
    "name": "ipython",
    "version": 3
   },
   "file_extension": ".py",
   "mimetype": "text/x-python",
   "name": "python",
   "nbconvert_exporter": "python",
   "pygments_lexer": "ipython3",
   "version": "3.10.4"
  }
 },
 "nbformat": 4,
 "nbformat_minor": 5
}

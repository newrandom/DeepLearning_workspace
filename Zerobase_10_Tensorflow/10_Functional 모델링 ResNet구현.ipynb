{
 "cells": [
  {
   "cell_type": "markdown",
   "id": "518ff1fe",
   "metadata": {},
   "source": [
    "# ResNet 구현\n",
    "- 딥러닝에서 제일 유명한 모델 중 하나"
   ]
  },
  {
   "cell_type": "code",
   "execution_count": 20,
   "id": "9bd6cc9b",
   "metadata": {},
   "outputs": [],
   "source": [
    "import numpy as np\n",
    "import pandas as pd\n",
    "import tensorflow as tf\n",
    "\n",
    "import matplotlib.pyplot as plt\n",
    "import seaborn as sns\n",
    "%matplotlib inline"
   ]
  },
  {
   "cell_type": "code",
   "execution_count": 21,
   "id": "edeedae5",
   "metadata": {},
   "outputs": [],
   "source": [
    "np.random.seed(7777)\n",
    "tf.random.set_seed(7777)"
   ]
  },
  {
   "cell_type": "markdown",
   "id": "b65302b8",
   "metadata": {},
   "source": [
    "### ResNet\n",
    "\n",
    "![](../statics/imgs/resnet.png)"
   ]
  },
  {
   "cell_type": "markdown",
   "id": "e5c601ec",
   "metadata": {},
   "source": [
    "### ResNet의 핵심은 Skip Connection\n",
    "\n",
    "![](../statics/imgs/skipconnection.png)"
   ]
  },
  {
   "cell_type": "code",
   "execution_count": 22,
   "id": "17dd421b",
   "metadata": {},
   "outputs": [],
   "source": [
    "# output 값에 input 값을 더하는 것"
   ]
  },
  {
   "cell_type": "code",
   "execution_count": null,
   "id": "6d2526f5",
   "metadata": {},
   "outputs": [],
   "source": []
  },
  {
   "cell_type": "markdown",
   "id": "0b5f5336",
   "metadata": {},
   "source": [
    "### 2. Functional API "
   ]
  },
  {
   "cell_type": "markdown",
   "id": "a942557f",
   "metadata": {},
   "source": [
    "`tf.keras.Sequential` 보다 더 유연하게 모델을 정의할 수 있는 방법"
   ]
  },
  {
   "cell_type": "code",
   "execution_count": 23,
   "id": "dbe7c084",
   "metadata": {},
   "outputs": [],
   "source": [
    "from tensorflow.keras.layers import Input, Conv2D, MaxPool2D, Flatten, Dense, Add\n",
    "                                                                              # 입력받은 것을 더해주는 레이어"
   ]
  },
  {
   "cell_type": "code",
   "execution_count": 24,
   "id": "eefc1eab",
   "metadata": {},
   "outputs": [],
   "source": [
    "# 함수로 구현!\n",
    "def build_resnet(input_shape):\n",
    "    inputs = Input(input_shape)\n",
    "\n",
    "    net = Conv2D(32, kernel_size=3, strides= 2, padding='same', activation='relu')(inputs)\n",
    "    net = MaxPool2D()(net)\n",
    "\n",
    "    net1 = Conv2D(64, kernel_size=1, padding='same', activation='relu')(net)\n",
    "    net2 = Conv2D(64, kernel_size=3, padding='same', activation='relu')(net1)\n",
    "    net3 = Conv2D(64, kernel_size=1, padding='same', activation='relu')(net2)\n",
    "\n",
    "    net1_1 = Conv2D(64, kernel_size=1, padding='same', activation='relu')(net)\n",
    "    net = Add()([net1_1, net3])\n",
    "\n",
    "    net1 = Conv2D(64, kernel_size=1, padding='same', activation='relu')(net)\n",
    "    net2 = Conv2D(64, kernel_size=3, padding='same', activation='relu')(net1)\n",
    "    net3 = Conv2D(64, kernel_size=1, padding='same', activation='relu')(net2)\n",
    "\n",
    "    net = Add()([net, net3])\n",
    "\n",
    "    net = MaxPool2D()(net)\n",
    "\n",
    "    net = Flatten()(net)\n",
    "    net = Dense(10, activation='softmax')(net)\n",
    "\n",
    "    model = tf.keras.Model(inputs=inputs, outputs = net)\n",
    "\n",
    "    return model"
   ]
  },
  {
   "cell_type": "code",
   "execution_count": 25,
   "id": "75f8ebbd",
   "metadata": {},
   "outputs": [],
   "source": [
    "model = build_resnet((32, 32, 3))   # color 이미지이기 때문에 3"
   ]
  },
  {
   "cell_type": "code",
   "execution_count": 26,
   "id": "22b8f5e0",
   "metadata": {},
   "outputs": [
    {
     "name": "stdout",
     "output_type": "stream",
     "text": [
      "Model: \"model_1\"\n",
      "__________________________________________________________________________________________________\n",
      " Layer (type)                   Output Shape         Param #     Connected to                     \n",
      "==================================================================================================\n",
      " input_2 (InputLayer)           [(None, 32, 32, 3)]  0           []                               \n",
      "                                                                                                  \n",
      " conv2d_8 (Conv2D)              (None, 16, 16, 32)   896         ['input_2[0][0]']                \n",
      "                                                                                                  \n",
      " max_pooling2d_2 (MaxPooling2D)  (None, 8, 8, 32)    0           ['conv2d_8[0][0]']               \n",
      "                                                                                                  \n",
      " conv2d_9 (Conv2D)              (None, 8, 8, 64)     2112        ['max_pooling2d_2[0][0]']        \n",
      "                                                                                                  \n",
      " conv2d_10 (Conv2D)             (None, 8, 8, 64)     36928       ['conv2d_9[0][0]']               \n",
      "                                                                                                  \n",
      " conv2d_12 (Conv2D)             (None, 8, 8, 64)     2112        ['max_pooling2d_2[0][0]']        \n",
      "                                                                                                  \n",
      " conv2d_11 (Conv2D)             (None, 8, 8, 64)     4160        ['conv2d_10[0][0]']              \n",
      "                                                                                                  \n",
      " add_2 (Add)                    (None, 8, 8, 64)     0           ['conv2d_12[0][0]',              \n",
      "                                                                  'conv2d_11[0][0]']              \n",
      "                                                                                                  \n",
      " conv2d_13 (Conv2D)             (None, 8, 8, 64)     4160        ['add_2[0][0]']                  \n",
      "                                                                                                  \n",
      " conv2d_14 (Conv2D)             (None, 8, 8, 64)     36928       ['conv2d_13[0][0]']              \n",
      "                                                                                                  \n",
      " conv2d_15 (Conv2D)             (None, 8, 8, 64)     4160        ['conv2d_14[0][0]']              \n",
      "                                                                                                  \n",
      " add_3 (Add)                    (None, 8, 8, 64)     0           ['add_2[0][0]',                  \n",
      "                                                                  'conv2d_15[0][0]']              \n",
      "                                                                                                  \n",
      " max_pooling2d_3 (MaxPooling2D)  (None, 4, 4, 64)    0           ['add_3[0][0]']                  \n",
      "                                                                                                  \n",
      " flatten_1 (Flatten)            (None, 1024)         0           ['max_pooling2d_3[0][0]']        \n",
      "                                                                                                  \n",
      " dense_1 (Dense)                (None, 10)           10250       ['flatten_1[0][0]']              \n",
      "                                                                                                  \n",
      "==================================================================================================\n",
      "Total params: 101,706\n",
      "Trainable params: 101,706\n",
      "Non-trainable params: 0\n",
      "__________________________________________________________________________________________________\n"
     ]
    }
   ],
   "source": [
    "model.summary()"
   ]
  },
  {
   "cell_type": "markdown",
   "id": "419826d8",
   "metadata": {},
   "source": [
    "## CIfar10 dataset을 이용해 학습을 해본다"
   ]
  },
  {
   "cell_type": "code",
   "execution_count": 27,
   "id": "94f3a954",
   "metadata": {},
   "outputs": [],
   "source": [
    "class DataLoader():\n",
    "\n",
    "    def __init__(self):\n",
    "        (self.train_x, self.train_y), \\\n",
    "            (self.test_x, self.test_y) = tf.keras.datasets.cifar10.load_data()\n",
    "\n",
    "        # (train_x, train_y), (test_x, test_y) = tf.keras.datasets.mnist.load_data()\n",
    "\n",
    "    def validate_pixel_scale(self, x):\n",
    "        return 255 >= x.max() and 0 <= x.min()\n",
    "\n",
    "    def scale(self, x):\n",
    "        return (x / 255.0).astype(np.float32)\n",
    "\n",
    "    def preprocess_dataset(self, dataset):\n",
    "        feature, target = dataset\n",
    "\n",
    "        validated_x = np.array([x for x in feature if self.validate_pixel_scale(x)])\n",
    "        validated_y = np.array([y for x,y in zip(feature, target) if self.validate_pixel_scale(x)])\n",
    "\n",
    "        # scale\n",
    "        scaled_x = np.array([self.scale(x) for x in validated_x])\n",
    "        \n",
    "        # flatten   CNN에서는 안쓴다고 함\n",
    "        # flatten_x = scaled_x.reshape((scaled_x.shape[0], -1))\n",
    "\n",
    "        # expand\n",
    "        # expanded_x = scaled_x[:, :, :, np.newaxis]      # 컬러 이미지는 expand가 필요가 없다.\n",
    "                                        # 가짜 차원 하나를 추가한다.\n",
    "                              # 인덱스 전체\n",
    "                                # height\n",
    "                                    # width\n",
    "\n",
    "\n",
    "        # label encoding\n",
    "        ohe_y = np.array([tf.keras.utils.to_categorical(y, num_classes=10) for y in validated_y])\n",
    "                                    # shape 1을 없애야 한다. >> squeeze\n",
    "\n",
    "\n",
    "        return scaled_x, np.squeeze(ohe_y, axis=1)  #ohe_y      \n",
    "                # scaled_x 로 변경\n",
    "                        # train_y, test_y의 shape 1을 제거하기 위해서\n",
    "    \n",
    "    def get_train_dataset(self):\n",
    "        return self.preprocess_dataset((self.train_x, self.train_y))\n",
    "    \n",
    "    def get_test_dataset(self):\n",
    "        return self.preprocess_dataset((self.test_x, self.test_y))"
   ]
  },
  {
   "cell_type": "code",
   "execution_count": 28,
   "id": "30b78ad2",
   "metadata": {},
   "outputs": [
    {
     "name": "stdout",
     "output_type": "stream",
     "text": [
      "(50000, 32, 32, 3)\n",
      "(10000, 32, 32, 3)\n",
      "(50000, 10)\n",
      "(10000, 10)\n"
     ]
    }
   ],
   "source": [
    "loader = DataLoader()\n",
    "\n",
    "train_x, train_y = loader.get_train_dataset()\n",
    "\n",
    "test_x, test_y = loader.get_test_dataset()   # loader.get_test_dataset()\n",
    "\n",
    "print(train_x.shape)\n",
    "print(test_x.shape)\n",
    "print(train_y.shape)\n",
    "print(test_y.shape)"
   ]
  },
  {
   "cell_type": "code",
   "execution_count": 29,
   "id": "6db2c69d",
   "metadata": {},
   "outputs": [],
   "source": [
    "# 학습하기\n",
    "lr = 0.03       # 각자마다 좋아하는 러닝 레이트(초기값)가 있다. \n",
    "opt = tf.keras.optimizers.Adam(lr)\n",
    "loss = tf.keras.losses.categorical_crossentropy\n",
    "\n",
    "model.compile(optimizer=opt, loss=loss, metrics=['accuracy'])"
   ]
  },
  {
   "cell_type": "code",
   "execution_count": 30,
   "id": "f35a766b",
   "metadata": {},
   "outputs": [
    {
     "name": "stdout",
     "output_type": "stream",
     "text": [
      "391/391 [==============================] - 31s 78ms/step - loss: 2.4849 - accuracy: 0.1001 - val_loss: 2.3034 - val_accuracy: 0.1000\n"
     ]
    }
   ],
   "source": [
    "hist = model.fit(train_x, train_y, epochs=1, batch_size=128, validation_data=(test_x, test_y))"
   ]
  },
  {
   "cell_type": "code",
   "execution_count": 31,
   "id": "1576a7d3",
   "metadata": {},
   "outputs": [],
   "source": [
    "# epochs 10으로 해서 나타내보고, plot 그려보기"
   ]
  },
  {
   "cell_type": "code",
   "execution_count": 32,
   "id": "e0e7d1b9",
   "metadata": {},
   "outputs": [
    {
     "name": "stdout",
     "output_type": "stream",
     "text": [
      "Epoch 1/10\n",
      "391/391 [==============================] - 31s 80ms/step - loss: 2.3040 - accuracy: 0.0994 - val_loss: 2.3034 - val_accuracy: 0.1000\n",
      "Epoch 2/10\n",
      "391/391 [==============================] - 41s 104ms/step - loss: 2.3047 - accuracy: 0.0999 - val_loss: 2.3041 - val_accuracy: 0.1000\n",
      "Epoch 3/10\n",
      "391/391 [==============================] - 31s 80ms/step - loss: 2.3046 - accuracy: 0.0995 - val_loss: 2.3039 - val_accuracy: 0.1000\n",
      "Epoch 4/10\n",
      "391/391 [==============================] - 29s 73ms/step - loss: 2.3044 - accuracy: 0.0978 - val_loss: 2.3043 - val_accuracy: 0.1000\n",
      "Epoch 5/10\n",
      "391/391 [==============================] - 27s 69ms/step - loss: 2.3046 - accuracy: 0.1008 - val_loss: 2.3043 - val_accuracy: 0.1000\n",
      "Epoch 6/10\n",
      "391/391 [==============================] - 30s 77ms/step - loss: 2.3046 - accuracy: 0.0997 - val_loss: 2.3053 - val_accuracy: 0.1000\n",
      "Epoch 7/10\n",
      "391/391 [==============================] - 36s 91ms/step - loss: 2.3047 - accuracy: 0.0991 - val_loss: 2.3050 - val_accuracy: 0.1000\n",
      "Epoch 8/10\n",
      "391/391 [==============================] - 29s 73ms/step - loss: 2.3046 - accuracy: 0.0997 - val_loss: 2.3049 - val_accuracy: 0.1000\n",
      "Epoch 9/10\n",
      "391/391 [==============================] - 28s 72ms/step - loss: 2.3045 - accuracy: 0.0996 - val_loss: 2.3074 - val_accuracy: 0.1000\n",
      "Epoch 10/10\n",
      "391/391 [==============================] - 31s 78ms/step - loss: 2.3047 - accuracy: 0.0998 - val_loss: 2.3043 - val_accuracy: 0.1000\n"
     ]
    },
    {
     "data": {
      "image/png": "[encoded data removed]",
      "text/plain": [
       "<Figure size 720x360 with 4 Axes>"
      ]
     },
     "metadata": {
      "needs_background": "light"
     },
     "output_type": "display_data"
    }
   ],
   "source": [
    "hist_2 = model.fit(train_x, train_y, epochs = 10, batch_size=128, validation_data=(test_x, test_y))\n",
    "\n",
    "plt.figure(figsize=(10,5))\n",
    "plt.subplot(221)    #2 * 2 * 1\n",
    "plt.plot(hist_2.history['loss'])\n",
    "plt.subplot(222)\n",
    "plt.plot(hist_2.history['accuracy'])\n",
    "plt.subplot(223)\n",
    "plt.plot(hist_2.history['val_loss'])\n",
    "plt.subplot(224)\n",
    "plt.plot(hist_2.history['val_accuracy'])\n",
    "\n",
    "plt.tight_layout()\n",
    "plt.show()"
   ]
  },
  {
   "cell_type": "code",
   "execution_count": null,
   "id": "5560d3ac",
   "metadata": {},
   "outputs": [],
   "source": []
  }
 ],
 "metadata": {
  "interpreter": {
   "hash": "b5a26d0e877c4652cf53eb6b13536f4959f02e722fb5eef7979a29d14fb02c8a"
  },
  "kernelspec": {
   "display_name": "Python 3.10.4 ('TF')",
   "language": "python",
   "name": "python3"
  },
  "language_info": {
   "codemirror_mode": {
    "name": "ipython",
    "version": 3
   },
   "file_extension": ".py",
   "mimetype": "text/x-python",
   "name": "python",
   "nbconvert_exporter": "python",
   "pygments_lexer": "ipython3",
   "version": "3.10.4"
  },
  "varInspector": {
   "cols": {
    "lenName": 16,
    "lenType": 16,
    "lenVar": 40
   },
   "kernels_config": {
    "python": {
     "delete_cmd_postfix": "",
     "delete_cmd_prefix": "del ",
     "library": "var_list.py",
     "varRefreshCmd": "print(var_dic_list())"
    },
    "r": {
     "delete_cmd_postfix": ") ",
     "delete_cmd_prefix": "rm(",
     "library": "var_list.r",
     "varRefreshCmd": "cat(var_dic_list()) "
    }
   },
   "types_to_exclude": [
    "module",
    "function",
    "builtin_function_or_method",
    "instance",
    "_Feature"
   ],
   "window_display": false
  }
 },
 "nbformat": 4,
 "nbformat_minor": 5
}

{
 "cells": [
  {
   "cell_type": "markdown",
   "metadata": {},
   "source": [
    "# 11_DL from scratch - 오차의 역전파"
   ]
  },
  {
   "cell_type": "markdown",
   "metadata": {},
   "source": [
    "# `XOR`"
   ]
  },
  {
   "cell_type": "code",
   "execution_count": 19,
   "metadata": {},
   "outputs": [],
   "source": [
    "import numpy as np\n",
    "\n",
    "X = np.array([[0,0,1],      # 같은 수가 두개이면 0 (0,0)\n",
    "            [0,1,1],        # 다른 수가 두개이면 1 (0,1)\n",
    "            [1,0,1],\n",
    "            [1,1,1]])\n",
    "D = np.array([[0],[1],[1],[0]])\n",
    "\n",
    "W = 2*np.random.random((1,3)) -1"
   ]
  },
  {
   "cell_type": "code",
   "execution_count": 20,
   "metadata": {},
   "outputs": [],
   "source": [
    "def sigmoid(x):\n",
    "    return 1.0 / (1.0 + np.exp(-x))"
   ]
  },
  {
   "cell_type": "code",
   "execution_count": 21,
   "metadata": {},
   "outputs": [],
   "source": [
    "def calc_output(W, x):\n",
    "    v = np.matmul(W, x)\n",
    "    y = sigmoid(v)\n",
    "\n",
    "    return y"
   ]
  },
  {
   "cell_type": "code",
   "execution_count": 22,
   "metadata": {},
   "outputs": [],
   "source": [
    "def calc_error(d, y):\n",
    "    e = d - y\n",
    "    delta = y * (1-y) * e\n",
    "\n",
    "    return delta"
   ]
  },
  {
   "cell_type": "code",
   "execution_count": 23,
   "metadata": {},
   "outputs": [],
   "source": [
    "def delta_GD(W, X, D, alpha):\n",
    "    for k in range(4):\n",
    "        x = X[k, :].T\n",
    "        d = D[k]\n",
    "\n",
    "        y = calc_output(W, x)\n",
    "        delta = calc_error(d, y)\n",
    "\n",
    "        dW = alpha * delta * x\n",
    "        W = W + dW\n",
    "\n",
    "    return W"
   ]
  },
  {
   "cell_type": "code",
   "execution_count": 24,
   "metadata": {},
   "outputs": [],
   "source": [
    "# 학습\n",
    "alpha = 0.9\n",
    "for epoch in range(10000):\n",
    "    W = delta_GD(W, X, D, alpha)"
   ]
  },
  {
   "cell_type": "code",
   "execution_count": 25,
   "metadata": {},
   "outputs": [
    {
     "name": "stdout",
     "output_type": "stream",
     "text": [
      "[0.52965337]\n",
      "[0.5]\n",
      "[0.47034663]\n",
      "[0.44090112]\n"
     ]
    }
   ],
   "source": [
    "N = 4\n",
    "for k in range(N):\n",
    "    x = X[k, :].T\n",
    "    v = np.matmul(W, x)\n",
    "    y = sigmoid(v)\n",
    "\n",
    "    print(y)"
   ]
  },
  {
   "cell_type": "markdown",
   "metadata": {},
   "source": [
    "> ## 학습이 `안되었다.`"
   ]
  },
  {
   "cell_type": "markdown",
   "metadata": {},
   "source": [
    "# `역전파`"
   ]
  },
  {
   "cell_type": "markdown",
   "metadata": {},
   "source": [
    "### `XOR 극복하기`"
   ]
  },
  {
   "cell_type": "markdown",
   "metadata": {},
   "source": [
    "![](./lecture_image/11-02.png)\n",
    "> 역으로 올라가자"
   ]
  },
  {
   "cell_type": "code",
   "execution_count": 26,
   "metadata": {},
   "outputs": [],
   "source": [
    "# output 계산 함수\n",
    "def calc_output(W1, W2, x):\n",
    "    v1 = np.matmul(W1, x)\n",
    "    y1 = sigmoid(v1)\n",
    "    v = np.matmul(W2, y1)   # 2번째 레이어로 들어간다.\n",
    "    y = sigmoid(v)\n",
    "\n",
    "    return y, y1"
   ]
  },
  {
   "cell_type": "code",
   "execution_count": 27,
   "metadata": {},
   "outputs": [],
   "source": [
    "# 출력 층의 델타 계산\n",
    "def calc_delta(d, y):\n",
    "    e = d - y \n",
    "    delta = y * (1-y) * e\n",
    "\n",
    "    return delta\n",
    "            # 최종 출력단에 대한 에러를 계산하는 것"
   ]
  },
  {
   "cell_type": "code",
   "execution_count": 28,
   "metadata": {},
   "outputs": [],
   "source": [
    "# 은닉층의 델타 계산\n",
    "def calc_delta1(W2, delta, y1):\n",
    "    e1 = np.matmul(W2.T, delta)\n",
    "    delta1 = y1 * (1-y1) * e1\n",
    "\n",
    "    return delta1"
   ]
  },
  {
   "cell_type": "markdown",
   "metadata": {},
   "source": [
    "![](./lecture_image/11-01.png)"
   ]
  },
  {
   "cell_type": "code",
   "execution_count": 29,
   "metadata": {},
   "outputs": [],
   "source": [
    "# 역전파 코드\n",
    "def backprop_XOR(W1, W2, X, D, alpha):\n",
    "    for k in range(4):\n",
    "        x = X[k, :].T\n",
    "        d = D[k]\n",
    "\n",
    "        y, y1 = calc_output(W1, W2, x)\n",
    "        delta = calc_delta(d, y)\n",
    "        delta1 = calc_delta1(W2, delta, y1)\n",
    "\n",
    "        dW1 = (alpha * delta1).reshape(4, 1) * x.reshape(1, 3)\n",
    "        W1 = W1 + dW1\n",
    "\n",
    "        dW2 = alpha * delta * y1\n",
    "        W2 = W2 + dW2\n",
    "\n",
    "    return W1, W2"
   ]
  },
  {
   "cell_type": "code",
   "execution_count": 30,
   "metadata": {},
   "outputs": [],
   "source": [
    "X = np.array([\n",
    "    [0,0,1],\n",
    "    [0,1,1],\n",
    "    [1,0,1],\n",
    "    [1,1,1],\n",
    "    \n",
    "])\n",
    "\n",
    "D = np.array([\n",
    "    [0],[1],[1],[0]\n",
    "])"
   ]
  },
  {
   "cell_type": "code",
   "execution_count": 31,
   "metadata": {},
   "outputs": [],
   "source": [
    "W1 = 2*np.random.random((4,3)) - 1\n",
    "                        # 노드가 4개 점이 3개\n",
    "W2 = 2*np.random.random((1,4)) - 1\n",
    "                        # 노드가 4개 점이 1개"
   ]
  },
  {
   "cell_type": "markdown",
   "metadata": {},
   "source": [
    "> ![](./lecture_image/11-02.png)"
   ]
  },
  {
   "cell_type": "code",
   "execution_count": 32,
   "metadata": {},
   "outputs": [],
   "source": [
    "alpha = 0.9\n",
    "for epoch in range(10000):\n",
    "    W1, W2 = backprop_XOR(W1, W2, X, D, alpha)"
   ]
  },
  {
   "cell_type": "code",
   "execution_count": 33,
   "metadata": {},
   "outputs": [
    {
     "name": "stdout",
     "output_type": "stream",
     "text": [
      "[0.00748409]\n",
      "[0.99050981]\n",
      "[0.99123247]\n",
      "[0.01090682]\n"
     ]
    }
   ],
   "source": [
    "N  = 4\n",
    "for k in range(N):\n",
    "    x = X[k, :].T\n",
    "    v1 = np.matmul(W1, x)\n",
    "    y1 = sigmoid(v1)\n",
    "    v = np.matmul(W2, y1)\n",
    "    y = sigmoid(v)\n",
    "\n",
    "    print(y)"
   ]
  },
  {
   "cell_type": "markdown",
   "metadata": {},
   "source": [
    "> ## XOR도 완벽하게 `해결`할 수 있게 되었다."
   ]
  }
 ],
 "metadata": {
  "interpreter": {
   "hash": "b5a26d0e877c4652cf53eb6b13536f4959f02e722fb5eef7979a29d14fb02c8a"
  },
  "kernelspec": {
   "display_name": "Python 3.8.13 ('TF')",
   "language": "python",
   "name": "python3"
  },
  "language_info": {
   "codemirror_mode": {
    "name": "ipython",
    "version": 3
   },
   "file_extension": ".py",
   "mimetype": "text/x-python",
   "name": "python",
   "nbconvert_exporter": "python",
   "pygments_lexer": "ipython3",
   "version": "3.8.13"
  },
  "orig_nbformat": 4
 },
 "nbformat": 4,
 "nbformat_minor": 2
}

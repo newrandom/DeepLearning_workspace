{
 "cells": [
  {
   "cell_type": "markdown",
   "metadata": {},
   "source": [
    "# 25_이론 - OX 분류"
   ]
  },
  {
   "cell_type": "markdown",
   "metadata": {},
   "source": [
    "> ## OX 손글씨 > LeNET 으로 분류하는 과제"
   ]
  },
  {
   "cell_type": "code",
   "execution_count": 1,
   "metadata": {},
   "outputs": [],
   "source": [
    "from glob import glob\n",
    "    # glob : Return a list of paths matching a pathname pattern.\n",
    "    "
   ]
  },
  {
   "cell_type": "code",
   "execution_count": 2,
   "metadata": {},
   "outputs": [],
   "source": [
    "train_raw_O_list = glob('/train_raw/O/*')"
   ]
  },
  {
   "cell_type": "code",
   "execution_count": 3,
   "metadata": {},
   "outputs": [
    {
     "data": {
      "text/plain": [
       "[]"
      ]
     },
     "execution_count": 3,
     "metadata": {},
     "output_type": "execute_result"
    }
   ],
   "source": [
    "train_raw_O_list"
   ]
  },
  {
   "cell_type": "markdown",
   "metadata": {},
   "source": [
    "# skimage (scikit-image)"
   ]
  },
  {
   "cell_type": "code",
   "execution_count": 6,
   "metadata": {},
   "outputs": [],
   "source": [
    "# !pip install scikit-image"
   ]
  },
  {
   "cell_type": "code",
   "execution_count": 7,
   "metadata": {},
   "outputs": [],
   "source": [
    "from skimage.transform import rescale, resize\n",
    "from skimage import color\n",
    "from skimage.io import imread, imsave\n",
    "import matplotlib.pyplot as plt"
   ]
  },
  {
   "cell_type": "code",
   "execution_count": 8,
   "metadata": {},
   "outputs": [
    {
     "ename": "IndexError",
     "evalue": "list index out of range",
     "output_type": "error",
     "traceback": [
      "\u001b[0;31m---------------------------------------------------------------------------\u001b[0m",
      "\u001b[0;31mIndexError\u001b[0m                                Traceback (most recent call last)",
      "\u001b[1;32m/Users/newrandom/Documents/GitHub/DeepLearning_workspace/Zerobase_13_Deep Learning/25_이론 - OX 분류.ipynb Cell 9'\u001b[0m in \u001b[0;36m<cell line: 1>\u001b[0;34m()\u001b[0m\n\u001b[0;32m----> <a href='vscode-notebook-cell:/Users/newrandom/Documents/GitHub/DeepLearning_workspace/Zerobase_13_Deep%20Learning/25_%EC%9D%B4%EB%A1%A0%20-%20OX%20%EB%B6%84%EB%A5%98.ipynb#ch0000009?line=0'>1</a>\u001b[0m image \u001b[39m=\u001b[39m imread(train_raw_0_list[\u001b[39m0\u001b[39;49m])\n\u001b[1;32m      <a href='vscode-notebook-cell:/Users/newrandom/Documents/GitHub/DeepLearning_workspace/Zerobase_13_Deep%20Learning/25_%EC%9D%B4%EB%A1%A0%20-%20OX%20%EB%B6%84%EB%A5%98.ipynb#ch0000009?line=1'>2</a>\u001b[0m image \u001b[39m=\u001b[39m color\u001b[39m.\u001b[39mrgb2gray(image)\n\u001b[1;32m      <a href='vscode-notebook-cell:/Users/newrandom/Documents/GitHub/DeepLearning_workspace/Zerobase_13_Deep%20Learning/25_%EC%9D%B4%EB%A1%A0%20-%20OX%20%EB%B6%84%EB%A5%98.ipynb#ch0000009?line=2'>3</a>\u001b[0m plt\u001b[39m.\u001b[39mimshow(image,cmap\u001b[39m=\u001b[39m\u001b[39m'\u001b[39m\u001b[39mgray\u001b[39m\u001b[39m'\u001b[39m)\n",
      "\u001b[0;31mIndexError\u001b[0m: list index out of range"
     ]
    }
   ],
   "source": [
    "image = imread(train_raw_O_list[0])\n",
    "image = color.rgb2gray(image)\n",
    "plt.imshow(image,cmap='gray')"
   ]
  },
  {
   "cell_type": "code",
   "execution_count": 9,
   "metadata": {},
   "outputs": [
    {
     "ename": "NameError",
     "evalue": "name 'image' is not defined",
     "output_type": "error",
     "traceback": [
      "\u001b[0;31m---------------------------------------------------------------------------\u001b[0m",
      "\u001b[0;31mNameError\u001b[0m                                 Traceback (most recent call last)",
      "\u001b[1;32m/Users/newrandom/Documents/GitHub/DeepLearning_workspace/Zerobase_13_Deep Learning/25_이론 - OX 분류.ipynb Cell 10'\u001b[0m in \u001b[0;36m<cell line: 2>\u001b[0;34m()\u001b[0m\n\u001b[1;32m      <a href='vscode-notebook-cell:/Users/newrandom/Documents/GitHub/DeepLearning_workspace/Zerobase_13_Deep%20Learning/25_%EC%9D%B4%EB%A1%A0%20-%20OX%20%EB%B6%84%EB%A5%98.ipynb#ch0000010?line=0'>1</a>\u001b[0m \u001b[39m# resize\u001b[39;00m\n\u001b[0;32m----> <a href='vscode-notebook-cell:/Users/newrandom/Documents/GitHub/DeepLearning_workspace/Zerobase_13_Deep%20Learning/25_%EC%9D%B4%EB%A1%A0%20-%20OX%20%EB%B6%84%EB%A5%98.ipynb#ch0000010?line=1'>2</a>\u001b[0m img_resized \u001b[39m=\u001b[39m resize(image, (\u001b[39m28\u001b[39m, \u001b[39m28\u001b[39m))\n\u001b[1;32m      <a href='vscode-notebook-cell:/Users/newrandom/Documents/GitHub/DeepLearning_workspace/Zerobase_13_Deep%20Learning/25_%EC%9D%B4%EB%A1%A0%20-%20OX%20%EB%B6%84%EB%A5%98.ipynb#ch0000010?line=2'>3</a>\u001b[0m \u001b[39mprint\u001b[39m(img_resized\u001b[39m.\u001b[39mshape)\n\u001b[1;32m      <a href='vscode-notebook-cell:/Users/newrandom/Documents/GitHub/DeepLearning_workspace/Zerobase_13_Deep%20Learning/25_%EC%9D%B4%EB%A1%A0%20-%20OX%20%EB%B6%84%EB%A5%98.ipynb#ch0000010?line=3'>4</a>\u001b[0m plt\u001b[39m.\u001b[39mimshow(img_resized, cmap\u001b[39m=\u001b[39m\u001b[39m'\u001b[39m\u001b[39mgray\u001b[39m\u001b[39m'\u001b[39m)\n",
      "\u001b[0;31mNameError\u001b[0m: name 'image' is not defined"
     ]
    }
   ],
   "source": [
    "# resize\n",
    "img_resized = resize(image, (28, 28))\n",
    "print(img_resized.shape)\n",
    "plt.imshow(img_resized, cmap='gray')"
   ]
  },
  {
   "cell_type": "code",
   "execution_count": null,
   "metadata": {},
   "outputs": [],
   "source": [
    "# 저장하기\n",
    "import numpy as np\n",
    "imsave('./tmp.png', np.round(img_resized*255).astype(np.uint8))"
   ]
  },
  {
   "cell_type": "code",
   "execution_count": 10,
   "metadata": {},
   "outputs": [
    {
     "ename": "FileNotFoundError",
     "evalue": "No such file: '/Users/newrandom/Documents/GitHub/DeepLearning_workspace/Zerobase_13_Deep Learning/tmp.png'",
     "output_type": "error",
     "traceback": [
      "\u001b[0;31m---------------------------------------------------------------------------\u001b[0m",
      "\u001b[0;31mFileNotFoundError\u001b[0m                         Traceback (most recent call last)",
      "\u001b[1;32m/Users/newrandom/Documents/GitHub/DeepLearning_workspace/Zerobase_13_Deep Learning/25_이론 - OX 분류.ipynb Cell 12'\u001b[0m in \u001b[0;36m<cell line: 2>\u001b[0;34m()\u001b[0m\n\u001b[1;32m      <a href='vscode-notebook-cell:/Users/newrandom/Documents/GitHub/DeepLearning_workspace/Zerobase_13_Deep%20Learning/25_%EC%9D%B4%EB%A1%A0%20-%20OX%20%EB%B6%84%EB%A5%98.ipynb#ch0000012?line=0'>1</a>\u001b[0m \u001b[39m# 다시확인\u001b[39;00m\n\u001b[0;32m----> <a href='vscode-notebook-cell:/Users/newrandom/Documents/GitHub/DeepLearning_workspace/Zerobase_13_Deep%20Learning/25_%EC%9D%B4%EB%A1%A0%20-%20OX%20%EB%B6%84%EB%A5%98.ipynb#ch0000012?line=1'>2</a>\u001b[0m tmp \u001b[39m=\u001b[39m imread(\u001b[39m'\u001b[39;49m\u001b[39m./tmp.png\u001b[39;49m\u001b[39m'\u001b[39;49m)\n\u001b[1;32m      <a href='vscode-notebook-cell:/Users/newrandom/Documents/GitHub/DeepLearning_workspace/Zerobase_13_Deep%20Learning/25_%EC%9D%B4%EB%A1%A0%20-%20OX%20%EB%B6%84%EB%A5%98.ipynb#ch0000012?line=2'>3</a>\u001b[0m \u001b[39mprint\u001b[39m(tmp\u001b[39m.\u001b[39mshape)\n\u001b[1;32m      <a href='vscode-notebook-cell:/Users/newrandom/Documents/GitHub/DeepLearning_workspace/Zerobase_13_Deep%20Learning/25_%EC%9D%B4%EB%A1%A0%20-%20OX%20%EB%B6%84%EB%A5%98.ipynb#ch0000012?line=3'>4</a>\u001b[0m plt\u001b[39m.\u001b[39mimshow(tmp, cmap\u001b[39m=\u001b[39m\u001b[39m'\u001b[39m\u001b[39mgray\u001b[39m\u001b[39m'\u001b[39m)\n",
      "File \u001b[0;32m~/miniforge3/envs/TF/lib/python3.8/site-packages/skimage/io/_io.py:53\u001b[0m, in \u001b[0;36mimread\u001b[0;34m(fname, as_gray, plugin, **plugin_args)\u001b[0m\n\u001b[1;32m     50\u001b[0m         plugin \u001b[39m=\u001b[39m \u001b[39m'\u001b[39m\u001b[39mtifffile\u001b[39m\u001b[39m'\u001b[39m\n\u001b[1;32m     52\u001b[0m \u001b[39mwith\u001b[39;00m file_or_url_context(fname) \u001b[39mas\u001b[39;00m fname:\n\u001b[0;32m---> 53\u001b[0m     img \u001b[39m=\u001b[39m call_plugin(\u001b[39m'\u001b[39;49m\u001b[39mimread\u001b[39;49m\u001b[39m'\u001b[39;49m, fname, plugin\u001b[39m=\u001b[39;49mplugin, \u001b[39m*\u001b[39;49m\u001b[39m*\u001b[39;49mplugin_args)\n\u001b[1;32m     55\u001b[0m \u001b[39mif\u001b[39;00m \u001b[39mnot\u001b[39;00m \u001b[39mhasattr\u001b[39m(img, \u001b[39m'\u001b[39m\u001b[39mndim\u001b[39m\u001b[39m'\u001b[39m):\n\u001b[1;32m     56\u001b[0m     \u001b[39mreturn\u001b[39;00m img\n",
      "File \u001b[0;32m~/miniforge3/envs/TF/lib/python3.8/site-packages/skimage/io/manage_plugins.py:207\u001b[0m, in \u001b[0;36mcall_plugin\u001b[0;34m(kind, *args, **kwargs)\u001b[0m\n\u001b[1;32m    203\u001b[0m     \u001b[39mexcept\u001b[39;00m \u001b[39mIndexError\u001b[39;00m:\n\u001b[1;32m    204\u001b[0m         \u001b[39mraise\u001b[39;00m \u001b[39mRuntimeError\u001b[39;00m(\u001b[39m'\u001b[39m\u001b[39mCould not find the plugin \u001b[39m\u001b[39m\"\u001b[39m\u001b[39m%s\u001b[39;00m\u001b[39m\"\u001b[39m\u001b[39m for \u001b[39m\u001b[39m%s\u001b[39;00m\u001b[39m.\u001b[39m\u001b[39m'\u001b[39m \u001b[39m%\u001b[39m\n\u001b[1;32m    205\u001b[0m                            (plugin, kind))\n\u001b[0;32m--> 207\u001b[0m \u001b[39mreturn\u001b[39;00m func(\u001b[39m*\u001b[39;49margs, \u001b[39m*\u001b[39;49m\u001b[39m*\u001b[39;49mkwargs)\n",
      "File \u001b[0;32m~/miniforge3/envs/TF/lib/python3.8/site-packages/skimage/io/_plugins/imageio_plugin.py:15\u001b[0m, in \u001b[0;36mimread\u001b[0;34m(*args, **kwargs)\u001b[0m\n\u001b[1;32m     13\u001b[0m \u001b[39m@wraps\u001b[39m(imageio_imread)\n\u001b[1;32m     14\u001b[0m \u001b[39mdef\u001b[39;00m \u001b[39mimread\u001b[39m(\u001b[39m*\u001b[39margs, \u001b[39m*\u001b[39m\u001b[39m*\u001b[39mkwargs):\n\u001b[0;32m---> 15\u001b[0m     \u001b[39mreturn\u001b[39;00m np\u001b[39m.\u001b[39masarray(imageio_imread(\u001b[39m*\u001b[39;49margs, \u001b[39m*\u001b[39;49m\u001b[39m*\u001b[39;49mkwargs))\n",
      "File \u001b[0;32m~/miniforge3/envs/TF/lib/python3.8/site-packages/imageio/v2.py:200\u001b[0m, in \u001b[0;36mimread\u001b[0;34m(uri, format, **kwargs)\u001b[0m\n\u001b[1;32m    197\u001b[0m imopen_args \u001b[39m=\u001b[39m decypher_format_arg(\u001b[39mformat\u001b[39m)\n\u001b[1;32m    198\u001b[0m imopen_args[\u001b[39m\"\u001b[39m\u001b[39mlegacy_mode\u001b[39m\u001b[39m\"\u001b[39m] \u001b[39m=\u001b[39m \u001b[39mTrue\u001b[39;00m\n\u001b[0;32m--> 200\u001b[0m \u001b[39mwith\u001b[39;00m imopen(uri, \u001b[39m\"\u001b[39;49m\u001b[39mri\u001b[39;49m\u001b[39m\"\u001b[39;49m, \u001b[39m*\u001b[39;49m\u001b[39m*\u001b[39;49mimopen_args) \u001b[39mas\u001b[39;00m file:\n\u001b[1;32m    201\u001b[0m     \u001b[39mreturn\u001b[39;00m file\u001b[39m.\u001b[39mread(index\u001b[39m=\u001b[39m\u001b[39m0\u001b[39m, \u001b[39m*\u001b[39m\u001b[39m*\u001b[39mkwargs)\n",
      "File \u001b[0;32m~/miniforge3/envs/TF/lib/python3.8/site-packages/imageio/core/imopen.py:118\u001b[0m, in \u001b[0;36mimopen\u001b[0;34m(uri, io_mode, plugin, extension, format_hint, legacy_mode, **kwargs)\u001b[0m\n\u001b[1;32m    116\u001b[0m     request\u001b[39m.\u001b[39mformat_hint \u001b[39m=\u001b[39m format_hint\n\u001b[1;32m    117\u001b[0m \u001b[39melse\u001b[39;00m:\n\u001b[0;32m--> 118\u001b[0m     request \u001b[39m=\u001b[39m Request(uri, io_mode, format_hint\u001b[39m=\u001b[39;49mformat_hint, extension\u001b[39m=\u001b[39;49mextension)\n\u001b[1;32m    120\u001b[0m source \u001b[39m=\u001b[39m \u001b[39m\"\u001b[39m\u001b[39m<bytes>\u001b[39m\u001b[39m\"\u001b[39m \u001b[39mif\u001b[39;00m \u001b[39misinstance\u001b[39m(uri, \u001b[39mbytes\u001b[39m) \u001b[39melse\u001b[39;00m uri\n\u001b[1;32m    122\u001b[0m \u001b[39m# fast-path based on plugin\u001b[39;00m\n\u001b[1;32m    123\u001b[0m \u001b[39m# (except in legacy mode)\u001b[39;00m\n",
      "File \u001b[0;32m~/miniforge3/envs/TF/lib/python3.8/site-packages/imageio/core/request.py:248\u001b[0m, in \u001b[0;36mRequest.__init__\u001b[0;34m(self, uri, mode, extension, format_hint, **kwargs)\u001b[0m\n\u001b[1;32m    245\u001b[0m     \u001b[39mraise\u001b[39;00m \u001b[39mValueError\u001b[39;00m(\u001b[39mf\u001b[39m\u001b[39m\"\u001b[39m\u001b[39mInvalid Request.Mode: \u001b[39m\u001b[39m{\u001b[39;00mmode\u001b[39m}\u001b[39;00m\u001b[39m\"\u001b[39m)\n\u001b[1;32m    247\u001b[0m \u001b[39m# Parse what was given\u001b[39;00m\n\u001b[0;32m--> 248\u001b[0m \u001b[39mself\u001b[39;49m\u001b[39m.\u001b[39;49m_parse_uri(uri)\n\u001b[1;32m    250\u001b[0m \u001b[39m# Set extension\u001b[39;00m\n\u001b[1;32m    251\u001b[0m \u001b[39mif\u001b[39;00m extension \u001b[39mis\u001b[39;00m \u001b[39mnot\u001b[39;00m \u001b[39mNone\u001b[39;00m:\n",
      "File \u001b[0;32m~/miniforge3/envs/TF/lib/python3.8/site-packages/imageio/core/request.py:407\u001b[0m, in \u001b[0;36mRequest._parse_uri\u001b[0;34m(self, uri)\u001b[0m\n\u001b[1;32m    404\u001b[0m \u001b[39mif\u001b[39;00m is_read_request:\n\u001b[1;32m    405\u001b[0m     \u001b[39m# Reading: check that the file exists (but is allowed a dir)\u001b[39;00m\n\u001b[1;32m    406\u001b[0m     \u001b[39mif\u001b[39;00m \u001b[39mnot\u001b[39;00m os\u001b[39m.\u001b[39mpath\u001b[39m.\u001b[39mexists(fn):\n\u001b[0;32m--> 407\u001b[0m         \u001b[39mraise\u001b[39;00m \u001b[39mFileNotFoundError\u001b[39;00m(\u001b[39m\"\u001b[39m\u001b[39mNo such file: \u001b[39m\u001b[39m'\u001b[39m\u001b[39m%s\u001b[39;00m\u001b[39m'\u001b[39m\u001b[39m\"\u001b[39m \u001b[39m%\u001b[39m fn)\n\u001b[1;32m    408\u001b[0m \u001b[39melse\u001b[39;00m:\n\u001b[1;32m    409\u001b[0m     \u001b[39m# Writing: check that the directory to write to does exist\u001b[39;00m\n\u001b[1;32m    410\u001b[0m     dn \u001b[39m=\u001b[39m os\u001b[39m.\u001b[39mpath\u001b[39m.\u001b[39mdirname(fn)\n",
      "\u001b[0;31mFileNotFoundError\u001b[0m: No such file: '/Users/newrandom/Documents/GitHub/DeepLearning_workspace/Zerobase_13_Deep Learning/tmp.png'"
     ]
    }
   ],
   "source": [
    "# 다시확인\n",
    "tmp = imread('./tmp.png')\n",
    "print(tmp.shape)\n",
    "plt.imshow(tmp, cmap='gray');"
   ]
  },
  {
   "cell_type": "code",
   "execution_count": null,
   "metadata": {},
   "outputs": [],
   "source": [
    "# 파일 이름 추출 연습\n",
    "train_raw_O_list[0].split('/')[-1][:-4]\n",
    "                        # 폴더경로의 / 분리\n",
    "                                # -1 : 맨 마지막, 즉 img_xxxx.jpg\n",
    "                                    # [:-4] : 맨 마지막에서 4번째까지 자름 >> img_xxxx 만 남음"
   ]
  },
  {
   "cell_type": "code",
   "execution_count": null,
   "metadata": {},
   "outputs": [],
   "source": [
    "# 이미지 resize 함수 만들기\n",
    "def img_resize(img):\n",
    "    img = color.rgb2gray(img)\n",
    "    return resize(img, (28,28))\n",
    "                        # color 이미지로 변환은 (28, 28, 3) 으로 해야한다.\n",
    "                        # grayscale 이미지로의 변환은 (28, 28) 로만 하면된다."
   ]
  },
  {
   "cell_type": "code",
   "execution_count": null,
   "metadata": {},
   "outputs": [],
   "source": [
    "# Train_O\n",
    "from tqdm.notebook import tqdm\n",
    "\n",
    "def convert_train_O():\n",
    "    train_raw_O_list = glob('./train_raw/O/*')\n",
    "    for each in tqdm(train_raw_O_list):\n",
    "        img = imread(each)\n",
    "        img_resized = img_resize(img)\n",
    "        save_name = './train/O/' + each.split('/')[-1][:-4] + '.png'\n",
    "                        # jpg 파일을 png 파일로 변환하는 알고리즘.\n",
    "        imsave(save_name, np.round(img_resized*255).astype(np.uint8))\n",
    "\n",
    "convert_train_O()"
   ]
  },
  {
   "cell_type": "code",
   "execution_count": null,
   "metadata": {},
   "outputs": [],
   "source": [
    "# Train_X\n",
    "def convert_train_X():\n",
    "    train_raw_X_list = glob('./train_raw/X/*')\n",
    "    for each in tqdm(train_raw_X_list):\n",
    "        img = imread(each)\n",
    "        img_resized = img_resize(img)\n",
    "        save_name = './train/X/' + each.split('/')[-1][:-4] + '.png'\n",
    "                    # train_X 데이터의 저장 경로 지정\n",
    "        imsave(save_name, np.round(img_resized*255).astype(np.uint8))\n",
    "\n",
    "convert_train_X"
   ]
  },
  {
   "cell_type": "code",
   "execution_count": null,
   "metadata": {},
   "outputs": [],
   "source": [
    "# Test_O\n",
    "def convert_test_O():\n",
    "    test_raw_O_list = glob('./test_raw/O/*')\n",
    "    for each in tqdm(test_raw_O_list):\n",
    "        img = imread(each)\n",
    "        img_resized = img_resize(img)\n",
    "        save_name = './test/O/' + each.split('/')[-1][:-4] + '.png'\n",
    "        imsave(save_name, np.round(img_resized*255).astype(np.uint8))\n",
    "\n",
    "convert_test_O"
   ]
  },
  {
   "cell_type": "code",
   "execution_count": null,
   "metadata": {},
   "outputs": [],
   "source": [
    "# Test_X\n",
    "\n",
    "def convert_test_X():\n",
    "    test_raw_X_list = glob('./test_raw/X/*')\n",
    "    for each in tqdm(test_raw_X_list):\n",
    "        img = imread(each)\n",
    "        img_resized = img_resize(img)\n",
    "        save_name = './test/X/' + each.split('/')[-1][:-4] + '.png'\n",
    "        imsave(save_name, np.round(img_resized * 255).astype(np.uint8))\n",
    "\n",
    "convert_test_X()"
   ]
  },
  {
   "cell_type": "markdown",
   "metadata": {},
   "source": [
    "# module import"
   ]
  },
  {
   "cell_type": "code",
   "execution_count": 11,
   "metadata": {},
   "outputs": [],
   "source": [
    "import numpy as np\n",
    "from keras.models import Sequential\n",
    "from keras.layers import Dense\n",
    "from keras.layers import Flatten\n",
    "from keras.layers.convolutional import Conv2D\n",
    "from keras.layers.convolutional import MaxPooling2D\n",
    "from keras.preprocessing.image import ImageDataGenerator    ##\n",
    "import keras\n",
    "\n",
    "np.random.seed(13)"
   ]
  },
  {
   "cell_type": "markdown",
   "metadata": {},
   "source": [
    "# image_generator"
   ]
  },
  {
   "cell_type": "code",
   "execution_count": null,
   "metadata": {},
   "outputs": [],
   "source": [
    "train_datagen = ImageDataGenerator(rescale=1./255)\n",
    "\n",
    "train_generator = train_datagen.flow_from_directory(\n",
    "    './train',\n",
    "    target_size=(28, 28),\n",
    "    batch_size = 3,\n",
    "    class_mode = 'categorical')\n",
    "\n",
    "test_datagen = ImageDataGenerator(rescale=1./255)\n",
    "\n",
    "test_generator = test_datagen.flow_from_directory(\n",
    "    './test',\n",
    "    target_size = (28, 28),\n",
    "    batch_size = 3,\n",
    "    class_mode = 'categorical'\n",
    ")"
   ]
  },
  {
   "cell_type": "code",
   "execution_count": null,
   "metadata": {},
   "outputs": [],
   "source": [
    "# model 구성\n",
    "model = Sequential()\n",
    "model.add(Conv2D(32, kernel_size=(3,3), activation='relu', input_shape=(28,28,3)))\n",
    "model.add(Conv2D(64, (3,3), activation='relu'))\n",
    "model.add(MaxPooling2D(pool_size=(2,2)))\n",
    "model.add(Flatten())\n",
    "model.add(Dense(128, activation='relu'))\n",
    "model.add(Dense(2, activation='softmax'))\n",
    "                # 2 : O, X 로 정답을 가릴 것이기 때문에 2개\n",
    "                            # softmax : 분류문제이기 때문에 softmax  사용"
   ]
  },
  {
   "cell_type": "code",
   "execution_count": null,
   "metadata": {},
   "outputs": [],
   "source": [
    "# compile\n",
    "model.compile(loss='categorical_crossentropy', optimizer='adam', metrics=['accuracy'])"
   ]
  },
  {
   "cell_type": "code",
   "execution_count": null,
   "metadata": {},
   "outputs": [],
   "source": [
    "# fit\n",
    "hist = model.fit_generator(\n",
    "                # ImageDataGenerator 의 fit 은 fit_generator 를 사용한다.\n",
    "    train_generator,\n",
    "    steps_per_epoch=15,\n",
    "    epochs=50, \n",
    "    validation_data = test_generator,\n",
    "    validation_steps=5\n",
    ")"
   ]
  },
  {
   "cell_type": "code",
   "execution_count": 12,
   "metadata": {},
   "outputs": [
    {
     "ename": "NameError",
     "evalue": "name 'hist' is not defined",
     "output_type": "error",
     "traceback": [
      "\u001b[0;31m---------------------------------------------------------------------------\u001b[0m",
      "\u001b[0;31mNameError\u001b[0m                                 Traceback (most recent call last)",
      "\u001b[1;32m/Users/newrandom/Documents/GitHub/DeepLearning_workspace/Zerobase_13_Deep Learning/25_이론 - OX 분류.ipynb Cell 26'\u001b[0m in \u001b[0;36m<cell line: 2>\u001b[0;34m()\u001b[0m\n\u001b[1;32m      <a href='vscode-notebook-cell:/Users/newrandom/Documents/GitHub/DeepLearning_workspace/Zerobase_13_Deep%20Learning/25_%EC%9D%B4%EB%A1%A0%20-%20OX%20%EB%B6%84%EB%A5%98.ipynb#ch0000030?line=0'>1</a>\u001b[0m plt\u001b[39m.\u001b[39mfigure(figsize\u001b[39m=\u001b[39m(\u001b[39m12\u001b[39m,\u001b[39m6\u001b[39m))\n\u001b[0;32m----> <a href='vscode-notebook-cell:/Users/newrandom/Documents/GitHub/DeepLearning_workspace/Zerobase_13_Deep%20Learning/25_%EC%9D%B4%EB%A1%A0%20-%20OX%20%EB%B6%84%EB%A5%98.ipynb#ch0000030?line=1'>2</a>\u001b[0m plt\u001b[39m.\u001b[39mplot(hist\u001b[39m.\u001b[39mhistory[\u001b[39m'\u001b[39m\u001b[39mloss\u001b[39m\u001b[39m'\u001b[39m], label \u001b[39m=\u001b[39m \u001b[39m'\u001b[39m\u001b[39mloss\u001b[39m\u001b[39m'\u001b[39m)\n\u001b[1;32m      <a href='vscode-notebook-cell:/Users/newrandom/Documents/GitHub/DeepLearning_workspace/Zerobase_13_Deep%20Learning/25_%EC%9D%B4%EB%A1%A0%20-%20OX%20%EB%B6%84%EB%A5%98.ipynb#ch0000030?line=2'>3</a>\u001b[0m plt\u001b[39m.\u001b[39mplot(hist\u001b[39m.\u001b[39mhistory[\u001b[39m'\u001b[39m\u001b[39mval_loss\u001b[39m\u001b[39m'\u001b[39m], label \u001b[39m=\u001b[39m \u001b[39m'\u001b[39m\u001b[39mval_loss\u001b[39m\u001b[39m'\u001b[39m)\n\u001b[1;32m      <a href='vscode-notebook-cell:/Users/newrandom/Documents/GitHub/DeepLearning_workspace/Zerobase_13_Deep%20Learning/25_%EC%9D%B4%EB%A1%A0%20-%20OX%20%EB%B6%84%EB%A5%98.ipynb#ch0000030?line=3'>4</a>\u001b[0m plt\u001b[39m.\u001b[39mplot(hist\u001b[39m.\u001b[39mhistory[\u001b[39m'\u001b[39m\u001b[39maccuracy\u001b[39m\u001b[39m'\u001b[39m], label \u001b[39m=\u001b[39m \u001b[39m'\u001b[39m\u001b[39macc\u001b[39m\u001b[39m'\u001b[39m)\n",
      "\u001b[0;31mNameError\u001b[0m: name 'hist' is not defined"
     ]
    },
    {
     "data": {
      "text/plain": [
       "<Figure size 864x432 with 0 Axes>"
      ]
     },
     "metadata": {},
     "output_type": "display_data"
    }
   ],
   "source": [
    "plt.figure(figsize=(12,6))\n",
    "plt.plot(hist.history['loss'], label = 'loss')\n",
    "plt.plot(hist.history['val_loss'], label = 'val_loss')\n",
    "plt.plot(hist.history['accuracy'], label = 'acc')\n",
    "plt.plot(hist.history['val_accuracy'], label = 'val_acc')\n",
    "plt.legend()\n",
    "plt.show()"
   ]
  },
  {
   "cell_type": "code",
   "execution_count": null,
   "metadata": {},
   "outputs": [],
   "source": [
    "scores = model.evaluate(\n",
    "    test_generator,\n",
    "    steps=5)\n",
    "\n",
    "print('%s : %.2f%%' %(model.metrics_names[1], scores[1]*100))"
   ]
  },
  {
   "cell_type": "code",
   "execution_count": null,
   "metadata": {},
   "outputs": [],
   "source": [
    "# predict\n",
    "model.predict(test_generator)"
   ]
  },
  {
   "cell_type": "code",
   "execution_count": null,
   "metadata": {},
   "outputs": [],
   "source": [
    "n = 1\n",
    "\n",
    "def show_prediction_result(n):\n",
    "    img = imread(test_generator.filepaths[n])\n",
    "    pred = model.predict(np.expand_dims(color.gray2rgb(img), axis=0))\n",
    "                        # np.expand_dims : Expand the shape of an array.\n",
    "                                        # a : Input array.\n",
    "                                                            # axis : Position in the expanded axes where the new axis (or axes) is placed.\n",
    "    title = 'Predict : ' + str(np.argmax(pred))\n",
    "                                # np.argmax() : 주어진 NumPy 배열에서 가장 높은 값을 가진 값의 인덱스를 반환합니다.\n",
    "    plt.imshow(img/255., cmap='gray')\n",
    "    plt.title(title)\n",
    "    plt.show()\n",
    "\n",
    "show_prediction_result(n)"
   ]
  },
  {
   "cell_type": "code",
   "execution_count": null,
   "metadata": {},
   "outputs": [],
   "source": [
    "show_prediction_result(40)"
   ]
  }
 ],
 "metadata": {
  "kernelspec": {
   "display_name": "Python 3.8.13 ('TF')",
   "language": "python",
   "name": "python3"
  },
  "language_info": {
   "codemirror_mode": {
    "name": "ipython",
    "version": 3
   },
   "file_extension": ".py",
   "mimetype": "text/x-python",
   "name": "python",
   "nbconvert_exporter": "python",
   "pygments_lexer": "ipython3",
   "version": "3.8.13"
  },
  "orig_nbformat": 4,
  "vscode": {
   "interpreter": {
    "hash": "b5a26d0e877c4652cf53eb6b13536f4959f02e722fb5eef7979a29d14fb02c8a"
   }
  }
 },
 "nbformat": 4,
 "nbformat_minor": 2
}

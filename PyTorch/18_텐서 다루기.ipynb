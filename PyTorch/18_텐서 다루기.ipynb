{
 "cells": [
  {
   "cell_type": "markdown",
   "id": "0fc8da1c",
   "metadata": {},
   "source": [
    "# Tensor 다루기 "
   ]
  },
  {
   "cell_type": "code",
   "execution_count": 1,
   "id": "6cf180ba",
   "metadata": {},
   "outputs": [],
   "source": [
    "import torch"
   ]
  },
  {
   "cell_type": "markdown",
   "id": "77f2e359",
   "metadata": {},
   "source": [
    "PyTorch에서는 Tensor type이 Variable과 Constant를 포함합니다. \n",
    "\n",
    "기존에는 Variable 타입이 있었지만, 이는 자동미분을 위한 것이었는데, 이 기능을 Tensor 타입에 포함 시켰습니다. "
   ]
  },
  {
   "cell_type": "markdown",
   "id": "4e0cb605",
   "metadata": {},
   "source": [
    "#### 기존의 데이터를 Torch의 Tensor로"
   ]
  },
  {
   "cell_type": "code",
   "execution_count": 9,
   "id": "9ee6e8f1",
   "metadata": {},
   "outputs": [
    {
     "name": "stdout",
     "output_type": "stream",
     "text": [
      "tensor([[1, 2],\n",
      "        [3, 4]])\n",
      "torch.Size([2, 2])\n",
      "torch.int64\n",
      "----------\n",
      "tensor([[1, 2],\n",
      "        [3, 4]])\n",
      "torch.Size([2, 2])\n",
      "torch.int64\n"
     ]
    }
   ],
   "source": [
    "li = [[1, 2], [3, 4]]\n",
    "\n",
    "li_tensor = torch.tensor(li)\n",
    "li_as_tensor = torch.as_tensor(li)\n",
    "\n",
    "print(li_tensor)\n",
    "print(li_tensor.shape)\n",
    "print(li_tensor.dtype)\n",
    "print(\"-\" * 10)\n",
    "print(li_as_tensor)\n",
    "print(li_as_tensor.shape)\n",
    "print(li_as_tensor.dtype)"
   ]
  },
  {
   "cell_type": "code",
   "execution_count": 14,
   "id": "03defe28",
   "metadata": {},
   "outputs": [
    {
     "name": "stdout",
     "output_type": "stream",
     "text": [
      "tensor([[1, 2],\n",
      "        [3, 4]])\n",
      "torch.Size([2, 2])\n",
      "torch.int64\n",
      "----------\n",
      "tensor([[1, 2],\n",
      "        [3, 4]])\n",
      "torch.Size([2, 2])\n",
      "torch.int64\n",
      "----------\n",
      "tensor([[1, 2],\n",
      "        [3, 4]])\n",
      "torch.Size([2, 2])\n",
      "torch.int64\n"
     ]
    }
   ],
   "source": [
    "arr = np.array([[1, 2], [3, 4]])\n",
    "\n",
    "arr_tensor = torch.tensor(arr)\n",
    "arr_as_tensor = torch.as_tensor(arr)\n",
    "arr_from_numpy = torch.from_numpy(arr)\n",
    "\n",
    "print(arr_tensor)\n",
    "print(arr_tensor.shape)\n",
    "print(arr_tensor.dtype)\n",
    "print(\"-\" * 10)\n",
    "print(arr_as_tensor)\n",
    "print(arr_as_tensor.shape)\n",
    "print(arr_as_tensor.dtype)\n",
    "print(\"-\" * 10)\n",
    "print(arr_from_numpy)\n",
    "print(arr_from_numpy.shape)\n",
    "print(arr_from_numpy.dtype)"
   ]
  },
  {
   "cell_type": "markdown",
   "id": "5b7dae14",
   "metadata": {},
   "source": [
    "#### torch의 Tensor의 속성값 확인"
   ]
  },
  {
   "cell_type": "code",
   "execution_count": 20,
   "id": "3cff3f5e",
   "metadata": {},
   "outputs": [
    {
     "data": {
      "text/plain": [
       "torch.Size([2, 2])"
      ]
     },
     "execution_count": 20,
     "metadata": {},
     "output_type": "execute_result"
    }
   ],
   "source": [
    "li_tensor.shape"
   ]
  },
  {
   "cell_type": "code",
   "execution_count": 19,
   "id": "fc841fda",
   "metadata": {},
   "outputs": [
    {
     "data": {
      "text/plain": [
       "torch.Size([2, 2])"
      ]
     },
     "execution_count": 19,
     "metadata": {},
     "output_type": "execute_result"
    }
   ],
   "source": [
    "li_tensor.size()"
   ]
  },
  {
   "cell_type": "markdown",
   "id": "8f440e55",
   "metadata": {},
   "source": [
    "#### torch를 numpy 배열로"
   ]
  },
  {
   "cell_type": "code",
   "execution_count": 13,
   "id": "4f77a161",
   "metadata": {},
   "outputs": [
    {
     "name": "stdout",
     "output_type": "stream",
     "text": [
      "[[1 2]\n",
      " [3 4]]\n",
      "[[1 2]\n",
      " [3 4]]\n",
      "[[1 2]\n",
      " [3 4]]\n"
     ]
    }
   ],
   "source": [
    "print(li_tensor.numpy())\n",
    "print(arr_as_tensor.numpy())\n",
    "print(arr_from_numpy.numpy())"
   ]
  },
  {
   "cell_type": "code",
   "execution_count": null,
   "id": "6d96da5e",
   "metadata": {},
   "outputs": [],
   "source": []
  },
  {
   "cell_type": "markdown",
   "id": "ff262ca5",
   "metadata": {},
   "source": [
    "#### 특정한 값의 Tensor 생성하기"
   ]
  },
  {
   "cell_type": "code",
   "execution_count": 16,
   "id": "998f54b6",
   "metadata": {},
   "outputs": [
    {
     "data": {
      "text/plain": [
       "tensor([0, 1, 2, 3, 4, 5, 6, 7, 8, 9])"
      ]
     },
     "execution_count": 16,
     "metadata": {},
     "output_type": "execute_result"
    }
   ],
   "source": [
    "torch.arange(10)"
   ]
  },
  {
   "cell_type": "code",
   "execution_count": 18,
   "id": "7ae4129d",
   "metadata": {},
   "outputs": [
    {
     "data": {
      "text/plain": [
       "(tensor([1., 1., 1., 1., 1.]), tensor([0., 0., 0., 0., 0.]))"
      ]
     },
     "execution_count": 18,
     "metadata": {},
     "output_type": "execute_result"
    }
   ],
   "source": [
    "torch.ones(5), torch.zeros(5) "
   ]
  },
  {
   "cell_type": "code",
   "execution_count": 21,
   "id": "c9d419b1",
   "metadata": {},
   "outputs": [
    {
     "data": {
      "text/plain": [
       "(tensor([1., 1., 1., 1., 1.]), tensor([0., 0., 0., 0., 0.]))"
      ]
     },
     "execution_count": 21,
     "metadata": {},
     "output_type": "execute_result"
    }
   ],
   "source": [
    "torch.ones(5), torch.zeros(5) "
   ]
  },
  {
   "cell_type": "code",
   "execution_count": 28,
   "id": "95c7359d",
   "metadata": {},
   "outputs": [
    {
     "data": {
      "text/plain": [
       "(tensor([[1, 1],\n",
       "         [1, 1]]),\n",
       " tensor([[0, 0],\n",
       "         [0, 0]]))"
      ]
     },
     "execution_count": 28,
     "metadata": {},
     "output_type": "execute_result"
    }
   ],
   "source": [
    "torch.ones_like(li_tensor), torch.zeros_like(li_tensor)#, torch.zeros_like(arr) -> Tensor를 입력해야함. "
   ]
  },
  {
   "cell_type": "code",
   "execution_count": 22,
   "id": "fce72126",
   "metadata": {},
   "outputs": [
    {
     "data": {
      "text/plain": [
       "tensor([ 0.0000,  2.5000,  5.0000,  7.5000, 10.0000])"
      ]
     },
     "execution_count": 22,
     "metadata": {},
     "output_type": "execute_result"
    }
   ],
   "source": [
    "torch.linspace(0, 10,  5)"
   ]
  },
  {
   "cell_type": "code",
   "execution_count": 23,
   "id": "307f3b9c",
   "metadata": {},
   "outputs": [
    {
     "data": {
      "text/plain": [
       "tensor([1.0000e+00, 3.1623e+02, 1.0000e+05, 3.1623e+07, 1.0000e+10])"
      ]
     },
     "execution_count": 23,
     "metadata": {},
     "output_type": "execute_result"
    }
   ],
   "source": [
    "torch.logspace(0, 10,  5)"
   ]
  },
  {
   "cell_type": "code",
   "execution_count": null,
   "id": "43f60499",
   "metadata": {},
   "outputs": [],
   "source": []
  },
  {
   "cell_type": "markdown",
   "id": "e63bd9db",
   "metadata": {},
   "source": [
    "#### 난수 생성하기"
   ]
  },
  {
   "cell_type": "code",
   "execution_count": 2,
   "id": "450f02ac",
   "metadata": {},
   "outputs": [
    {
     "data": {
      "text/plain": [
       "<torch._C.Generator at 0x17211c330>"
      ]
     },
     "execution_count": 2,
     "metadata": {},
     "output_type": "execute_result"
    }
   ],
   "source": [
    "# seed 조절 하기!!\n",
    "torch.manual_seed(7777)"
   ]
  },
  {
   "cell_type": "code",
   "execution_count": 31,
   "id": "941fb602",
   "metadata": {},
   "outputs": [
    {
     "name": "stdout",
     "output_type": "stream",
     "text": [
      "tensor([0.5263, 0.2437, 0.5846, 0.0332, 0.1387])\n",
      "tensor([ 0.8512, -0.3502,  1.6881, -2.1575, -1.3927])\n",
      "tensor([6, 6, 7, 9, 6])\n"
     ]
    }
   ],
   "source": [
    "a = torch.rand(5)#균등분포\n",
    "b = torch.randn(5)#Normal 분포 \n",
    "c = torch.randint(10, size=(5,))\n",
    "print(a, b, c, sep=\"\\n\")"
   ]
  },
  {
   "cell_type": "code",
   "execution_count": null,
   "id": "35316d8a",
   "metadata": {},
   "outputs": [],
   "source": []
  },
  {
   "cell_type": "markdown",
   "id": "a06e8079",
   "metadata": {},
   "source": [
    "### 데이터 타입"
   ]
  },
  {
   "cell_type": "code",
   "execution_count": 50,
   "id": "606160e8",
   "metadata": {},
   "outputs": [
    {
     "data": {
      "text/plain": [
       "tensor([5., 7., 2., 5., 6.])"
      ]
     },
     "execution_count": 50,
     "metadata": {},
     "output_type": "execute_result"
    }
   ],
   "source": [
    "torch.randint(10, size=(5,), dtype=torch.float32)"
   ]
  },
  {
   "cell_type": "markdown",
   "id": "f1bcbd18",
   "metadata": {},
   "source": [
    "`tensor_var.type()` -> inplace 명령이 아님"
   ]
  },
  {
   "cell_type": "code",
   "execution_count": 51,
   "id": "b0c4c76b",
   "metadata": {},
   "outputs": [
    {
     "name": "stdout",
     "output_type": "stream",
     "text": [
      "torch.int64\n",
      "tensor([6., 5., 4., 0., 8.])\n",
      "torch.int64\n",
      "torch.float64\n"
     ]
    }
   ],
   "source": [
    "a = torch.randint(10, size=(5,))\n",
    "print(a.dtype)\n",
    "\n",
    "print(a.type(torch.float32))\n",
    "print(a.dtype)\n",
    "\n",
    "a = a.type(torch.float64)\n",
    "print(a.dtype)"
   ]
  },
  {
   "cell_type": "markdown",
   "id": "1b4d0e21",
   "metadata": {},
   "source": [
    "#### GPU 사용하기"
   ]
  },
  {
   "cell_type": "markdown",
   "id": "d9dc6652",
   "metadata": {},
   "source": [
    "Torch에서는 GPU 사용을 위해서 데이터 타입을 변환해줘야함. "
   ]
  },
  {
   "cell_type": "code",
   "execution_count": 3,
   "id": "bbc8c320",
   "metadata": {},
   "outputs": [
    {
     "data": {
      "text/plain": [
       "False"
      ]
     },
     "execution_count": 3,
     "metadata": {},
     "output_type": "execute_result"
    }
   ],
   "source": [
    "torch.cuda.is_available()"
   ]
  },
  {
   "cell_type": "markdown",
   "id": "f08da989",
   "metadata": {},
   "source": [
    "GPU가 사용 가능한 환경에서는\n",
    "\n",
    "![](../../statics/imgs/torch_cuda.png)"
   ]
  },
  {
   "cell_type": "markdown",
   "id": "4a915176",
   "metadata": {},
   "source": [
    "GPU 를 사용하기 위해 Cuda에서 사용하는 데이터타입으로 바꾸어줘야 한다. \n",
    "\n",
    "방법 세가지! \n",
    "\n",
    " - 만들 때, device 설정해두기\n",
    " - tensor_var.cuda()\n",
    " - tensor_var.to(device)\n"
   ]
  },
  {
   "cell_type": "code",
   "execution_count": 49,
   "id": "d8f86356",
   "metadata": {},
   "outputs": [],
   "source": [
    "# device 설정하기.\n",
    "x = torch.ones(2, 2, device='cuda')\n",
    "\n",
    "# 여러개 중에 하나의 GPU에 할당하고 싶을 때\n",
    "# 번호는 nvidia-smi 명령을 Shell에 입력해서 찾을 수 있음 \n",
    "x = torch.ones(2, 2, device='cuda:0')\n",
    "\n",
    "# device 객체를 입력하는게 기본\n",
    "x = torch.ones(2, 2, device=torch.device('cuda'))"
   ]
  },
  {
   "cell_type": "code",
   "execution_count": 55,
   "id": "dc7b5352",
   "metadata": {},
   "outputs": [
    {
     "name": "stdout",
     "output_type": "stream",
     "text": [
      "torch.float32\n"
     ]
    }
   ],
   "source": [
    "# .cuda()\n",
    "a = torch.rand(10)\n",
    "print(a)\n",
    "\n",
    "a = a.cuda()\n",
    "print(a)"
   ]
  },
  {
   "cell_type": "code",
   "execution_count": 57,
   "id": "6f8b70fe",
   "metadata": {},
   "outputs": [],
   "source": [
    "# .to(device)\n",
    "a = torch.rand(2)\n",
    "print(a)\n",
    "\n",
    "a = a.to(\"cuda\")\n",
    "print(a)"
   ]
  },
  {
   "cell_type": "code",
   "execution_count": null,
   "id": "ec633f55",
   "metadata": {},
   "outputs": [],
   "source": [
    "a = torch.rand(2)\n",
    "print(a)\n",
    "\n",
    "a = a.to(torch.device(\"cuda\"))\n",
    "print(a)"
   ]
  },
  {
   "cell_type": "markdown",
   "id": "a8d95ec9",
   "metadata": {},
   "source": [
    "대부분 그냥 이렇게 사용합니다! "
   ]
  },
  {
   "cell_type": "code",
   "execution_count": 58,
   "id": "244c98af",
   "metadata": {},
   "outputs": [
    {
     "name": "stdout",
     "output_type": "stream",
     "text": [
      "cpu\n",
      "tensor([0.1168, 0.0321])\n",
      "tensor([0.1168, 0.0321])\n"
     ]
    }
   ],
   "source": [
    "device = torch.device(\"cuda\" if torch.cuda.is_available() else \"cpu\")\n",
    "print(device)\n",
    "\n",
    "a = torch.rand(2)\n",
    "print(a)\n",
    "\n",
    "a = a.to(device)\n",
    "print(a)"
   ]
  },
  {
   "cell_type": "code",
   "execution_count": null,
   "id": "90b6bec6",
   "metadata": {},
   "outputs": [],
   "source": []
  }
 ],
 "metadata": {
  "kernelspec": {
   "display_name": "Python 3 (ipykernel)",
   "language": "python",
   "name": "python3"
  },
  "language_info": {
   "codemirror_mode": {
    "name": "ipython",
    "version": 3
   },
   "file_extension": ".py",
   "mimetype": "text/x-python",
   "name": "python",
   "nbconvert_exporter": "python",
   "pygments_lexer": "ipython3",
   "version": "3.9.9"
  },
  "varInspector": {
   "cols": {
    "lenName": 16,
    "lenType": 16,
    "lenVar": 40
   },
   "kernels_config": {
    "python": {
     "delete_cmd_postfix": "",
     "delete_cmd_prefix": "del ",
     "library": "var_list.py",
     "varRefreshCmd": "print(var_dic_list())"
    },
    "r": {
     "delete_cmd_postfix": ") ",
     "delete_cmd_prefix": "rm(",
     "library": "var_list.r",
     "varRefreshCmd": "cat(var_dic_list()) "
    }
   },
   "types_to_exclude": [
    "module",
    "function",
    "builtin_function_or_method",
    "instance",
    "_Feature"
   ],
   "window_display": false
  }
 },
 "nbformat": 4,
 "nbformat_minor": 5
}

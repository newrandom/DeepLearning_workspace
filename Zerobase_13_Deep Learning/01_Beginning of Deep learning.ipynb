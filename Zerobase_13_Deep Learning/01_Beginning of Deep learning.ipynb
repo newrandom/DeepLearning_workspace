{
 "cells": [
  {
   "cell_type": "markdown",
   "metadata": {},
   "source": [
    "# 01_Beginning of Deep learning - 딥러닝의 기초      "
   ]
  },
  {
   "cell_type": "markdown",
   "metadata": {},
   "source": [
    "# Tensorflow 란?\n",
    "- 머신러닝을 위한 오픈소스 플랫폼 (딥러닝 프레임워크)\n",
    "- 구글이 주도적으로 개발, 구글 코랩에는 기본 장착\n",
    "- 최근 2.x 버전 발표\n",
    "- Keras라고 하는 고수준 API를 병합"
   ]
  },
  {
   "cell_type": "markdown",
   "metadata": {},
   "source": [
    "- Tensor : 벡터나 행렬을 의미\n",
    "- Graph : 텐서가 흐르는 경로(혹은 공간)\n",
    "- Tensor Flow : 텐서가 Graph를 통해 흐른다."
   ]
  },
  {
   "cell_type": "markdown",
   "metadata": {},
   "source": [
    "### 뉴런\n",
    "> - 입력, 가중치, 활성화함수, 출력으로 구성\n",
    "> - 뉴런에서 학습할 때 변하는 것은 가중치.\n",
    "> - 처음에는 초기화를 통해 랜덤값을 넣고, 학습과정에서 일정한 값으로 수렴"
   ]
  }
 ],
 "metadata": {
  "interpreter": {
   "hash": "b5a26d0e877c4652cf53eb6b13536f4959f02e722fb5eef7979a29d14fb02c8a"
  },
  "kernelspec": {
   "display_name": "Python 3.8.13 ('TF')",
   "language": "python",
   "name": "python3"
  },
  "language_info": {
   "codemirror_mode": {
    "name": "ipython",
    "version": 3
   },
   "file_extension": ".py",
   "mimetype": "text/x-python",
   "name": "python",
   "nbconvert_exporter": "python",
   "pygments_lexer": "ipython3",
   "version": "3.8.13"
  },
  "orig_nbformat": 4
 },
 "nbformat": 4,
 "nbformat_minor": 2
}

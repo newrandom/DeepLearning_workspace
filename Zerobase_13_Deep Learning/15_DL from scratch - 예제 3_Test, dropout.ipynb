{
 "cells": [
  {
   "cell_type": "markdown",
   "metadata": {},
   "source": [
    "# 15_DL from scratch - 예제 3"
   ]
  },
  {
   "cell_type": "code",
   "execution_count": 1,
   "metadata": {},
   "outputs": [],
   "source": [
    "import numpy as np\n",
    "import matplotlib.pyplot as plt\n",
    "from tqdm.notebook import tqdm\n",
    "%matplotlib inline"
   ]
  },
  {
   "cell_type": "code",
   "execution_count": 2,
   "metadata": {},
   "outputs": [],
   "source": [
    "# Feature data\n",
    "X = np.zeros((5,5,5))\n",
    "\n",
    "X[:, :, 0] = [ [0,1,1,0,0], [0,0,1,0,0], [0,0,1,0,0], [0,0,1,0,0], [0,1,1,1,0] ]\n",
    "X[:, :, 1] = [ [1,1,1,1,0], [0,0,0,0,1], [0,1,1,1,0], [1,0,0,0,0], [1,1,1,1,1] ]\n",
    "X[:, :, 2] = [ [1,1,1,1,0], [0,0,0,0,1], [0,1,1,1,0], [0,0,0,0,1], [1,1,1,1,0] ]\n",
    "X[:, :, 3] = [ [0,0,0,1,0], [0,0,1,1,0], [0,1,0,1,0], [1,1,1,1,1], [0,0,0,1,0] ]\n",
    "X[:, :, 4] = [ [1,1,1,1,1], [1,0,0,0,0], [1,1,1,1,0], [0,0,0,0,1], [1,1,1,1,0] ]\n"
   ]
  },
  {
   "cell_type": "code",
   "execution_count": 3,
   "metadata": {},
   "outputs": [],
   "source": [
    "# Labels\n",
    "D = np.array([\n",
    "    [[1,0,0,0,0]], [[0,1,0,0,0]], [[0,0,1,0,0]], [[0,0,0,1,0]], [[0,0,0,0,1]]\n",
    "])\n"
   ]
  },
  {
   "cell_type": "code",
   "execution_count": 4,
   "metadata": {},
   "outputs": [],
   "source": [
    "def Softmax(x):\n",
    "    x = np.subtract(x, np.max(x))\n",
    "    ex = np.exp(x)\n",
    "\n",
    "    return ex / np.sum(ex)"
   ]
  },
  {
   "cell_type": "code",
   "execution_count": 5,
   "metadata": {},
   "outputs": [],
   "source": [
    "def ReLU(x):\n",
    "    return np.maximum(0, x)"
   ]
  },
  {
   "cell_type": "markdown",
   "metadata": {},
   "source": [
    "![](./lecture_image/09-01.png)"
   ]
  },
  {
   "cell_type": "code",
   "execution_count": 6,
   "metadata": {},
   "outputs": [],
   "source": [
    "# 정방향 계산\n",
    "def calcOutput_ReLU(W1, W2, W3, W4, x):\n",
    "    v1 = np.matmul(W1, x)\n",
    "    y1 = ReLU(v1)\n",
    "    \n",
    "    v2 = np.matmul(W2, y1)\n",
    "    y2 = ReLU(v2)\n",
    "\n",
    "    v3 = np.matmul(W3, y2)\n",
    "    y3 = ReLU(v3)\n",
    "\n",
    "    v = np.matmul(W4, y3)\n",
    "    y = Softmax(v)\n",
    "\n",
    "    return y, v1, v2, v3, y1, y2, y3"
   ]
  },
  {
   "cell_type": "code",
   "execution_count": 7,
   "metadata": {},
   "outputs": [],
   "source": [
    "# 역전파\n",
    "def backpropagation_ReLU(d, y, W2, W3, W4, v1, v2, v3):\n",
    "    e = d - y\n",
    "    delta = e       # 크로스엔트로피\n",
    "\n",
    "    e3 = np.matmul(W4.T, delta)\n",
    "    delta3 = (v3 > 0) * e3\n",
    "\n",
    "    e2 = np.matmul(W3.T, delta3)\n",
    "    delta2 = (v2 > 0) * e2\n",
    "\n",
    "    e1 = np.matmul(W2.T, delta2)\n",
    "    delta1 = (v1 > 0) * e1\n",
    "\n",
    "    return delta, delta1, delta2, delta3"
   ]
  },
  {
   "cell_type": "markdown",
   "metadata": {},
   "source": [
    "![크로스엔트로피](./lecture_image/12-03.png)"
   ]
  },
  {
   "cell_type": "code",
   "execution_count": 8,
   "metadata": {},
   "outputs": [],
   "source": [
    "# 가중치 계산\n",
    "def calcWs(alpha, delta, delta1, delta2, delta3, y1, y2, y3, x, W1, W2, W3, W4):\n",
    "    dW4 = alpha * delta * y3.T\n",
    "    W4 = W4 + dW4\n",
    "\n",
    "    dW3 = alpha * delta3 * y2.T\n",
    "    W3 = W3 + dW3\n",
    "\n",
    "    dW2 = alpha * delta2 * y1.T\n",
    "    W2 = W2 + dW2\n",
    "\n",
    "    dW1 = alpha * delta1 * x.T\n",
    "    W1 = W1 + dW1\n",
    "\n",
    "    return W1, W2, W3, W4"
   ]
  },
  {
   "cell_type": "code",
   "execution_count": 9,
   "metadata": {},
   "outputs": [],
   "source": [
    "# 가중치 업데이트\n",
    "def DeepReLU(W1, W2, W3, W4, X, D, alpha):\n",
    "    for k in range(5):\n",
    "                # 5 : 다섯개의 데이터를 찾는 것이기 때문에.\n",
    "        x = np.reshape(X[:, :, k], (25,1))\n",
    "        d = D[k, :].T\n",
    "\n",
    "        y, v1, v2, v3, y1, y2, y3 = calcOutput_ReLU(W1, W2, W3, W4, x)\n",
    "        delta, delta1, delta2, delta3 = backpropagation_ReLU(d, y, W2, W3, W4, v1, v2, v3)\n",
    "        W1, W2, W3, W4 = calcWs(alpha, delta, delta1, delta2, delta3, y1, y2, y3, x, W1, W2, W3, W4)\n",
    "\n",
    "    return W1, W2, W3, W4"
   ]
  },
  {
   "cell_type": "code",
   "execution_count": 10,
   "metadata": {},
   "outputs": [
    {
     "data": {
      "application/vnd.jupyter.widget-view+json": {
       "model_id": "fec864b395eb41fa9f0eaedde3ec556d",
       "version_major": 2,
       "version_minor": 0
      },
      "text/plain": [
       "  0%|          | 0/10000 [00:00<?, ?it/s]"
      ]
     },
     "metadata": {},
     "output_type": "display_data"
    }
   ],
   "source": [
    "# 가중치 랜덤하게 설정\n",
    "W1 = 2 * np.random.random((20, 25)) - 1\n",
    "W2 = 2 * np.random.random((20, 20)) - 1\n",
    "W3 = 2 * np.random.random((20, 20)) - 1\n",
    "W4 = 2 * np.random.random((5, 20)) - 1\n",
    "\n",
    "alpha = 0.01\n",
    "\n",
    "for epoch in tqdm(range(10000)):\n",
    "    W1, W2, W3, W4 = DeepReLU(W1, W2, W3, W4, X, D, alpha)"
   ]
  },
  {
   "cell_type": "code",
   "execution_count": 11,
   "metadata": {},
   "outputs": [],
   "source": [
    "def verify_algorithm(x, W1, W2, W3, W4):\n",
    "    v1 = np.matmul(W1, x)\n",
    "    y1 = ReLU(v1)\n",
    "\n",
    "    v2 = np.matmul(W2, y1)\n",
    "    y2 = ReLU(v2)\n",
    "\n",
    "    v3 = np.matmul(W3, y2)\n",
    "    y3 = ReLU(v3)\n",
    "\n",
    "    v = np.matmul(W4, y3)\n",
    "    y = Softmax(v)\n",
    "\n",
    "    return y"
   ]
  },
  {
   "cell_type": "code",
   "execution_count": 12,
   "metadata": {},
   "outputs": [
    {
     "name": "stdout",
     "output_type": "stream",
     "text": [
      "Y = 1:\n",
      "[1]\n",
      "[[9.99983952e-01]\n",
      " [6.02496956e-06]\n",
      " [7.48331687e-07]\n",
      " [9.27042979e-06]\n",
      " [4.33322394e-09]]\n",
      "--------\n",
      "Y = 2:\n",
      "[2]\n",
      "[[2.84433271e-06]\n",
      " [9.99978473e-01]\n",
      " [1.35678637e-05]\n",
      " [5.10863294e-06]\n",
      " [5.74523649e-09]]\n",
      "--------\n",
      "Y = 3:\n",
      "[3]\n",
      "[[3.76852082e-07]\n",
      " [2.78193020e-05]\n",
      " [9.99966528e-01]\n",
      " [1.04182918e-08]\n",
      " [5.26549608e-06]]\n",
      "--------\n",
      "Y = 4:\n",
      "[4]\n",
      "[[3.89047587e-06]\n",
      " [3.00823046e-06]\n",
      " [1.55795484e-07]\n",
      " [9.99987414e-01]\n",
      " [5.53149681e-06]]\n",
      "--------\n",
      "Y = 5:\n",
      "[5]\n",
      "[[5.91255360e-09]\n",
      " [9.30795566e-06]\n",
      " [1.27016476e-05]\n",
      " [6.24706377e-06]\n",
      " [9.99971737e-01]]\n",
      "--------\n"
     ]
    }
   ],
   "source": [
    "N = 5\n",
    "for k in range(N):\n",
    "    x = np.reshape(X[:,:,k], (25, 1))\n",
    "    y = verify_algorithm(x, W1, W2, W3, W4)\n",
    "\n",
    "    print('Y = {}:'.format(k+1))\n",
    "    print(np.argmax(y, axis=0) + 1)     # 예측 값\n",
    "            # argmax : Returns the indices of the maximum values along an axis.\n",
    "    print(y)\n",
    "    print('--------')"
   ]
  },
  {
   "cell_type": "markdown",
   "metadata": {},
   "source": [
    "# 테스트 데이터"
   ]
  },
  {
   "cell_type": "code",
   "execution_count": 13,
   "metadata": {},
   "outputs": [],
   "source": [
    "X_test = np.zeros((5,5,5))\n",
    "\n",
    "X_test[:,:,0] = [ [0,0,0,0,0], [0,1,0,0,0], [1,0,1,0,0], [0,0,1,0,0], [0,1,1,1,0] ]\n",
    "X_test[:,:,1] = [ [1,1,1,1,0], [0,0,0,0,0], [0,1,1,1,0], [0,0,0,0,1], [1,1,1,1,0] ]\n",
    "X_test[:,:,2] = [ [0,0,0,1,0], [0,0,1,1,0], [0,1,0,0,0], [1,1,1,0,1], [0,0,0,1,0] ]\n",
    "X_test[:,:,3] = [ [1,1,1,1,0], [0,0,0,0,1], [0,1,1,1,0], [1,0,0,0,0], [1,1,1,0,0] ]\n",
    "X_test[:,:,4] = [ [0,1,1,1,1], [1,1,0,0,0], [1,1,1,1,0], [0,0,0,1,1], [1,1,1,1,0] ]"
   ]
  },
  {
   "cell_type": "code",
   "execution_count": 14,
   "metadata": {},
   "outputs": [
    {
     "data": {
      "image/png": "[encoded data removed]",
      "text/plain": [
       "<Figure size 864x288 with 5 Axes>"
      ]
     },
     "metadata": {
      "needs_background": "light"
     },
     "output_type": "display_data"
    }
   ],
   "source": [
    "plt.figure(figsize=(12,4))\n",
    "for n in range(5):\n",
    "    plt.subplot(1,5,n+1)\n",
    "    plt.imshow(X_test[:,:,n])\n",
    "plt.show()"
   ]
  },
  {
   "cell_type": "code",
   "execution_count": 15,
   "metadata": {},
   "outputs": [
    {
     "name": "stdout",
     "output_type": "stream",
     "text": [
      "Y = 1: \n",
      "[2]\n",
      "[[2.63611433e-03]\n",
      " [9.39160878e-01]\n",
      " [4.63743096e-02]\n",
      " [3.54586273e-04]\n",
      " [1.14741118e-02]]\n",
      "----------\n",
      "Y = 2: \n",
      "[5]\n",
      "[[4.66523639e-05]\n",
      " [2.89649391e-02]\n",
      " [3.24052738e-03]\n",
      " [4.01343311e-02]\n",
      " [9.27613550e-01]]\n",
      "----------\n",
      "Y = 3: \n",
      "[4]\n",
      "[[5.93725067e-04]\n",
      " [9.57995132e-06]\n",
      " [5.54022565e-06]\n",
      " [9.99370118e-01]\n",
      " [2.10368832e-05]]\n",
      "----------\n",
      "Y = 4: \n",
      "[3]\n",
      "[[6.83328006e-04]\n",
      " [4.09393030e-02]\n",
      " [9.58364625e-01]\n",
      " [9.58797168e-07]\n",
      " [1.17852793e-05]]\n",
      "----------\n",
      "Y = 5: \n",
      "[5]\n",
      "[[9.35748948e-05]\n",
      " [1.52135764e-04]\n",
      " [7.62357117e-03]\n",
      " [5.26837803e-03]\n",
      " [9.86862340e-01]]\n",
      "----------\n"
     ]
    }
   ],
   "source": [
    "learning_result = [0,0,0,0,0]\n",
    "\n",
    "for k in range(N):\n",
    "    x = np.reshape(X_test[:,:,k], (25,1))\n",
    "    y = verify_algorithm(x, W1, W2, W3, W4)\n",
    "\n",
    "    learning_result[k] = np.argmax(y, axis=0) + 1\n",
    "    \n",
    "    print('Y = {}: '.format(k+1))\n",
    "    print(np.argmax(y, axis=0) + 1)\n",
    "    print(y)\n",
    "    print('----------')"
   ]
  },
  {
   "cell_type": "code",
   "execution_count": 16,
   "metadata": {},
   "outputs": [
    {
     "data": {
      "image/png": "[encoded data removed]",
      "text/plain": [
       "<Figure size 864x288 with 10 Axes>"
      ]
     },
     "metadata": {
      "needs_background": "light"
     },
     "output_type": "display_data"
    }
   ],
   "source": [
    "plt.figure(figsize=(12,4))\n",
    "for k in range(5):\n",
    "    plt.subplot(2,5,k+1)\n",
    "    plt.imshow(X_test[:,:,k])\n",
    "    plt.subplot(2, 5, k+6)\n",
    "    plt.imshow(X[:,:,learning_result[k][0]-1])\n",
    "plt.show()"
   ]
  },
  {
   "cell_type": "markdown",
   "metadata": {},
   "source": [
    "-------------------\n",
    "# Dropout 설명"
   ]
  },
  {
   "cell_type": "code",
   "execution_count": null,
   "metadata": {},
   "outputs": [
    {
     "data": {
      "text/plain": [
       "(11, 2.1999999999999993, 2)"
      ]
     },
     "metadata": {},
     "output_type": "display_data"
    }
   ],
   "source": [
    "y = np.array([0.1, 0.2, 0.5, 0.8, 0.6, 0.4, 0.3, 1, 2, 3, 4])\n",
    "y.size, y.size * (1- 0.8), round(y.size * (1-0.8))\n",
    "# 11개 중에서\n",
    "                # 80%를 꺼라\n",
    "\n",
    "## 그 결과 2.199개 가 남음. ( round 하면 2 )"
   ]
  },
  {
   "cell_type": "code",
   "execution_count": null,
   "metadata": {},
   "outputs": [
    {
     "data": {
      "text/plain": [
       "array([2, 8])"
      ]
     },
     "metadata": {},
     "output_type": "display_data"
    }
   ],
   "source": [
    "num = round(y.size * (1 - 0.8))\n",
    "np.random.choice(y.size, num)"
   ]
  },
  {
   "cell_type": "markdown",
   "metadata": {},
   "source": [
    "----------------"
   ]
  },
  {
   "cell_type": "code",
   "execution_count": 17,
   "metadata": {},
   "outputs": [],
   "source": [
    "# dropout 함수\n",
    "def Dropout(y, ratio):\n",
    "    ym = np.zeros_like(y)\n",
    "\n",
    "    num = round(y.size*(1-ratio))\n",
    "    idx = np.random.choice(y.size, num, replace=False)\n",
    "    ym[idx] = 1.0 / (1.0 - ratio)\n",
    "\n",
    "    return ym"
   ]
  },
  {
   "cell_type": "code",
   "execution_count": 24,
   "metadata": {},
   "outputs": [],
   "source": [
    "def sigmoid(x):\n",
    "    return 1.0 / (1.0 + np.exp(-x))"
   ]
  },
  {
   "cell_type": "code",
   "execution_count": 26,
   "metadata": {},
   "outputs": [],
   "source": [
    "def calcOutput_Dropout(W1, W2, W3, W4, x):\n",
    "    v1 = np.matmul(W1, x)\n",
    "    y1 = sigmoid(v1)\n",
    "    y1 = y1 * Dropout(y1, 0.2)\n",
    "    \n",
    "    v2 = np.matmul(W2, y1)\n",
    "    y2 = sigmoid(v2)\n",
    "    y2 = y2 * Dropout(y2, 0.2)\n",
    "\n",
    "    v3 = np.matmul(W3, y2)\n",
    "    y3 = sigmoid(v3)\n",
    "    y3 = y3 * Dropout(y3, 0.2)\n",
    "\n",
    "    v = np.matmul(W4, y3)\n",
    "    y = Softmax(v)\n",
    "\n",
    "    return y, v1, v2, v3, y1, y2, y3"
   ]
  },
  {
   "cell_type": "code",
   "execution_count": 30,
   "metadata": {},
   "outputs": [],
   "source": [
    "def backpropagation_Dropout(d, y, y1, y2, y3, W2, W3, W4, v1, v2, v3):\n",
    "    e = d - y\n",
    "    delta = e       # 크로스엔트로피\n",
    "\n",
    "    e3 = np.matmul(W4.T, delta)\n",
    "    delta3 = y3 * (1-y3) * e3\n",
    "\n",
    "    e2 = np.matmul(W3.T, delta3)\n",
    "    delta2 = y2 * (1-y2) * e2\n",
    "\n",
    "    e1 = np.matmul(W2.T, delta2)\n",
    "    delta1 = y1 * (1-y1) * e1\n",
    "\n",
    "    return delta, delta1, delta2, delta3"
   ]
  },
  {
   "cell_type": "code",
   "execution_count": 33,
   "metadata": {},
   "outputs": [],
   "source": [
    "# 가중치 업데이트\n",
    "def DeepDropout(W1, W2, W3, W4, X, D, alpha):\n",
    "    for k in range(5):\n",
    "                # 5 : 다섯개의 데이터를 찾는 것이기 때문에.\n",
    "        x = np.reshape(X[:, :, k], (25,1))\n",
    "        d = D[k, :].T\n",
    "\n",
    "        y, v1, v2, v3, y1, y2, y3 = calcOutput_Dropout(W1, W2, W3, W4, x)\n",
    "        delta, delta1, delta2, delta3 = backpropagation_Dropout(d, y, y1, y2, y3, W2, W3, W4, v1, v2, v3)\n",
    "        W1, W2, W3, W4 = calcWs(alpha, delta, delta1, delta2, delta3, y1, y2, y3, x, W1, W2, W3, W4)\n",
    "\n",
    "    return W1, W2, W3, W4"
   ]
  },
  {
   "cell_type": "code",
   "execution_count": 34,
   "metadata": {},
   "outputs": [
    {
     "data": {
      "application/vnd.jupyter.widget-view+json": {
       "model_id": "11d365a345a946b9846f47786930a7f7",
       "version_major": 2,
       "version_minor": 0
      },
      "text/plain": [
       "  0%|          | 0/10000 [00:00<?, ?it/s]"
      ]
     },
     "metadata": {},
     "output_type": "display_data"
    }
   ],
   "source": [
    "# 가중치 랜덤하게 설정\n",
    "W1 = 2 * np.random.random((20, 25)) - 1\n",
    "W2 = 2 * np.random.random((20, 20)) - 1\n",
    "W3 = 2 * np.random.random((20, 20)) - 1\n",
    "W4 = 2 * np.random.random((5, 20)) - 1\n",
    "\n",
    "alpha = 0.01\n",
    "\n",
    "for epoch in tqdm(range(10000)):\n",
    "    W1, W2, W3, W4 = DeepDropout(W1, W2, W3, W4, X, D, alpha)"
   ]
  },
  {
   "cell_type": "code",
   "execution_count": 37,
   "metadata": {},
   "outputs": [
    {
     "name": "stdout",
     "output_type": "stream",
     "text": [
      "Y = 1: \n",
      "[1]\n",
      "[[1.00000000e+00]\n",
      " [8.73677233e-85]\n",
      " [3.03810928e-54]\n",
      " [5.86857151e-39]\n",
      " [6.43266539e-18]]\n",
      "----------\n",
      "Y = 2: \n",
      "[3]\n",
      "[[0.12042702]\n",
      " [0.15039962]\n",
      " [0.64541806]\n",
      " [0.01618035]\n",
      " [0.06757495]]\n",
      "----------\n",
      "Y = 3: \n",
      "[4]\n",
      "[[3.76684427e-23]\n",
      " [3.35751392e-34]\n",
      " [3.81276432e-86]\n",
      " [1.00000000e+00]\n",
      " [3.89043917e-87]]\n",
      "----------\n",
      "Y = 4: \n",
      "[4]\n",
      "[[1.54496329e-06]\n",
      " [1.18574530e-01]\n",
      " [5.56079394e-04]\n",
      " [8.80066905e-01]\n",
      " [8.00941125e-04]]\n",
      "----------\n",
      "Y = 5: \n",
      "[5]\n",
      "[[4.71859728e-27]\n",
      " [6.35664192e-58]\n",
      " [1.52623034e-40]\n",
      " [4.23408684e-35]\n",
      " [1.00000000e+00]]\n",
      "----------\n"
     ]
    }
   ],
   "source": [
    "learning_result = [0,0,0,0,0]\n",
    "\n",
    "for k in range(N):\n",
    "    x = np.reshape(X_test[:,:,k], (25,1))\n",
    "    y = verify_algorithm(x, W1, W2, W3, W4)\n",
    "\n",
    "    learning_result[k] = np.argmax(y, axis=0) + 1\n",
    "    \n",
    "    print('Y = {}: '.format(k+1))\n",
    "    print(np.argmax(y, axis=0) + 1)\n",
    "    print(y)\n",
    "    print('----------')"
   ]
  },
  {
   "cell_type": "code",
   "execution_count": 38,
   "metadata": {},
   "outputs": [
    {
     "data": {
      "image/png": "[encoded data removed]",
      "text/plain": [
       "<Figure size 864x288 with 10 Axes>"
      ]
     },
     "metadata": {
      "needs_background": "light"
     },
     "output_type": "display_data"
    }
   ],
   "source": [
    "plt.figure(figsize=(12,4))\n",
    "for k in range(5):\n",
    "    plt.subplot(2,5,k+1)\n",
    "    plt.imshow(X_test[:,:,k])\n",
    "    plt.subplot(2, 5, k+6)\n",
    "    plt.imshow(X[:,:,learning_result[k][0]-1])\n",
    "plt.show()"
   ]
  },
  {
   "cell_type": "code",
   "execution_count": null,
   "metadata": {},
   "outputs": [],
   "source": []
  }
 ],
 "metadata": {
  "interpreter": {
   "hash": "b5a26d0e877c4652cf53eb6b13536f4959f02e722fb5eef7979a29d14fb02c8a"
  },
  "kernelspec": {
   "display_name": "Python 3.8.13 ('TF')",
   "language": "python",
   "name": "python3"
  },
  "language_info": {
   "codemirror_mode": {
    "name": "ipython",
    "version": 3
   },
   "file_extension": ".py",
   "mimetype": "text/x-python",
   "name": "python",
   "nbconvert_exporter": "python",
   "pygments_lexer": "ipython3",
   "version": "3.8.13"
  },
  "orig_nbformat": 4
 },
 "nbformat": 4,
 "nbformat_minor": 2
}

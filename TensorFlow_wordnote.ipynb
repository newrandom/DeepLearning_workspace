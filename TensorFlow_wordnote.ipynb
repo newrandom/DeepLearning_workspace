{
 "cells": [
  {
   "cell_type": "markdown",
   "id": "14c94222",
   "metadata": {},
   "source": [
    "# conda 환경 관련\n",
    "> - `python3.7 -m pip insatll ipykernel`      // 파이썬3.7 버전의 pip에서 ipykernel을 설치\n",
    "> - `python3.7 -m ipykernel install --user --name=\"이름\"`     // 파이선 3.7 버전의 kernel을 \"이름\"으로 만듦\n",
    "> - `jupyter kernelspec uninstall 가상환경이름`   // jupyter 커널 중 가상환경이름의 커널을 삭제\n",
    "> - `conda env remove -n 'name'`    // 가상환경 삭제하기"
   ]
  },
  {
   "cell_type": "markdown",
   "id": "6eafeca7",
   "metadata": {},
   "source": [
    "# tensorflow 설치\n",
    "> - python 최신 버전의 conda env를 만든다. // `conda create --name 'env_name' python=3`\n",
    "> - python 버전 확인 // `python --version`  (22.5.16 기준 3.10.4 가 최신)\n",
    "> - Jupyter notebook 설치 // `conda install jupyter`\n",
    "> - tensorflow 설치 // `conda install tensorflow`"
   ]
  },
  {
   "cell_type": "markdown",
   "id": "16479822",
   "metadata": {},
   "source": [
    "# 배운 단어"
   ]
  },
  {
   "cell_type": "markdown",
   "id": "ee076da9",
   "metadata": {},
   "source": [
    "### - tensorflow import 하기\n",
    "> `import tensorflow as tf`"
   ]
  },
  {
   "cell_type": "code",
   "execution_count": 1,
   "id": "b6980700",
   "metadata": {},
   "outputs": [],
   "source": [
    "import tensorflow as tf"
   ]
  },
  {
   "cell_type": "markdown",
   "id": "6b08ef7f",
   "metadata": {},
   "source": [
    "### - tensor 사용할 때 가장 중요한 것\n",
    "> `shape` 와 `dtype`"
   ]
  },
  {
   "cell_type": "markdown",
   "id": "f40f9001",
   "metadata": {},
   "source": [
    "### - Tensor 생성하기\n",
    "> `tf.Tensor`"
   ]
  },
  {
   "cell_type": "code",
   "execution_count": 2,
   "id": "b54c4769",
   "metadata": {},
   "outputs": [
    {
     "data": {
      "text/plain": [
       "tensorflow.python.framework.ops.Tensor"
      ]
     },
     "execution_count": 2,
     "metadata": {},
     "output_type": "execute_result"
    }
   ],
   "source": [
    "tf.Tensor"
   ]
  },
  {
   "cell_type": "markdown",
   "id": "ca5cdf4b",
   "metadata": {},
   "source": [
    "### constant (상수)\n",
    "> `tf.constant()`\n",
    "> - list, tuple, array 모두 Tensor로 들어올 수 있다.\n",
    "\n",
    "> - doble precision : 64bits\n",
    "> - single precision : 32bits\n",
    "> - half precision : 16bits"
   ]
  },
  {
   "cell_type": "markdown",
   "id": "cc54ddeb",
   "metadata": {},
   "source": [
    "### Numpy array 추출\n",
    "> - `.numpy()`"
   ]
  },
  {
   "cell_type": "markdown",
   "id": "890fea0b",
   "metadata": {},
   "source": [
    "### 기타 단어\n",
    "> - `matmul` : 3차원 이상의 텐서 사이의 행렬 곱\n",
    "> - `랭크` : 차원 수를 말한다. // matmul 함수를 사용할 때, 차원(랭크)이 같아야 진행할 수 있음\n"
   ]
  },
  {
   "cell_type": "markdown",
   "id": "7861ac74",
   "metadata": {},
   "source": [
    "### 데이터 타입 컨트롤 하기\n",
    "> - `tf.cast(tensor, dtype=tf.int16)`   : tensor 데이터를 tf.int16 타입으로 바꾼다."
   ]
  },
  {
   "cell_type": "markdown",
   "id": "f0843293",
   "metadata": {},
   "source": [
    "### 특정값의 Tensor 생성하기\n",
    "> - `tf.ones(shape: [3, 4], dtype: DType = dtypes.float32, name: Any | None = None) -> Any\n",
    ")`  : n개의 1을 생성\n",
    "> - `tf.zeros(shape: [3, 4], dtype: DType = dtypes.float32, name: Any | None = None) -> Any)` : n개의 0을 생성\n",
    "> - `tf.range(start: Any, limit: Any | None = None, delta: int = 1, dtype: Any | None = None, name: str = \"range\") -> Any)` : start ~ limit까지 delta 만큼의 등차를 두고 수를 생성"
   ]
  },
  {
   "cell_type": "markdown",
   "id": "13127605",
   "metadata": {},
   "source": [
    "### tf.random 함수\n",
    "> - `tf.random.normal` : Gaussian Normal Distribution\n",
    "> - `tf.random.uniform` : Uniform Distribution\n"
   ]
  },
  {
   "cell_type": "markdown",
   "id": "b6ff55ec",
   "metadata": {},
   "source": [
    "### Random seed 관리하기\n",
    "> - Random value로 보통 가중치를 초기화\n",
    "> - 이외에도 학습 과정에서 Random value가 많이 사용된다.\n",
    "> - 이를 관리해주지 않으면, 자신이 했던 작업이 동일하게 복구 또는 재현이 되지 않는다.\n",
    "> - `tf.random.set_seed({seed_number})`\n",
    "> - 재현성 유지를 위해 항상 Random seed를 고정해두고 개발한다.\n",
    "> - (주의할 점은 해당 개발물에 사용되는 난수가 모두 TensorFlow에서 생성된 것이 아닐수도 있다는 것이다.)\n",
    "\n",
    "> - random 값을 고정해두고 사용하는 것을 생활화하면 좋다."
   ]
  }
 ],
 "metadata": {
  "interpreter": {
   "hash": "b5a26d0e877c4652cf53eb6b13536f4959f02e722fb5eef7979a29d14fb02c8a"
  },
  "kernelspec": {
   "display_name": "Python 3.10.2 ('TF')",
   "language": "python",
   "name": "python3"
  },
  "language_info": {
   "codemirror_mode": {
    "name": "ipython",
    "version": 3
   },
   "file_extension": ".py",
   "mimetype": "text/x-python",
   "name": "python",
   "nbconvert_exporter": "python",
   "pygments_lexer": "ipython3",
   "version": "3.10.4"
  }
 },
 "nbformat": 4,
 "nbformat_minor": 5
}

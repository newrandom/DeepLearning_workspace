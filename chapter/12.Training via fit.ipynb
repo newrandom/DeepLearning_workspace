{
 "cells": [
  {
   "cell_type": "markdown",
   "id": "f9da32fd",
   "metadata": {},
   "source": [
    "# Training"
   ]
  },
  {
   "cell_type": "code",
   "execution_count": 1,
   "id": "32fb3f37",
   "metadata": {},
   "outputs": [],
   "source": [
    "import numpy as np\n",
    "import pandas as pd\n",
    "import tensorflow as tf\n",
    "\n",
    "import matplotlib.pyplot as plt\n",
    "import seaborn as sns\n",
    "%matplotlib inline"
   ]
  },
  {
   "cell_type": "code",
   "execution_count": 2,
   "id": "5c40f4a5",
   "metadata": {},
   "outputs": [],
   "source": [
    "np.random.seed(7777)\n",
    "tf.random.set_seed(7777)"
   ]
  },
  {
   "cell_type": "code",
   "execution_count": 3,
   "id": "cfbead7a",
   "metadata": {},
   "outputs": [
    {
     "name": "stdout",
     "output_type": "stream",
     "text": [
      "(50000, 32, 32, 3) float32\n",
      "(50000, 10) float32\n",
      "(10000, 32, 32, 3) float32\n",
      "(10000, 10) float32\n"
     ]
    }
   ],
   "source": [
    "class Cifar10DataLoader():\n",
    "    def __init__(self):\n",
    "        # data load\n",
    "        (self.train_x, self.train_y), \\\n",
    "            (self.test_x, self.test_y) = tf.keras.datasets.cifar10.load_data()\n",
    "        self.input_shape = self.train_x.shape[1:]\n",
    "\n",
    "    def scale(self, x):\n",
    "\n",
    "        return (x / 255.0).astype(np.float32)\n",
    "\n",
    "    def preprocess_dataset(self, dataset):\n",
    "\n",
    "        (feature, target) = dataset\n",
    "\n",
    "        # scaling #\n",
    "        scaled_x = np.array([self.scale(x) for x in feature])\n",
    "\n",
    "        # label encoding #\n",
    "        ohe_y = np.array([tf.keras.utils.to_categorical(\n",
    "            y, num_classes=10) for y in target])\n",
    "        \n",
    "        return scaled_x, ohe_y.squeeze(1)\n",
    "\n",
    "    def get_train_dataset(self):\n",
    "        return self.preprocess_dataset((self.train_x, self.train_y))\n",
    "\n",
    "    def get_test_dataset(self):\n",
    "        return self.preprocess_dataset((self.test_x, self.test_y))\n",
    "\n",
    "cifar10_loader = Cifar10DataLoader()\n",
    "train_x, train_y = cifar10_loader.get_train_dataset()\n",
    "\n",
    "print(train_x.shape, train_x.dtype)\n",
    "print(train_y.shape, train_y.dtype)\n",
    "\n",
    "test_x, test_y = cifar10_loader.get_test_dataset()\n",
    "\n",
    "print(test_x.shape, test_x.dtype)\n",
    "print(test_y.shape, test_y.dtype)"
   ]
  },
  {
   "cell_type": "code",
   "execution_count": 4,
   "id": "c511a44b",
   "metadata": {},
   "outputs": [
    {
     "name": "stdout",
     "output_type": "stream",
     "text": [
      "Model: \"resnet\"\n",
      "__________________________________________________________________________________________________\n",
      " Layer (type)                   Output Shape         Param #     Connected to                     \n",
      "==================================================================================================\n",
      " input_1 (InputLayer)           [(None, 32, 32, 3)]  0           []                               \n",
      "                                                                                                  \n",
      " conv2d (Conv2D)                (None, 16, 16, 32)   896         ['input_1[0][0]']                \n",
      "                                                                                                  \n",
      " max_pooling2d (MaxPooling2D)   (None, 8, 8, 32)     0           ['conv2d[0][0]']                 \n",
      "                                                                                                  \n",
      " conv2d_1 (Conv2D)              (None, 8, 8, 64)     2112        ['max_pooling2d[0][0]']          \n",
      "                                                                                                  \n",
      " conv2d_2 (Conv2D)              (None, 8, 8, 64)     36928       ['conv2d_1[0][0]']               \n",
      "                                                                                                  \n",
      " conv2d_4 (Conv2D)              (None, 8, 8, 64)     2112        ['max_pooling2d[0][0]']          \n",
      "                                                                                                  \n",
      " conv2d_3 (Conv2D)              (None, 8, 8, 64)     4160        ['conv2d_2[0][0]']               \n",
      "                                                                                                  \n",
      " add (Add)                      (None, 8, 8, 64)     0           ['conv2d_4[0][0]',               \n",
      "                                                                  'conv2d_3[0][0]']               \n",
      "                                                                                                  \n",
      " conv2d_5 (Conv2D)              (None, 8, 8, 64)     4160        ['add[0][0]']                    \n",
      "                                                                                                  \n",
      " conv2d_6 (Conv2D)              (None, 8, 8, 64)     36928       ['conv2d_5[0][0]']               \n",
      "                                                                                                  \n",
      " conv2d_7 (Conv2D)              (None, 8, 8, 64)     4160        ['conv2d_6[0][0]']               \n",
      "                                                                                                  \n",
      " add_1 (Add)                    (None, 8, 8, 64)     0           ['add[0][0]',                    \n",
      "                                                                  'conv2d_7[0][0]']               \n",
      "                                                                                                  \n",
      " max_pooling2d_1 (MaxPooling2D)  (None, 4, 4, 64)    0           ['add_1[0][0]']                  \n",
      "                                                                                                  \n",
      " flatten (Flatten)              (None, 1024)         0           ['max_pooling2d_1[0][0]']        \n",
      "                                                                                                  \n",
      " dense (Dense)                  (None, 10)           10250       ['flatten[0][0]']                \n",
      "                                                                                                  \n",
      "==================================================================================================\n",
      "Total params: 101,706\n",
      "Trainable params: 101,706\n",
      "Non-trainable params: 0\n",
      "__________________________________________________________________________________________________\n"
     ]
    }
   ],
   "source": [
    "from tensorflow.keras.layers import Input, Conv2D, MaxPool2D, Flatten, Dense, Add\n",
    "\n",
    "def build_resnet(input_shape):\n",
    "    inputs = Input(input_shape)\n",
    "\n",
    "    net = Conv2D(32, kernel_size=3, strides=2,\n",
    "                 padding='same', activation='relu')(inputs)\n",
    "    net = MaxPool2D()(net)\n",
    "    \n",
    "    net1 = Conv2D(64, kernel_size=1, padding='same', activation='relu')(net)\n",
    "    net2 = Conv2D(64, kernel_size=3, padding='same', activation='relu')(net1)\n",
    "    net3 = Conv2D(64, kernel_size=1, padding='same', activation='relu')(net2)\n",
    "    \n",
    "    net1_1 = Conv2D(64, kernel_size=1, padding='same')(net)\n",
    "    net = Add()([net1_1, net3])\n",
    "    \n",
    "    net1 = Conv2D(64, kernel_size=1, padding='same', activation='relu')(net)\n",
    "    net2 = Conv2D(64, kernel_size=3, padding='same', activation='relu')(net1)\n",
    "    net3 = Conv2D(64, kernel_size=1, padding='same', activation='relu')(net2)\n",
    "    \n",
    "    net = Add()([net, net3])\n",
    "    \n",
    "    net = MaxPool2D()(net)\n",
    "    \n",
    "    net = Flatten()(net)\n",
    "    net = Dense(10, activation=\"softmax\")(net)\n",
    "\n",
    "    model = tf.keras.Model(inputs=inputs, outputs=net, name='resnet')\n",
    "    \n",
    "    return model\n",
    "\n",
    "model = build_resnet((32, 32, 3))\n",
    "model.summary()"
   ]
  },
  {
   "cell_type": "markdown",
   "id": "effee081",
   "metadata": {},
   "source": [
    "## fit 함수 사용\n",
    "\n",
    "$$\n",
    "\\Large{\n",
    "model.compile() \\rightarrow model.fit()\n",
    "}\n",
    "$$"
   ]
  },
  {
   "cell_type": "markdown",
   "id": "01d34fd5",
   "metadata": {},
   "source": [
    "#### compile의 입력값\n",
    "\n",
    "- optimizer='rmsprop' : Optimizer \n",
    "- loss=None : Loss function\n",
    "- metrics=None : Metrics\n",
    "- loss_weights=None : loss가 여러 개인 경우 각 로스마다 다르게 중요도를 설정 할 수 있다. \n"
   ]
  },
  {
   "cell_type": "code",
   "execution_count": 5,
   "id": "1fbb8ba5",
   "metadata": {},
   "outputs": [],
   "source": [
    "lr = 0.03\n",
    "opt = tf.keras.optimizers.Adagrad(lr)\n",
    "loss = tf.keras.losses.categorical_crossentropy"
   ]
  },
  {
   "cell_type": "code",
   "execution_count": 6,
   "id": "c428cbc0",
   "metadata": {},
   "outputs": [],
   "source": [
    "model.compile(optimizer=opt, loss = loss, metrics=['accuracy'])"
   ]
  },
  {
   "cell_type": "code",
   "execution_count": 7,
   "id": "48684ac0",
   "metadata": {},
   "outputs": [],
   "source": [
    "# 내가 개발한 loss를 써보고싶다\n",
    "def custom_loss(y_true, y_pred):    \n",
    "                # 정답 , 예측치\n",
    "    return tf.reduce_mean(tf.square(y_true - y_pred))  # mse"
   ]
  },
  {
   "cell_type": "code",
   "execution_count": 8,
   "id": "13d85f72",
   "metadata": {},
   "outputs": [],
   "source": [
    "model.compile(optimizer=opt, loss=custom_loss, metrics=['accuracy'])"
   ]
  },
  {
   "cell_type": "code",
   "execution_count": null,
   "id": "7f7f6392",
   "metadata": {},
   "outputs": [],
   "source": [
    "# loss를 여러개 사용하고 싶을 때,\n",
    "model.compile(optimizer=opt, loss = [loss, custom_loss], metrics =['accuracy'])"
   ]
  },
  {
   "cell_type": "code",
   "execution_count": 10,
   "id": "09b71f76",
   "metadata": {},
   "outputs": [],
   "source": [
    "# loss weight\n",
    "model.compile(optimizer=opt, loss=[loss, custom_loss], metrics=['accuracy'], loss_weights=[0.9, 0.1])\n",
    "                                                                                            #1번 loss\n",
    "                                                                                                #2번 loss\n",
    "\n",
    "                            # 최종 결과 loss는 두 loss를 더한 값인데, loss_weights 만큼 곱해진 값들을 더한 결과를 반환한다."
   ]
  },
  {
   "cell_type": "code",
   "execution_count": 11,
   "id": "1cdc652b",
   "metadata": {},
   "outputs": [],
   "source": [
    "model.compile(optimizer=opt, loss='categorical_crossentropy', metrics=['accuracy'])\n",
    "                                # 이름을 넣어도 된다."
   ]
  },
  {
   "cell_type": "code",
   "execution_count": 12,
   "id": "9275aa70",
   "metadata": {},
   "outputs": [],
   "source": [
    "acc = tf.keras.metrics.Accuracy()\n",
    "auc = tf.keras.metrics.AUC()\n"
   ]
  },
  {
   "cell_type": "code",
   "execution_count": 13,
   "id": "2ef78f0b",
   "metadata": {},
   "outputs": [],
   "source": [
    "model.compile(optimizer=opt, loss='categorical_crossentropy', metrics=[acc,auc])"
   ]
  },
  {
   "cell_type": "markdown",
   "id": "d95e4dd1",
   "metadata": {},
   "source": [
    "### fit의 입력값\n",
    "\n",
    "- x=None \n",
    "- y=None\n",
    "- batch_size=None\n",
    "- epochs=1\n",
    "- verbose='auto' : 학습과정 출력문의 모드\n",
    "- callbacks=None : Callback 함수\n",
    "- validation_split=0.0 : 입력데이터의 일정 부분(%)을 Validation 용 데이터로 사용함\n",
    "- validation_data=None : Validation 용 데이터 \n",
    "- shuffle=True : 입력값을 Epoch 마다 섞는다. // True가 기본값임\n",
    "- class_weight=None : 클래스 별로 다른 중요도를 설정한다. \n",
    "- ..."
   ]
  },
  {
   "cell_type": "code",
   "execution_count": 14,
   "id": "ef5df412",
   "metadata": {},
   "outputs": [
    {
     "name": "stdout",
     "output_type": "stream",
     "text": [
      "782/782 [==============================] - 17s 19ms/step - loss: 1.7339 - accuracy: 0.0000e+00 - auc: 0.8172\n"
     ]
    }
   ],
   "source": [
    "hist = model.fit(\n",
    "    train_x,\n",
    "    train_y,\n",
    "    epochs=1,\n",
    "    batch_size = 64,\n",
    "    verbose=1\n",
    ")"
   ]
  },
  {
   "cell_type": "markdown",
   "id": "2bd9888b",
   "metadata": {},
   "source": [
    "### Callback 함수 활용하기 \n",
    "\n",
    " - Callback 함수를 활용하면, fit() 함수가 돌아가는 와중에도 특정한 주기로 원하는 코드를 실행 시킬 수 있음. \n",
    " \n",
    " ex> 학습이 진행되면, Learning rate를 점점 줄여서 더 세밀하게 모델의 웨이트가 조정 될 수 있도록 하고 싶다. "
   ]
  },
  {
   "cell_type": "code",
   "execution_count": 17,
   "id": "2095f509",
   "metadata": {},
   "outputs": [],
   "source": [
    "def scheduler(epoch, lr):\n",
    "    if epoch > 10:\n",
    "        return lr * (0.9**(epoch - 10))\n",
    "    else:\n",
    "        return lr\n",
    "\n",
    "lr_scheduler = tf.keras.callbacks.LearningRateScheduler(scheduler, verbose=1)\n",
    "                                                                    # 상황을 보고싶다면 verbose=1"
   ]
  },
  {
   "cell_type": "code",
   "execution_count": 18,
   "id": "9ba7f551",
   "metadata": {},
   "outputs": [
    {
     "name": "stdout",
     "output_type": "stream",
     "text": [
      "\n",
      "Epoch 1: LearningRateScheduler setting learning rate to 0.029999999329447746.\n",
      "547/547 [==============================] - 18s 33ms/step - loss: 1.3909 - accuracy: 0.0000e+00 - auc: 0.8892 - val_loss: 1.3326 - val_accuracy: 0.0000e+00 - val_auc: 0.8981 - lr: 0.0300\n"
     ]
    }
   ],
   "source": [
    "hist = model.fit(\n",
    "    train_x,\n",
    "    train_y,\n",
    "    epochs=1,\n",
    "    batch_size = 64,\n",
    "    validation_split=0.3,\n",
    "    verbose=1,\n",
    "    callbacks=(lr_scheduler)\n",
    ")"
   ]
  },
  {
   "cell_type": "code",
   "execution_count": null,
   "id": "9a6db02d",
   "metadata": {},
   "outputs": [],
   "source": [
    "tf.keras.callbacks.EarlyStopping\n",
    "                    # epoch의 값이 어느정도 올랐을 때,\n",
    "                    # loss 값이 계속 비슷하다면 그즘에서 멈추는 작업을 한다."
   ]
  }
 ],
 "metadata": {
  "interpreter": {
   "hash": "b5a26d0e877c4652cf53eb6b13536f4959f02e722fb5eef7979a29d14fb02c8a"
  },
  "kernelspec": {
   "display_name": "Python 3.8.13 ('TF')",
   "language": "python",
   "name": "python3"
  },
  "language_info": {
   "codemirror_mode": {
    "name": "ipython",
    "version": 3
   },
   "file_extension": ".py",
   "mimetype": "text/x-python",
   "name": "python",
   "nbconvert_exporter": "python",
   "pygments_lexer": "ipython3",
   "version": "3.8.13"
  },
  "varInspector": {
   "cols": {
    "lenName": 16,
    "lenType": 16,
    "lenVar": 40
   },
   "kernels_config": {
    "python": {
     "delete_cmd_postfix": "",
     "delete_cmd_prefix": "del ",
     "library": "var_list.py",
     "varRefreshCmd": "print(var_dic_list())"
    },
    "r": {
     "delete_cmd_postfix": ") ",
     "delete_cmd_prefix": "rm(",
     "library": "var_list.r",
     "varRefreshCmd": "cat(var_dic_list()) "
    }
   },
   "types_to_exclude": [
    "module",
    "function",
    "builtin_function_or_method",
    "instance",
    "_Feature"
   ],
   "window_display": false
  }
 },
 "nbformat": 4,
 "nbformat_minor": 5
}

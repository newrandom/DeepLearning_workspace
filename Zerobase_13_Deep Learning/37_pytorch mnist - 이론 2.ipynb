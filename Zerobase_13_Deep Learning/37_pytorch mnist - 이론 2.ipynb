{
 "cells": [
  {
   "cell_type": "markdown",
   "metadata": {},
   "source": [
    "# 37_pytorch mnist - 이론 2"
   ]
  },
  {
   "cell_type": "code",
   "execution_count": 1,
   "metadata": {},
   "outputs": [],
   "source": [
    "import torch\n",
    "import torch.nn as nn\n",
    "            # nn : neural net\n",
    "import torch.nn.functional as F\n",
    "import torch.optim as optim\n",
    "from torchvision import datasets, transforms\n",
    "\n",
    "from matplotlib import pyplot as plt\n",
    "%matplotlib inline"
   ]
  },
  {
   "cell_type": "markdown",
   "metadata": {},
   "source": [
    "# CNN 모델 만들기"
   ]
  },
  {
   "cell_type": "code",
   "execution_count": 2,
   "metadata": {},
   "outputs": [],
   "source": [
    "class CNN(nn.Module):\n",
    "    def __init__(self):\n",
    "        super(CNN, self).__init__()     # super 함수를 통해 module을 상속받음.\n",
    "        self.conv1 = nn.Conv2d(1, 32, 3, 1, padding = 'same')\n",
    "                            # 1 : 입력 채널의 수 / 입력단에서는 1개임\n",
    "                                # 32 : 32개의 출력을 갖도록 함\n",
    "                                    # 3 : kernel 사이즈 3*3\n",
    "                                        # 1 : stride 옵션\n",
    "                                                # convolutional 로 인해 이미지 사이즈가 줄어들지 않도록 설정\n",
    "        self.conv2 = nn.Conv2d(32, 64, 3, 1, padding = 'same')\n",
    "                            # 32 : 32개의 입력\n",
    "                                # 64 : 64개의 출력으로 나가게하기\n",
    "        self.dropout = nn.Dropout2d(0.25)\n",
    "        self.fc1 = nn.Linear(3136, 1000)    # 7 * 7 * 64 = 3136\n",
    "            # fully connected 하는 입출력의 개수를 정해줘야 함.\n",
    "                            # 3136 : 입력되는 수\n",
    "                                    # 1000 : 출력할 수\n",
    "        self.fc2 = nn.Linear(1000, 10)\n",
    "                            # 1000 : 입력되는 수\n",
    "                                    # 10 : 출력할 수\n",
    "\n",
    "    def forward(self, x):\n",
    "        \n",
    "        # 1단계\n",
    "        x = self.conv1(x)\n",
    "        x = F.relu(x)\n",
    "        x = F.max_pool2d(x, 2)\n",
    "                            # 2 * 2 크기를 갖도록 함.\n",
    "            # pooling layer : 가중치가 없음.\n",
    "        \n",
    "        # 2단계\n",
    "        x = self.conv2(x)\n",
    "        x = F.relu(x)\n",
    "        x = F.max_pool2d(x, 2)\n",
    "\n",
    "        # 3단계\n",
    "        x = self.dropout(x)\n",
    "        x = torch.flatten(x, 1)     # 차원을 바꾸는 역할만 한다.\n",
    "\n",
    "        x = self.fc1(x)\n",
    "        x = F.relu(x)\n",
    "\n",
    "        x = self.fc2(x)\n",
    "        output = F.log_softmax(x, dim=1)\n",
    "                    # log_softmax : 연산 속도를 조금 더 높여 준다.\n",
    "\n",
    "        return output"
   ]
  },
  {
   "cell_type": "markdown",
   "metadata": {},
   "source": [
    "------------------------\n",
    "# 이전 시간 자료 가져오기"
   ]
  },
  {
   "cell_type": "code",
   "execution_count": 3,
   "metadata": {},
   "outputs": [
    {
     "name": "stdout",
     "output_type": "stream",
     "text": [
      "Current cuda device is cpu\n"
     ]
    }
   ],
   "source": [
    "# Cuda 가능하면 Cuda 모드\n",
    "is_cuda = torch.cuda.is_available()\n",
    "device = torch.device('cuda' if is_cuda else 'cpu')\n",
    "\n",
    "print('Current cuda device is', device)"
   ]
  },
  {
   "cell_type": "code",
   "execution_count": 4,
   "metadata": {},
   "outputs": [],
   "source": [
    "#파라미터 설정\n",
    "batch_size = 50\n",
    "learning_rate = 0.0001\n",
    "epoch_num = 15"
   ]
  },
  {
   "cell_type": "code",
   "execution_count": 5,
   "metadata": {},
   "outputs": [
    {
     "name": "stdout",
     "output_type": "stream",
     "text": [
      "number of training data:  60000\n",
      "number of test data:  10000\n"
     ]
    }
   ],
   "source": [
    "# MNIST 데이터 불러오기\n",
    "train_data = datasets.MNIST(root = './dataset/MNIST',\n",
    "                            train = True,           # 훈련용 데이터로 사전 설정 가능\n",
    "                            # download = True,        # 최초 1회만 다운 받아서 사용하고, 다운 받아진 후에는 False\n",
    "                            transform = transforms.ToTensor())\n",
    "test_data = datasets.MNIST(root = './dataset/MNIST',\n",
    "                            train = False,      # 훈련용이 아님을 설정\n",
    "                            transform = transforms.ToTensor())\n",
    "\n",
    "print('number of training data: ', len(train_data))\n",
    "print('number of test data: ', len(test_data))"
   ]
  },
  {
   "cell_type": "code",
   "execution_count": 6,
   "metadata": {},
   "outputs": [
    {
     "data": {
      "image/png": "[encoded data removed]",
      "text/plain": [
       "<Figure size 432x288 with 1 Axes>"
      ]
     },
     "metadata": {
      "needs_background": "light"
     },
     "output_type": "display_data"
    }
   ],
   "source": [
    "image, label = train_data[0]\n",
    "\n",
    "plt.imshow(image.squeeze().numpy(), cmap='gray')\n",
    "                # squeeze : torchvision dataset의 한 세트는 CNN모델을 고려하여 3차원으로 설정되어있다.\n",
    "                    # keras 에서는 (28, 28, 1) 로 채널이 마지막에 오지만\n",
    "                    # torch 에서는 (1, 28, 28) 로 채널이 앞에 온다.\n",
    "                # squeeze를 사용하면 차원을 없앤다.\n",
    "plt.title('label : %s' %label)\n",
    "plt.show()"
   ]
  },
  {
   "cell_type": "code",
   "execution_count": 7,
   "metadata": {},
   "outputs": [],
   "source": [
    "# 미니 배치 구성 - data loader\n",
    "train_loader = torch.utils.data.DataLoader(dataset = train_data, batch_size = batch_size, shuffle=True)\n",
    "                                                    # 읽어올 데이터셋 이름 지정\n",
    "                                                                            # batch size 지정\n",
    "                                                                                                # shuffle : 데이터의 순서를 학습하지 못하게 한다.\n",
    "test_loader = torch.utils.data.DataLoader(dataset = test_data, batch_size = batch_size, shuffle = True)\n",
    "\n",
    "first_batch = train_loader.__iter__().__next__()"
   ]
  },
  {
   "cell_type": "markdown",
   "metadata": {},
   "source": [
    "-------------------\n",
    "# 학습"
   ]
  },
  {
   "cell_type": "code",
   "execution_count": 8,
   "metadata": {},
   "outputs": [],
   "source": [
    "model = CNN().to(device)\n",
    "optimizer = optim.Adam(model.parameters(), lr = learning_rate)\n",
    "                        # weight\n",
    "criterion = nn.CrossEntropyLoss()"
   ]
  },
  {
   "cell_type": "code",
   "execution_count": 9,
   "metadata": {},
   "outputs": [
    {
     "name": "stdout",
     "output_type": "stream",
     "text": [
      "Train Step : 1000\tLoss: 0.278\n",
      "Train Step : 2000\tLoss: 0.064\n",
      "Train Step : 3000\tLoss: 0.041\n",
      "Train Step : 4000\tLoss: 0.227\n",
      "Train Step : 5000\tLoss: 0.020\n",
      "Train Step : 6000\tLoss: 0.087\n",
      "Train Step : 7000\tLoss: 0.010\n",
      "Train Step : 8000\tLoss: 0.012\n",
      "Train Step : 9000\tLoss: 0.008\n",
      "Train Step : 10000\tLoss: 0.010\n",
      "Train Step : 11000\tLoss: 0.034\n",
      "Train Step : 12000\tLoss: 0.037\n",
      "Train Step : 13000\tLoss: 0.003\n",
      "Train Step : 14000\tLoss: 0.016\n",
      "Train Step : 15000\tLoss: 0.001\n",
      "Train Step : 16000\tLoss: 0.000\n",
      "Train Step : 17000\tLoss: 0.020\n",
      "Train Step : 18000\tLoss: 0.001\n"
     ]
    }
   ],
   "source": [
    "model.train()\n",
    "        # train을 한다는 의미가 아님. \n",
    "        # 단지 train 모드 임을 설정.\n",
    "i = 1\n",
    "for epoch in range(epoch_num):      # 실질적인 훈련은 여기서 진행된다.\n",
    "    for data, target in train_loader:\n",
    "        # mini batch 를 device에 올림.\n",
    "        data = data.to(device)\n",
    "        target = target.to(device)\n",
    "\n",
    "        optimizer.zero_grad()\n",
    "                # gradient 를 0으로 설정해야 다음번에 갱신한 가중치가 사용된다.\n",
    "        output = model(data)\n",
    "                    # data : 배치들 중의 하나씩\n",
    "        loss = criterion(output, target)\n",
    "\n",
    "        loss.backward()\n",
    "            # backpropogation\n",
    "        optimizer.step()\n",
    "            # 가중치를 설정\n",
    "        if i % 1000 == 0:\n",
    "            print('Train Step : {}\\tLoss: {:.3f}'.format(i, loss.item()))\n",
    "        i += 1"
   ]
  },
  {
   "cell_type": "markdown",
   "metadata": {},
   "source": [
    "# 평가"
   ]
  },
  {
   "cell_type": "code",
   "execution_count": 10,
   "metadata": {},
   "outputs": [
    {
     "name": "stdout",
     "output_type": "stream",
     "text": [
      "Test set : Accuracy : 99.13%\n"
     ]
    }
   ],
   "source": [
    "model.eval()\n",
    "    # eval : 평가모드로 변경\n",
    "    # dropout 기능은 꺼진다.\n",
    "\n",
    "correct = 0\n",
    "for data, target in test_loader :\n",
    "    # data, target = Variable(data, volatile=True), Variable(target)\n",
    "    data = data.to(device)\n",
    "    target = target.to(device)\n",
    "\n",
    "    output = model(data)\n",
    "    prediction = output.data.max(1)[1]\n",
    "                            # argmax ?\n",
    "    correct += prediction.eq(target.data).sum()\n",
    "                    # 예측과 맞다면 맞춘 갯수를 반환하여 저장한다.\n",
    "\n",
    "print('Test set : Accuracy : {:.2f}%'.format(100. * correct / len(test_loader.dataset)))"
   ]
  },
  {
   "cell_type": "code",
   "execution_count": null,
   "metadata": {},
   "outputs": [],
   "source": []
  }
 ],
 "metadata": {
  "kernelspec": {
   "display_name": "Python 3.8.13 ('tensorflow-dev')",
   "language": "python",
   "name": "python3"
  },
  "language_info": {
   "codemirror_mode": {
    "name": "ipython",
    "version": 3
   },
   "file_extension": ".py",
   "mimetype": "text/x-python",
   "name": "python",
   "nbconvert_exporter": "python",
   "pygments_lexer": "ipython3",
   "version": "3.8.13"
  },
  "orig_nbformat": 4,
  "vscode": {
   "interpreter": {
    "hash": "edf8c54a41a41a32cf49f70f45bd21c79eabf4cef1c0118d679d509e032472c8"
   }
  }
 },
 "nbformat": 4,
 "nbformat_minor": 2
}

{
 "cells": [
  {
   "cell_type": "markdown",
   "metadata": {},
   "source": [
    "# 15_DL from scratch - 예제 3"
   ]
  },
  {
   "cell_type": "code",
   "execution_count": 14,
   "metadata": {},
   "outputs": [],
   "source": [
    "import numpy as np\n",
    "import matplotlib.pyplot as plt\n",
    "from tqdm.notebook import tqdm\n",
    "%matplotlib inline"
   ]
  },
  {
   "cell_type": "code",
   "execution_count": 15,
   "metadata": {},
   "outputs": [],
   "source": [
    "# Feature data\n",
    "X = np.zeros((5,5,5))\n",
    "\n",
    "X[:, :, 0] = [ [0,1,1,0,0], [0,0,1,0,0], [0,0,1,0,0], [0,0,1,0,0], [0,1,1,1,0] ]\n",
    "X[:, :, 1] = [ [1,1,1,1,0], [0,0,0,0,1], [0,1,1,1,0], [1,0,0,0,0], [1,1,1,1,1] ]\n",
    "X[:, :, 2] = [ [1,1,1,1,0], [0,0,0,0,1], [0,1,1,1,0], [0,0,0,0,1], [1,1,1,1,0] ]\n",
    "X[:, :, 3] = [ [0,0,0,1,0], [0,0,1,1,0], [0,1,0,1,0], [1,1,1,1,1], [0,0,0,1,0] ]\n",
    "X[:, :, 4] = [ [1,1,1,1,1], [1,0,0,0,0], [1,1,1,1,0], [0,0,0,0,1], [1,1,1,1,0] ]\n"
   ]
  },
  {
   "cell_type": "code",
   "execution_count": 16,
   "metadata": {},
   "outputs": [],
   "source": [
    "# Labels\n",
    "D = np.array([\n",
    "    [[1,0,0,0,0]], [[0,1,0,0,0]], [[0,0,1,0,0]], [[0,0,0,1,0]], [[0,0,0,0,1]]\n",
    "])\n"
   ]
  },
  {
   "cell_type": "code",
   "execution_count": 17,
   "metadata": {},
   "outputs": [],
   "source": [
    "def Softmax(x):\n",
    "    x = np.subtract(x, np.max(x))\n",
    "    ex = np.exp(x)\n",
    "\n",
    "    return ex / np.sum(ex)"
   ]
  },
  {
   "cell_type": "code",
   "execution_count": 18,
   "metadata": {},
   "outputs": [],
   "source": [
    "def ReLU(x):\n",
    "    return np.maximum(0, x)"
   ]
  },
  {
   "cell_type": "markdown",
   "metadata": {},
   "source": [
    "![](./lecture_image/09-01.png)"
   ]
  },
  {
   "cell_type": "code",
   "execution_count": 19,
   "metadata": {},
   "outputs": [],
   "source": [
    "# 정방향 계산\n",
    "def calcOutput_ReLU(W1, W2, W3, W4, x):\n",
    "    v1 = np.matmul(W1, x)\n",
    "    y1 = ReLU(v1)\n",
    "    \n",
    "    v2 = np.matmul(W2, y1)\n",
    "    y2 = ReLU(v2)\n",
    "\n",
    "    v3 = np.matmul(W3, y2)\n",
    "    y3 = ReLU(v3)\n",
    "\n",
    "    v = np.matmul(W4, y3)\n",
    "    y = Softmax(v)\n",
    "\n",
    "    return y, v1, v2, v3, y1, y2, y3"
   ]
  },
  {
   "cell_type": "code",
   "execution_count": 20,
   "metadata": {},
   "outputs": [],
   "source": [
    "# 역전파\n",
    "def backpropagation_ReLU(d, y, W2, W3, W4, v1, v2, v3):\n",
    "    e = d - y\n",
    "    delta = e       # 크로스엔트로피\n",
    "\n",
    "    e3 = np.matmul(W4.T, delta)\n",
    "    delta3 = (v3 > 0) * e3\n",
    "\n",
    "    e2 = np.matmul(W3.T, delta3)\n",
    "    delta2 = (v2 > 0) * e2\n",
    "\n",
    "    e1 = np.matmul(W2.T, delta2)\n",
    "    delta1 = (v1 > 0) * e1\n",
    "\n",
    "    return delta, delta1, delta2, delta3"
   ]
  },
  {
   "cell_type": "markdown",
   "metadata": {},
   "source": [
    "![크로스엔트로피](./lecture_image/12-03.png)"
   ]
  },
  {
   "cell_type": "code",
   "execution_count": 21,
   "metadata": {},
   "outputs": [],
   "source": [
    "# 가중치 계산\n",
    "def calcWs(alpha, delta, delta1, delta2, delta3, y1, y2, y3, x, W1, W2, W3, W4):\n",
    "    dW4 = alpha * delta * y3.T\n",
    "    W4 = W4 + dW4\n",
    "\n",
    "    dW3 = alpha * delta3 * y2.T\n",
    "    W3 = W3 + dW3\n",
    "\n",
    "    dW2 = alpha * delta2 * y1.T\n",
    "    W2 = W2 + dW2\n",
    "\n",
    "    dW1 = alpha * delta1 * x.T\n",
    "    W1 = W1 + dW1\n",
    "\n",
    "    return W1, W2, W3, W4"
   ]
  },
  {
   "cell_type": "code",
   "execution_count": 22,
   "metadata": {},
   "outputs": [],
   "source": [
    "# 가중치 업데이트\n",
    "def DeepReLU(W1, W2, W3, W4, X, D, alpha):\n",
    "    for k in range(5):\n",
    "                # 5 : 다섯개의 데이터를 찾는 것이기 때문에.\n",
    "        x = np.reshape(X[:, :, k], (25,1))\n",
    "        d = D[k, :].T\n",
    "\n",
    "        y, v1, v2, v3, y1, y2, y3 = calcOutput_ReLU(W1, W2, W3, W4, x)\n",
    "        delta, delta1, delta2, delta3 = backpropagation_ReLU(d, y, W2, W3, W4, v1, v2, v3)\n",
    "        W1, W2, W3, W4 = calcWs(alpha, delta, delta1, delta2, delta3, y1, y2, y3, x, W1, W2, W3, W4)\n",
    "\n",
    "    return W1, W2, W3, W4"
   ]
  },
  {
   "cell_type": "code",
   "execution_count": 23,
   "metadata": {},
   "outputs": [
    {
     "data": {
      "application/vnd.jupyter.widget-view+json": {
       "model_id": "58cf111dbfcd40feacfd454807c57f49",
       "version_major": 2,
       "version_minor": 0
      },
      "text/plain": [
       "  0%|          | 0/10000 [00:00<?, ?it/s]"
      ]
     },
     "metadata": {},
     "output_type": "display_data"
    }
   ],
   "source": [
    "# 가중치 랜덤하게 설정\n",
    "W1 = 2 * np.random.random((20, 25)) - 1\n",
    "W2 = 2 * np.random.random((20, 20)) - 1\n",
    "W3 = 2 * np.random.random((20, 20)) - 1\n",
    "W4 = 2 * np.random.random((5, 20)) - 1\n",
    "\n",
    "alpha = 0.01\n",
    "\n",
    "for epoch in tqdm(range(10000)):\n",
    "    W1, W2, W3, W4 = DeepReLU(W1, W2, W3, W4, X, D, alpha)"
   ]
  },
  {
   "cell_type": "code",
   "execution_count": 24,
   "metadata": {},
   "outputs": [],
   "source": [
    "def verify_algorithm(x, W1, W2, W3, W4):\n",
    "    v1 = np.matmul(W1, x)\n",
    "    y1 = ReLU(v1)\n",
    "\n",
    "    v2 = np.matmul(W2, y1)\n",
    "    y2 = ReLU(v2)\n",
    "\n",
    "    v3 = np.matmul(W3, y2)\n",
    "    y3 = ReLU(v3)\n",
    "\n",
    "    v = np.matmul(W4, y3)\n",
    "    y = Softmax(v)\n",
    "\n",
    "    return y"
   ]
  },
  {
   "cell_type": "code",
   "execution_count": 26,
   "metadata": {},
   "outputs": [
    {
     "name": "stdout",
     "output_type": "stream",
     "text": [
      "Y = 1:\n",
      "[1]\n",
      "[[9.99985101e-01]\n",
      " [6.40705810e-06]\n",
      " [6.28061340e-11]\n",
      " [1.61392974e-06]\n",
      " [6.87785787e-06]]\n",
      "--------\n",
      "Y = 2:\n",
      "[2]\n",
      "[[4.23435363e-06]\n",
      " [9.99986509e-01]\n",
      " [8.91465776e-06]\n",
      " [6.66896371e-09]\n",
      " [3.35035202e-07]]\n",
      "--------\n",
      "Y = 3:\n",
      "[3]\n",
      "[[2.99148344e-07]\n",
      " [1.59868115e-05]\n",
      " [9.99965278e-01]\n",
      " [3.45464350e-06]\n",
      " [1.49814284e-05]]\n",
      "--------\n",
      "Y = 4:\n",
      "[4]\n",
      "[[3.59908244e-06]\n",
      " [8.50873720e-07]\n",
      " [1.13143864e-05]\n",
      " [9.99983181e-01]\n",
      " [1.05425955e-06]]\n",
      "--------\n",
      "Y = 5:\n",
      "[5]\n",
      "[[5.31693319e-06]\n",
      " [1.50645122e-07]\n",
      " [3.71476423e-06]\n",
      " [6.61425555e-06]\n",
      " [9.99984203e-01]]\n",
      "--------\n"
     ]
    }
   ],
   "source": [
    "N = 5\n",
    "for k in range(N):\n",
    "    x = np.reshape(X[:,:,k], (25, 1))\n",
    "    y = verify_algorithm(x, W1, W2, W3, W4)\n",
    "\n",
    "    print('Y = {}:'.format(k+1))\n",
    "    print(np.argmax(y, axis=0) + 1)     # 예측 값\n",
    "            # argmax : Returns the indices of the maximum values along an axis.\n",
    "    print(y)\n",
    "    print('--------')"
   ]
  },
  {
   "cell_type": "markdown",
   "metadata": {},
   "source": [
    "# 테스트 데이터"
   ]
  },
  {
   "cell_type": "code",
   "execution_count": 27,
   "metadata": {},
   "outputs": [],
   "source": [
    "X_test = np.zeros((5,5,5))\n",
    "\n",
    "X_test[:,:,0] = [ [0,0,0,0,0], [0,1,0,0,0], [1,0,1,0,0], [0,0,1,0,0], [0,1,1,1,0] ]\n",
    "X_test[:,:,1] = [ [1,1,1,1,0], [0,0,0,0,0], [0,1,1,1,0], [0,0,0,0,1], [1,1,1,1,0] ]\n",
    "X_test[:,:,2] = [ [0,0,0,1,0], [0,0,1,1,0], [0,1,0,0,0], [1,1,1,0,1], [0,0,0,1,0] ]\n",
    "X_test[:,:,3] = [ [1,1,1,1,0], [0,0,0,0,1], [0,1,1,1,0], [1,0,0,0,0], [1,1,1,0,0] ]\n",
    "X_test[:,:,4] = [ [0,1,1,1,1], [1,1,0,0,0], [1,1,1,1,0], [0,0,0,1,1], [1,1,1,1,0] ]"
   ]
  },
  {
   "cell_type": "code",
   "execution_count": 28,
   "metadata": {},
   "outputs": [
    {
     "data": {
      "image/png": "[encoded data removed]",
      "text/plain": [
       "<Figure size 864x288 with 5 Axes>"
      ]
     },
     "metadata": {
      "needs_background": "light"
     },
     "output_type": "display_data"
    }
   ],
   "source": [
    "plt.figure(figsize=(12,4))\n",
    "for n in range(5):\n",
    "    plt.subplot(1,5,n+1)\n",
    "    plt.imshow(X_test[:,:,n])\n",
    "plt.show()"
   ]
  },
  {
   "cell_type": "code",
   "execution_count": 30,
   "metadata": {},
   "outputs": [
    {
     "name": "stdout",
     "output_type": "stream",
     "text": [
      "Y = 1: \n",
      "[5]\n",
      "[[1.46394914e-03]\n",
      " [1.00631335e-03]\n",
      " [3.32512769e-04]\n",
      " [1.55259867e-03]\n",
      " [9.95644626e-01]]\n",
      "----------\n",
      "Y = 2: \n",
      "[3]\n",
      "[[2.40085007e-05]\n",
      " [1.26906083e-04]\n",
      " [9.59518955e-01]\n",
      " [2.19869781e-03]\n",
      " [3.81314324e-02]]\n",
      "----------\n",
      "Y = 3: \n",
      "[4]\n",
      "[[1.31415595e-03]\n",
      " [1.10596431e-03]\n",
      " [5.57887506e-05]\n",
      " [9.97489730e-01]\n",
      " [3.43608166e-05]]\n",
      "----------\n",
      "Y = 4: \n",
      "[2]\n",
      "[[0.01063162]\n",
      " [0.89176718]\n",
      " [0.08628937]\n",
      " [0.00695296]\n",
      " [0.00435888]]\n",
      "----------\n",
      "Y = 5: \n",
      "[5]\n",
      "[[2.60893396e-06]\n",
      " [1.58207372e-08]\n",
      " [1.64010956e-07]\n",
      " [6.00698119e-05]\n",
      " [9.99937141e-01]]\n",
      "----------\n"
     ]
    }
   ],
   "source": [
    "learning_result = [0,0,0,0,0]\n",
    "\n",
    "for k in range(N):\n",
    "    x = np.reshape(X_test[:,:,k], (25,1))\n",
    "    y = verify_algorithm(x, W1, W2, W3, W4)\n",
    "\n",
    "    learning_result[k] = np.argmax(y, axis=0) + 1\n",
    "    \n",
    "    print('Y = {}: '.format(k+1))\n",
    "    print(np.argmax(y, axis=0) + 1)\n",
    "    print(y)\n",
    "    print('----------')"
   ]
  },
  {
   "cell_type": "code",
   "execution_count": 31,
   "metadata": {},
   "outputs": [
    {
     "data": {
      "image/png": "[encoded data removed]",
      "text/plain": [
       "<Figure size 864x288 with 10 Axes>"
      ]
     },
     "metadata": {
      "needs_background": "light"
     },
     "output_type": "display_data"
    }
   ],
   "source": [
    "plt.figure(figsize=(12,4))\n",
    "for k in range(5):\n",
    "    plt.subplot(2,5,k+1)\n",
    "    plt.imshow(X_test[:,:,k])\n",
    "    plt.subplot(2, 5, k+6)\n",
    "    plt.imshow(X[:,:,learning_result[k][0]-1])\n",
    "plt.show()"
   ]
  },
  {
   "cell_type": "code",
   "execution_count": 32,
   "metadata": {},
   "outputs": [],
   "source": [
    "# dropout 함수\n",
    "def Dropout(y, ratio):\n",
    "    ym = np.zeros_like(y)\n",
    "\n",
    "    num = round(y.size*(1-ratio))\n",
    "    idx = np.random.choice(y.size, num, replace=False)\n",
    "    ym[idx] = 1.0 / (1.0 - ratio)\n",
    "\n",
    "    return ym"
   ]
  },
  {
   "cell_type": "code",
   "execution_count": 42,
   "metadata": {},
   "outputs": [
    {
     "data": {
      "text/plain": [
       "(11, 2.1999999999999993, 2)"
      ]
     },
     "execution_count": 42,
     "metadata": {},
     "output_type": "execute_result"
    }
   ],
   "source": [
    "y = np.array([0.1, 0.2, 0.5, 0.8, 0.6, 0.4, 0.3, 1, 2, 3, 4])\n",
    "y.size, y.size * (1- 0.8), round(y.size * (1-0.8))\n",
    "# 11개 중에서\n",
    "                # 80%를 꺼라\n",
    "\n",
    "## 그 결과 2.199개 가 남음. ( round 하면 2 )"
   ]
  },
  {
   "cell_type": "code",
   "execution_count": 53,
   "metadata": {},
   "outputs": [
    {
     "data": {
      "text/plain": [
       "array([2, 8])"
      ]
     },
     "execution_count": 53,
     "metadata": {},
     "output_type": "execute_result"
    }
   ],
   "source": [
    "num = round(y.size * (1 - 0.8))\n",
    "np.random.choice(y.size, num)"
   ]
  },
  {
   "cell_type": "code",
   "execution_count": null,
   "metadata": {},
   "outputs": [],
   "source": []
  },
  {
   "cell_type": "code",
   "execution_count": null,
   "metadata": {},
   "outputs": [],
   "source": []
  }
 ],
 "metadata": {
  "interpreter": {
   "hash": "b5a26d0e877c4652cf53eb6b13536f4959f02e722fb5eef7979a29d14fb02c8a"
  },
  "kernelspec": {
   "display_name": "Python 3.8.13 ('TF')",
   "language": "python",
   "name": "python3"
  },
  "language_info": {
   "codemirror_mode": {
    "name": "ipython",
    "version": 3
   },
   "file_extension": ".py",
   "mimetype": "text/x-python",
   "name": "python",
   "nbconvert_exporter": "python",
   "pygments_lexer": "ipython3",
   "version": "3.8.13"
  },
  "orig_nbformat": 4
 },
 "nbformat": 4,
 "nbformat_minor": 2
}
